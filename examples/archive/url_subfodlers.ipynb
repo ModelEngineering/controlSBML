{
 "cells": [
  {
   "cell_type": "code",
   "execution_count": 21,
   "id": "d6c461cc-2e44-4ea5-877c-ab9530264194",
   "metadata": {},
   "outputs": [],
   "source": [
    "import urllib3\n",
    "import json"
   ]
  },
  {
   "cell_type": "code",
   "execution_count": 16,
   "id": "0ad9eb6e-65ca-4983-9fe5-25e255bffa94",
   "metadata": {},
   "outputs": [],
   "source": [
    "URL = \"https://github.com/ModelEngineering/pySubnetSB/tree/main/data\""
   ]
  },
  {
   "cell_type": "code",
   "execution_count": 12,
   "id": "8ccdc18a-460e-4edf-8382-41041a58bd08",
   "metadata": {},
   "outputs": [],
   "source": [
    "http = urllib3.PoolManager()\n",
    "resp = http.request(\"GET\", url)\n",
    "if resp.status != 200:\n",
    "    raise ValueError(f\"Failed to download file from {url}\")"
   ]
  },
  {
   "cell_type": "code",
   "execution_count": 17,
   "id": "692f29f2-433f-4d28-b85a-8c400935a95e",
   "metadata": {},
   "outputs": [
    {
     "name": "stdout",
     "output_type": "stream",
     "text": [
      "['/', 'https://www.githubstatus.com/', 'https://docs.github.com/']\n"
     ]
    }
   ],
   "source": [
    "from bs4 import BeautifulSoup\n",
    "\n",
    "def list_subfolders(url):\n",
    "    try:\n",
    "        http = urllib3.PoolManager()\n",
    "        resp = http.request(\"GET\", url)\n",
    "        if resp.status != 200:\n",
    "            raise ValueError(f\"Failed to download file from {url}\")\n",
    "        soup = BeautifulSoup(resp.data, 'html.parser')\n",
    "        subfolders = []\n",
    "        for link in soup.find_all('a'):\n",
    "            href = link.get('href')\n",
    "            if href and href.endswith('/'):\n",
    "                subfolders.append(href)\n",
    "        \n",
    "        return subfolders\n",
    "    except requests.exceptions.RequestException as e:\n",
    "        print(f\"Error fetching URL: {e}\")\n",
    "        return []\n",
    "\n",
    "# Example usage\n",
    "subfolders = list_subfolders(URL)\n",
    "print(subfolders)"
   ]
  }
 ],
 "metadata": {
  "kernelspec": {
   "display_name": "Python 3 (ipykernel)",
   "language": "python",
   "name": "python3"
  },
  "language_info": {
   "codemirror_mode": {
    "name": "ipython",
    "version": 3
   },
   "file_extension": ".py",
   "mimetype": "text/x-python",
   "name": "python",
   "nbconvert_exporter": "python",
   "pygments_lexer": "ipython3",
   "version": "3.9.6"
  }
 },
 "nbformat": 4,
 "nbformat_minor": 5
}
