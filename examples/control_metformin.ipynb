{
 "cells": [
  {
   "cell_type": "markdown",
   "metadata": {
    "id": "5KtcTWa_n6XQ"
   },
   "source": [
    "# **CONTROLLING METFORMIN**"
   ]
  },
  {
   "cell_type": "markdown",
   "metadata": {},
   "source": [
    "<img src=\"https://raw.github.com/joseph-hellerstein/advanced-controls-lectures/main/lectures/images/simple_feedback_nofilter.png\"\n",
    "     alt=\"Markdown Monster icon\" \n",
    "     width=\"600\" height=\"750\"\n",
    "     style=\"float: left; margin-right: 10px;\" />"
   ]
  },
  {
   "cell_type": "markdown",
   "metadata": {},
   "source": [
    "This notebook uses ``controlSBML`` to construct an PID controller for a Metformin producing pathway."
   ]
  },
  {
   "cell_type": "markdown",
   "metadata": {},
   "source": [
    "<img src=\"https://raw.github.com/ModelEngineering/controlSBML/main/examples/images/metformin_overview.png\"\n",
    "     alt=\"Markdown Monster icon\" \n",
    "     width=\"800\" height=\"1000\"\n",
    "     style=\"float: left; margin-right: 10px;\" />"
   ]
  },
  {
   "cell_type": "code",
   "execution_count": 2,
   "metadata": {},
   "outputs": [],
   "source": [
    "import numpy as np\n",
    "try:\n",
    "    import controlSBML as ctl\n",
    "except:\n",
    "    !pip install controlSBML\n",
    "    import controlSBML as ctl\n",
    "try:\n",
    "    import control\n",
    "except:\n",
    "    !pip install control\n",
    "    import control\n",
    "#\n",
    "from controlSBML import ControlSBML, constants\n",
    "from controlSBML.grid import Grid\n",
    "import matplotlib.pyplot as plt\n",
    "from typing import Optional, List"
   ]
  },
  {
   "cell_type": "markdown",
   "metadata": {
    "tags": []
   },
   "source": [
    "# Helpers"
   ]
  },
  {
   "cell_type": "code",
   "execution_count": 3,
   "metadata": {
    "id": "e079a252-622f-430f-888d-d5c9ca25d72b"
   },
   "outputs": [],
   "source": [
    "s = control.TransferFunction.s\n",
    "TIMES = np.linspace(0, 5, 500)\n",
    "WOLF_URL = constants.WOLF_URL"
   ]
  },
  {
   "cell_type": "markdown",
   "metadata": {
    "id": "d2798d77-3276-4e8a-aa69-52c18a652c3d"
   },
   "source": [
    "## plotStep"
   ]
  },
  {
   "cell_type": "code",
   "execution_count": 4,
   "metadata": {
    "colab": {
     "base_uri": "https://localhost:8080/"
    },
    "id": "768b80b2-4e31-4262-8b2d-dcb39e643b8e",
    "outputId": "d18cc8b6-cf56-456a-ee38-4d6240b480ef"
   },
   "outputs": [
    {
     "name": "stdout",
     "output_type": "stream",
     "text": [
      "OK!\n"
     ]
    }
   ],
   "source": [
    "def plotStep(tf, title:str=\"\", times=TIMES, xlim:Optional[list]=None, figsize=[5,5],\n",
    "      is_plot=True):\n",
    "    \"\"\"\n",
    "    Plots the step response of the transfer function.\n",
    "\n",
    "    Args:\n",
    "        tf - transfer function\n",
    "    \"\"\"\n",
    "    _, ax = plt.subplots(1, 1, figsize=figsize)\n",
    "    _, yv = control.step_response(tf, T=times)\n",
    "    _ = ax.plot(times, yv)\n",
    "    if xlim is not None:\n",
    "        ax.set_xlim(xlim)\n",
    "    _ = ax.set_title(title)\n",
    "    if not is_plot:\n",
    "        plt.close()\n",
    "\n",
    "# TESTS\n",
    "tf = control.TransferFunction([5], [1, 5])\n",
    "plotStep(tf, is_plot=False, xlim=[0, 3])\n",
    "print(\"OK!\")"
   ]
  },
  {
   "cell_type": "markdown",
   "metadata": {
    "id": "ea7162a6-dca2-4049-97ac-ede95c5e83ce"
   },
   "source": [
    "## complex_magnitude"
   ]
  },
  {
   "cell_type": "code",
   "execution_count": 5,
   "metadata": {
    "id": "16347060-c945-4477-b617-b1c6879f887e"
   },
   "outputs": [],
   "source": [
    "def complex_magnitude(z):\n",
    "    return (z.real**2 + z.imag**2)**0.5"
   ]
  },
  {
   "cell_type": "markdown",
   "metadata": {
    "id": "qSn9sIh7PBaT"
   },
   "source": [
    "## ppComplex"
   ]
  },
  {
   "cell_type": "code",
   "execution_count": 6,
   "metadata": {
    "colab": {
     "base_uri": "https://localhost:8080/"
    },
    "id": "c7ae8e12-4d9b-401d-9891-715b338b1d6b",
    "outputId": "9218674b-d39c-4cc7-999e-e5448ebda472"
   },
   "outputs": [
    {
     "name": "stdout",
     "output_type": "stream",
     "text": [
      "OK!\n"
     ]
    }
   ],
   "source": [
    "def ppComplex(complexes:np.ndarray, round_digits=3)->str:\n",
    "    \"\"\"\n",
    "    Constructs a pretty print representation of a complex number.\n",
    "    \"\"\"\n",
    "    complexes = np.array(complexes)\n",
    "    complexes = complexes.flatten()\n",
    "    if not isinstance(complexes, list):\n",
    "        complexes = [complexes]\n",
    "    results = []\n",
    "    if isinstance(complexes[0], np.ndarray):\n",
    "        complexes = complexes[0]\n",
    "    for cmpx in complexes:\n",
    "        try:\n",
    "            if np.imag(cmpx) == 0:\n",
    "                results.append(str(round(np.real(cmpx), round_digits)))\n",
    "            else:\n",
    "                 results.append(str(round(np.real(cmpx), round_digits)) + \"+\" + str(round(np.imag(cmpx), round_digits)) + \"j\")\n",
    "        except:\n",
    "            import pdb; pdb.set_trace()\n",
    "    return \", \".join(results)\n",
    "\n",
    "# Tests\n",
    "result = ppComplex((-1.9999999999999998+0j))\n",
    "result = ppComplex([3+2j, 4])\n",
    "assert(\"j\" in result)\n",
    "print(\"OK!\")"
   ]
  },
  {
   "cell_type": "markdown",
   "metadata": {
    "id": "d51fcf55-658c-4844-bc54-b32951e10824"
   },
   "source": [
    "## plotRootLocusWithGains"
   ]
  },
  {
   "cell_type": "code",
   "execution_count": 7,
   "metadata": {
    "colab": {
     "base_uri": "https://localhost:8080/"
    },
    "id": "873e51dd-0a03-4a4d-978f-facfa25a0637",
    "outputId": "49650582-ee67-40bc-9295-dc7b3db4f525"
   },
   "outputs": [
    {
     "name": "stdout",
     "output_type": "stream",
     "text": [
      "OK!\n"
     ]
    }
   ],
   "source": [
    "def plotRootLocusWithGains(open_loop_transfer_function:control.TransferFunction,\n",
    "      gains:List[float],\n",
    "      xlim:Optional[np.ndarray]=None,\n",
    "      title:Optional[str]=None,\n",
    "      ylim:Optional[np.ndarray]=None,\n",
    "      is_annotate:bool=True,\n",
    "      markersize_multiplier:float=100,\n",
    "      figsize=(5, 5),\n",
    "      ax=None,\n",
    "      is_plot:bool=True)->plt.axes:\n",
    "    \"\"\"\n",
    "    Constructs a root locus plot with red hexagons for closed loop poles at different gains.\n",
    "    Poles at specific gains are indicated by hexigon markers.\n",
    "\n",
    "    Args:\n",
    "        open_loop_transfer_function\n",
    "        gains\n",
    "        xlim: limits on the axis\n",
    "        size_multiplier: multiplies by gain to get size of hexagon that marks the pole\n",
    "        figsize: width and height of figure\n",
    "        is_annotate: Annotate gain hexigons with gain values\n",
    "    \"\"\"\n",
    "    if ax is None:\n",
    "        _, ax = plt.subplots(1, 1, figsize=figsize)\n",
    "    # Plot the root locus\n",
    "    _ = control.root_locus(open_loop_transfer_function, grid=False, plot=True, xlim=xlim,\n",
    "          ylim=ylim, ax=ax)\n",
    "    # Construct the title\n",
    "    if title is None:\n",
    "        poles = open_loop_transfer_function.poles()\n",
    "        zeros = open_loop_transfer_function.zeros()\n",
    "        title = \"\"\n",
    "        if len(poles) > 0:\n",
    "            title += f\"FFL poles: {ppComplex(poles)}  \"\n",
    "        if len(zeros) > 0:\n",
    "            title += f\"FFL zeros: {ppComplex(zeros)}\"\n",
    "    ax.set_title(title)\n",
    "    # Add points for closed loop poles\n",
    "    for gain in gains:\n",
    "        closed_loop_transfer_function = control.feedback(gain*open_loop_transfer_function)\n",
    "        poles = closed_loop_transfer_function.poles()\n",
    "        xv = []\n",
    "        yv = []\n",
    "        for pole in poles:\n",
    "            xv.append(pole.real)\n",
    "            yv.append(pole.imag)\n",
    "        if is_annotate:\n",
    "            annotation = str(gain)\n",
    "        else:\n",
    "            annotation = \"\"\n",
    "        ax.scatter(xv, yv, s=markersize_multiplier*gain, marker=\"h\", color=\"r\")\n",
    "        [ ax.annotate(annotation, (xv[i], yv[i]), color='blue', rotation=25)\n",
    "             for i in range(len(poles))]\n",
    "        arrowprops=dict(facecolor='black', shrink=0.05)\n",
    "    # Plot at zero\n",
    "    ax.plot([0, 0], [-10, 10], color=\"grey\", linestyle=\"--\")\n",
    "    #\n",
    "    if not is_plot:\n",
    "        plt.close()\n",
    "        ax = None\n",
    "    return ax\n",
    "\n",
    "# Tests\n",
    "tf = control.zpk([1], [-1, -2], [1])\n",
    "plotRootLocusWithGains(tf, [0.2, 0.5], markersize_multiplier=200, ylim=[-3, 3], xlim=[-3.5, 0], is_annotate=True,\n",
    "      figsize=(2, 2), is_plot=False)\n",
    "print(\"OK!\")"
   ]
  },
  {
   "cell_type": "markdown",
   "metadata": {},
   "source": [
    "# Step 1. State design objectives (5 pt)"
   ]
  },
  {
   "cell_type": "markdown",
   "metadata": {},
   "source": [
    "1. Select a model and load it into Tellurium. Print it in Antimony.\n",
    "1. Specify the output from the model that you want to control.\n",
    "2. One of your design objectives is that the closed loop system is stable. Provide two additional objectives such as: eliminate bias (the system converges to the desired output); no oscillations; settling times no greater than X (where you specify X); no overshoot (undershoot).\n"
   ]
  },
  {
   "cell_type": "markdown",
   "metadata": {},
   "source": [
    "# Step 2. Find the control input and operating region (5 pt)"
   ]
  },
  {
   "cell_type": "markdown",
   "metadata": {},
   "source": [
    "1. Choose a suitable input to control the system output. Plot a staircase function of the input over the operating region. Specify:\n",
    "      1. directional effect of the input on the output\n",
    "      1. operating region for the input\n",
    "      1. range of outputs that can be achieved (feasible setpoints)\n",
    "1. Write a short narrative describing how the plot indicates that the control objectives can be achieved over the operating region. "
   ]
  },
  {
   "cell_type": "markdown",
   "metadata": {},
   "source": [
    "# Step 3. Do system identification (5 pt)"
   ]
  },
  {
   "cell_type": "markdown",
   "metadata": {},
   "source": [
    "For the system and operating point that you selected, find a transfer function that fits the staircase response.\n",
    "By *fit*, I mean that the transfer function broadly follows the predicted value.\n",
    "If you later find that your theorty-based design (step 4) provides little insight into your final design (step 5), you may need to revisit this step."
   ]
  },
  {
   "cell_type": "markdown",
   "metadata": {},
   "source": [
    "# Step 4. Construct a preliminary, theory-based design (15 pt)"
   ]
  },
  {
   "cell_type": "markdown",
   "metadata": {},
   "source": [
    "Use the transfer function in step 3 to do a theory-based design using the root locus plot to do PID control.\n",
    "Start by answering the following questions:\n",
    "1. Given the open loop poles and zeros of your system, what is the best settling time you can expect? (Recall that root locus branches start at poles and terminate at zeros.)\n",
    "2. How does your answer change if you use I-control (e.g., PI, PID)?\n",
    "\n",
    "Write a short narrative that describes the logic you used in your theory-based design."
   ]
  },
  {
   "cell_type": "markdown",
   "metadata": {},
   "source": [
    "# Step 5. Construct a final design using a testbed (15 pt)"
   ]
  },
  {
   "cell_type": "markdown",
   "metadata": {},
   "source": [
    "1. The theory-based design provides a starting point for your final design that is based on a test-bed as you did in Homework 1. Use intutitions from the root locus plot to adjust the values of design parameters.\n",
    "2. Once you are satisfied with your final design, revisit system identification and theory-based design to see if a different number of poles and/or zeroes in your system identification provides a better explanation of your final design."
   ]
  },
  {
   "cell_type": "markdown",
   "metadata": {},
   "source": [
    "# Step 6. Evaluate the final design (5 pt)"
   ]
  },
  {
   "cell_type": "markdown",
   "metadata": {},
   "source": [
    "Answer the following questions:\n",
    "1. Did you need to change your system objectives? At what points did you did you do this?\n",
    "2. What criteria did you use to determine that your system identification was sufficient?\n",
    "3. How close was your theory-based design to the testbed-based design that you chose."
   ]
  }
 ],
 "metadata": {
  "colab": {
   "authorship_tag": "ABX9TyMH5B8ZMlydS72+lNuaMvH3",
   "provenance": []
  },
  "kernelspec": {
   "display_name": "Python 3 (ipykernel)",
   "language": "python",
   "name": "python3"
  },
  "language_info": {
   "codemirror_mode": {
    "name": "ipython",
    "version": 3
   },
   "file_extension": ".py",
   "mimetype": "text/x-python",
   "name": "python",
   "nbconvert_exporter": "python",
   "pygments_lexer": "ipython3",
   "version": "3.9.6"
  }
 },
 "nbformat": 4,
 "nbformat_minor": 4
}
