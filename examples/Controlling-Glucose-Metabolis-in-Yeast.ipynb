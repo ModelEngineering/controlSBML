{
 "cells": [
  {
   "cell_type": "markdown",
   "id": "cc5f9f08-3ebb-4993-86a7-672e9f5a5af8",
   "metadata": {
    "id": "r3YyEFTekSYq"
   },
   "source": [
    "# Controlling Glucose Metabolism in Yeast\n",
    "(Based on a final project submitted by Seth Woodbury to BIOEN 599, March, 2024, University of Washington)"
   ]
  },
  {
   "cell_type": "markdown",
   "id": "0dab0df8-a876-4a8a-ab64-c3a8a7ef962f",
   "metadata": {
    "id": "r3YyEFTekSYq"
   },
   "source": [
    "# Preliminaries"
   ]
  },
  {
   "cell_type": "code",
   "execution_count": null,
   "id": "3e9ebcb5-ff5e-4d4c-80da-d964a62ded32",
   "metadata": {},
   "outputs": [],
   "source": [
    "# Set to True if running in colab\n",
    "if False:\n",
    "    # The following cell may have to be run twice, the second time using \"Restart session and runall\".\n",
    "    !pip install control==0.9.4\n",
    "    !pip install controlSBML"
   ]
  },
  {
   "cell_type": "code",
   "execution_count": null,
   "id": "ec4e009e-7b76-4d97-b637-83b13f6b0c87",
   "metadata": {},
   "outputs": [],
   "source": [
    "import controlSBML as ctl\n",
    "import numpy as np"
   ]
  },
  {
   "cell_type": "code",
   "execution_count": null,
   "id": "2ced36f3-d3c9-4fb2-9153-0cfa2d32253a",
   "metadata": {
    "executionInfo": {
     "elapsed": 3,
     "status": "ok",
     "timestamp": 1708556908051,
     "user": {
      "displayName": "Joseph Hellerstein",
      "userId": "07301174361489660166"
     },
     "user_tz": 480
    },
    "id": "ad06c6ba-e955-46d6-9161-17c0b5b7d8e2"
   },
   "outputs": [],
   "source": [
    "TIMES = np.linspace(0, 10, 100)"
   ]
  },
  {
   "cell_type": "markdown",
   "id": "3e7257cc-4523-4f78-97ab-a41a39022271",
   "metadata": {
    "id": "r3YyEFTekSYq"
   },
   "source": [
    "# 1. Problem Description & Control Objectives"
   ]
  },
  {
   "cell_type": "markdown",
   "id": "9d4dc675-0d07-42f3-b65f-17a45f4feae4",
   "metadata": {
    "id": "c0fb6205-fd27-49f0-bd8e-d9f7439df0e8"
   },
   "source": [
    "**IMPORTANT LINKS:**\n",
    "\n",
    "<u>Selected Biomodel:</u> Nishio2008 - Design of the phosphotransferase system for enhanced glucose uptake in E. coli\n",
    "\n",
    "<u>Biomodel URL:</u> https://www.ebi.ac.uk/biomodels/BIOMD0000000571\n",
    "\n",
    "<u>Publication URL:</u> https://www.embopress.org/doi/full/10.1038/msb4100201\n",
    "\n",
    "**PROBLEM DESCRIPTION:**\n",
    "\n",
    "Industrial bioreactors culturing engineered microbes present a cost-effective, highly efficient, minimal-resource cost, and eco-friendly method of producing large quantities of desirable proteins and complex organic compounds for societal use (e.g., academia, therapeutics, industrial chemistry, biotechnology sectors). The biological problem I am addressing regards controlling Escherichia coli (E. coli) glucose uptake for such industrial microbe engineering purposes since they are the most well-studied and commonly used microbe. From a bioreactor production standpoint, it is desirable to have E. coli uptake as much glucose as possible for the ultimate production of ATP and the desired plasmid product(s) they were engineered to produce (i.e., protein products or protein machinery to make small organic molecules). However, E. coli have evolved to highly regulate their glucose uptake for the optimal cooperative survival and proliferation of their colonies; if they sense low glucose in the environment, they will try to use other carbon sources and metabolites for energy and they will shift toward conservative/catabolic metabolic processes rather than the anabolic ones we want them to perform. Ideally, we want E. coli in a bioreactor to initially divide to a certain concentration, then we want to induce them to grow as fat as possible (taking in the maximal possible glucose as fuel) to become full of our intended product before we lyse them all to harvest our product.\n",
    "\n",
    "E. coli have evolved a complex phosphotransferase system that acts in a biological circuit to control the transfer of glucose into the cell while simultaneously phosphorylating it. The specific biological problem that I will be engineering in this system is how to control and enhance the concentration of ``phosphorylated EI`` or ``EI_P`` from the gene ptsI. The phosphotransfer of the phosphate on phosphoenolpyruvate to EI making EI_P is the first step in the phosphotransferase cascade system that ultimately phosphorylates glucose and transports it into the cell. This reaction is also thought to be the rate-limiting step in glucose intake so aiming to control and upregulate EI_P concentration will push equilibrium towards a higher glucose intake.\n",
    "\n",
    "**CONTROL OBJECTIVES:**\n",
    "\n",
    "In the given model, the extracellular glucose concentration is held constant which could mimic a bioreactor that is continuously feeding E. coli glucose while they divide and grow before their plasmid expression is induced. At t = 500 minutes in the model the glucose levels drop instantaneously by several orders of magnitude to cause a perturbation (see below). As a reminder, we want to resist ``EI_P`` decrease at all costs and ideally minimize its increase from the reverse of the phosphotransferase cascade since the last step depends partially on glucose concentration and each phosphate transfer is reversible. **Thus, our control objectives are:**\n",
    "* Keep the ``EI_P`` concentration in the range above 2.4e-7M at all costs but ideally [2.4e-7 M, 4.0e-7 M] for at least 720 minutes (12 hours).\n",
    "* Minimize any potential concentration oscillations and keep the oscillations within the concentration range above.\n",
    "* Converge to a stable, steady-state system after the glucose decrease at t = 500 minutes within 120 minutes (t = 620 minutes).\n",
    "* With each additional step this setting time should also be within t = 30 minutes & the final ``EI_P`` should steady out.\n",
    "\n",
    "Achieving these control objectives will allow our engineered E. coli to keep maximally uptaking glucose even after we shut down its continuous flow into the bioreactor. Keeping the ``EI_P`` range above 2.4e-7 M is significant because this is its steady-state concentration at glucose concentrations that are magnitudes higher at t < 500 minutes, so maintaining an ``EI_P`` this high after t = 500 minutes will mean the E. coli are still uptaking glucose at a similar rate as before. Keeping it below 3.4e-7 M is a good sign that the rest of the phosphotransferase cascade is not backing up or slowing down significantly. Cells enjoy homeostasis and consistency, so minimizing ``EI_P`` oscillations will be important to not throw off other equilibriums that are not necessarily modeled here with respect to glucose uptake, we want a continuous flux of glucose coming in that keeps our E. coli busy at making proteins. Finally, 30 minutes is a pretty short time for E. coli so it would be desirable if the system could converge within 30 minutes so the E. coli are not thrown out of homeostasis."
   ]
  },
  {
   "cell_type": "markdown",
   "id": "c70f4bc8-d0cb-4d04-811f-d9772c7f56f8",
   "metadata": {},
   "source": [
    "## Antimony Model"
   ]
  },
  {
   "cell_type": "code",
   "execution_count": null,
   "id": "e70316d2-d603-4be5-9f7c-66ad5c5e2f9f",
   "metadata": {},
   "outputs": [],
   "source": [
    "# Assign file URL to a variable\n",
    "TIMES = np.linspace(000, 1500, 5000)\n",
    "URL = \"https://www.ebi.ac.uk/biomodels/services/download/get-files/MODEL1501300000/3/BIOMD0000000571_url.xml\"\n",
    "\n",
    "# Create tellurium SBML model & print the antimony\n",
    "CTLSB = ctl.ControlSBML(URL, xlabel=\"time (min)\", times=TIMES)"
   ]
  },
  {
   "cell_type": "markdown",
   "id": "a72fe46e-a3cf-4eb5-be03-c762fd89454e",
   "metadata": {
    "id": "r3YyEFTekSYq"
   },
   "source": [
    "## Preliminary Investigation"
   ]
  },
  {
   "cell_type": "markdown",
   "id": "337ada64-40f8-475f-a243-e79d72874a04",
   "metadata": {},
   "source": [
    "We begin by plotting the time course of all species in the simulation. Because of the large number of species and the vastly differently scales of their units, this is not very insightful, as shown below."
   ]
  },
  {
   "cell_type": "code",
   "execution_count": null,
   "id": "c5bdfefa-bfcd-43b4-9305-a2742fc53618",
   "metadata": {},
   "outputs": [],
   "source": [
    "_ = CTLSB.plotModel(times=TIMES, legend=True, title=\"All Species\")"
   ]
  },
  {
   "cell_type": "markdown",
   "id": "bd483269-8864-4829-9a76-031ca0885195",
   "metadata": {
    "id": "c0fb6205-fd27-49f0-bd8e-d9f7439df0e8"
   },
   "source": [
    "We can see that at t = 500 the sudden change in glucose quickly perturbes the system but it seems to quickly return to homeostasis. There are a ton of things being modeled here so let's take a look at ``EI_P``:"
   ]
  },
  {
   "cell_type": "code",
   "execution_count": null,
   "id": "55fe1398-1dd4-4559-b2c3-09666980f439",
   "metadata": {},
   "outputs": [],
   "source": [
    "_ = CTLSB.plotModel(times=TIMES, selections=[\"EI_P\"], legend=True)"
   ]
  },
  {
   "cell_type": "markdown",
   "id": "10b10afe-ff37-4c57-b70d-9899c434b33a",
   "metadata": {
    "id": "c0fb6205-fd27-49f0-bd8e-d9f7439df0e8"
   },
   "source": [
    "There it is, the glucose drop at t = 500 minutes causes a rapid backup in the phosphotransferase cascade due to the last species not being able to recruit glucose so quickly due to mass action and therefore ``EI_P`` accumulates before the genetic circuit catches up and calls for less EI protein production."
   ]
  },
  {
   "cell_type": "markdown",
   "id": "dcd90c48-8c11-4d09-8429-f0c0a5e839b5",
   "metadata": {
    "id": "r3YyEFTekSYq"
   },
   "source": [
    "# 2. System Definition"
   ]
  },
  {
   "cell_type": "markdown",
   "id": "de3ddb7c-0ed6-4a76-9dae-88da265dc5cb",
   "metadata": {
    "id": "7a5284a3-f0e6-4579-9a70-f91ebd634c58"
   },
   "source": [
    "As mentioned, there are many outputs and boundaries in this model system. Some genetic or protein controls might be helpful. This evolved system already has 'accelerator' and 'decelerator' controls built into it, we are attempting to hijack those controls and essentially 'control the controls.' In practice, this could be something like amplifying certain genes in the E. coli DNA, adding new genes to their DNA, or deleting genes from their DNA. Based on the publication, here are some possible 'controls to control:'\n",
    "* CRPsite_ptsIp1 or CRPsite_ptsIp0 (promoters or enhancer sites for EI gene)\n",
    "* CRPsiteII_crp or CRPsiteI_crp (promoters or enhancer sites for sensor genes that upregulate 'acceleration')\n",
    "* mRNA_ptsI (directly produces EI protein)\n",
    "* mRNA_crp (directly produces sensor protein)\n",
    "* Mlc or mRNA_mlc (downregulates phosphotransferase cascade & EI protein production)"
   ]
  },
  {
   "cell_type": "markdown",
   "id": "51f19a5a-208a-4169-88db-89f974e9a53e",
   "metadata": {
    "id": "7a5284a3-f0e6-4579-9a70-f91ebd634c58"
   },
   "source": [
    "Mlc seems like it could be an antagonist to the concentration of ``EI_P``. Note that I tried many different values for the time series to convert it to the right units, I tried across multiple orders of magnitude but nothing worked to detect the fluctuation at t = 500 minutes. For whatever reason it is giving a perturbation at t = 0 minutes so I thought that would be sufficient to view the relationships between different inputs and the output, like we see here. Now let us try a staircase: "
   ]
  },
  {
   "cell_type": "code",
   "execution_count": null,
   "id": "26262a64-eeea-428b-aa41-c4c2c6422b98",
   "metadata": {},
   "outputs": [],
   "source": [
    "INPUT_NAME = \"Mlc\"\n",
    "OUTPUT_NAME = \"EI_P\"\n",
    "TIMES = np.linspace(0, 2000, 20000)\n",
    "CTLSB = ctl.ControlSBML(URL, xlabel=\"time (min)\", input_name=INPUT_NAME, output_name=OUTPUT_NAME,\n",
    "                        times=TIMES)"
   ]
  },
  {
   "cell_type": "code",
   "execution_count": null,
   "id": "1019ba91-27e1-4fce-bfff-bf3c23911765",
   "metadata": {},
   "outputs": [],
   "source": [
    "INITIAL_VALUE = 7.5*1e-9\n",
    "FINAL_VALUE = 9.5*1e-9\n",
    "result = CTLSB.plotStaircaseResponse(initial_value=INITIAL_VALUE, final_value=FINAL_VALUE, num_step=5,\n",
    "    times=times,\n",
    "    #ylim=[2.5*1e-7, 3*1e-7],\n",
    "    #xlim=[600, 3000]\n",
    ")"
   ]
  },
  {
   "cell_type": "markdown",
   "id": "dde10b68-ced1-445b-be71-173d5f7c8d4b",
   "metadata": {
    "id": "1aa4c64f-058a-421e-b57c-f2b7647c05c7"
   },
   "source": [
    "Remember that we do not care about time points before 500 minutes because it is a steady-state, stable system with no interesting behavior because the glucose concentration is fixed. It is more interesting to see a rapid perturbation and the recovery to equilibrium, as this is most likely what E. coli will more realistically experience in a bioreactor - a shutoff of glucose supplement and the rapid decline of any glucose left in the solution with the E. coli."
   ]
  },
  {
   "cell_type": "markdown",
   "id": "48cf132a-9f02-400b-a351-9bbcf02e561e",
   "metadata": {
    "id": "1aa4c64f-058a-421e-b57c-f2b7647c05c7"
   },
   "source": [
    "Getting close! Let's increase our the end time to our goal, and while we're at it let's shoot for ~1220 minutes (12 hours after t = 500 min) the usual time E. coli will incubate after inducing plasmid expression (i.e., production of the desired product)!"
   ]
  },
  {
   "cell_type": "markdown",
   "id": "8832d662-3be6-46b1-8799-a7531112a864",
   "metadata": {
    "id": "1aa4c64f-058a-421e-b57c-f2b7647c05c7"
   },
   "source": [
    "This system with additional time resolution has successfully achieved reasonable control over the EIP output with the Mlc input. Furthermore, we successfully achieved the **following control objectives:**\n",
    "\n",
    "* Kept the ``EI_P`` concentration in the range above 2.4e-7 M for over 720 minutes (12 hours) past t = 500 minutes. \n",
    "* Eliminated/minimized any potential concentration oscillations, although none were expected. \n",
    "* Converged to a stable, steady-state system after the glucose decreased within ~120 minutes before the staircase shift.\n",
    "* With each additional step this setting time was drastically reduced to about ~30 minutes.\n",
    "\n",
    "Ultimately, the final plot above achieves the control objectives by stabilizing as a nearly horizontal line within the desired setpoints after the initial glucose perturbation at t = 500 minutes. After the glucose perturbation, each step decrease in Mlc protein concentration increases the concentration of ``EI_P`` as expected since Mlc inhibits the production of EI protein. Thus, they are antagonistic. There are no oscillations about a setting point observed at any time which demonstrates that the second control objective was achieved. The third control objective can be noted at the time t = 575 minutes where the post-perturbation ``EI_P`` concentration stops growing and begins to drastically flatten out before the staircase decreases (plot above this one). Finally, the final control objective was achieved because the right tail is nearly horizontal and each step down on the staircase only increases the tail line for about 30 minutes before it becomes horizontal again.\n",
    "\n",
    "Below, we provide the complete **revised system definition:**\n",
    "\n",
    "1. SBML model: Nishio2008 - Design of the phosphotransferase system for enhanced glucose uptake in E. coli from Biomodels\n",
    "1. Output: ``EI_P``\n",
    "1. Input: ``Mlc``\n",
    "1. Directional effect of the input on the output: Monotone ``EI_P`` decreases for stepwise ``Mlc`` increases\n",
    "1. Operating region for the input: [8e-9 M, 9.5e-9 M]\n",
    "1. Range of outputs that can be achieved [2.5e-7 M, 2.85e-7 M]"
   ]
  },
  {
   "cell_type": "markdown",
   "id": "c10aba3d-facd-474f-af49-939bfb5b8e21",
   "metadata": {
    "id": "r3YyEFTekSYq"
   },
   "source": [
    "# 3. System Identification"
   ]
  },
  {
   "cell_type": "markdown",
   "id": "58d1ebf7-4418-412b-a59c-2c6f5f13b321",
   "metadata": {
    "id": "edd3f772-e8fe-4738-ad3c-7c707dc2c86e"
   },
   "source": [
    "System identification describes the system as a transfer function for the operating point specified in system definition. In our system, the input is ``Mlc`` and the output is ``EI_P``. ``Mlc`` is varied over the operating region of [7.6e-9, 8.0e-9]. The method ``plotTransferFunctionFit`` estimates to transfer function and plots the fit. It returns a Timeseries (a dataframe with the data plotted) and an AntimonyBuilder (the Antimony code run to produce the fitting data)."
   ]
  },
  {
   "cell_type": "code",
   "execution_count": null,
   "id": "8e6f2d08-8ee2-483d-8944-1dfa424c8b68",
   "metadata": {},
   "outputs": [],
   "source": [
    "_ = CTLSB.plotTransferFunctionFit(num_zero=0, num_pole=2, \n",
    "          initial_value=INITIAL_VALUE, final_value=FINAL_VALUE, num_step=10,\n",
    "        times=5*TIMES,\n",
    "        fit_start_time=5000,\n",
    "        fitter_method=\"poly\")\n",
    "\n",
    "# Get the transfer function \n",
    "TRANSFER_FUNCTION = CTLSB.getOpenLoopTransferFunction()\n",
    "TRANSFER_FUNCTION"
   ]
  },
  {
   "cell_type": "markdown",
   "id": "6933e0a1-59db-4cb9-8d1e-fd3e8f111417",
   "metadata": {
    "id": "edd3f772-e8fe-4738-ad3c-7c707dc2c86e"
   },
   "source": [
    "The fit is quite good, and it captures the inverse effect of Mlc on EI_P."
   ]
  },
  {
   "cell_type": "code",
   "execution_count": null,
   "id": "01bcd9c7-0f85-4699-89ce-3fd4ced02249",
   "metadata": {},
   "outputs": [],
   "source": [
    "TRANSFER_FUNCTION.poles(), TRANSFER_FUNCTION.zeros()"
   ]
  },
  {
   "cell_type": "markdown",
   "id": "2f2e61df-2eba-403b-8241-8eb728e18b9c",
   "metadata": {
    "id": "r3YyEFTekSYq"
   },
   "source": [
    "# 4. Testbed Construction & Control Design"
   ]
  },
  {
   "cell_type": "code",
   "execution_count": null,
   "id": "b2a5d660-c6ba-41bc-a1b0-27df69e5cbf4",
   "metadata": {},
   "outputs": [],
   "source": [
    "SETPOINT = 3e-7"
   ]
  },
  {
   "cell_type": "code",
   "execution_count": null,
   "id": "f6badff0-d88c-49b6-8d30-c8422a668040",
   "metadata": {},
   "outputs": [],
   "source": [
    "result = CTLSB.plotDesign(setpoint=SETPOINT, kP_spec=True, kI_spec=True, num_coordinate=10, sign=1,\n",
    "                          min_parameter_value=0.00001, max_parameter_value=0.01,\n",
    "                          times=np.linspace(0, 1000, 10000))"
   ]
  },
  {
   "cell_type": "code",
   "execution_count": null,
   "id": "cc16c889-0d43-4d15-a229-d64e5e043ba2",
   "metadata": {},
   "outputs": [],
   "source": [
    "result.designs.dataframe.head(10)"
   ]
  },
  {
   "cell_type": "markdown",
   "id": "a7f56282-c52d-4a92-ad67-f5ed12d73376",
   "metadata": {},
   "source": [
    "Evaluate the design a different setpoints."
   ]
  },
  {
   "cell_type": "code",
   "execution_count": null,
   "id": "01a1a3ec-186c-4344-b7e4-ad307472bdae",
   "metadata": {},
   "outputs": [],
   "source": [
    "for setpoint in [2e-7, 3.5e-7, 4e-7, 4.5e-7]:\n",
    "    _ = CTLSB.plotDesign(setpoint=setpoint, kP_spec=CTLSB.kP, kI_spec=CTLSB.kI, sign=1,\n",
    "                          times=np.linspace(0, 1000, 10000), title=f\"setpoint: {setpoint}\")"
   ]
  },
  {
   "cell_type": "markdown",
   "id": "778a95bd-6eeb-4f6e-858b-2cd54efe4647",
   "metadata": {},
   "source": [
    "# 5. Perturbations"
   ]
  },
  {
   "cell_type": "code",
   "execution_count": null,
   "id": "57b57b16-fdac-41e9-83f9-b7bc6b10f634",
   "metadata": {},
   "outputs": [],
   "source": [
    "ctlsb.kP, ctlsb.kI, ctlsb.kD, ctlsb.kF"
   ]
  },
  {
   "cell_type": "code",
   "execution_count": null,
   "id": "31d88971-a0c0-4670-aab9-618aca53cd36",
   "metadata": {},
   "outputs": [],
   "source": [
    "%%time\n",
    "random_mag = 3e-6\n",
    "noise_spec = ctl.NoiseSpec(random_mag=random_mag, random_std=0.1)\n",
    "ctlsb = ctl.ControlSBML(URL, xlabel=\"time (min)\", input_name=INPUT_NAME, output_name=OUTPUT_NAME,\n",
    "                        noise_spec=noise_spec, times=TIMES)\n",
    "grid = ctlsb.getGrid()\n",
    "grid.addAxis(\"kP\", min_value=0, max_value=0.001, num_coordinate=10)\n",
    "grid.addAxis(\"kI\", min_value=0, max_value=0.01, num_coordinate=10)\n",
    "grid.addAxis(\"kD\", min_value=0, max_value=0.001, num_coordinate=10)\n",
    "grid.addAxis(\"kF\", min_value=0.01, max_value=0.1, num_coordinate=10)\n",
    "design_result = ctlsb.plotGridDesign(grid, setpoint=SETPOINT, num_restart=5)"
   ]
  },
  {
   "cell_type": "code",
   "execution_count": null,
   "id": "5f33ca25-7cd3-4777-9c01-1c4b9102e039",
   "metadata": {},
   "outputs": [],
   "source": [
    "ctlsb.kP, ctlsb.kI, ctlsb.kF, ctlsb.kD"
   ]
  },
  {
   "cell_type": "code",
   "execution_count": 8,
   "id": "f25d5939-28b3-4ed2-ae1a-f24a8df1fabc",
   "metadata": {},
   "outputs": [
    {
     "data": {
      "image/png": "[encoded data removed]",
      "text/plain": [
       "<Figure size 640x480 with 1 Axes>"
      ]
     },
     "metadata": {},
     "output_type": "display_data"
    }
   ],
   "source": [
    "import pandas as pd\n",
    "import matplotlib.pyplot as plt\n",
    "from pandas.plotting import parallel_coordinates\n",
    "\n",
    "df = pd.DataFrame([[\"line 1\",20,30,100],\\\n",
    "    [\"line 2\",10,40,90],[\"line 3\",10,35,120]],\\\n",
    "    columns=[\"element\",\"var 1\",\"var 2\",\"var 3\"])\n",
    "parallel_coordinates(df,\"element\", axvlines=True)\n",
    "plt.show()\n"
   ]
  },
  {
   "cell_type": "code",
   "execution_count": null,
   "id": "70ca1076-5233-4a05-824f-aac7dad528f4",
   "metadata": {},
   "outputs": [],
   "source": [
    "df"
   ]
  },
  {
   "cell_type": "code",
   "execution_count": null,
   "id": "9e7de441-37fd-4f8f-8ede-495311dbf2c4",
   "metadata": {},
   "outputs": [],
   "source": [
    "df"
   ]
  },
  {
   "cell_type": "code",
   "execution_count": 3,
   "id": "98abe1d4-cac5-4482-a35b-33849117bfd7",
   "metadata": {},
   "outputs": [
    {
     "data": {
      "text/plain": [
       "[<Color red>,\n",
       " <Color #ff7100>,\n",
       " <Color #ffe300>,\n",
       " <Color #af0>,\n",
       " <Color #39ff00>,\n",
       " <Color #00ff39>,\n",
       " <Color #0fa>,\n",
       " <Color #00e3ff>,\n",
       " <Color #0071ff>,\n",
       " <Color blue>]"
      ]
     },
     "execution_count": 3,
     "metadata": {},
     "output_type": "execute_result"
    }
   ],
   "source": [
    "from colour import Color\n",
    "red = Color(\"red\")\n",
    "colors = list(red.range_to(Color(\"blue\"),10))\n",
    "colors"
   ]
  },
  {
   "cell_type": "code",
   "execution_count": 7,
   "id": "c79e84e9-b6f0-47fe-bb0a-7d354a7ab937",
   "metadata": {},
   "outputs": [
    {
     "name": "stdout",
     "output_type": "stream",
     "text": [
      "#0071ff\n"
     ]
    }
   ],
   "source": [
    "print(colors[-2])"
   ]
  },
  {
   "cell_type": "code",
   "execution_count": 10,
   "id": "fc9ad197-0bea-4872-8a20-389ef2fbf34e",
   "metadata": {},
   "outputs": [
    {
     "data": {
      "text/html": [
       "<div>\n",
       "<style scoped>\n",
       "    .dataframe tbody tr th:only-of-type {\n",
       "        vertical-align: middle;\n",
       "    }\n",
       "\n",
       "    .dataframe tbody tr th {\n",
       "        vertical-align: top;\n",
       "    }\n",
       "\n",
       "    .dataframe thead th {\n",
       "        text-align: right;\n",
       "    }\n",
       "</style>\n",
       "<table border=\"1\" class=\"dataframe\">\n",
       "  <thead>\n",
       "    <tr style=\"text-align: right;\">\n",
       "      <th></th>\n",
       "      <th>mpg</th>\n",
       "      <th>displacement</th>\n",
       "      <th>cylinders</th>\n",
       "      <th>horsepower</th>\n",
       "      <th>weight</th>\n",
       "      <th>acceleration</th>\n",
       "    </tr>\n",
       "  </thead>\n",
       "  <tbody>\n",
       "    <tr>\n",
       "      <th>0</th>\n",
       "      <td>0.769564</td>\n",
       "      <td>0.908461</td>\n",
       "      <td>0.105106</td>\n",
       "      <td>0.509153</td>\n",
       "      <td>0.049624</td>\n",
       "      <td>0.701324</td>\n",
       "    </tr>\n",
       "    <tr>\n",
       "      <th>1</th>\n",
       "      <td>0.080613</td>\n",
       "      <td>0.829781</td>\n",
       "      <td>0.283498</td>\n",
       "      <td>0.102868</td>\n",
       "      <td>0.075211</td>\n",
       "      <td>0.973912</td>\n",
       "    </tr>\n",
       "    <tr>\n",
       "      <th>2</th>\n",
       "      <td>0.963814</td>\n",
       "      <td>0.899212</td>\n",
       "      <td>0.929320</td>\n",
       "      <td>0.863654</td>\n",
       "      <td>0.310858</td>\n",
       "      <td>0.526232</td>\n",
       "    </tr>\n",
       "    <tr>\n",
       "      <th>3</th>\n",
       "      <td>0.781091</td>\n",
       "      <td>0.189607</td>\n",
       "      <td>0.823280</td>\n",
       "      <td>0.604387</td>\n",
       "      <td>0.220351</td>\n",
       "      <td>0.145029</td>\n",
       "    </tr>\n",
       "    <tr>\n",
       "      <th>4</th>\n",
       "      <td>0.442854</td>\n",
       "      <td>0.467398</td>\n",
       "      <td>0.545279</td>\n",
       "      <td>0.521806</td>\n",
       "      <td>0.690375</td>\n",
       "      <td>0.665477</td>\n",
       "    </tr>\n",
       "    <tr>\n",
       "      <th>5</th>\n",
       "      <td>0.994286</td>\n",
       "      <td>0.562126</td>\n",
       "      <td>0.821997</td>\n",
       "      <td>0.477259</td>\n",
       "      <td>0.542493</td>\n",
       "      <td>0.390914</td>\n",
       "    </tr>\n",
       "    <tr>\n",
       "      <th>6</th>\n",
       "      <td>0.495650</td>\n",
       "      <td>0.085193</td>\n",
       "      <td>0.655380</td>\n",
       "      <td>0.669586</td>\n",
       "      <td>0.099331</td>\n",
       "      <td>0.888513</td>\n",
       "    </tr>\n",
       "    <tr>\n",
       "      <th>7</th>\n",
       "      <td>0.325780</td>\n",
       "      <td>0.458166</td>\n",
       "      <td>0.118158</td>\n",
       "      <td>0.870782</td>\n",
       "      <td>0.419188</td>\n",
       "      <td>0.477520</td>\n",
       "    </tr>\n",
       "    <tr>\n",
       "      <th>8</th>\n",
       "      <td>0.819212</td>\n",
       "      <td>0.535954</td>\n",
       "      <td>0.750867</td>\n",
       "      <td>0.592970</td>\n",
       "      <td>0.926295</td>\n",
       "      <td>0.993605</td>\n",
       "    </tr>\n",
       "    <tr>\n",
       "      <th>9</th>\n",
       "      <td>0.740730</td>\n",
       "      <td>0.086156</td>\n",
       "      <td>0.136455</td>\n",
       "      <td>0.367331</td>\n",
       "      <td>0.174914</td>\n",
       "      <td>0.996814</td>\n",
       "    </tr>\n",
       "  </tbody>\n",
       "</table>\n",
       "</div>"
      ],
      "text/plain": [
       "        mpg  displacement  cylinders  horsepower    weight  acceleration\n",
       "0  0.769564      0.908461   0.105106    0.509153  0.049624      0.701324\n",
       "1  0.080613      0.829781   0.283498    0.102868  0.075211      0.973912\n",
       "2  0.963814      0.899212   0.929320    0.863654  0.310858      0.526232\n",
       "3  0.781091      0.189607   0.823280    0.604387  0.220351      0.145029\n",
       "4  0.442854      0.467398   0.545279    0.521806  0.690375      0.665477\n",
       "5  0.994286      0.562126   0.821997    0.477259  0.542493      0.390914\n",
       "6  0.495650      0.085193   0.655380    0.669586  0.099331      0.888513\n",
       "7  0.325780      0.458166   0.118158    0.870782  0.419188      0.477520\n",
       "8  0.819212      0.535954   0.750867    0.592970  0.926295      0.993605\n",
       "9  0.740730      0.086156   0.136455    0.367331  0.174914      0.996814"
      ]
     },
     "execution_count": 10,
     "metadata": {},
     "output_type": "execute_result"
    }
   ],
   "source": [
    "import numpy as np\n",
    "\n",
    "# Create data\n",
    "columns = ['mpg', 'displacement', 'cylinders', 'horsepower', 'weight', 'acceleration']\n",
    "dct = {}\n",
    "for column in columns:\n",
    "    dct[column] = np.random.rand(10)\n",
    "df = pd.DataFrame(dct)\n",
    "df"
   ]
  },
  {
   "cell_type": "code",
   "execution_count": 20,
   "id": "bfca6076-27fa-416b-96d4-32f837550f2d",
   "metadata": {},
   "outputs": [
    {
     "data": {
      "text/plain": [
       "'(0.385, 0.69]'"
      ]
     },
     "execution_count": 20,
     "metadata": {},
     "output_type": "execute_result"
    }
   ],
   "source": [
    "xx = list(set(pd.cut(df[\"mpg\"], 3)))\n",
    "str(xx[0])"
   ]
  },
  {
   "cell_type": "code",
   "execution_count": null,
   "id": "4abf80b7-ad4f-413b-8c9f-af47126883d1",
   "metadata": {},
   "outputs": [],
   "source": [
    "from matplotlib import ticker\n",
    "\n",
    "cols = ['displacement', 'cylinders', 'horsepower', 'weight', 'acceleration']\n",
    "x = [i for i, _ in enumerate(cols)]\n",
    "colours = ['#2e8ad8', '#cd3785', '#c64c00', '#889a00']\n",
    "\n",
    "# create dict of categories: colours\n",
    "#colours = {df['mpg'].cat.categories[i]: colours[i] for i, _ in enumerate(df['mpg'].cat.categories)}\n",
    "\n",
    "# Create (X-1) sublots along x axis\n",
    "fig, axes = plt.subplots(1, len(x)-1, sharey=False, figsize=(15,5))\n",
    "\n",
    "# Get min, max and range for each column\n",
    "# Normalize the data for each column\n",
    "min_max_range = {}\n",
    "for col in cols:\n",
    "    min_max_range[col] = [df[col].min(), df[col].max(), np.ptp(df[col])]\n",
    "    df[col] = np.true_divide(df[col] - df[col].min(), np.ptp(df[col]))\n",
    "\n",
    "# Plot each row\n",
    "for i, ax in enumerate(axes):\n",
    "    for idx in df.index:\n",
    "        mpg_category = df.loc[idx, 'mpg']\n",
    "        ax.plot(x, df.loc[idx, cols], colours[mpg_category])\n",
    "    ax.set_xlim([x[i], x[i+1]])\n",
    "    \n",
    "# Set the tick positions and labels on y axis for each plot\n",
    "# Tick positions based on normalised data\n",
    "# Tick labels are based on original data\n",
    "def set_ticks_for_axis(dim, ax, ticks):\n",
    "    min_val, max_val, val_range = min_max_range[cols[dim]]\n",
    "    step = val_range / float(ticks-1)\n",
    "    tick_labels = [round(min_val + step * i, 2) for i in range(ticks)]\n",
    "    norm_min = df[cols[dim]].min()\n",
    "    norm_range = np.ptp(df[cols[dim]])\n",
    "    norm_step = norm_range / float(ticks-1)\n",
    "    ticks = [round(norm_min + norm_step * i, 2) for i in range(ticks)]\n",
    "    ax.yaxis.set_ticks(ticks)\n",
    "    ax.set_yticklabels(tick_labels)\n",
    "\n",
    "for dim, ax in enumerate(axes):\n",
    "    ax.xaxis.set_major_locator(ticker.FixedLocator([dim]))\n",
    "    set_ticks_for_axis(dim, ax, ticks=6)\n",
    "    ax.set_xticklabels([cols[dim]])\n",
    "    \n",
    "\n",
    "# Move the final axis' ticks to the right-hand side\n",
    "ax = plt.twinx(axes[-1])\n",
    "dim = len(axes)\n",
    "ax.xaxis.set_major_locator(ticker.FixedLocator([x[-2], x[-1]]))\n",
    "set_ticks_for_axis(dim, ax, ticks=6)\n",
    "ax.set_xticklabels([cols[-2], cols[-1]])\n",
    "\n",
    "\n",
    "# Remove space between subplots\n",
    "plt.subplots_adjust(wspace=0)\n",
    "\n",
    "# Add legend to plot\n",
    "plt.legend(\n",
    "    [plt.Line2D((0,1),(0,0), color=colours[v]) for v in df['mpg']],\n",
    "    df['mpg'],\n",
    "    bbox_to_anchor=(1.2, 1), loc=2, borderaxespad=0.)\n",
    "\n",
    "plt.title(\"Values of car attributes, by MPG category\")\n",
    "\n",
    "plt.show()"
   ]
  }
 ],
 "metadata": {
  "kernelspec": {
   "display_name": "Python 3 (ipykernel)",
   "language": "python",
   "name": "python3"
  },
  "language_info": {
   "codemirror_mode": {
    "name": "ipython",
    "version": 3
   },
   "file_extension": ".py",
   "mimetype": "text/x-python",
   "name": "python",
   "nbconvert_exporter": "python",
   "pygments_lexer": "ipython3",
   "version": "3.9.6"
  }
 },
 "nbformat": 4,
 "nbformat_minor": 5
}
