{
 "cells": [
  {
   "cell_type": "markdown",
   "id": "cc5f9f08-3ebb-4993-86a7-672e9f5a5af8",
   "metadata": {
    "id": "r3YyEFTekSYq"
   },
   "source": [
    "# Controlling Glucose Metabolism in Yeast\n",
    "(Based on a final project submitted by Seth Woodbury to BIOEN 599, March, 2024, University of Washington)"
   ]
  },
  {
   "cell_type": "markdown",
   "id": "0dab0df8-a876-4a8a-ab64-c3a8a7ef962f",
   "metadata": {
    "id": "r3YyEFTekSYq"
   },
   "source": [
    "## Organization & Installs/Imports"
   ]
  },
  {
   "cell_type": "code",
   "execution_count": 1,
   "id": "ec4e009e-7b76-4d97-b637-83b13f6b0c87",
   "metadata": {},
   "outputs": [],
   "source": [
    "from controlSBML import ControlSBML\n",
    "\n",
    "import collections\n",
    "import control\n",
    "import matplotlib.pyplot as plt\n",
    "import numpy as np\n",
    "import pandas as pd\n",
    "import tellurium as te\n",
    "from sympy import symbols, Poly, fraction"
   ]
  },
  {
   "cell_type": "code",
   "execution_count": 2,
   "id": "2ced36f3-d3c9-4fb2-9153-0cfa2d32253a",
   "metadata": {
    "executionInfo": {
     "elapsed": 3,
     "status": "ok",
     "timestamp": 1708556908051,
     "user": {
      "displayName": "Joseph Hellerstein",
      "userId": "07301174361489660166"
     },
     "user_tz": 480
    },
    "id": "ad06c6ba-e955-46d6-9161-17c0b5b7d8e2"
   },
   "outputs": [],
   "source": [
    "s = control.TransferFunction.s\n",
    "TIMES = np.linspace(0, 10, 100)"
   ]
  },
  {
   "cell_type": "code",
   "execution_count": 3,
   "id": "ddcb6a23-79be-4f68-99a4-222f9399eb73",
   "metadata": {
    "executionInfo": {
     "elapsed": 2,
     "status": "ok",
     "timestamp": 1708556908051,
     "user": {
      "displayName": "Joseph Hellerstein",
      "userId": "07301174361489660166"
     },
     "user_tz": 480
    },
    "id": "66ac91d7-3f06-47cd-b874-45f5bb430500"
   },
   "outputs": [],
   "source": [
    "TEST_MODEL = \"\"\"\n",
    "$S1 -> S2; k1*S1\n",
    "S2 -> S3; k2*S2\n",
    "\n",
    "S1 = 10\n",
    "S2 = 0\n",
    "S3 = 0\n",
    "k1 = 1\n",
    "k2 = 2\n",
    "k3 = 3\n",
    "kP = 1\n",
    "kI =1\n",
    "setpoint = 1\n",
    "\"\"\"\n",
    "ctlsb = ControlSBML(TEST_MODEL)\n",
    "TEST_RR = ctlsb.getRoadrunner()"
   ]
  },
  {
   "cell_type": "code",
   "execution_count": 4,
   "id": "f8c4ca1f-8fa8-4f47-9f53-460499c83a20",
   "metadata": {
    "executionInfo": {
     "elapsed": 3,
     "status": "ok",
     "timestamp": 1708556908052,
     "user": {
      "displayName": "Joseph Hellerstein",
      "userId": "07301174361489660166"
     },
     "user_tz": 480
    },
    "id": "a6a02206-833c-449a-ae71-4ab8d7f8ef5a",
    "tags": []
   },
   "outputs": [],
   "source": [
    "k1 = TEST_RR[\"k1\"]\n",
    "k2 = TEST_RR[\"k2\"]\n",
    "tf = k1*k2/(s*(s+k2))"
   ]
  },
  {
   "cell_type": "code",
   "execution_count": 5,
   "id": "21bcce19-1767-4b31-8db6-6e9b5898e6e1",
   "metadata": {},
   "outputs": [],
   "source": [
    "# Define functions\n",
    "\n",
    "def evaluateTransferFunction(model, transfer_function, output_name, times=TIMES,\n",
    "                             is_plot=True):\n",
    "    \"\"\"\n",
    "    Plots simulations versus predictions.\n",
    "\n",
    "    Args:\n",
    "        model: (str) antimony\n",
    "        tranfer_function (control.TransferFunction)\n",
    "        output_name: (str) prediction\n",
    "        times: (np.darray)\n",
    "    Returns:\n",
    "        float\n",
    "    \"\"\"\n",
    "    rr = te.loada(model)\n",
    "    data = rr.simulate(times[0], times[-1], len(times))\n",
    "    output_name = \"[\" + output_name + \"]\"\n",
    "    simulations = data[output_name]\n",
    "    _, predictions = control.forced_response(transfer_function, T=times, U=1)\n",
    "    rmse = np.sqrt(np.sum(simulations-predictions)**2)/len(simulations)\n",
    "    if is_plot:\n",
    "        plt.scatter(simulations, predictions)\n",
    "        maxval = max(np.max(predictions), np.max(simulations))\n",
    "        plt.plot([0, maxval], [0, maxval], color=\"red\")\n",
    "        plt.xlabel(\"simulated\")\n",
    "        plt.ylabel(\"predicted\")\n",
    "    return rmse"
   ]
  },
  {
   "cell_type": "code",
   "execution_count": 6,
   "id": "ffd6f573-c8e2-4d28-b46a-b574704cf752",
   "metadata": {
    "colab": {
     "base_uri": "https://localhost:8080/"
    },
    "executionInfo": {
     "elapsed": 2,
     "status": "ok",
     "timestamp": 1708556908341,
     "user": {
      "displayName": "Joseph Hellerstein",
      "userId": "07301174361489660166"
     },
     "user_tz": 480
    },
    "id": "af9f5cb7-8a03-4491-af49-521024000ffe",
    "outputId": "db4d35e6-ba95-4b28-f58b-ad201d66a0bd"
   },
   "outputs": [
    {
     "name": "stdout",
     "output_type": "stream",
     "text": [
      "OK!\n"
     ]
    }
   ],
   "source": [
    "Parameters = collections.namedtuple(\"Parameters\", \"k1 k2 k3 S1 kP kI, setpoint\")\n",
    "def getParameters(model, **kwargs):\n",
    "    \"\"\"\n",
    "    Retrieves constants used in the open and closed loop models.\n",
    "\n",
    "    Args:\n",
    "        model: str/Roadrunner\n",
    "        kwargs: values to assign in the model\n",
    "\n",
    "    Returns:\n",
    "        Parameters\n",
    "    \"\"\"\n",
    "    def get(name):\n",
    "        if name in rr.keys():\n",
    "            return rr[name]\n",
    "        return 0\n",
    "    #\n",
    "    if isinstance(model, str):\n",
    "        rr = te.loada(model)\n",
    "    else:\n",
    "        rr = model\n",
    "    for key, value in kwargs.items():\n",
    "        rr[key] = float(value)\n",
    "    #\n",
    "    parameters = Parameters(\n",
    "        k1=get(\"k1\"),\n",
    "        k2=get(\"k2\"),\n",
    "        k3=get(\"k3\"),\n",
    "        setpoint=get(\"setpoint\"),\n",
    "        kP=get(\"kP\"),\n",
    "        kI=get(\"kI\"),\n",
    "        S1=get(\"S1\"),\n",
    "    )\n",
    "    return parameters\n",
    "\n",
    "# Tests\n",
    "parameters = getParameters(model=TEST_MODEL, k1=4)\n",
    "assert(isinstance(parameters, Parameters))\n",
    "print(\"OK!\")\n"
   ]
  },
  {
   "cell_type": "code",
   "execution_count": 7,
   "id": "596cf125-b0d3-4b1c-8952-8f05b062b10b",
   "metadata": {
    "colab": {
     "base_uri": "https://localhost:8080/"
    },
    "executionInfo": {
     "elapsed": 1,
     "status": "ok",
     "timestamp": 1708556908341,
     "user": {
      "displayName": "Joseph Hellerstein",
      "userId": "07301174361489660166"
     },
     "user_tz": 480
    },
    "id": "bd4dcf59-3bf0-42fd-ba18-7d12d203f7f9",
    "outputId": "28f9db87-64ba-45ed-8c77-f57970f59a6c"
   },
   "outputs": [
    {
     "name": "stdout",
     "output_type": "stream",
     "text": [
      "OK!\n"
     ]
    }
   ],
   "source": [
    "def makeTransferFunctions(model, **kwargs):\n",
    "    \"\"\"\n",
    "    Constructs the open loop and closed loop transfer functions for MODEL1.\n",
    "\n",
    "    Args:\n",
    "        model: roadrunner or antimony\n",
    "        kwargs: values to use in transfer function that differ from the model.\n",
    "    \"\"\"\n",
    "    p = getParameters(model, **kwargs)\n",
    "    ol_tf = p.k1*p.k2/((s + p.k2)*(s+ p.k3))\n",
    "    controller_tf = p.kP + p.kI/s\n",
    "    cl_tf = control.feedback(ol_tf*controller_tf)\n",
    "    return ol_tf, cl_tf\n",
    "\n",
    "# TESTS\n",
    "ol_tf, cl_tf = makeTransferFunctions(TEST_MODEL, k3=2)\n",
    "assert(isinstance(ol_tf, control.TransferFunction))\n",
    "assert(isinstance(cl_tf, control.TransferFunction))\n",
    "print(\"OK!\")"
   ]
  },
  {
   "cell_type": "code",
   "execution_count": 8,
   "id": "ae9253bb-5520-43f5-bf7d-79a629dd06f9",
   "metadata": {
    "colab": {
     "base_uri": "https://localhost:8080/"
    },
    "executionInfo": {
     "elapsed": 182,
     "status": "ok",
     "timestamp": 1708556908522,
     "user": {
      "displayName": "Joseph Hellerstein",
      "userId": "07301174361489660166"
     },
     "user_tz": 480
    },
    "id": "f563dc09-2df9-4863-8537-482f8f260a74",
    "outputId": "3bafc930-0bad-4e13-e06e-2171633c3d71"
   },
   "outputs": [
    {
     "name": "stdout",
     "output_type": "stream",
     "text": [
      "OK!\n"
     ]
    }
   ],
   "source": [
    "def plotPoles(model, kPs=0, kIs=0, xlim=None, is_plot=True):\n",
    "    \"\"\"\n",
    "    Plots the open loop poles and zeroes and closed loop poles for the model.\n",
    "\n",
    "    Args:\n",
    "        model: antimony or roadrunner\n",
    "        kPs: list/float\n",
    "        kIs: list/float\n",
    "        xlim: tuple (limits of x-axis on plot)\n",
    "\n",
    "    Returns:\n",
    "        control.TransferFunction (open loop)\n",
    "        control.TransferFunction (closed loop)\n",
    "    \"\"\"\n",
    "    p = getParameters(model)\n",
    "    if isinstance(kPs, int) or isinstance(kPs, float):\n",
    "        kPs = [kPs]\n",
    "    if isinstance(kIs, int) or isinstance(kIs, float):\n",
    "        kIs = [kIs]\n",
    "    if len(kPs) == 1:\n",
    "        kPs = np.repeat(kPs[0], len(kIs))\n",
    "    if len(kIs) == 1:\n",
    "        kIs = np.repeat(kIs[0], len(kPs))\n",
    "    #\n",
    "    annotations = []\n",
    "    cl_poles = []\n",
    "    for kI in kIs:\n",
    "        for kP in kPs:\n",
    "            ol_tf, cl_tf = makeTransferFunctions(model, kP=kP, kI=kI)\n",
    "            for pole in cl_tf.poles():\n",
    "                annotations.append(\"%2.2f, %2.2f\" % (kP, kI))\n",
    "                cl_poles.append(pole)\n",
    "    annotations.extend(annotations)\n",
    "    cl_poles = np.array(cl_poles)\n",
    "    if is_plot:\n",
    "        _, ax = plt.subplots(1)\n",
    "        ol_poles = ol_tf.poles()\n",
    "        ax.scatter(ol_poles.real, ol_poles.imag, marker=\"o\", c=\"red\")\n",
    "        ax.scatter(cl_poles.real, cl_poles.imag, marker=\"*\", c=\"blue\")\n",
    "        _ = [ax.annotate(t, (p.real, p.imag), fontsize=8) for t, p in zip(annotations, cl_poles)]\n",
    "        ax.set_xlabel(\"Real\")\n",
    "        ax.set_ylabel(\"Imaginary\")\n",
    "        _ = ax.set_title(\"Open and closed loop poles for kP, kI.\")\n",
    "        if xlim is not None:\n",
    "            ax.set_xlim(xlim)\n",
    "\n",
    "# Tests\n",
    "plotPoles(TEST_MODEL, kPs=[0.01, 0.1, 10, 100], is_plot=False)\n",
    "print(\"OK!\")"
   ]
  },
  {
   "cell_type": "code",
   "execution_count": 9,
   "id": "31a6fd2a-eb00-4d29-b098-fbc22001afcf",
   "metadata": {},
   "outputs": [
    {
     "name": "stdout",
     "output_type": "stream",
     "text": [
      "OK!\n"
     ]
    }
   ],
   "source": [
    "def plotModel(model, times=TIMES, is_plot=True, title=\"\", selections=None,\n",
    "              figsize=(5,5), ylim=None, **kwargs):\n",
    "    \"\"\"\n",
    "    Plots a model.\n",
    "\n",
    "    Args:\n",
    "       times: np.array\n",
    "       kwargs: values of parameters\n",
    "    Returns:\n",
    "       NamedArray\n",
    "    \"\"\"\n",
    "    rr = te.loada(model)\n",
    "    for key, value in kwargs.items():\n",
    "        rr[key] = value\n",
    "    if selections is None:\n",
    "        data = rr.simulate(times[0], times[-1], len(times))\n",
    "    else:\n",
    "        if not \"time\" in selections:\n",
    "            selections.insert(0, \"time\")\n",
    "        data = rr.simulate(times[0], times[-1], len(times), selections=selections)\n",
    "    if is_plot:\n",
    "        if ylim is None:\n",
    "            rr.plot(title=title, figsize=figsize)\n",
    "        else:\n",
    "            rr.plot(title=title, figsize=figsize, ylim=ylim)\n",
    "    return data\n",
    "\n",
    "# TESTS\n",
    "data = plotModel(TEST_MODEL, k1=0.1, is_plot=False, selections=[\"S2\"], ylim=[0, 10])\n",
    "assert(len(data) > 0)\n",
    "print(\"OK!\")"
   ]
  },
  {
   "cell_type": "code",
   "execution_count": 10,
   "id": "900c1cd1-c6d7-4216-aa38-78fd07737dc2",
   "metadata": {},
   "outputs": [
    {
     "name": "stdout",
     "output_type": "stream",
     "text": [
      "OK!\n"
     ]
    }
   ],
   "source": [
    "def buildPITestbed(model, input_name, output_name, sign=1):\n",
    "    \"\"\"\n",
    "    Creates an Antimony model of a PI controller using model as the open loop system.\n",
    "    The resulting model as Antimony parameters for the setpoint, kP, kI. Assumes that\n",
    "    this is a modular model (has an \"end\" statement).\n",
    "\n",
    "    Args:\n",
    "        model: str (Antimony model of OLS)\n",
    "        input_name: str (name of a species in the OLS)\n",
    "        output_name: str (name of a species in the OLS)\n",
    "        sign: int (directional effect of input on output)\n",
    "\n",
    "    Returns:\n",
    "        str (Antimony model)\n",
    "    \"\"\"\n",
    "    # Control codes\n",
    "    control_logic = \"\"\"\n",
    "        // Parameters in CLS\n",
    "        setpoint = 1\n",
    "        kP = 1\n",
    "        kI = 0\n",
    "        sign = {sign}\n",
    "\n",
    "        // Controller\n",
    "        control_error := sign*(setpoint - {output_name})\n",
    "        integral_control_error = 0\n",
    "        integral_control_error' = control_error\n",
    "        ${input_name} := kP*control_error + kI*integral_control_error\n",
    "        \"\"\"\n",
    "    # Partition the model\n",
    "    try:\n",
    "        end_pos = model.index(\"end\")\n",
    "    except:\n",
    "        end_pos = len(model) - 1\n",
    "    model_front = model[:end_pos]\n",
    "    model_back = model[end_pos:]\n",
    "    return model_front + control_logic.format(input_name=input_name, output_name=output_name, sign=sign) + model_back\n",
    "\n",
    "# TESTS\n",
    "is_plot = False\n",
    "cl_model = buildPITestbed(TEST_MODEL, \"S1\", \"S3\")\n",
    "rr = te.loada(cl_model)\n",
    "rr[\"kP\"] = 10\n",
    "rr[\"kI\"] = 5\n",
    "rr[\"setpoint\"] = 8\n",
    "rr.simulate(0, 10, 100, selections=[\"time\", \"setpoint\", \"S3\"])\n",
    "if is_plot:\n",
    "    rr.plot()\n",
    "print(\"OK!\")"
   ]
  },
  {
   "cell_type": "markdown",
   "id": "d5237a5c-1e88-492f-90fc-bc56458696de",
   "metadata": {
    "id": "r3YyEFTekSYq"
   },
   "source": [
    "## Section 1: Problem Description & System Definition "
   ]
  },
  {
   "cell_type": "markdown",
   "id": "3e7257cc-4523-4f78-97ab-a41a39022271",
   "metadata": {
    "id": "r3YyEFTekSYq"
   },
   "source": [
    "### Problem Description & Control Objectives"
   ]
  },
  {
   "cell_type": "markdown",
   "id": "9d4dc675-0d07-42f3-b65f-17a45f4feae4",
   "metadata": {
    "id": "c0fb6205-fd27-49f0-bd8e-d9f7439df0e8"
   },
   "source": [
    "**IMPORTANT LINKS:**\n",
    "\n",
    "<u>Selected Biomodel:</u> Nishio2008 - Design of the phosphotransferase system for enhanced glucose uptake in E. coli\n",
    "\n",
    "<u>Biomodel URL:</u> https://www.ebi.ac.uk/biomodels/BIOMD0000000571\n",
    "\n",
    "<u>Publication URL:</u> https://www.embopress.org/doi/full/10.1038/msb4100201\n",
    "\n",
    "**PROBLEM DESCRIPTION:**\n",
    "\n",
    "Industrial bioreactors culturing engineered microbes present a cost-effective, highly efficient, minimal-resource cost, and eco-friendly method of producing large quantities of desirable proteins and complex organic compounds for societal use (e.g., academia, therapeutics, industrial chemistry, biotechnology sectors). The biological problem I am addressing regards controlling Escherichia coli (E. coli) glucose uptake for such industrial microbe engineering purposes since they are the most well-studied and commonly used microbe. From a bioreactor production standpoint, it is desirable to have E. coli uptake as much glucose as possible for the ultimate production of ATP and the desired plasmid product(s) they were engineered to produce (i.e., protein products or protein machinery to make small organic molecules). However, E. coli have evolved to highly regulate their glucose uptake for the optimal cooperative survival and proliferation of their colonies; if they sense low glucose in the environment, they will try to use other carbon sources and metabolites for energy and they will shift toward conservative/catabolic metabolic processes rather than the anabolic ones we want them to perform. Ideally, we want E. coli in a bioreactor to initially divide to a certain concentration, then we want to induce them to grow as fat as possible (taking in the maximal possible glucose as fuel) to become full of our intended product before we lyse them all to harvest our product.\n",
    "\n",
    "E. coli have evolved a complex phosphotransferase system that acts in a biological circuit to control the transfer of glucose into the cell while simultaneously phosphorylating it. The specific biological problem that I will be engineering in this system is how to control and enhance the concentration of ``phosphorylated EI`` or ``EI_P`` from the gene ptsI. The phosphotransfer of the phosphate on phosphoenolpyruvate to EI making EI_P is the first step in the phosphotransferase cascade system that ultimately phosphorylates glucose and transports it into the cell. This reaction is also thought to be the rate-limiting step in glucose intake so aiming to control and upregulate EI_P concentration will push equilibrium towards a higher glucose intake.\n",
    "\n",
    "**CONTROL OBJECTIVES:**\n",
    "\n",
    "In the given model, the extracellular glucose concentration is held constant which could mimic a bioreactor that is continuously feeding E. coli glucose while they divide and grow before their plasmid expression is induced. At t = 500 minutes in the model the glucose levels drop instantaneously by several orders of magnitude to cause a perturbation (see below). As a reminder, we want to resist ``EI_P`` decrease at all costs and ideally minimize its increase from the reverse of the phosphotransferase cascade since the last step depends partially on glucose concentration and each phosphate transfer is reversible. **Thus, our control objectives are:**\n",
    "* Keep the ``EI_P`` concentration in the range above 2.4e-7M at all costs but ideally [2.4e-7 M, 4.0e-7 M] for at least 720 minutes (12 hours).\n",
    "* Minimize any potential concentration oscillations and keep the oscillations within the concentration range above.\n",
    "* Converge to a stable, steady-state system after the glucose decrease at t = 500 minutes within 120 minutes (t = 620 minutes).\n",
    "* With each additional step this setting time should also be within t = 30 minutes & the final ``EI_P`` should steady out.\n",
    "\n",
    "Achieving these control objectives will allow our engineered E. coli to keep maximally uptaking glucose even after we shut down its continuous flow into the bioreactor. Keeping the ``EI_P`` range above 2.4e-7 M is significant because this is its steady-state concentration at glucose concentrations that are magnitudes higher at t < 500 minutes, so maintaining an ``EI_P`` this high after t = 500 minutes will mean the E. coli are still uptaking glucose at a similar rate as before. Keeping it below 3.4e-7 M is a good sign that the rest of the phosphotransferase cascade is not backing up or slowing down significantly. Cells enjoy homeostasis and consistency, so minimizing ``EI_P`` oscillations will be important to not throw off other equilibriums that are not necessarily modeled here with respect to glucose uptake, we want a continuous flux of glucose coming in that keeps our E. coli busy at making proteins. Finally, 30 minutes is a pretty short time for E. coli so it would be desirable if the system could converge within 30 minutes so the E. coli are not thrown out of homeostasis."
   ]
  },
  {
   "cell_type": "markdown",
   "id": "c70f4bc8-d0cb-4d04-811f-d9772c7f56f8",
   "metadata": {},
   "source": [
    "#### Antimony Model"
   ]
  },
  {
   "cell_type": "code",
   "execution_count": 55,
   "id": "e70316d2-d603-4be5-9f7c-66ad5c5e2f9f",
   "metadata": {},
   "outputs": [
    {
     "name": "stdout",
     "output_type": "stream",
     "text": [
      "// Created by libAntimony v2.13.2\n",
      "model *MODEL1501300000()\n",
      "\n",
      "  // Compartments and Species:\n",
      "  compartment cyt;\n",
      "  species CRP in cyt, CRPsiteI_crp in cyt, CRPsiteII_crp in cyt, CRPsite_cyaA in cyt;\n",
      "  species CRPsite_genome in cyt, CRPsite_ptsGp1 in cyt, CRPsite_ptsGp2 in cyt;\n",
      "  species CRPsite_ptsHp0 in cyt, CRPsite_ptsHp1 in cyt, CRPsite_ptsIp0 in cyt;\n",
      "  species CRPsite_ptsIp1 in cyt, CRPsite_mlcp1 in cyt, CRPsite_mlcp2 in cyt;\n",
      "  species Mlc in cyt, Mlcsite_mlcp1 in cyt, Mlcsite_mlcp2 in cyt, Mlcsite_ptsGp1 in cyt;\n",
      "  species Mlcsite_ptsGp2 in cyt, Mlcsite_ptsHp0 in cyt, Mlcsite_ptsIp0 in cyt;\n",
      "  species CRP_cAMP in cyt, CRP_cAMP_CRPsiteI_crp in cyt, CRP_cAMP_CRPsiteII_crp in cyt;\n",
      "  species CRP_cAMP_CRPsite_cyaA in cyt, CRP_cAMP_CRPsite_genome in cyt, CRP_cAMP_CRPsite_ptsGp1 in cyt;\n",
      "  species CRP_cAMP_CRPsite_ptsGp2 in cyt, CRP_cAMP_CRPsite_ptsHp0 in cyt;\n",
      "  species CRP_cAMP_CRPsite_ptsHp1 in cyt, CRP_cAMP_CRPsite_ptsIp0 in cyt;\n",
      "  species CRP_cAMP_CRPsite_ptsIp1 in cyt, CRP_cAMP_CRPsite_mlcp1 in cyt, CRP_cAMP_CRPsite_mlcp2 in cyt;\n",
      "  species Mlc_Mlcsite_ptsGp1 in cyt, Mlc_Mlcsite_ptsGp2 in cyt, Mlc_Mlcsite_ptsIp0 in cyt;\n",
      "  species Mlc_Mlcsite_ptsHp0 in cyt, Mlc_Mlcsite_mlcp1 in cyt, Mlc_Mlcsite_mlcp2 in cyt;\n",
      "  species IICB in cyt, IICB_Mlc in cyt, CYA in cyt, IIA_P in cyt, IIA_P_CYA in cyt;\n",
      "  species mRNA_cyaA in cyt, mRNA_crp in cyt, mRNA_ptsG in cyt, mRNA_ptsH in cyt;\n",
      "  species mRNA_ptsI in cyt, mRNA_crr in cyt, mRNA_mlc in cyt, IICB_P in cyt;\n",
      "  species IIA in cyt, HPr_P in cyt, HPr in cyt, EI_P in cyt, EI in cyt, cAMP in cyt;\n",
      "  species $cyaA in cyt, $cyaA_basal in cyt, $crp in cyt, $crp_basal in cyt;\n",
      "  species $ptsGp1 in cyt, $ptsGp2 in cyt, $ptsHp0 in cyt, $ptsHp1 in cyt;\n",
      "  species $ptsIp0 in cyt, $ptsIp1 in cyt, $crr in cyt, $mlcp1 in cyt, $mlcp2 in cyt;\n",
      "  species $Pyr in cyt, $PEP in cyt, $Glc6P in cyt, $Glucose in cyt, $ATP in cyt;\n",
      "\n",
      "  // Assignment Rules:\n",
      "  TCRPsite_cyaA := CRPsite_cyaA + CRP_cAMP_CRPsite_cyaA;\n",
      "  TCRPsiteI_crp := CRPsiteI_crp + CRP_cAMP_CRPsiteI_crp;\n",
      "  TCRPsiteII_crp := CRPsiteII_crp + CRP_cAMP_CRPsiteII_crp;\n",
      "  TCRPsite_ptsGp1 := CRPsite_ptsGp1 + CRP_cAMP_CRPsite_ptsGp1;\n",
      "  TMlcsite_ptsGp1 := Mlcsite_ptsGp1 + Mlc_Mlcsite_ptsGp1;\n",
      "  TCRPsite_ptsGp2 := CRPsite_ptsGp2 + CRP_cAMP_CRPsite_ptsGp2;\n",
      "  TMlcsite_ptsGp2 := Mlcsite_ptsGp2 + Mlc_Mlcsite_ptsGp2;\n",
      "  TCRPsite_ptsHp0 := CRPsite_ptsHp0 + CRP_cAMP_CRPsite_ptsHp0;\n",
      "  TMlcsite_ptsHp0 := Mlcsite_ptsHp0 + Mlc_Mlcsite_ptsHp0;\n",
      "  TCRPsite_ptsHp1 := CRPsite_ptsHp1 + CRP_cAMP_CRPsite_ptsHp1;\n",
      "  TCRPsite_ptsIp0 := CRPsite_ptsIp0 + CRP_cAMP_CRPsite_ptsIp0;\n",
      "  TMlcsite_ptsIp0 := Mlcsite_ptsIp0 + Mlc_Mlcsite_ptsIp0;\n",
      "  TCRPsite_ptsIp1 := CRPsite_ptsIp1 + CRP_cAMP_CRPsite_ptsIp1;\n",
      "  TCRPsite_mlcp1 := CRPsite_mlcp1 + CRP_cAMP_CRPsite_mlcp1;\n",
      "  TMlcsite_mlcp1 := Mlcsite_mlcp1 + Mlc_Mlcsite_mlcp1;\n",
      "  TCRPsite_mlcp2 := CRPsite_mlcp2 + CRP_cAMP_CRPsite_mlcp2;\n",
      "  TMlcsite_mlcp2 := Mlcsite_mlcp2 + Mlc_Mlcsite_mlcp2;\n",
      "\n",
      "  // Reactions:\n",
      "  binding_CRP_cAMP: CRP + cAMP -> CRP_cAMP; cyt*fast*binding_CRP_cAMP_one_per_M*(binding_CRP_cAMP_Kb^2*(CRP*cAMP)^2 - CRP_cAMP^2);\n",
      "  binding_CRP_cAMP_CRPsite_cyaA: CRP_cAMP + CRPsite_cyaA -> CRP_cAMP_CRPsite_cyaA; cyt*fast*(binding_CRP_cAMP_CRPsite_cyaA_Kb*CRP_cAMP*CRPsite_cyaA - CRP_cAMP_CRPsite_cyaA);\n",
      "  binding_CRP_cAMP_CRPsiteI_crp: CRP_cAMP + CRPsiteI_crp -> CRP_cAMP_CRPsiteI_crp; cyt*fast*(binding_CRP_cAMP_CRPsiteI_crp_Kb*CRP_cAMP*CRPsiteI_crp - CRP_cAMP_CRPsiteI_crp);\n",
      "  binding_CRP_cAMP_CRPsiteII_crp: CRP_cAMP + CRPsiteII_crp -> CRP_cAMP_CRPsiteII_crp; cyt*fast*(binding_CRP_cAMP_CRPsiteII_crp_Kb*CRP_cAMP*CRPsiteII_crp - CRP_cAMP_CRPsiteII_crp);\n",
      "  binding_CRP_cAMP_CRPsite_ptsGp1: CRP_cAMP + CRPsite_ptsGp1 -> CRP_cAMP_CRPsite_ptsGp1; cyt*fast*(binding_CRP_cAMP_CRPsite_ptsGp1_Kb*CRP_cAMP*CRPsite_ptsGp1 - CRP_cAMP_CRPsite_ptsGp1);\n",
      "  binding_CRP_cAMP_CRPsite_ptsGp2: CRP_cAMP + CRPsite_ptsGp2 -> CRP_cAMP_CRPsite_ptsGp2; cyt*fast*(binding_CRP_cAMP_CRPsite_ptsGp2_Kb*CRP_cAMP*CRPsite_ptsGp2 - CRP_cAMP_CRPsite_ptsGp2);\n",
      "  binding_CRP_cAMP_CRPsite_ptsHp0: CRP_cAMP + CRPsite_ptsHp0 -> CRP_cAMP_CRPsite_ptsHp0; cyt*fast*(binding_CRP_cAMP_CRPsite_ptsHp0_Kb*CRP_cAMP*CRPsite_ptsHp0 - CRP_cAMP_CRPsite_ptsHp0);\n",
      "  binding_CRP_cAMP_CRPsite_ptsHp1: CRP_cAMP + CRPsite_ptsHp1 -> CRP_cAMP_CRPsite_ptsHp1; cyt*fast*(binding_CRP_cAMP_CRPsite_ptsHp1_Kb*CRP_cAMP*CRPsite_ptsHp1 - CRP_cAMP_CRPsite_ptsHp1);\n",
      "  binding_CRP_cAMP_CRPsite_ptsIp0: CRP_cAMP + CRPsite_ptsIp0 -> CRP_cAMP_CRPsite_ptsIp0; cyt*fast*(binding_CRP_cAMP_CRPsite_ptsIp0_Kb*CRP_cAMP*CRPsite_ptsIp0 - CRP_cAMP_CRPsite_ptsIp0);\n",
      "  binding_CRP_cAMP_CRPsite_ptsIp1: CRP_cAMP + CRPsite_ptsIp1 -> CRP_cAMP_CRPsite_ptsIp1; cyt*fast*(binding_CRP_cAMP_CRPsite_ptsIp1_Kb*CRP_cAMP*CRPsite_ptsIp1 - CRP_cAMP_CRPsite_ptsIp1);\n",
      "  binding_CRP_cAMP_CRPsite_mlcp1: CRP_cAMP + CRPsite_mlcp1 -> CRP_cAMP_CRPsite_mlcp1; cyt*fast*(binding_CRP_cAMP_CRPsite_mlcp1_Kb*CRP_cAMP*CRPsite_mlcp1 - CRP_cAMP_CRPsite_mlcp1);\n",
      "  binding_CRP_cAMP_CRPsite_mlcp2: CRP_cAMP + CRPsite_mlcp2 -> CRP_cAMP_CRPsite_mlcp2; cyt*fast*(binding_CRP_cAMP_CRPsite_mlcp2_Kb*CRP_cAMP*CRPsite_mlcp2 - CRP_cAMP_CRPsite_mlcp2);\n",
      "  binding_CRP_cAMP_CRPsite_genome: CRP_cAMP + CRPsite_genome -> CRP_cAMP_CRPsite_genome; cyt*fast*(binding_CRP_cAMP_CRPsite_genome_Kb*CRP_cAMP*CRPsite_genome - CRP_cAMP_CRPsite_genome);\n",
      "  binding_Mlc_Mlcsite_ptsGp1: Mlc + Mlcsite_ptsGp1 -> Mlc_Mlcsite_ptsGp1; cyt*fast*(binding_Mlc_Mlcsite_ptsGp1_Kb*Mlc*Mlcsite_ptsGp1 - Mlc_Mlcsite_ptsGp1);\n",
      "  binding_Mlc_Mlcsite_ptsGp2: Mlc + Mlcsite_ptsGp2 -> Mlc_Mlcsite_ptsGp2; cyt*fast*(binding_Mlc_Mlcsite_ptsGp2_Kb*Mlc*Mlcsite_ptsGp2 - Mlc_Mlcsite_ptsGp2);\n",
      "  binding_Mlc_Mlcsite_ptsHp0: Mlc + Mlcsite_ptsHp0 -> Mlc_Mlcsite_ptsHp0; cyt*fast*(binding_Mlc_Mlcsite_ptsHp0_Kb*Mlc*Mlcsite_ptsHp0 - Mlc_Mlcsite_ptsHp0);\n",
      "  binding_Mlc_Mlcsite_ptsIp0: Mlc + Mlcsite_ptsIp0 -> Mlc_Mlcsite_ptsIp0; cyt*fast*(binding_Mlc_Mlcsite_ptsIp0_Kb*Mlc*Mlcsite_ptsIp0 - Mlc_Mlcsite_ptsIp0);\n",
      "  binding_Mlc_Mlcsite_mlcp1: Mlc + Mlcsite_mlcp1 -> Mlc_Mlcsite_mlcp1; cyt*fast*(binding_Mlc_Mlcsite_mlcp1_Kb*Mlc*Mlcsite_mlcp1 - Mlc_Mlcsite_mlcp1);\n",
      "  binding_Mlc_Mlcsite_mlcp2: Mlc + Mlcsite_mlcp2 -> Mlc_Mlcsite_mlcp2; cyt*fast*(binding_Mlc_Mlcsite_mlcp2_Kb*Mlc*Mlcsite_mlcp2 - Mlc_Mlcsite_mlcp2);\n",
      "  binding_IICB_Mlc: IICB + Mlc -> IICB_Mlc; cyt*fast*(binding_IICB_Mlc_Kb*IICB*Mlc - IICB_Mlc);\n",
      "  binding_IIA_P_CYA: CYA + IIA_P -> IIA_P_CYA; cyt*fast*(binding_IIA_P_CYA_Kb*CYA*IIA_P^2 - IIA_P_CYA);\n",
      "  transcription_CRP_cAMP_CRPsite_cyaA_cyaA:  -> mRNA_cyaA; cyt*transcription_CRP_cAMP_CRPsite_cyaA_cyaA_km*(1 - CRP_cAMP_CRPsite_cyaA/TCRPsite_cyaA)*cyaA;\n",
      "  transcription_cyaA_basal:  -> mRNA_cyaA; cyt*transcription_cyaA_basal_km*cyaA_basal;\n",
      "  transcription_CRP_cAMP_CRPsiteI_crp_CRP_cAMP_CRPsiteII_crp_crp:  -> mRNA_crp; cyt*transcription_CRP_cAMP_CRPsiteI_crp_CRP_cAMP_CRPsiteII_crp_crp_km*(1 + transcription_CRP_cAMP_CRPsiteI_crp_CRP_cAMP_CRPsiteII_crp_crp_RelativeactivityatTCRPsiteII_crp*CRP_cAMP_CRPsiteII_crp/TCRPsiteII_crp - CRP_cAMP_CRPsiteI_crp/TCRPsiteI_crp)*crp;\n",
      "  transcription_crp_basal:  -> mRNA_crp; cyt*transcription_crp_basal_km*crp_basal;\n",
      "  transcription_CRP_cAMP_CRPsite_ptsGp1_Mlc_Mlcsite_ptsGp1_ptsGp1:  -> mRNA_ptsG; cyt*transcription_CRP_cAMP_CRPsite_ptsGp1_Mlc_Mlcsite_ptsGp1_ptsGp1_km*(CRP_cAMP_CRPsite_ptsGp1/TCRPsite_ptsGp1)*(1 - Mlc_Mlcsite_ptsGp1/TMlcsite_ptsGp1)*ptsGp1;\n",
      "  transcription_CRP_cAMP_CRPsite_ptsGp2_Mlc_Mlcsite_ptsGp2_ptsGp2:  -> mRNA_ptsG; cyt*transcription_CRP_cAMP_CRPsite_ptsGp2_Mlc_Mlcsite_ptsGp2_ptsGp2_km*(CRP_cAMP_CRPsite_ptsGp2/TCRPsite_ptsGp2)*(1 - Mlc_Mlcsite_ptsGp2/TMlcsite_ptsGp2)*ptsGp2;\n",
      "  transcription_CRP_cAMP_CRPsite_ptsHp0_Mlc_Mlcsite_ptsHp0_ptsHp0:  -> mRNA_ptsH; cyt*transcription_CRP_cAMP_CRPsite_ptsHp0_Mlc_Mlcsite_ptsHp0_ptsHp0_km*(CRP_cAMP_CRPsite_ptsHp0/TCRPsite_ptsHp0)*(1 - Mlc_Mlcsite_ptsHp0/TMlcsite_ptsHp0)*ptsHp0;\n",
      "  transcription_CRP_cAMP_CRPsite_ptsHp1_ptsHp1:  -> mRNA_ptsH; cyt*transcription_CRP_cAMP_CRPsite_ptsHp1_ptsHp1_km*(CRP_cAMP_CRPsite_ptsHp1/TCRPsite_ptsHp1)*ptsHp1;\n",
      "  transcription_CRP_cAMP_CRPsite_ptsIp0_Mlc_Mlcsite_ptsIp0_ptsIp0:  -> mRNA_ptsI; cyt*transcription_CRP_cAMP_CRPsite_ptsIp0_Mlc_Mlcsite_ptsIp0_ptsIp0_km*(CRP_cAMP_CRPsite_ptsIp0/TCRPsite_ptsIp0)*(1 - Mlc_Mlcsite_ptsIp0/TMlcsite_ptsIp0)*ptsIp0;\n",
      "  transcription_CRP_cAMP_CRPsite_ptsIp1_ptsIp1:  -> mRNA_ptsI; cyt*transcription_CRP_cAMP_CRPsite_ptsIp1_ptsIp1_km*(CRP_cAMP_CRPsite_ptsIp1/TCRPsite_ptsIp1)*ptsIp1;\n",
      "  transcription_crr:  -> mRNA_crr; cyt*transcription_crr_km*crr;\n",
      "  transcription_CRP_cAMP_CRPsite_mlcp1_Mlc_Mlcsite_mlcp1_mlcp1:  -> mRNA_mlc; cyt*transcription_CRP_cAMP_CRPsite_mlcp1_Mlc_Mlcsite_mlcp1_mlcp1_km*(1 - CRP_cAMP_CRPsite_mlcp1/TCRPsite_mlcp1)*(1 - Mlc_Mlcsite_mlcp1/TMlcsite_mlcp1)*mlcp1;\n",
      "  transcription_CRP_cAMP_CRPsite_mlcp2_Mlc_Mlcsite_mlcp2_mlcp2:  -> mRNA_mlc; cyt*transcription_CRP_cAMP_CRPsite_mlcp2_Mlc_Mlcsite_mlcp2_mlcp2_km*(CRP_cAMP_CRPsite_mlcp2/TCRPsite_mlcp2)*(1 - Mlc_Mlcsite_mlcp2/TMlcsite_mlcp2)*mlcp2;\n",
      "  decomposition_mRNA_cyaA: mRNA_cyaA -> ; cyt*decomposition_mRNA_cyaA_kmd*mRNA_cyaA;\n",
      "  decomposition_mRNA_crp: mRNA_crp -> ; cyt*decomposition_mRNA_crp_kmd*mRNA_crp;\n",
      "  decomposition_mRNA_ptsG: mRNA_ptsG -> ; cyt*decomposition_mRNA_ptsG_kmd*mRNA_ptsG;\n",
      "  decomposition_mRNA_ptsH: mRNA_ptsH -> ; cyt*decomposition_mRNA_ptsH_kmd*mRNA_ptsH;\n",
      "  decomposition_mRNA_ptsI: mRNA_ptsI -> ; cyt*decomposition_mRNA_ptsI_kmd*mRNA_ptsI;\n",
      "  decomposition_mRNA_crr: mRNA_crr -> ; cyt*decomposition_mRNA_crr_kmd*mRNA_crr;\n",
      "  decomposition_mRNA_mlc: mRNA_mlc -> ; cyt*decomposition_mRNA_mlc_kmd*mRNA_mlc;\n",
      "  translation_mRNA_cyaA:  -> CYA; cyt*translation_mRNA_cyaA_kp*mRNA_cyaA;\n",
      "  translation_mRNA_crp:  -> CRP; cyt*translation_mRNA_crp_kp*mRNA_crp;\n",
      "  translation_mRNA_ptsG:  -> IICB; cyt*translation_mRNA_ptsG_kp*mRNA_ptsG;\n",
      "  translation_mRNA_ptsH:  -> HPr; cyt*translation_mRNA_ptsH_kp*mRNA_ptsH;\n",
      "  translation_mRNA_ptsI:  -> EI; cyt*translation_mRNA_ptsI_kp*mRNA_ptsI;\n",
      "  translation_mRNA_crr:  -> IIA; cyt*translation_mRNA_crr_kp*mRNA_crr;\n",
      "  translation_mlc:  -> Mlc; cyt*translation_mlc_kp*mRNA_mlc;\n",
      "  decomposition_CYA: CYA -> ; cyt*decomposition_CYA_kpd*CYA;\n",
      "  decomposition_CRP: CRP -> ; cyt*decomposition_CRP_kpd*CRP;\n",
      "  decomposition_Mlc: Mlc -> ; cyt*decomposition_Mlc_kpd*Mlc;\n",
      "  decomposition_cAMP: cAMP -> ; cyt*decomposition_cAMP_kpd*cAMP;\n",
      "  decomposition_CRP_cAMP: CRP_cAMP -> ; cyt*decomposition_CRP_cAMP_kpd*CRP_cAMP;\n",
      "  decomposition_CRP_cAMP_CRPsite_cyaA: CRP_cAMP_CRPsite_cyaA -> CRPsite_cyaA; cyt*decomposition_CRP_cAMP_CRPsite_cyaA_kpd*CRP_cAMP_CRPsite_cyaA;\n",
      "  decomposition_CRP_cAMP_CRPsiteI_crp: CRP_cAMP_CRPsiteI_crp -> CRPsiteI_crp; cyt*decomposition_CRP_cAMP_CRPsiteI_crp_kpd*CRP_cAMP_CRPsiteI_crp;\n",
      "  decomposition_CRP_cAMP_CRPsiteII_crp: CRP_cAMP_CRPsiteII_crp -> CRPsiteII_crp; cyt*decomposition_CRP_cAMP_CRPsiteII_crp_kpd*CRP_cAMP_CRPsiteII_crp;\n",
      "  decomposition_CRP_cAMP_CRPsite_ptsGp1: CRP_cAMP_CRPsite_ptsGp1 -> CRPsite_ptsGp1; cyt*decomposition_CRP_cAMP_CRPsite_ptsGp1_kpd*CRP_cAMP_CRPsite_ptsGp1;\n",
      "  decomposition_CRP_cAMP_CRPsite_ptsGp2: CRP_cAMP_CRPsite_ptsGp2 -> CRPsite_ptsGp2; cyt*decomposition_CRP_cAMP_CRPsite_ptsGp2_kpd*CRP_cAMP_CRPsite_ptsGp2;\n",
      "  decomposition_CRP_cAMP_CRPsite_ptsHp0: CRP_cAMP_CRPsite_ptsHp0 -> CRPsite_ptsHp0; cyt*decomposition_CRP_cAMP_CRPsite_ptsHp0_kpd*CRP_cAMP_CRPsite_ptsHp0;\n",
      "  decomposition_CRP_cAMP_CRPsite_ptsHp1: CRP_cAMP_CRPsite_ptsHp1 -> CRPsite_ptsHp1; cyt*decomposition_CRP_cAMP_CRPsite_ptsHp1_kpd*CRP_cAMP_CRPsite_ptsHp1;\n",
      "  decomposition_CRP_cAMP_CRPsite_ptsIp0: CRP_cAMP_CRPsite_ptsIp0 -> CRPsite_ptsIp0; cyt*decomposition_CRP_cAMP_CRPsite_ptsIp0_kpd*CRP_cAMP_CRPsite_ptsIp0;\n",
      "  decomposition_CRP_cAMP_CRPsite_ptsIp1: CRP_cAMP_CRPsite_ptsIp1 -> CRPsite_ptsIp1; cyt*decomposition_CRP_cAMP_CRPsite_ptsIp1_kpd*CRP_cAMP_CRPsite_ptsIp1;\n",
      "  decomposition_CRP_cAMP_CRPsite_mlcp1: CRP_cAMP_CRPsite_mlcp1 -> CRPsite_mlcp1; cyt*decomposition_CRP_cAMP_CRPsite_mlcp1_kpd*CRP_cAMP_CRPsite_mlcp1;\n",
      "  decomposition_CRP_cAMP_CRPsite_mlcp2: CRP_cAMP_CRPsite_mlcp2 -> CRPsite_mlcp2; cyt*decomposition_CRP_cAMP_CRPsite_mlcp2_kpd*CRP_cAMP_CRPsite_mlcp2;\n",
      "  decomposition_CRP_cAMP_CRPsite_genome: CRP_cAMP_CRPsite_genome -> CRPsite_genome; cyt*decomposition_CRP_cAMP_CRPsite_genome_kpd*CRP_cAMP_CRPsite_genome;\n",
      "  decomposition_Mlc_Mlcsite_ptsGp1: Mlc_Mlcsite_ptsGp1 -> Mlcsite_ptsGp1; cyt*decomposition_Mlc_Mlcsite_ptsGp1_kpd*Mlc_Mlcsite_ptsGp1;\n",
      "  decomposition_Mlc_Mlcsite_ptsGp2: Mlc_Mlcsite_ptsGp2 -> Mlcsite_ptsGp2; cyt*decomposition_Mlc_Mlcsite_ptsGp2_kpd*Mlc_Mlcsite_ptsGp2;\n",
      "  decomposition_Mlc_Mlcsite_ptsHp0: Mlc_Mlcsite_ptsHp0 -> Mlcsite_ptsHp0; cyt*decomposition_Mlc_Mlcsite_ptsHp0_kpd*Mlc_Mlcsite_ptsHp0;\n",
      "  decomposition_Mlc_Mlcsite_ptsIp0: Mlc_Mlcsite_ptsIp0 -> Mlcsite_ptsIp0; cyt*decomposition_Mlc_Mlcsite_ptsIp0_kpd*Mlc_Mlcsite_ptsIp0;\n",
      "  decomposition_Mlc_Mlcsite_mlcp1: Mlc_Mlcsite_mlcp1 -> Mlcsite_mlcp1; cyt*decomposition_Mlc_Mlcsite_mlcp1_kpd*Mlc_Mlcsite_mlcp1;\n",
      "  decomposition_Mlc_Mlcsite_mlcp2: Mlc_Mlcsite_mlcp2 -> Mlcsite_mlcp2; cyt*decomposition_Mlc_Mlcsite_mlcp2_kpd*Mlc_Mlcsite_mlcp2;\n",
      "  decomposition_IICB_Mlc: IICB_Mlc -> ; cyt*decomposition_IICB_Mlc_kpd*IICB_Mlc;\n",
      "  decomposition_EI_P: EI_P -> ; cyt*decomposition_EI_P_kpd*EI_P;\n",
      "  decomposition_EI: EI -> ; cyt*decomposition_EI_kpd*EI;\n",
      "  decomposition_HPr_P: HPr_P -> ; cyt*decomposition_HPr_P_kpd*HPr_P;\n",
      "  decomposition_HPr: HPr -> ; cyt*decomposition_HPr_kpd*HPr;\n",
      "  decomposition_IIA_P: IIA_P -> ; cyt*decomposition_IIA_P_kpd*IIA_P;\n",
      "  decomposition_IIA: IIA -> ; cyt*decomposition_IIA_kpd*IIA;\n",
      "  decomposition_IICB_P: IICB_P -> ; cyt*decomposition_IICB_P_kpd*IICB_P;\n",
      "  decomposition_IICB: IICB -> ; cyt*decomposition_IICB_kpd*IICB;\n",
      "  PTS2for: HPr + EI_P -> HPr_P + EI; cyt*PTS2for_kx*HPr*EI_P;\n",
      "  PTS2rev: HPr_P + EI -> HPr + EI_P; cyt*PTS2rev_kx*EI*HPr_P;\n",
      "  PTS3for: IIA + HPr_P -> IIA_P + HPr; cyt*PTS3for_kx*IIA*HPr_P;\n",
      "  PTS3rev: IIA_P + HPr -> IIA + HPr_P; cyt*PTS3rev_kx*HPr*IIA_P;\n",
      "  PTS4for: IICB + IIA_P -> IICB_P + IIA; cyt*PTS4for_kx*IICB*IIA_P;\n",
      "  PTS4rev: IICB_P + IIA -> IICB + IIA_P; cyt*PTS4rev_kx*IIA*IICB_P;\n",
      "  reaction_CYA_ATP: $ATP -> cAMP; cyt*(reaction_CYA_ATP_Q*CYA*ATP/(reaction_CYA_ATP_Kmich + ATP));\n",
      "  reaction_IIA_P_CYA_ATP: $ATP -> cAMP; cyt*(reaction_IIA_P_CYA_ATP_Q*IIA_P_CYA*ATP/(reaction_IIA_P_CYA_ATP_Kmich + ATP));\n",
      "  reaction_EI_PEP: EI + $PEP -> EI_P + $Pyr; cyt*(2*reaction_EI_PEP_Q*EI*PEP^2/(reaction_EI_PEP_Kmich^2 + PEP^2));\n",
      "  reaction_EIP_Pyr: EI_P + $Pyr -> EI + $PEP; cyt*(2*reaction_EIP_Pyr_Q*EI_P*Pyr^2/(reaction_EIP_Pyr_Kmich^2 + Pyr^2));\n",
      "  reaction_IICB_P_Glucose: IICB_P + $Glucose -> IICB + $Glc6P; cyt*(reaction_IICB_P_Glucose_Q*IICB_P*Glucose/(reaction_IICB_P_Glucose_Kmich + Glucose));\n",
      "  reaction_IICB_Glc6P: IICB + $Glc6P -> IICB_P + $Glucose; cyt*(reaction_IICB_Glc6P_Q*IICB*Glc6P/(reaction_IICB_Glc6P_Kmich + Glc6P));\n",
      "\n",
      "  // Events:\n",
      "  _E0: at time >= 500: Glucose = 2e-9;\n",
      "\n",
      "  // Species initializations:\n",
      "  CRP = 5.4207e-06;\n",
      "  CRPsiteI_crp = 7.4368e-11;\n",
      "  CRPsiteII_crp = 1.9047e-10;\n",
      "  CRPsite_cyaA = 3.1103e-11;\n",
      "  CRPsite_genome = 3.6756e-09;\n",
      "  CRPsite_ptsGp1 = 1.2021e-10;\n",
      "  CRPsite_ptsGp2 = 1.2021e-10;\n",
      "  CRPsite_ptsHp0 = 1.2021e-10;\n",
      "  CRPsite_ptsHp1 = 1.2021e-10;\n",
      "  CRPsite_ptsIp0 = 1.2021e-10;\n",
      "  CRPsite_ptsIp1 = 1.2021e-10;\n",
      "  CRPsite_mlcp1 = 1.2021e-10;\n",
      "  CRPsite_mlcp2 = 1.2021e-10;\n",
      "  Mlc = 5.5172e-10;\n",
      "  Mlcsite_mlcp1 = 2.4267e-10;\n",
      "  Mlcsite_mlcp2 = 2.4282e-10;\n",
      "  Mlcsite_ptsGp1 = 2.1885e-10;\n",
      "  Mlcsite_ptsGp2 = 2.1885e-10;\n",
      "  Mlcsite_ptsHp0 = 2.1885e-10;\n",
      "  Mlcsite_ptsIp0 = 2.1885e-10;\n",
      "  CRP_cAMP = 1.0214e-07;\n",
      "  CRP_cAMP_CRPsiteI_crp = 1.6863e-10;\n",
      "  CRP_cAMP_CRPsiteII_crp = 5.2529e-11;\n",
      "  CRP_cAMP_CRPsite_cyaA = 2.119e-10;\n",
      "  CRP_cAMP_CRPsite_genome = 3.7544e-09;\n",
      "  CRP_cAMP_CRPsite_ptsGp1 = 1.2279e-10;\n",
      "  CRP_cAMP_CRPsite_ptsGp2 = 1.2279e-10;\n",
      "  CRP_cAMP_CRPsite_ptsHp0 = 1.2279e-10;\n",
      "  CRP_cAMP_CRPsite_ptsHp1 = 1.2279e-10;\n",
      "  CRP_cAMP_CRPsite_ptsIp0 = 1.2279e-10;\n",
      "  CRP_cAMP_CRPsite_ptsIp1 = 1.2279e-10;\n",
      "  CRP_cAMP_CRPsite_mlcp1 = 1.2279e-10;\n",
      "  CRP_cAMP_CRPsite_mlcp2 = 1.2279e-10;\n",
      "  Mlc_Mlcsite_ptsGp1 = 2.4149e-11;\n",
      "  Mlc_Mlcsite_ptsGp2 = 2.4149e-11;\n",
      "  Mlc_Mlcsite_ptsIp0 = 2.4149e-11;\n",
      "  Mlc_Mlcsite_ptsHp0 = 2.4149e-11;\n",
      "  Mlc_Mlcsite_mlcp1 = 3.2535e-13;\n",
      "  Mlc_Mlcsite_mlcp2 = 1.8086e-13;\n",
      "  IICB = 4.2844e-05;\n",
      "  IICB_Mlc = 1.6546e-07;\n",
      "  CYA = 1.4934e-06;\n",
      "  IIA_P = 7.0094e-06;\n",
      "  IIA_P_CYA = 7.3371e-09;\n",
      "  mRNA_cyaA = 1.3643e-08;\n",
      "  mRNA_crp = 5.0254e-08;\n",
      "  mRNA_ptsG = 4.5559e-07;\n",
      "  mRNA_ptsH = 1.1411e-07;\n",
      "  mRNA_ptsI = 1.0038e-08;\n",
      "  mRNA_crr = 9.3861e-07;\n",
      "  mRNA_mlc = 1.5101e-09;\n",
      "  IICB_P = 7.1055e-06;\n",
      "  IIA = 9.623e-05;\n",
      "  HPr_P = 7.5867e-07;\n",
      "  HPr = 1.1793e-05;\n",
      "  EI_P = 2.4319e-07;\n",
      "  EI = 8.6098e-07;\n",
      "  cAMP = 4.7107e-07;\n",
      "  cyaA = 2.43e-10;\n",
      "  cyaA_basal = 2.43e-10;\n",
      "  crp = 2.43e-10;\n",
      "  crp_basal = 2.43e-10;\n",
      "  ptsGp1 = 2.43e-10;\n",
      "  ptsGp2 = 2.43e-10;\n",
      "  ptsHp0 = 2.43e-10;\n",
      "  ptsHp1 = 2.43e-10;\n",
      "  ptsIp0 = 2.43e-10;\n",
      "  ptsIp1 = 2.43e-10;\n",
      "  crr = 2.43e-10;\n",
      "  mlcp1 = 2.43e-10;\n",
      "  mlcp2 = 2.43e-10;\n",
      "  Pyr = 0.00267;\n",
      "  PEP = 0.00267;\n",
      "  Glc6P = 0.00148;\n",
      "  Glucose = 0.2;\n",
      "  ATP = 0.0069942;\n",
      "\n",
      "  // Compartment initializations:\n",
      "  cyt = 1;\n",
      "\n",
      "  // Variable initializations:\n",
      "  fast = 1000000000;\n",
      "  fast has per_min;\n",
      "  TCRPsite_cyaA has M;\n",
      "  TCRPsiteI_crp has M;\n",
      "  TCRPsiteII_crp has M;\n",
      "  TCRPsite_ptsGp1 has M;\n",
      "  TMlcsite_ptsGp1 has M;\n",
      "  TCRPsite_ptsGp2 has M;\n",
      "  TMlcsite_ptsGp2 has M;\n",
      "  TCRPsite_ptsHp0 has M;\n",
      "  TMlcsite_ptsHp0 has M;\n",
      "  TCRPsite_ptsHp1 has M;\n",
      "  TCRPsite_ptsIp0 has M;\n",
      "  TMlcsite_ptsIp0 has M;\n",
      "  TCRPsite_ptsIp1 has M;\n",
      "  TCRPsite_mlcp1 has M;\n",
      "  TMlcsite_mlcp1 has M;\n",
      "  TCRPsite_mlcp2 has M;\n",
      "  TMlcsite_mlcp2 has M;\n",
      "  binding_CRP_cAMP_Kb = 40000;\n",
      "  binding_CRP_cAMP_Kb has per_M;\n",
      "  binding_CRP_cAMP_one_per_M = 1;\n",
      "  binding_CRP_cAMP_one_per_M has per_M;\n",
      "  binding_CRP_cAMP_CRPsite_cyaA_Kb = 66700000;\n",
      "  binding_CRP_cAMP_CRPsite_cyaA_Kb has per_M;\n",
      "  binding_CRP_cAMP_CRPsiteI_crp_Kb = 22200000;\n",
      "  binding_CRP_cAMP_CRPsiteI_crp_Kb has per_M;\n",
      "  binding_CRP_cAMP_CRPsiteII_crp_Kb = 2700000;\n",
      "  binding_CRP_cAMP_CRPsiteII_crp_Kb has per_M;\n",
      "  binding_CRP_cAMP_CRPsite_ptsGp1_Kb = 10000000;\n",
      "  binding_CRP_cAMP_CRPsite_ptsGp1_Kb has per_M;\n",
      "  binding_CRP_cAMP_CRPsite_ptsGp2_Kb = 10000000;\n",
      "  binding_CRP_cAMP_CRPsite_ptsGp2_Kb has per_M;\n",
      "  binding_CRP_cAMP_CRPsite_ptsHp0_Kb = 10000000;\n",
      "  binding_CRP_cAMP_CRPsite_ptsHp0_Kb has per_M;\n",
      "  binding_CRP_cAMP_CRPsite_ptsHp1_Kb = 10000000;\n",
      "  binding_CRP_cAMP_CRPsite_ptsHp1_Kb has per_M;\n",
      "  binding_CRP_cAMP_CRPsite_ptsIp0_Kb = 10000000;\n",
      "  binding_CRP_cAMP_CRPsite_ptsIp0_Kb has per_M;\n",
      "  binding_CRP_cAMP_CRPsite_ptsIp1_Kb = 10000000;\n",
      "  binding_CRP_cAMP_CRPsite_ptsIp1_Kb has per_M;\n",
      "  binding_CRP_cAMP_CRPsite_mlcp1_Kb = 10000000;\n",
      "  binding_CRP_cAMP_CRPsite_mlcp1_Kb has per_M;\n",
      "  binding_CRP_cAMP_CRPsite_mlcp2_Kb = 10000000;\n",
      "  binding_CRP_cAMP_CRPsite_mlcp2_Kb has per_M;\n",
      "  binding_CRP_cAMP_CRPsite_genome_Kb = 10000000;\n",
      "  binding_CRP_cAMP_CRPsite_genome_Kb has per_M;\n",
      "  binding_Mlc_Mlcsite_ptsGp1_Kb = 200000000;\n",
      "  binding_Mlc_Mlcsite_ptsGp1_Kb has per_M;\n",
      "  binding_Mlc_Mlcsite_ptsGp2_Kb = 200000000;\n",
      "  binding_Mlc_Mlcsite_ptsGp2_Kb has per_M;\n",
      "  binding_Mlc_Mlcsite_ptsHp0_Kb = 200000000;\n",
      "  binding_Mlc_Mlcsite_ptsHp0_Kb has per_M;\n",
      "  binding_Mlc_Mlcsite_ptsIp0_Kb = 200000000;\n",
      "  binding_Mlc_Mlcsite_ptsIp0_Kb has per_M;\n",
      "  binding_Mlc_Mlcsite_mlcp1_Kb = 2430000;\n",
      "  binding_Mlc_Mlcsite_mlcp1_Kb has per_M;\n",
      "  binding_Mlc_Mlcsite_mlcp2_Kb = 1350000;\n",
      "  binding_Mlc_Mlcsite_mlcp2_Kb has per_M;\n",
      "  binding_IICB_Mlc_Kb = 7000000;\n",
      "  binding_IICB_Mlc_Kb has per_M;\n",
      "  binding_IIA_P_CYA_Kb = 100000000;\n",
      "  binding_IIA_P_CYA_Kb has per_M_squared;\n",
      "  transcription_CRP_cAMP_CRPsite_cyaA_cyaA_km = 45.26;\n",
      "  transcription_CRP_cAMP_CRPsite_cyaA_cyaA_km has per_min;\n",
      "  transcription_cyaA_basal_km = 1.281;\n",
      "  transcription_cyaA_basal_km has per_min;\n",
      "  transcription_CRP_cAMP_CRPsiteI_crp_CRP_cAMP_CRPsiteII_crp_crp_km = 20;\n",
      "  transcription_CRP_cAMP_CRPsiteI_crp_CRP_cAMP_CRPsiteII_crp_crp_km has per_min;\n",
      "  transcription_CRP_cAMP_CRPsiteI_crp_CRP_cAMP_CRPsiteII_crp_crp_RelativeactivityatTCRPsiteII_crp = 5;\n",
      "  transcription_CRP_cAMP_CRPsiteI_crp_CRP_cAMP_CRPsiteII_crp_crp_RelativeactivityatTCRPsiteII_crp has dimensionless;\n",
      "  transcription_crp_basal_km = 1.00886;\n",
      "  transcription_crp_basal_km has per_min;\n",
      "  transcription_CRP_cAMP_CRPsite_ptsGp1_Mlc_Mlcsite_ptsGp1_ptsGp1_km = 892;\n",
      "  transcription_CRP_cAMP_CRPsite_ptsGp1_Mlc_Mlcsite_ptsGp1_ptsGp1_km has per_min;\n",
      "  transcription_CRP_cAMP_CRPsite_ptsGp2_Mlc_Mlcsite_ptsGp2_ptsGp2_km = 2;\n",
      "  transcription_CRP_cAMP_CRPsite_ptsGp2_Mlc_Mlcsite_ptsGp2_ptsGp2_km has per_min;\n",
      "  transcription_CRP_cAMP_CRPsite_ptsHp0_Mlc_Mlcsite_ptsHp0_ptsHp0_km = 71.8;\n",
      "  transcription_CRP_cAMP_CRPsite_ptsHp0_Mlc_Mlcsite_ptsHp0_ptsHp0_km has per_min;\n",
      "  transcription_CRP_cAMP_CRPsite_ptsHp1_ptsHp1_km = 17.95;\n",
      "  transcription_CRP_cAMP_CRPsite_ptsHp1_ptsHp1_km has per_min;\n",
      "  transcription_CRP_cAMP_CRPsite_ptsIp0_Mlc_Mlcsite_ptsIp0_ptsIp0_km = 6.244;\n",
      "  transcription_CRP_cAMP_CRPsite_ptsIp0_Mlc_Mlcsite_ptsIp0_ptsIp0_km has per_min;\n",
      "  transcription_CRP_cAMP_CRPsite_ptsIp1_ptsIp1_km = 0.892;\n",
      "  transcription_CRP_cAMP_CRPsite_ptsIp1_ptsIp1_km has per_min;\n",
      "  transcription_crr_km = 334.5;\n",
      "  transcription_crr_km has per_min;\n",
      "  transcription_CRP_cAMP_CRPsite_mlcp1_Mlc_Mlcsite_mlcp1_mlcp1_km = 1.875;\n",
      "  transcription_CRP_cAMP_CRPsite_mlcp1_Mlc_Mlcsite_mlcp1_mlcp1_km has per_min;\n",
      "  transcription_CRP_cAMP_CRPsite_mlcp2_Mlc_Mlcsite_mlcp2_mlcp2_km = 1.875;\n",
      "  transcription_CRP_cAMP_CRPsite_mlcp2_Mlc_Mlcsite_mlcp2_mlcp2_km has per_min;\n",
      "  decomposition_mRNA_cyaA_kmd = 0.126;\n",
      "  decomposition_mRNA_cyaA_kmd has per_min;\n",
      "  decomposition_mRNA_crp_kmd = 0.139;\n",
      "  decomposition_mRNA_crp_kmd has per_min;\n",
      "  decomposition_mRNA_ptsG_kmd = 0.217;\n",
      "  decomposition_mRNA_ptsG_kmd has per_min;\n",
      "  decomposition_mRNA_ptsH_kmd = 0.0889;\n",
      "  decomposition_mRNA_ptsH_kmd has per_min;\n",
      "  decomposition_mRNA_ptsI_kmd = 0.0797;\n",
      "  decomposition_mRNA_ptsI_kmd has per_min;\n",
      "  decomposition_mRNA_crr_kmd = 0.0866;\n",
      "  decomposition_mRNA_crr_kmd has per_min;\n",
      "  decomposition_mRNA_mlc_kmd = 0.3014;\n",
      "  decomposition_mRNA_mlc_kmd has per_min;\n",
      "  translation_mRNA_cyaA_kp = 11;\n",
      "  translation_mRNA_cyaA_kp has per_min;\n",
      "  translation_mRNA_crp_kp = 11;\n",
      "  translation_mRNA_crp_kp has per_min;\n",
      "  translation_mRNA_ptsG_kp = 11;\n",
      "  translation_mRNA_ptsG_kp has per_min;\n",
      "  translation_mRNA_ptsH_kp = 11;\n",
      "  translation_mRNA_ptsH_kp has per_min;\n",
      "  translation_mRNA_ptsI_kp = 11;\n",
      "  translation_mRNA_ptsI_kp has per_min;\n",
      "  translation_mRNA_crr_kp = 11;\n",
      "  translation_mRNA_crr_kp has per_min;\n",
      "  translation_mlc_kp = 11;\n",
      "  translation_mlc_kp has per_min;\n",
      "  decomposition_CYA_kpd = 0.1;\n",
      "  decomposition_CYA_kpd has per_min;\n",
      "  decomposition_CRP_kpd = 0.1;\n",
      "  decomposition_CRP_kpd has per_min;\n",
      "  decomposition_Mlc_kpd = 0.1;\n",
      "  decomposition_Mlc_kpd has per_min;\n",
      "  decomposition_cAMP_kpd = 400;\n",
      "  decomposition_cAMP_kpd has per_min;\n",
      "  decomposition_CRP_cAMP_kpd = 0.1;\n",
      "  decomposition_CRP_cAMP_kpd has per_min;\n",
      "  decomposition_CRP_cAMP_CRPsite_cyaA_kpd = 0.1;\n",
      "  decomposition_CRP_cAMP_CRPsite_cyaA_kpd has per_min;\n",
      "  decomposition_CRP_cAMP_CRPsiteI_crp_kpd = 0.1;\n",
      "  decomposition_CRP_cAMP_CRPsiteI_crp_kpd has per_min;\n",
      "  decomposition_CRP_cAMP_CRPsiteII_crp_kpd = 0.1;\n",
      "  decomposition_CRP_cAMP_CRPsiteII_crp_kpd has per_min;\n",
      "  decomposition_CRP_cAMP_CRPsite_ptsGp1_kpd = 0.1;\n",
      "  decomposition_CRP_cAMP_CRPsite_ptsGp1_kpd has per_min;\n",
      "  decomposition_CRP_cAMP_CRPsite_ptsGp2_kpd = 0.1;\n",
      "  decomposition_CRP_cAMP_CRPsite_ptsGp2_kpd has per_min;\n",
      "  decomposition_CRP_cAMP_CRPsite_ptsHp0_kpd = 0.1;\n",
      "  decomposition_CRP_cAMP_CRPsite_ptsHp0_kpd has per_min;\n",
      "  decomposition_CRP_cAMP_CRPsite_ptsHp1_kpd = 0.1;\n",
      "  decomposition_CRP_cAMP_CRPsite_ptsHp1_kpd has per_min;\n",
      "  decomposition_CRP_cAMP_CRPsite_ptsIp0_kpd = 0.1;\n",
      "  decomposition_CRP_cAMP_CRPsite_ptsIp0_kpd has per_min;\n",
      "  decomposition_CRP_cAMP_CRPsite_ptsIp1_kpd = 0.1;\n",
      "  decomposition_CRP_cAMP_CRPsite_ptsIp1_kpd has per_min;\n",
      "  decomposition_CRP_cAMP_CRPsite_mlcp1_kpd = 0.1;\n",
      "  decomposition_CRP_cAMP_CRPsite_mlcp1_kpd has per_min;\n",
      "  decomposition_CRP_cAMP_CRPsite_mlcp2_kpd = 0.1;\n",
      "  decomposition_CRP_cAMP_CRPsite_mlcp2_kpd has per_min;\n",
      "  decomposition_CRP_cAMP_CRPsite_genome_kpd = 0.1;\n",
      "  decomposition_CRP_cAMP_CRPsite_genome_kpd has per_min;\n",
      "  decomposition_Mlc_Mlcsite_ptsGp1_kpd = 0.1;\n",
      "  decomposition_Mlc_Mlcsite_ptsGp1_kpd has per_min;\n",
      "  decomposition_Mlc_Mlcsite_ptsGp2_kpd = 0.1;\n",
      "  decomposition_Mlc_Mlcsite_ptsGp2_kpd has per_min;\n",
      "  decomposition_Mlc_Mlcsite_ptsHp0_kpd = 0.1;\n",
      "  decomposition_Mlc_Mlcsite_ptsHp0_kpd has per_min;\n",
      "  decomposition_Mlc_Mlcsite_ptsIp0_kpd = 0.1;\n",
      "  decomposition_Mlc_Mlcsite_ptsIp0_kpd has per_min;\n",
      "  decomposition_Mlc_Mlcsite_mlcp1_kpd = 0.1;\n",
      "  decomposition_Mlc_Mlcsite_mlcp1_kpd has per_min;\n",
      "  decomposition_Mlc_Mlcsite_mlcp2_kpd = 0.1;\n",
      "  decomposition_Mlc_Mlcsite_mlcp2_kpd has per_min;\n",
      "  decomposition_IICB_Mlc_kpd = 0.1;\n",
      "  decomposition_IICB_Mlc_kpd has per_min;\n",
      "  decomposition_EI_P_kpd = 0.1;\n",
      "  decomposition_EI_P_kpd has per_min;\n",
      "  decomposition_EI_kpd = 0.1;\n",
      "  decomposition_EI_kpd has per_min;\n",
      "  decomposition_HPr_P_kpd = 0.1;\n",
      "  decomposition_HPr_P_kpd has per_min;\n",
      "  decomposition_HPr_kpd = 0.1;\n",
      "  decomposition_HPr_kpd has per_min;\n",
      "  decomposition_IIA_P_kpd = 0.1;\n",
      "  decomposition_IIA_P_kpd has per_min;\n",
      "  decomposition_IIA_kpd = 0.1;\n",
      "  decomposition_IIA_kpd has per_min;\n",
      "  decomposition_IICB_P_kpd = 0.1;\n",
      "  decomposition_IICB_P_kpd has per_min;\n",
      "  decomposition_IICB_kpd = 0.1;\n",
      "  decomposition_IICB_kpd has per_min;\n",
      "  PTS2for_kx = 12000000000;\n",
      "  PTS2for_kx has per_M_per_min;\n",
      "  PTS2rev_kx = 480000000;\n",
      "  PTS2rev_kx has per_M_per_min;\n",
      "  PTS3for_kx = 3660000000;\n",
      "  PTS3for_kx has per_M_per_min;\n",
      "  PTS3rev_kx = 2820000000;\n",
      "  PTS3rev_kx has per_M_per_min;\n",
      "  PTS4for_kx = 660000000;\n",
      "  PTS4for_kx has per_M_per_min;\n",
      "  PTS4rev_kx = 240000000;\n",
      "  PTS4rev_kx has per_M_per_min;\n",
      "  reaction_CYA_ATP_Kmich = 0.001;\n",
      "  reaction_CYA_ATP_Kmich has M;\n",
      "  reaction_CYA_ATP_Q = 100;\n",
      "  reaction_CYA_ATP_Q has per_min;\n",
      "  reaction_IIA_P_CYA_ATP_Kmich = 0.001;\n",
      "  reaction_IIA_P_CYA_ATP_Kmich has M;\n",
      "  reaction_IIA_P_CYA_ATP_Q = 9000;\n",
      "  reaction_IIA_P_CYA_ATP_Q has per_min;\n",
      "  reaction_EI_PEP_Kmich = 0.0003;\n",
      "  reaction_EI_PEP_Kmich has M;\n",
      "  reaction_EI_PEP_Q = 108000;\n",
      "  reaction_EI_PEP_Q has per_min;\n",
      "  reaction_EIP_Pyr_Kmich = 0.002;\n",
      "  reaction_EIP_Pyr_Kmich has M;\n",
      "  reaction_EIP_Pyr_Q = 480000;\n",
      "  reaction_EIP_Pyr_Q has per_min;\n",
      "  reaction_IICB_P_Glucose_Kmich = 2e-05;\n",
      "  reaction_IICB_P_Glucose_Kmich has M;\n",
      "  reaction_IICB_P_Glucose_Q = 4800;\n",
      "  reaction_IICB_P_Glucose_Q has per_min;\n",
      "  reaction_IICB_Glc6P_Kmich = 9.61;\n",
      "  reaction_IICB_Glc6P_Kmich has M;\n",
      "  reaction_IICB_Glc6P_Q = 389;\n",
      "  reaction_IICB_Glc6P_Q has per_min;\n",
      "\n",
      "  // Other declarations:\n",
      "  var TCRPsite_cyaA, TCRPsiteI_crp, TCRPsiteII_crp, TCRPsite_ptsGp1, TMlcsite_ptsGp1;\n",
      "  var TCRPsite_ptsGp2, TMlcsite_ptsGp2, TCRPsite_ptsHp0, TMlcsite_ptsHp0;\n",
      "  var TCRPsite_ptsHp1, TCRPsite_ptsIp0, TMlcsite_ptsIp0, TCRPsite_ptsIp1;\n",
      "  var TCRPsite_mlcp1, TMlcsite_mlcp1, TCRPsite_mlcp2, TMlcsite_mlcp2;\n",
      "  const cyt, fast;\n",
      "\n",
      "  // Unit definitions:\n",
      "  unit substance = mole;\n",
      "  unit time_unit = 60 second;\n",
      "  unit volume = litre;\n",
      "  unit M = mole / litre;\n",
      "  unit per_min = 1 / 60 second;\n",
      "  unit per_M = litre / mole;\n",
      "  unit per_M_per_min = litre / (mole * 60 second);\n",
      "  unit per_M_squared = litre^2 / mole^2;\n",
      "\n",
      "  // CV terms:\n",
      "  cyt identity \"http://identifiers.org/go/GO:0005737\"\n",
      "  CRP identity \"http://identifiers.org/uniprot/P0ACJ8\"\n",
      "  CRPsiteI_crp hypernym \"http://identifiers.org/uniprot/P0ACJ8\"\n",
      "  CRPsiteII_crp hypernym \"http://identifiers.org/uniprot/P0ACJ8\"\n",
      "  CRPsite_cyaA hypernym \"http://identifiers.org/uniprot/P0ACJ8\"\n",
      "  CRPsite_cyaA parthood \"http://identifiers.org/uniprot/P00936\"\n",
      "  CRPsite_genome hypernym \"http://identifiers.org/uniprot/P0ACJ8\"\n",
      "  CRPsite_ptsGp1 hypernym \"http://identifiers.org/uniprot/P0ACJ8\"\n",
      "  CRPsite_ptsGp1 part \"http://identifiers.org/uniprot/C3TDU2\"\n",
      "  CRPsite_ptsGp2 hypernym \"http://identifiers.org/uniprot/P0ACJ8\"\n",
      "  CRPsite_ptsGp2 part \"http://identifiers.org/uniprot/C3TDU2\"\n",
      "  CRPsite_ptsHp0 hypernym \"http://identifiers.org/uniprot/P0ACJ8\"\n",
      "  CRPsite_ptsHp0 part \"http://identifiers.org/uniprot/P0AA04\"\n",
      "  CRPsite_ptsHp1 hypernym \"http://identifiers.org/uniprot/P0ACJ8\"\n",
      "  CRPsite_ptsHp1 part \"http://identifiers.org/uniprot/P0AA04\"\n",
      "  CRPsite_ptsIp0 hypernym \"http://identifiers.org/uniprot/P0ACJ8\"\n",
      "  CRPsite_ptsIp0 part \"http://identifiers.org/uniprot/P08839\"\n",
      "  CRPsite_ptsIp1 hypernym \"http://identifiers.org/uniprot/P0ACJ8\"\n",
      "  CRPsite_ptsIp1 part \"http://identifiers.org/uniprot/P08839\"\n",
      "  CRPsite_mlcp1 hypernym \"http://identifiers.org/uniprot/P0ACJ8\"\n",
      "  CRPsite_mlcp1 part \"http://identifiers.org/uniprot/P50456\"\n",
      "  CRPsite_mlcp2 hypernym \"http://identifiers.org/uniprot/P0ACJ8\"\n",
      "  CRPsite_mlcp2 part \"http://identifiers.org/uniprot/P50456\"\n",
      "  Mlc identity \"http://identifiers.org/uniprot/P50456\"\n",
      "  Mlcsite_mlcp1 hypernym \"http://identifiers.org/uniprot/P50456\"\n",
      "  Mlcsite_mlcp2 hypernym \"http://identifiers.org/uniprot/P50456\"\n",
      "  Mlcsite_ptsGp1 hypernym \"http://identifiers.org/uniprot/P50456\"\n",
      "  Mlcsite_ptsGp1 part \"http://identifiers.org/uniprot/C3TDU2\"\n",
      "  Mlcsite_ptsGp2 hypernym \"http://identifiers.org/uniprot/P50456\"\n",
      "  Mlcsite_ptsGp2 part \"http://identifiers.org/uniprot/C3TDU2\"\n",
      "  Mlcsite_ptsHp0 hypernym \"http://identifiers.org/uniprot/P50456\"\n",
      "  Mlcsite_ptsHp0 part \"http://identifiers.org/uniprot/P0AA04\"\n",
      "  Mlcsite_ptsIp0 hypernym \"http://identifiers.org/uniprot/P50456\"\n",
      "  Mlcsite_ptsIp0 part \"http://identifiers.org/uniprot/P08839\"\n",
      "  CRP_cAMP hypernym \"http://identifiers.org/uniprot/P0ACJ8\"\n",
      "  CRP_cAMP part \"http://identifiers.org/chebi/CHEBI:17489\"\n",
      "  CRP_cAMP_CRPsiteI_crp hypernym \"http://identifiers.org/uniprot/P0ACJ8\"\n",
      "  CRP_cAMP_CRPsiteI_crp part \"http://identifiers.org/chebi/CHEBI:17489\"\n",
      "  CRP_cAMP_CRPsiteII_crp hypernym \"http://identifiers.org/uniprot/P0ACJ8\"\n",
      "  CRP_cAMP_CRPsiteII_crp part \"http://identifiers.org/chebi/CHEBI:17489\"\n",
      "  CRP_cAMP_CRPsite_cyaA hypernym \"http://identifiers.org/uniprot/P0ACJ8\"\n",
      "  CRP_cAMP_CRPsite_cyaA part \"http://identifiers.org/chebi/CHEBI:17489\"\n",
      "  CRP_cAMP_CRPsite_genome hypernym \"http://identifiers.org/uniprot/P0ACJ8\"\n",
      "  CRP_cAMP_CRPsite_genome part \"http://identifiers.org/chebi/CHEBI:17489\"\n",
      "  CRP_cAMP_CRPsite_ptsGp1 hypernym \"http://identifiers.org/uniprot/P0ACJ8\"\n",
      "  CRP_cAMP_CRPsite_ptsGp1 part \"http://identifiers.org/chebi/CHEBI:17489\"\n",
      "  CRP_cAMP_CRPsite_ptsGp2 hypernym \"http://identifiers.org/uniprot/P0ACJ8\"\n",
      "  CRP_cAMP_CRPsite_ptsGp2 part \"http://identifiers.org/chebi/CHEBI:17489\"\n",
      "  CRP_cAMP_CRPsite_ptsHp0 hypernym \"http://identifiers.org/uniprot/P0ACJ8\"\n",
      "  CRP_cAMP_CRPsite_ptsHp0 part \"http://identifiers.org/chebi/CHEBI:17489\"\n",
      "  CRP_cAMP_CRPsite_ptsHp1 hypernym \"http://identifiers.org/uniprot/P0ACJ8\"\n",
      "  CRP_cAMP_CRPsite_ptsHp1 part \"http://identifiers.org/chebi/CHEBI:17489\"\n",
      "  CRP_cAMP_CRPsite_ptsIp0 hypernym \"http://identifiers.org/uniprot/P0ACJ8\"\n",
      "  CRP_cAMP_CRPsite_ptsIp0 part \"http://identifiers.org/chebi/CHEBI:17489\"\n",
      "  CRP_cAMP_CRPsite_ptsIp1 hypernym \"http://identifiers.org/uniprot/P0ACJ8\"\n",
      "  CRP_cAMP_CRPsite_ptsIp1 part \"http://identifiers.org/chebi/CHEBI:17489\"\n",
      "  CRP_cAMP_CRPsite_mlcp1 hypernym \"http://identifiers.org/uniprot/P0ACJ8\"\n",
      "  CRP_cAMP_CRPsite_mlcp1 part \"http://identifiers.org/chebi/CHEBI:17489\"\n",
      "  CRP_cAMP_CRPsite_mlcp2 hypernym \"http://identifiers.org/uniprot/P0ACJ8\"\n",
      "  CRP_cAMP_CRPsite_mlcp2 part \"http://identifiers.org/chebi/CHEBI:17489\"\n",
      "  Mlc_Mlcsite_ptsGp1 hypernym \"http://identifiers.org/uniprot/P50456\"\n",
      "  Mlc_Mlcsite_ptsGp1 part \"http://identifiers.org/uniprot/P50456\"\n",
      "  Mlc_Mlcsite_ptsGp2 hypernym \"http://identifiers.org/uniprot/P50456\"\n",
      "  Mlc_Mlcsite_ptsGp2 part \"http://identifiers.org/uniprot/P50456\"\n",
      "  Mlc_Mlcsite_ptsIp0 hypernym \"http://identifiers.org/uniprot/P50456\"\n",
      "  Mlc_Mlcsite_ptsIp0 part \"http://identifiers.org/uniprot/P50456\"\n",
      "  Mlc_Mlcsite_ptsHp0 hypernym \"http://identifiers.org/uniprot/P50456\"\n",
      "  Mlc_Mlcsite_ptsHp0 part \"http://identifiers.org/uniprot/P50456\"\n",
      "  Mlc_Mlcsite_mlcp1 hypernym \"http://identifiers.org/uniprot/P50456\"\n",
      "  Mlc_Mlcsite_mlcp1 part \"http://identifiers.org/uniprot/P50456\"\n",
      "  Mlc_Mlcsite_mlcp2 hypernym \"http://identifiers.org/uniprot/P50456\"\n",
      "  Mlc_Mlcsite_mlcp2 part \"http://identifiers.org/uniprot/P50456\"\n",
      "  IICB identity \"http://identifiers.org/uniprot/C3TDU2\"\n",
      "  IICB_Mlc hypernym \"http://identifiers.org/uniprot/C3TDU2\"\n",
      "  IICB_Mlc part \"http://identifiers.org/uniprot/P50456\"\n",
      "  CYA identity \"http://identifiers.org/uniprot/P00936\"\n",
      "  IIA_P identity \"http://identifiers.org/uniprot/P69783\"\n",
      "  IIA_P_CYA hypernym \"http://identifiers.org/uniprot/P69783\"\n",
      "  IIA_P_CYA part \"http://identifiers.org/uniprot/P00936\"\n",
      "  mRNA_cyaA hypernym \"http://identifiers.org/chebi/CHEBI:33699\"\n",
      "  mRNA_crp hypernym \"http://identifiers.org/chebi/CHEBI:33699\"\n",
      "  mRNA_ptsG hypernym \"http://identifiers.org/chebi/CHEBI:33699\"\n",
      "  mRNA_ptsH hypernym \"http://identifiers.org/chebi/CHEBI:33699\"\n",
      "  mRNA_ptsI hypernym \"http://identifiers.org/chebi/CHEBI:33699\"\n",
      "  mRNA_crr hypernym \"http://identifiers.org/chebi/CHEBI:33699\"\n",
      "  mRNA_mlc hypernym \"http://identifiers.org/chebi/CHEBI:33699\"\n",
      "  IICB_P hypernym \"http://identifiers.org/uniprot/C3TDU2\"\n",
      "  IIA hypernym \"http://identifiers.org/uniprot/P69783\"\n",
      "  HPr_P hypernym \"http://identifiers.org/uniprot/P0AA04\"\n",
      "  HPr identity \"http://identifiers.org/uniprot/P0AA04\"\n",
      "  EI_P hypernym \"http://identifiers.org/uniprot/P08839\"\n",
      "  EI identity \"http://identifiers.org/uniprot/P08839\"\n",
      "  cAMP identity \"http://identifiers.org/chebi/CHEBI:17489\"\n",
      "  cyaA identity \"http://identifiers.org/uniprot/P00936\"\n",
      "  cyaA_basal hypernym \"http://identifiers.org/uniprot/P00936\"\n",
      "  crp hypernym \"http://identifiers.org/uniprot/P0ACJ8\"\n",
      "  crp_basal hypernym \"http://identifiers.org/uniprot/P0ACJ8\"\n",
      "  ptsGp1 hypernym \"http://identifiers.org/uniprot/C3TDU2\"\n",
      "  ptsGp2 hypernym \"http://identifiers.org/uniprot/C3TDU2\"\n",
      "  ptsHp0 hypernym \"http://identifiers.org/uniprot/C3TDU2\"\n",
      "  ptsHp1 hypernym \"http://identifiers.org/uniprot/C3TDU2\"\n",
      "  ptsIp0 hypernym \"http://identifiers.org/uniprot/C3TDU2\"\n",
      "  ptsIp1 hypernym \"http://identifiers.org/uniprot/C3TDU2\"\n",
      "  crr identity \"http://identifiers.org/uniprot/P69783\"\n",
      "  mlcp1 hypernym \"http://identifiers.org/uniprot/P50456\"\n",
      "  mlcp2 hypernym \"http://identifiers.org/uniprot/P50456\"\n",
      "  Pyr identity \"http://identifiers.org/chebi/CHEBI:32816\"\n",
      "  PEP identity \"http://identifiers.org/chebi/CHEBI:44897\"\n",
      "  Glc6P identity \"http://identifiers.org/chebi/CHEBI:4170\"\n",
      "  Glucose identity \"http://identifiers.org/chebi/CHEBI:4167\"\n",
      "  ATP identity \"http://identifiers.org/chebi/CHEBI:15422\"\n",
      "end\n",
      "\n",
      "MODEL1501300000 is \"Nishio2008 - Design of the phosphotransferase system for enhanced glucose uptake in E. coli.\"\n",
      "\n",
      "MODEL1501300000 model_entity_is \"http://identifiers.org/biomodels.db/MODEL1501300000\"\n",
      "MODEL1501300000 model_entity_is \"http://identifiers.org/biomodels.db/BIOMD0000000571\"\n",
      "MODEL1501300000 description \"http://identifiers.org/pubmed/18197177\"\n",
      "MODEL1501300000 origin \"http://identifiers.org/biomodels.db/BIOMD0000000051\"\n",
      "MODEL1501300000 taxon \"http://identifiers.org/taxonomy/83333\"\n",
      "MODEL1501300000 hypernym \"http://identifiers.org/go/GO:0008982\"\n",
      "\n"
     ]
    }
   ],
   "source": [
    "###############################################################################\n",
    "### OBTAIN SOURCE FILE FROM URL & LOAD TELLURIUM SBML MODEL + VIEW ANTIMONY ###\n",
    "###############################################################################\n",
    "\n",
    "# Assign file URL to a variable\n",
    "TIMES = np.linspace(000, 1500, 5000)\n",
    "BIOMODEL_SOURCE_FILE_URL = \"https://www.ebi.ac.uk/biomodels/services/download/get-files/MODEL1501300000/3/BIOMD0000000571_url.xml\"\n",
    "\n",
    "# Create tellurium SBML model & print the antimony\n",
    "CTLSB = ControlSBML(BIOMODEL_SOURCE_FILE_URL, xlabel=\"time (min)\", times=TIMES)\n",
    "ANTIMONY_MODEL_EI_P = CTLSB.getAntimony()\n",
    "print(ANTIMONY_MODEL_EI_P)"
   ]
  },
  {
   "cell_type": "markdown",
   "id": "a72fe46e-a3cf-4eb5-be03-c762fd89454e",
   "metadata": {
    "id": "r3YyEFTekSYq"
   },
   "source": [
    "#### Preliminary Investigation"
   ]
  },
  {
   "cell_type": "code",
   "execution_count": 12,
   "id": "c5bdfefa-bfcd-43b4-9305-a2742fc53618",
   "metadata": {},
   "outputs": [
    {
     "data": {
      "image/png": "[encoded data removed]",
      "text/plain": [
       "<Figure size 500x500 with 1 Axes>"
      ]
     },
     "metadata": {},
     "output_type": "display_data"
    }
   ],
   "source": [
    "_ = CTLSB.plotModel(times=TIMES, legend=True, title=\"All Species\")"
   ]
  },
  {
   "cell_type": "markdown",
   "id": "bd483269-8864-4829-9a76-031ca0885195",
   "metadata": {
    "id": "c0fb6205-fd27-49f0-bd8e-d9f7439df0e8"
   },
   "source": [
    "We can see that at t = 500 the sudden change in glucose quickly perturbes the system but it seems to quickly return to homeostasis. There are a ton of things being modeled here so let's take a look at ``EI_P``:"
   ]
  },
  {
   "cell_type": "code",
   "execution_count": 13,
   "id": "55fe1398-1dd4-4559-b2c3-09666980f439",
   "metadata": {},
   "outputs": [
    {
     "data": {
      "image/png": "[encoded data removed]",
      "text/plain": [
       "<Figure size 500x500 with 1 Axes>"
      ]
     },
     "metadata": {},
     "output_type": "display_data"
    }
   ],
   "source": [
    "_ = CTLSB.plotModel(times=TIMES, selections=[\"EI_P\"], legend=True)"
   ]
  },
  {
   "cell_type": "markdown",
   "id": "10b10afe-ff37-4c57-b70d-9899c434b33a",
   "metadata": {
    "id": "c0fb6205-fd27-49f0-bd8e-d9f7439df0e8"
   },
   "source": [
    "There it is, the glucose drop at t = 500 minutes causes a rapid backup in the phosphotransferase cascade due to the last species not being able to recruit glucose so quickly due to mass action and therefore ``EI_P`` accumulates before the genetic circuit catches up and calls for less EI protein production."
   ]
  },
  {
   "cell_type": "markdown",
   "id": "dcd90c48-8c11-4d09-8429-f0c0a5e839b5",
   "metadata": {
    "id": "r3YyEFTekSYq"
   },
   "source": [
    "### System Definition"
   ]
  },
  {
   "cell_type": "markdown",
   "id": "036ac449-add7-4a54-9fb0-be0d4f9dbf8d",
   "metadata": {
    "id": "7a5284a3-f0e6-4579-9a70-f91ebd634c58"
   },
   "source": [
    "Remember that a system is defined by the following:\n",
    "1. SBML model\n",
    "1. Output\n",
    "1. Input\n",
    "1. Directional effect of the input on the output - agonist vs antagonist\n",
    "1. Operating region for the input - range of input that gives output that makes sense\n",
    "1. Range of outputs that can be achieved\n",
    "\n",
    "We have already specified the SBML model and the ``EI_P`` output in our problem statement. Thus, we now seek to find an input that controls ``EI_P``."
   ]
  },
  {
   "cell_type": "markdown",
   "id": "e605147c-cfd6-4d89-a9ae-a9f571b89e9d",
   "metadata": {
    "id": "r3YyEFTekSYq",
    "tags": []
   },
   "source": [
    "#### Antimony Model"
   ]
  },
  {
   "cell_type": "code",
   "execution_count": 14,
   "id": "fc974cf8-c92d-4b61-8e9c-c2d1ac6b31ef",
   "metadata": {},
   "outputs": [
    {
     "name": "stdout",
     "output_type": "stream",
     "text": [
      "boundary_species:\tcyaA, cyaA_basal, crp, crp_basal, ptsGp1, ptsGp2, ptsHp0, ptsHp1, ptsIp0, ptsIp1, crr, mlcp1, mlcp2, Pyr, PEP, Glc6P, Glucose, ATP\n",
      "\n",
      "floating_species:\tCRP, CRPsiteI_crp, CRPsiteII_crp, CRPsite_cyaA, CRPsite_genome, CRPsite_ptsGp1, CRPsite_ptsGp2, CRPsite_ptsHp0, CRPsite_ptsHp1, CRPsite_ptsIp0, CRPsite_ptsIp1, CRPsite_mlcp1, CRPsite_mlcp2, Mlc, Mlcsite_mlcp1, Mlcsite_mlcp2, Mlcsite_ptsGp1, Mlcsite_ptsGp2, Mlcsite_ptsHp0, Mlcsite_ptsIp0, CRP_cAMP, CRP_cAMP_CRPsiteI_crp, CRP_cAMP_CRPsiteII_crp, CRP_cAMP_CRPsite_cyaA, CRP_cAMP_CRPsite_genome, CRP_cAMP_CRPsite_ptsGp1, CRP_cAMP_CRPsite_ptsGp2, CRP_cAMP_CRPsite_ptsHp0, CRP_cAMP_CRPsite_ptsHp1, CRP_cAMP_CRPsite_ptsIp0, CRP_cAMP_CRPsite_ptsIp1, CRP_cAMP_CRPsite_mlcp1, CRP_cAMP_CRPsite_mlcp2, Mlc_Mlcsite_ptsGp1, Mlc_Mlcsite_ptsGp2, Mlc_Mlcsite_ptsIp0, Mlc_Mlcsite_ptsHp0, Mlc_Mlcsite_mlcp1, Mlc_Mlcsite_mlcp2, IICB, IICB_Mlc, CYA, IIA_P, IIA_P_CYA, mRNA_cyaA, mRNA_crp, mRNA_ptsG, mRNA_ptsH, mRNA_ptsI, mRNA_crr, mRNA_mlc, IICB_P, IIA, HPr_P, HPr, EI_P, EI, cAMP\n",
      "\n",
      "parameter:\tfast, binding_CRP_cAMP_one_per_M, binding_CRP_cAMP_Kb, binding_CRP_cAMP_CRPsite_cyaA_Kb, binding_CRP_cAMP_CRPsiteI_crp_Kb, binding_CRP_cAMP_CRPsiteII_crp_Kb, binding_CRP_cAMP_CRPsite_ptsGp1_Kb, binding_CRP_cAMP_CRPsite_ptsGp2_Kb, binding_CRP_cAMP_CRPsite_ptsHp0_Kb, binding_CRP_cAMP_CRPsite_ptsHp1_Kb, binding_CRP_cAMP_CRPsite_ptsIp0_Kb, binding_CRP_cAMP_CRPsite_ptsIp1_Kb, binding_CRP_cAMP_CRPsite_mlcp1_Kb, binding_CRP_cAMP_CRPsite_mlcp2_Kb, binding_CRP_cAMP_CRPsite_genome_Kb, binding_Mlc_Mlcsite_ptsGp1_Kb, binding_Mlc_Mlcsite_ptsGp2_Kb, binding_Mlc_Mlcsite_ptsHp0_Kb, binding_Mlc_Mlcsite_ptsIp0_Kb, binding_Mlc_Mlcsite_mlcp1_Kb, binding_Mlc_Mlcsite_mlcp2_Kb, binding_IICB_Mlc_Kb, binding_IIA_P_CYA_Kb, transcription_CRP_cAMP_CRPsite_cyaA_cyaA_km, transcription_cyaA_basal_km, transcription_CRP_cAMP_CRPsiteI_crp_CRP_cAMP_CRPsiteII_crp_crp_km, transcription_CRP_cAMP_CRPsiteI_crp_CRP_cAMP_CRPsiteII_crp_crp_RelativeactivityatTCRPsiteII_crp, transcription_crp_basal_km, transcription_CRP_cAMP_CRPsite_ptsGp1_Mlc_Mlcsite_ptsGp1_ptsGp1_km, transcription_CRP_cAMP_CRPsite_ptsGp2_Mlc_Mlcsite_ptsGp2_ptsGp2_km, transcription_CRP_cAMP_CRPsite_ptsHp0_Mlc_Mlcsite_ptsHp0_ptsHp0_km, transcription_CRP_cAMP_CRPsite_ptsHp1_ptsHp1_km, transcription_CRP_cAMP_CRPsite_ptsIp0_Mlc_Mlcsite_ptsIp0_ptsIp0_km, transcription_CRP_cAMP_CRPsite_ptsIp1_ptsIp1_km, transcription_crr_km, transcription_CRP_cAMP_CRPsite_mlcp1_Mlc_Mlcsite_mlcp1_mlcp1_km, transcription_CRP_cAMP_CRPsite_mlcp2_Mlc_Mlcsite_mlcp2_mlcp2_km, decomposition_mRNA_cyaA_kmd, decomposition_mRNA_crp_kmd, decomposition_mRNA_ptsG_kmd, decomposition_mRNA_ptsH_kmd, decomposition_mRNA_ptsI_kmd, decomposition_mRNA_crr_kmd, decomposition_mRNA_mlc_kmd, translation_mRNA_cyaA_kp, translation_mRNA_crp_kp, translation_mRNA_ptsG_kp, translation_mRNA_ptsH_kp, translation_mRNA_ptsI_kp, translation_mRNA_crr_kp, translation_mlc_kp, decomposition_CYA_kpd, decomposition_CRP_kpd, decomposition_Mlc_kpd, decomposition_cAMP_kpd, decomposition_CRP_cAMP_kpd, decomposition_CRP_cAMP_CRPsite_cyaA_kpd, decomposition_CRP_cAMP_CRPsiteI_crp_kpd, decomposition_CRP_cAMP_CRPsiteII_crp_kpd, decomposition_CRP_cAMP_CRPsite_ptsGp1_kpd, decomposition_CRP_cAMP_CRPsite_ptsGp2_kpd, decomposition_CRP_cAMP_CRPsite_ptsHp0_kpd, decomposition_CRP_cAMP_CRPsite_ptsHp1_kpd, decomposition_CRP_cAMP_CRPsite_ptsIp0_kpd, decomposition_CRP_cAMP_CRPsite_ptsIp1_kpd, decomposition_CRP_cAMP_CRPsite_mlcp1_kpd, decomposition_CRP_cAMP_CRPsite_mlcp2_kpd, decomposition_CRP_cAMP_CRPsite_genome_kpd, decomposition_Mlc_Mlcsite_ptsGp1_kpd, decomposition_Mlc_Mlcsite_ptsGp2_kpd, decomposition_Mlc_Mlcsite_ptsHp0_kpd, decomposition_Mlc_Mlcsite_ptsIp0_kpd, decomposition_Mlc_Mlcsite_mlcp1_kpd, decomposition_Mlc_Mlcsite_mlcp2_kpd, decomposition_IICB_Mlc_kpd, decomposition_EI_P_kpd, decomposition_EI_kpd, decomposition_HPr_P_kpd, decomposition_HPr_kpd, decomposition_IIA_P_kpd, decomposition_IIA_kpd, decomposition_IICB_P_kpd, decomposition_IICB_kpd, PTS2for_kx, PTS2rev_kx, PTS3for_kx, PTS3rev_kx, PTS4for_kx, PTS4rev_kx, reaction_CYA_ATP_Q, reaction_CYA_ATP_Kmich, reaction_IIA_P_CYA_ATP_Q, reaction_IIA_P_CYA_ATP_Kmich, reaction_EI_PEP_Q, reaction_EI_PEP_Kmich, reaction_EIP_Pyr_Q, reaction_EIP_Pyr_Kmich, reaction_IICB_P_Glucose_Q, reaction_IICB_P_Glucose_Kmich, reaction_IICB_Glc6P_Q, reaction_IICB_Glc6P_Kmich\n",
      "\n",
      "assignment:\tTCRPsite_cyaA, TCRPsiteI_crp, TCRPsiteII_crp, TCRPsite_ptsGp1, TMlcsite_ptsGp1, TCRPsite_ptsGp2, TMlcsite_ptsGp2, TCRPsite_ptsHp0, TMlcsite_ptsHp0, TCRPsite_ptsHp1, TCRPsite_ptsIp0, TMlcsite_ptsIp0, TCRPsite_ptsIp1, TCRPsite_mlcp1, TMlcsite_mlcp1, TCRPsite_mlcp2, TMlcsite_mlcp2\n"
     ]
    }
   ],
   "source": [
    "#######################################\n",
    "### IDENTIFY INPUT FLOATING SPECIES ###\n",
    "#######################################\n",
    "\n",
    "# Create a controllable SMBL variable\n",
    "control_sbml_for_input_species = ControlSBML(ANTIMONY_MODEL_EI_P)\n",
    "\n",
    "# Print the possible inputs\n",
    "print(control_sbml_for_input_species.getPossibleInputs())"
   ]
  },
  {
   "cell_type": "markdown",
   "id": "de3ddb7c-0ed6-4a76-9dae-88da265dc5cb",
   "metadata": {
    "id": "7a5284a3-f0e6-4579-9a70-f91ebd634c58"
   },
   "source": [
    "As mentioned, there are many outputs and boundaries in this model system. Some genetic or protein controls might be helpful. This evolved system already has 'accelerator' and 'decelerator' controls built into it, we are attempting to hijack those controls and essentially 'control the controls.' In practice, this could be something like amplifying certain genes in the E. coli DNA, adding new genes to their DNA, or deleting genes from their DNA. Based on the publication, here are some possible 'controls to control:'\n",
    "* CRPsite_ptsIp1 or CRPsite_ptsIp0 (promoters or enhancer sites for EI gene)\n",
    "* CRPsiteII_crp or CRPsiteI_crp (promoters or enhancer sites for sensor genes that upregulate 'acceleration')\n",
    "* mRNA_ptsI (directly produces EI protein)\n",
    "* mRNA_crp (directly produces sensor protein)\n",
    "* Mlc or mRNA_mlc (downregulates phosphotransferase cascade & EI protein production)"
   ]
  },
  {
   "cell_type": "code",
   "execution_count": 57,
   "id": "ece2f374-2043-4a65-8d60-7847520c95c7",
   "metadata": {},
   "outputs": [
    {
     "data": {
      "image/png": "[encoded data removed]",
      "text/plain": [
       "<Figure size 500x500 with 1 Axes>"
      ]
     },
     "metadata": {},
     "output_type": "display_data"
    }
   ],
   "source": [
    "###################################################\n",
    "### VISUALIZE IF ANYTHING HAS CONTROL OVER EI_P ###\n",
    "###################################################\n",
    "INPUT_NAME = \"Mlc\"\n",
    "OUTPUT_NAME = \"EI_P\"\n",
    "CTLSB.setSystem(input_name=INPUT_NAME, output_name=OUTPUT_NAME)\n",
    "_ = CTLSB.plotModel(selections=[INPUT_NAME, OUTPUT_NAME])"
   ]
  },
  {
   "cell_type": "markdown",
   "id": "51f19a5a-208a-4169-88db-89f974e9a53e",
   "metadata": {
    "id": "7a5284a3-f0e6-4579-9a70-f91ebd634c58"
   },
   "source": [
    "Mlc seems like it could be an antagonist to the concentration of ``EI_P``. Note that I tried many different values for the time series to convert it to the right units, I tried across multiple orders of magnitude but nothing worked to detect the fluctuation at t = 500 minutes. For whatever reason it is giving a perturbation at t = 0 minutes so I thought that would be sufficient to view the relationships between different inputs and the output, like we see here. Now let us try a staircase: "
   ]
  },
  {
   "cell_type": "code",
   "execution_count": 48,
   "id": "bc771ea4-b02a-42b0-8a8d-e28d29259345",
   "metadata": {},
   "outputs": [
    {
     "data": {
      "image/png": "[encoded data removed]",
      "text/plain": [
       "<Figure size 500x500 with 2 Axes>"
      ]
     },
     "metadata": {},
     "output_type": "display_data"
    }
   ],
   "source": [
    "#######################################################################\n",
    "### PLOT STAIRCASE FUNCTION & OBSERVE FOR GLUCOSE CHANGE AT 500 MIN ###\n",
    "#######################################################################\n",
    "STAIRCASE_TIMES = np.linspace(450, 3000, 20000)\n",
    "_ = CTLSB.plotStaircaseResponse(initial_value=7.5*1e-9, final_value=9.5*1e-9, num_step=8,\n",
    "                                times=STAIRCASE_TIMES,\n",
    "                                ylim=[2.5*1e-7, 3*1e-7],\n",
    "                               xlim=[600, 3000])"
   ]
  },
  {
   "cell_type": "markdown",
   "id": "dde10b68-ced1-445b-be71-173d5f7c8d4b",
   "metadata": {
    "id": "1aa4c64f-058a-421e-b57c-f2b7647c05c7"
   },
   "source": [
    "We are way overshooting, remember we want to keep EL_P below 4.0e-7 M. This means our control is working, lowering Mlc does increase El_P, but it is increasing it too much. We do not want a spike that is going to throw our E. coli into a panic. Also remember that we do not care about time points before 500 minutes because it is a steady-state, stable system with no interesting behavior because the glucose concentration is fixed. It is more interesting to see a rapid perturbation and the recovery to equilibrium, as this is most likely what E. coli will more realistically experience in a bioreactor - a shutoff of glucose supplement and the rapid decline of any glucose left in the solution with the E. coli."
   ]
  },
  {
   "cell_type": "code",
   "execution_count": 17,
   "id": "d5c7b8ab-176e-46bd-b8d9-077cc38fa9cf",
   "metadata": {},
   "outputs": [
    {
     "ename": "ValueError",
     "evalue": "Invalid keyword arguments: {'output_names', 'input_names'}",
     "output_type": "error",
     "traceback": [
      "\u001b[0;31m---------------------------------------------------------------------------\u001b[0m",
      "\u001b[0;31mValueError\u001b[0m                                Traceback (most recent call last)",
      "Cell \u001b[0;32mIn[17], line 6\u001b[0m\n\u001b[1;32m      1\u001b[0m \u001b[38;5;66;03m###########################################################################################\u001b[39;00m\n\u001b[1;32m      2\u001b[0m \u001b[38;5;66;03m### PLOT A STAIRCASE FUNCTION & ATTEMPT TO FIND THE OPERATING REGION WITH (-)-STAIRCASE ###\u001b[39;00m\n\u001b[1;32m      3\u001b[0m \u001b[38;5;66;03m###########################################################################################\u001b[39;00m\n\u001b[1;32m      4\u001b[0m \n\u001b[1;32m      5\u001b[0m \u001b[38;5;66;03m# Create permanenent control sbml\u001b[39;00m\n\u001b[0;32m----> 6\u001b[0m CONTROL_SBML \u001b[38;5;241m=\u001b[39m \u001b[43mControlSBML\u001b[49m\u001b[43m(\u001b[49m\u001b[43mANTIMONY_MODEL_EI_P\u001b[49m\u001b[43m,\u001b[49m\u001b[43m \u001b[49m\u001b[43mfigsize\u001b[49m\u001b[38;5;241;43m=\u001b[39;49m\u001b[43m(\u001b[49m\u001b[38;5;241;43m10\u001b[39;49m\u001b[43m,\u001b[49m\u001b[43m \u001b[49m\u001b[38;5;241;43m5\u001b[39;49m\u001b[43m)\u001b[49m\u001b[43m,\u001b[49m\u001b[43m \u001b[49m\u001b[43mtimes\u001b[49m\u001b[38;5;241;43m=\u001b[39;49m\u001b[43mnp\u001b[49m\u001b[38;5;241;43m.\u001b[39;49m\u001b[43mlinspace\u001b[49m\u001b[43m(\u001b[49m\u001b[38;5;241;43m0\u001b[39;49m\u001b[43m,\u001b[49m\u001b[43m \u001b[49m\u001b[38;5;241;43m1000\u001b[39;49m\u001b[43m,\u001b[49m\u001b[43m \u001b[49m\u001b[38;5;241;43m100000\u001b[39;49m\u001b[43m)\u001b[49m\u001b[43m,\u001b[49m\u001b[43m \u001b[49m\u001b[43mmarkers\u001b[49m\u001b[38;5;241;43m=\u001b[39;49m\u001b[38;5;28;43;01mFalse\u001b[39;49;00m\u001b[43m,\u001b[49m\u001b[43m \u001b[49m\n\u001b[1;32m      7\u001b[0m \u001b[43m                           \u001b[49m\u001b[43minput_names\u001b[49m\u001b[38;5;241;43m=\u001b[39;49m\u001b[43m[\u001b[49m\u001b[43mINPUT_NAME\u001b[49m\u001b[43m]\u001b[49m\u001b[43m,\u001b[49m\u001b[43m \u001b[49m\u001b[43moutput_names\u001b[49m\u001b[38;5;241;43m=\u001b[39;49m\u001b[43m[\u001b[49m\u001b[43mOUTPUT_NAME\u001b[49m\u001b[43m]\u001b[49m\u001b[43m)\u001b[49m\n\u001b[1;32m     10\u001b[0m \u001b[38;5;66;03m# Plot staircase\u001b[39;00m\n\u001b[1;32m     11\u001b[0m _ \u001b[38;5;241m=\u001b[39m CONTROL_SBML\u001b[38;5;241m.\u001b[39mplotStaircaseResponse(initial_value\u001b[38;5;241m=\u001b[39m\u001b[38;5;241m0.00000002\u001b[39m, final_value\u001b[38;5;241m=\u001b[39m\u001b[38;5;241m0.000000007\u001b[39m, times\u001b[38;5;241m=\u001b[39mnp\u001b[38;5;241m.\u001b[39mlinspace(\u001b[38;5;241m450\u001b[39m, \u001b[38;5;241m800\u001b[39m, \u001b[38;5;241m20000\u001b[39m),\n\u001b[1;32m     12\u001b[0m                                       )\u001b[38;5;66;03m#ylim=[0.0000002, 0.0000003])\u001b[39;00m\n",
      "File \u001b[0;32m~/home/Technical/repos/controlSBML/src/controlSBML/control_sbml.py:197\u001b[0m, in \u001b[0;36mControlSBML.__init__\u001b[0;34m(self, model_reference, roadrunner, input_name, output_name, is_fixed_input_species, is_steady_state, fitter_method, setpoint, sign, times, save_path, **kwargs)\u001b[0m\n\u001b[1;32m    142\u001b[0m \u001b[38;5;28;01mdef\u001b[39;00m \u001b[38;5;21m__init__\u001b[39m(\u001b[38;5;28mself\u001b[39m, model_reference:\u001b[38;5;28mstr\u001b[39m, \n\u001b[1;32m    143\u001b[0m              roadrunner\u001b[38;5;241m=\u001b[39m\u001b[38;5;28;01mNone\u001b[39;00m,\n\u001b[1;32m    144\u001b[0m              input_name:Optional[\u001b[38;5;28mstr\u001b[39m]\u001b[38;5;241m=\u001b[39m\u001b[38;5;28;01mNone\u001b[39;00m,\n\u001b[0;32m   (...)\u001b[0m\n\u001b[1;32m    152\u001b[0m              save_path:Optional[\u001b[38;5;28mstr\u001b[39m]\u001b[38;5;241m=\u001b[39mSAVE_PATH,\n\u001b[1;32m    153\u001b[0m              \u001b[38;5;241m*\u001b[39m\u001b[38;5;241m*\u001b[39mkwargs):\n\u001b[1;32m    154\u001b[0m \u001b[38;5;250m    \u001b[39m\u001b[38;5;124;03m\"\"\"\u001b[39;00m\n\u001b[1;32m    155\u001b[0m \u001b[38;5;124;03m    model_reference: str\u001b[39;00m\n\u001b[1;32m    156\u001b[0m \u001b[38;5;124;03m        string, SBML file or Roadrunner object\u001b[39;00m\n\u001b[0;32m   (...)\u001b[0m\n\u001b[1;32m    195\u001b[0m \n\u001b[1;32m    196\u001b[0m \u001b[38;5;124;03m    \"\"\"\u001b[39;00m\n\u001b[0;32m--> 197\u001b[0m     \u001b[38;5;28;43mself\u001b[39;49m\u001b[38;5;241;43m.\u001b[39;49m\u001b[43m_checkKwargs\u001b[49m\u001b[43m(\u001b[49m\u001b[43mOPTION_KEYS\u001b[49m\u001b[43m,\u001b[49m\u001b[43m \u001b[49m\u001b[38;5;241;43m*\u001b[39;49m\u001b[38;5;241;43m*\u001b[39;49m\u001b[43mkwargs\u001b[49m\u001b[43m)\u001b[49m\n\u001b[1;32m    198\u001b[0m     \u001b[38;5;66;03m# Set initial values of all options\u001b[39;00m\n\u001b[1;32m    199\u001b[0m     \u001b[38;5;28;01mfor\u001b[39;00m key, value \u001b[38;5;129;01min\u001b[39;00m OPTION_DCT\u001b[38;5;241m.\u001b[39mitems():  \u001b[38;5;66;03m# type: ignore\u001b[39;00m\n",
      "File \u001b[0;32m~/home/Technical/repos/controlSBML/src/controlSBML/control_sbml.py:248\u001b[0m, in \u001b[0;36mControlSBML._checkKwargs\u001b[0;34m(self, valids, invalids, **kwargs)\u001b[0m\n\u001b[1;32m    246\u001b[0m not_valids \u001b[38;5;241m=\u001b[39m keys\u001b[38;5;241m.\u001b[39mdifference(\u001b[38;5;28mset\u001b[39m(valids))   \u001b[38;5;66;03m# type: ignore\u001b[39;00m\n\u001b[1;32m    247\u001b[0m \u001b[38;5;28;01mif\u001b[39;00m \u001b[38;5;28mlen\u001b[39m(not_valids) \u001b[38;5;241m>\u001b[39m \u001b[38;5;241m0\u001b[39m:\n\u001b[0;32m--> 248\u001b[0m     \u001b[38;5;28;01mraise\u001b[39;00m \u001b[38;5;167;01mValueError\u001b[39;00m(\u001b[38;5;124m\"\u001b[39m\u001b[38;5;124mInvalid keyword arguments: \u001b[39m\u001b[38;5;132;01m%s\u001b[39;00m\u001b[38;5;124m\"\u001b[39m \u001b[38;5;241m%\u001b[39m \u001b[38;5;28mstr\u001b[39m(not_valids))\n\u001b[1;32m    249\u001b[0m \u001b[38;5;28;01mif\u001b[39;00m invalids \u001b[38;5;129;01mis\u001b[39;00m \u001b[38;5;28;01mNone\u001b[39;00m:\n\u001b[1;32m    250\u001b[0m     \u001b[38;5;28;01mreturn\u001b[39;00m\n",
      "\u001b[0;31mValueError\u001b[0m: Invalid keyword arguments: {'output_names', 'input_names'}"
     ]
    }
   ],
   "source": [
    "###########################################################################################\n",
    "### PLOT A STAIRCASE FUNCTION & ATTEMPT TO FIND THE OPERATING REGION WITH (-)-STAIRCASE ###\n",
    "###########################################################################################\n",
    "\n",
    "# Create permanenent control sbml\n",
    "CONTROL_SBML = ControlSBML(ANTIMONY_MODEL_EI_P, figsize=(10, 5), times=np.linspace(0, 1000, 100000), markers=False, \n",
    "                           input_names=[INPUT_NAME], output_names=[OUTPUT_NAME])\n",
    "\n",
    "\n",
    "# Plot staircase\n",
    "_ = CONTROL_SBML.plotStaircaseResponse(initial_value=0.00000002, final_value=0.000000007, times=np.linspace(450, 800, 20000),\n",
    "                                      )#ylim=[0.0000002, 0.0000003])"
   ]
  },
  {
   "cell_type": "markdown",
   "id": "48cf132a-9f02-400b-a351-9bbcf02e561e",
   "metadata": {
    "id": "1aa4c64f-058a-421e-b57c-f2b7647c05c7"
   },
   "source": [
    "Getting close! Let's increase our the end time to our goal, and while we're at it let's shoot for ~1220 minutes (12 hours after t = 500 min) the usual time E. coli will incubate after inducing plasmid expression (i.e., production of the desired product)!"
   ]
  },
  {
   "cell_type": "code",
   "execution_count": null,
   "id": "25a6ef86-97ad-43c4-8e46-5445dfccb0ee",
   "metadata": {},
   "outputs": [],
   "source": [
    "############################################################################################\n",
    "### PLOT A STAIRCASE FUNCTION & ATTEMPT TO FIND THE OPERATING REGION WITH (-)-STAIRCASE  ###\n",
    "############################################################################################\n",
    "\n",
    "# Create permanenent control sbml\n",
    "CONTROL_SBML = ControlSBML(ANTIMONY_MODEL_EI_P, figsize=(10, 5), times=np.linspace(0, 1000, 100000), markers=False, \n",
    "                           input_names=[INPUT_NAME], output_names=[OUTPUT_NAME])\n",
    "\n",
    "\n",
    "# Plot staircase\n",
    "_ = CONTROL_SBML.plotStaircaseResponse(initial_value=0.00000001, final_value=0.000000008, times=np.linspace(450, 1250, 20000),\n",
    "                                      )#ylim=[0.0000002, 0.0000003])"
   ]
  },
  {
   "cell_type": "markdown",
   "id": "6dc7f35b-a140-4b72-a700-a23c668f7ab5",
   "metadata": {
    "id": "1aa4c64f-058a-421e-b57c-f2b7647c05c7"
   },
   "source": [
    "This plot achieves all of our control objectives except the initial perturbation goes slightly higher than we'd like. We can fix this later with PI control! For now, let us focus on improving the time resolution where our control objectives are currently met; thus, we can ignore the initial perturbation (for now)."
   ]
  },
  {
   "cell_type": "code",
   "execution_count": null,
   "id": "d67b3afb-5d82-4205-8f28-5be419404c8d",
   "metadata": {},
   "outputs": [],
   "source": [
    "###################################################################################################\n",
    "### REFINE THE SYSTEM IN TIME TO IGNORE THE INITIAL PERTURBATION FOR NOW & ADD TIME RESOLUTEION ###\n",
    "###################################################################################################\n",
    "\n",
    "# Important note: this was Prof. Hellerstein's suggestion from HW1\n",
    "\n",
    "_ = CONTROL_SBML.plotStaircaseResponse(initial_value=0.000000009, final_value=0.0000000075, times=np.linspace(440, 1400, 20000),\n",
    "                                      ylim=[0.00000026, 0.0000003], xlim=[700, 1420])"
   ]
  },
  {
   "cell_type": "markdown",
   "id": "8832d662-3be6-46b1-8799-a7531112a864",
   "metadata": {
    "id": "1aa4c64f-058a-421e-b57c-f2b7647c05c7"
   },
   "source": [
    "This system with additional time resolution has successfully achieved reasonable control over the EIP output with the Mlc input. Furthermore, we successfully achieved the **following control objectives:**\n",
    "\n",
    "* Kept the ``EI_P`` concentration in the range above 2.4e-7 M for over 720 minutes (12 hours) past t = 500 minutes. \n",
    "* Eliminated/minimized any potential concentration oscillations, although none were expected. \n",
    "* Converged to a stable, steady-state system after the glucose decreased within ~120 minutes before the staircase shift.\n",
    "* With each additional step this setting time was drastically reduced to about ~30 minutes.\n",
    "\n",
    "Ultimately, the final plot above achieves the control objectives by stabilizing as a nearly horizontal line within the desired setpoints after the initial glucose perturbation at t = 500 minutes. After the glucose perturbation, each step decrease in Mlc protein concentration increases the concentration of ``EI_P`` as expected since Mlc inhibits the production of EI protein. Thus, they are antagonistic. There are no oscillations about a setting point observed at any time which demonstrates that the second control objective was achieved. The third control objective can be noted at the time t = 575 minutes where the post-perturbation ``EI_P`` concentration stops growing and begins to drastically flatten out before the staircase decreases (plot above this one). Finally, the final control objective was achieved because the right tail is nearly horizontal and each step down on the staircase only increases the tail line for about 30 minutes before it becomes horizontal again.\n",
    "\n",
    "Below, we provide the complete **revised system definition:**\n",
    "\n",
    "1. SBML model: Nishio2008 - Design of the phosphotransferase system for enhanced glucose uptake in E. coli from Biomodels\n",
    "1. Output: ``EI_P``\n",
    "1. Input: ``Mlc``\n",
    "1. Directional effect of the input on the output: Monotone ``EI_P`` decreases for stepwise ``Mlc`` increases\n",
    "1. Operating region for the input: [7.6e-9 M, 8.4e-9 M]\n",
    "1. Range of outputs that can be achieved [2.65e-7 M, 2.85e-7 M]"
   ]
  },
  {
   "cell_type": "markdown",
   "id": "4046a740-55cc-4b42-b99e-ab19a5157d41",
   "metadata": {
    "id": "r3YyEFTekSYq"
   },
   "source": [
    "## Section 2: System Identification"
   ]
  },
  {
   "cell_type": "markdown",
   "id": "c10aba3d-facd-474f-af49-939bfb5b8e21",
   "metadata": {
    "id": "r3YyEFTekSYq"
   },
   "source": [
    "### System Identification"
   ]
  },
  {
   "cell_type": "markdown",
   "id": "58d1ebf7-4418-412b-a59c-2c6f5f13b321",
   "metadata": {
    "id": "edd3f772-e8fe-4738-ad3c-7c707dc2c86e"
   },
   "source": [
    "System identification describes the system as a transfer function for the operating point specified in system definition. In our system, the input is ``Mlc`` and the output is ``EI_P``. ``Mlc`` is varied over the operating region of [7.6e-9, 8.0e-9]. The method ``plotTransferFunctionFit`` estimates to transfer function and plots the fit. It returns a Timeseries (a dataframe with the data plotted) and an AntimonyBuilder (the Antimony code run to produce the fitting data)."
   ]
  },
  {
   "cell_type": "code",
   "execution_count": 61,
   "id": "8e6f2d08-8ee2-483d-8944-1dfa424c8b68",
   "metadata": {},
   "outputs": [
    {
     "data": {
      "image/png": "[encoded data removed]",
      "text/plain": [
       "<Figure size 1000x1000 with 2 Axes>"
      ]
     },
     "metadata": {},
     "output_type": "display_data"
    },
    {
     "data": {
      "text/latex": [
       "$$\\frac{-13.88 s - 23.15}{2.648 s + 1.668}$$"
      ],
      "text/plain": [
       "TransferFunction(array([-13.87916085, -23.15183568]), array([2.64794455, 1.66810054]))"
      ]
     },
     "execution_count": 61,
     "metadata": {},
     "output_type": "execute_result"
    }
   ],
   "source": [
    "###################################\n",
    "### INITIAL GUESS & OBSERVATION ###\n",
    "###################################\n",
    "_ = CTLSB.plotTransferFunctionFit(num_zero=1, num_pole=1, \n",
    "    initial_value=7.5*1e-9, final_value=9.5*1e-9, num_step=10,\n",
    "                                times=STAIRCASE_TIMES,\n",
    "                                ylim=[2*1e-7, 3*1e-7],\n",
    "                                  fit_start_time=1000,\n",
    "                               xlim=[600, 1500],\n",
    "                                 fitter_method=\"gpz\")\n",
    "\n",
    "# Get the transfer function \n",
    "TRANSFER_FUNCTION = CTLSB.getOpenLoopTransferFunction()\n",
    "TRANSFER_FUNCTION"
   ]
  },
  {
   "cell_type": "markdown",
   "id": "6933e0a1-59db-4cb9-8d1e-fd3e8f111417",
   "metadata": {
    "id": "edd3f772-e8fe-4738-ad3c-7c707dc2c86e"
   },
   "source": [
    "This looks like an awful fit and similar tries with different num_numerators and num_denominators yielded similar graphs. This is because it is still trying to fit the perturbation behavior that happens at t = 500 min. I cannot start the np.linspace at t = 700 because the function does not converge and I get an error. Thus, I need to see if I can change where the fitting of the transfer function starts. To do this, I need to go find what is happening in the background of this function, so the cell below helps us identify where the ``plotTransferFunctionFit`` is on GitHub."
   ]
  },
  {
   "cell_type": "code",
   "execution_count": null,
   "id": "439890d6-d2be-4a52-b7fe-eab478864b0f",
   "metadata": {},
   "outputs": [],
   "source": [
    "#########################################################\n",
    "### INITIAL GUESS USING FIT_START_TIME + FIT_END_TIME ###\n",
    "#########################################################\n",
    "\n",
    "# Plot\n",
    "_ = CONTROL_SBML.plotTransferFunctionFit(num_numerator=2, num_denominator=2, \n",
    "                                         initial_value=0.000000009, final_value=0.0000000075,\n",
    "                                         times=np.linspace(440, 1420, 10000),\n",
    "                                         ylim=[0.00000026, 0.0000003], xlim=[700, 1420],\n",
    "                                         fit_start_time=700, fit_end_time=1420) # ADDED PARAMETERS\n",
    "\n",
    "# Get the transfer function \n",
    "TRANSFER_FUNCTION = CONTROL_SBML.getOpenLoopTransferFunction()\n",
    "TRANSFER_FUNCTION"
   ]
  },
  {
   "cell_type": "code",
   "execution_count": null,
   "id": "a5d1078a-1b70-48fc-9186-5a79ee0ee71e",
   "metadata": {},
   "outputs": [],
   "source": [
    "#############################################################################################\n",
    "### ATTEMPTING TO FIT USING FIT_START_TIME + FIT_END_TIME & DIFFERENT CONSTRAINED FITTING ###\n",
    "#############################################################################################\n",
    "\n",
    "# Plot\n",
    "_ = CONTROL_SBML.plotTransferFunctionFit(num_numerator=1, num_denominator=3, \n",
    "                                         initial_value=0.000000009, final_value=0.0000000075,\n",
    "                                         times=np.linspace(440, 1420, 10000),\n",
    "                                         ylim=[0.00000026, 0.0000003], xlim=[700, 1420],\n",
    "                                         fit_start_time=650) # ADDED PARAMETERS\n",
    "\n",
    "# Get the transfer function \n",
    "TRANSFER_FUNCTION = CONTROL_SBML.getOpenLoopTransferFunction()\n",
    "TRANSFER_FUNCTION"
   ]
  },
  {
   "cell_type": "code",
   "execution_count": null,
   "id": "01bcd9c7-0f85-4699-89ce-3fd4ced02249",
   "metadata": {},
   "outputs": [],
   "source": [
    "##############################################\n",
    "### PLOT THE POLES TO SEE WHAT IS GOING ON ###\n",
    "##############################################\n",
    "\n",
    "TRANSFER_FUNCTION.poles(), TRANSFER_FUNCTION.zeros()"
   ]
  },
  {
   "cell_type": "markdown",
   "id": "ec8f591b-7e86-430a-8cf1-2cf4f35424d9",
   "metadata": {
    "id": "edd3f772-e8fe-4738-ad3c-7c707dc2c86e"
   },
   "source": [
    "This is so strange, the transfer function does not want to fit in the positive direction that EI_P is going when Mlc is decreasing. However, the shape looks nice with 2 terms in the numerator and 3 terms in the denominator for the window we care about, 700 minutes to 1420 minutes; additionally, both poles are currently real and negative indicating that the system converges. One pole is very close to zero indicating a long setting time, but this is okay."
   ]
  },
  {
   "cell_type": "code",
   "execution_count": null,
   "id": "d940b251-1fb0-45a0-8765-57950ce70a03",
   "metadata": {},
   "outputs": [],
   "source": [
    "################################################################################################################\n",
    "### ATTEMPTING TO FIT USING FIT_START_TIME + FIT_END_TIME & DIFFERENT CONSTRAINED FITTING & CHANGED NUM_STEP ###\n",
    "################################################################################################################\n",
    "\n",
    "# Plot\n",
    "_ = CONTROL_SBML.plotTransferFunctionFit(num_numerator=2, num_denominator=3, \n",
    "                                         #initial_value=0.000000009, final_value=0.0000000075,\n",
    "                                         times=np.linspace(440, 1420, 10000),\n",
    "                                         #ylim=[0.00000026, 0.0000003], xlim=[700, 1420],\n",
    "                                         fit_start_time=650, num_step = 10, \n",
    "                                         is_steady_state = False) # ADDED PARAMETERS\n",
    "\n",
    "# Get the transfer function \n",
    "TRANSFER_FUNCTION = CONTROL_SBML.getOpenLoopTransferFunction()\n",
    "TRANSFER_FUNCTION"
   ]
  },
  {
   "cell_type": "markdown",
   "id": "4122f3e6-cfb1-487c-9d80-a6ce72741403",
   "metadata": {
    "id": "edd3f772-e8fe-4738-ad3c-7c707dc2c86e"
   },
   "source": [
    "We got the correct direction finally! However, this identified system is subpar at best and we must proceed with extreme caution using this transfer function. This was the best transfer function that I was able to find and the only one with the correct direction, but ultimately I would say our system identification was inadequate. We will use this transfer function in Section 3."
   ]
  },
  {
   "cell_type": "markdown",
   "id": "e25df9c8-e1d9-4048-8d69-0edf25466376",
   "metadata": {
    "id": "r3YyEFTekSYq"
   },
   "source": [
    "### System Identification Inadequacy "
   ]
  },
  {
   "cell_type": "markdown",
   "id": "49fcf19a-70ae-4221-b211-437c8497dfd1",
   "metadata": {
    "id": "edd3f772-e8fe-4738-ad3c-7c707dc2c86e"
   },
   "source": [
    "**INITIAL THOUGHTS:**\n",
    "\n",
    "I tried doing everything that I could to think of to change the transfer function behavior and spent a solid few hours looking through the GitHub trying to understand what was going on under the hood of this function, trying different arguments, etc. It looks like it has a great shape and will fit very nicely if the plotTransferFunctionFit knew to look at possible fits that negatively correlate with the input variable. I suspect a few things could be going on: \n",
    "\n",
    "1.) The threshold in the function isDone (siso_transfer_function_builder.py) might be too high since my inputs and outputs are so small the residuals probably are very tiny and seem highly accurate/pass the threshold with relative ease. This maybe truncates the search for a global minimum and settles for a local minimum with the rmse for the residuals.\n",
    "\n",
    "2.) Perhaps the function is too highly dependent on a random initial guess for each coefficient, as I see that it is a random integer between -10 and 10. Perhaps there is an error executing this logic that biases it to be positive and not negative, like we would expect to see in our transfer function.\n",
    "\n",
    "3.) Perhaps the logic was being flipped somewhere for having an opposite initial value and opposite final value.\n",
    "\n",
    "Let us zoom out and take a more global view of the plot to give us insight into what is going on."
   ]
  },
  {
   "cell_type": "code",
   "execution_count": null,
   "id": "79f1b52d-394d-4869-8d30-ffcb04f26911",
   "metadata": {},
   "outputs": [],
   "source": [
    "################################################################################\n",
    "### ZOOMED OUT PLOT OF A TRANSFER FUNCTION THAT HAS INCORRECT DIRECTIONALITY ###\n",
    "################################################################################\n",
    "\n",
    "# Plot\n",
    "_ = CONTROL_SBML.plotTransferFunctionFit(num_numerator=2, num_denominator=3, \n",
    "                                         initial_value=0.000000009, final_value=0.0000000075,\n",
    "                                         times=np.linspace(440, 1420, 10000),\n",
    "                                         #ylim=[0.00000026, 0.0000003], xlim=[700, 1420],\n",
    "                                         fit_start_time=650, num_step = 10, \n",
    "                                         is_steady_state = False) # ADDED PARAMETERS\n",
    "\n",
    "# Get the transfer function \n",
    "TRANSFER_FUNCTION = CONTROL_SBML.getOpenLoopTransferFunction()\n",
    "TRANSFER_FUNCTION"
   ]
  },
  {
   "cell_type": "markdown",
   "id": "d5a7ccbc-745f-4b34-8294-40c299c32c37",
   "metadata": {
    "id": "edd3f772-e8fe-4738-ad3c-7c707dc2c86e"
   },
   "source": [
    "**FINAL THOUGHTS:**\n",
    "\n",
    "Looking at the above plot it is clear that the transfer function does map the predicted inputs relatively well to the EI_P output for staircase control. The ``plotTransferFunctionFit`` on GitHub works by making a transfer function of the input num_numerators & num_demoninators with initial random coefficients. It then iteratively modifies the coefficients of the transfer function based on the outcome of the RMSD between the predicted EI_P output and actual EI_P output; specifically, changes made to the coefficients are accepted when the RMSD is minimized from the previous RMSD and this process repeats by changing the new coefficients until a threshold minimized RMSD is achieved. Once this threshold is achieved, the function stops the minimization. I believe this threshold was around 1e-5 or 1e-6 which is a low RMSD in most cases. However, observe the scales in our case: we are on a scale of 1e-7! Thus, it is super easy to achieve an RMSD below this threshold in this case because of the small scale of our inputs and outputs, a threshold RMSD here should be closer to 1e-8. \n",
    "\n",
    "Ultimately, I suspect that the ``plotTransferFunctionFit`` function is getting stuck at a local minimum in its search for a transfer function that yields a global minimum RMSD because it stops searching early due to the poor RMSD threshold for this specific case. This high RMSD threshold yields poor resolution for fitting at our minute scales, and therefore a transfer function is not able to be constructed with great attention to detail at the scales of which these reactions are happening in E. coli. Thus, this problem could possibly be solved by allowing the RMSD threshold to be toggled by the user for each specific case."
   ]
  },
  {
   "cell_type": "markdown",
   "id": "fa84fe09-7b45-4daa-b072-0986ddc5d529",
   "metadata": {
    "id": "r3YyEFTekSYq"
   },
   "source": [
    "## Section 3: Testbed Construction & Control Design"
   ]
  },
  {
   "cell_type": "markdown",
   "id": "2f2e61df-2eba-403b-8241-8eb728e18b9c",
   "metadata": {
    "id": "r3YyEFTekSYq"
   },
   "source": [
    "### Testbed Construction"
   ]
  },
  {
   "cell_type": "markdown",
   "id": "c67a03e0-d4d1-4c7e-a9c6-2b74f0ad8629",
   "metadata": {
    "id": "edd3f772-e8fe-4738-ad3c-7c707dc2c86e"
   },
   "source": [
    "I will perform initial testbed construction with the ``plotClosedLoop`` function from the analysis of mTor since Professor Hellerstein had trouble loading my raw antimony file in HW1. This allows us to keep using CONTROL_SBML rather than loading in the antimony and pasting kP & kI in by hand."
   ]
  },
  {
   "cell_type": "markdown",
   "id": "2ed32e42-b59b-4c7b-919a-ec793e6d53d8",
   "metadata": {
    "id": "r3YyEFTekSYq"
   },
   "source": [
    "#### kP, kI, & kP-kI Initial Guesses"
   ]
  },
  {
   "cell_type": "code",
   "execution_count": null,
   "id": "0ba86925-8a5b-4716-a813-4cde08b6dcce",
   "metadata": {},
   "outputs": [],
   "source": [
    "############################################################\n",
    "### CREATE TESTBED WITH SIMPLE kP CONTROL | RANDOM GUESS ###\n",
    "############################################################\n",
    "\n",
    "_, builder = CONTROL_SBML.plotClosedLoop(setpoint=0.0000003, kP=1, kI=None, kF=None,                                          \n",
    "                                         times=np.linspace(440, 1420, 10000),\n",
    "                                         #ylim=[0.00000020, 0.0000004], xlim=[700, 1420],\n",
    "                                        )"
   ]
  },
  {
   "cell_type": "markdown",
   "id": "a75e29bc-bab6-4b69-8ac8-37032c30d8c0",
   "metadata": {
    "id": "edd3f772-e8fe-4738-ad3c-7c707dc2c86e"
   },
   "source": [
    "We see that proportional control achieves a stable system as seen by the horizontal line that settles quickly after the perturbation, but we are way off our set point here with a simple guess for kP. Let us try I control:"
   ]
  },
  {
   "cell_type": "code",
   "execution_count": null,
   "id": "9e3b7fc5-55b0-442c-814a-dfcbadf35eb2",
   "metadata": {},
   "outputs": [],
   "source": [
    "############################################################\n",
    "### CREATE TESTBED WITH SIMPLE kI CONTROL | RANDOM GUESS ###\n",
    "############################################################\n",
    "\n",
    "_, builder = CONTROL_SBML.plotClosedLoop(setpoint=0.0000003, kP=None, kI=1, kF=None,                                          \n",
    "                                         times=np.linspace(440, 1420, 10000),\n",
    "                                         #ylim=[0.00000020, 0.0000004], xlim=[700, 1420],\n",
    "                                        )"
   ]
  },
  {
   "cell_type": "markdown",
   "id": "d6e7e6c5-54f2-44f2-a4d9-78a32e9a3eb3",
   "metadata": {
    "id": "edd3f772-e8fe-4738-ad3c-7c707dc2c86e"
   },
   "source": [
    "With a simple guess for I control only, we see our system output blow up after the perturbation and the Mlc concentration does not seem to change. Let us now try a simple PI controller:"
   ]
  },
  {
   "cell_type": "code",
   "execution_count": null,
   "id": "f7d963ac-0096-4eb2-9d4a-e3f37b537eca",
   "metadata": {},
   "outputs": [],
   "source": [
    "#################################################################\n",
    "### CREATE TESTBED WITH SIMPLE kI & kP CONTROL | RANDOM GUESS ###\n",
    "#################################################################\n",
    "\n",
    "_, builder = CONTROL_SBML.plotClosedLoop(setpoint=0.0000003, kP=1, kI=1, kF=None,                                          \n",
    "                                         times=np.linspace(440, 1420, 10000),\n",
    "                                         #ylim=[0.00000020, 0.0000004], xlim=[700, 1420],\n",
    "                                        )"
   ]
  },
  {
   "cell_type": "markdown",
   "id": "34520390-4181-4fe0-ab13-38c1899ae9b3",
   "metadata": {
    "id": "edd3f772-e8fe-4738-ad3c-7c707dc2c86e"
   },
   "source": [
    "This behavior seems similar to the P control potentially indicating that the kP is too dominant here. Now let us begin exploring PI controls by changing kP and kI."
   ]
  },
  {
   "cell_type": "markdown",
   "id": "328b65bb-9da4-4080-b7e2-97883071db69",
   "metadata": {
    "id": "r3YyEFTekSYq"
   },
   "source": [
    "#### Iterative Exploration to Converge Toward a Satisfactory Control with PI Controller"
   ]
  },
  {
   "cell_type": "code",
   "execution_count": null,
   "id": "f6badff0-d88c-49b6-8d30-c8422a668040",
   "metadata": {},
   "outputs": [],
   "source": [
    "#################################################################################\n",
    "### CREATE TESTBED WITH SIMPLE kI & kP CONTROL | 1ST ITERATION OF EXPLORATION ###\n",
    "#################################################################################\n",
    "\n",
    "_, builder = CONTROL_SBML.plotClosedLoop(setpoint=0.0000003, kP=.01, kI=.001, kF=None,                                          \n",
    "                                         times=np.linspace(440, 1420, 10000),\n",
    "                                         ylim=[0.0000001, 0.0000005], xlim=[450, 1420],\n",
    "                                        )"
   ]
  },
  {
   "cell_type": "markdown",
   "id": "16954347-112f-4170-bc3b-915b86421f8f",
   "metadata": {
    "id": "edd3f772-e8fe-4738-ad3c-7c707dc2c86e"
   },
   "source": [
    "Scaling down the PI control by inputting a smaller kP and kI in this closed system is now giving some more interesting behavior! We are closer to our setpoint and the perturbation at t = 500 min is not as influential now."
   ]
  },
  {
   "cell_type": "code",
   "execution_count": null,
   "id": "08ef0698-35fc-4f3b-90bf-46cbfaf316be",
   "metadata": {},
   "outputs": [],
   "source": [
    "#################################################################################\n",
    "### CREATE TESTBED WITH SIMPLE kI & kP CONTROL | 2ND ITERATION OF EXPLORATION ###\n",
    "#################################################################################\n",
    "\n",
    "_, builder = CONTROL_SBML.plotClosedLoop(setpoint=0.0000003, kP=.001, kI=-.001, kF=None,                                          \n",
    "                                         times=np.linspace(440, 1420, 10000),\n",
    "                                         ylim=[0.0000001, 0.0000005], xlim=[450, 1420],\n",
    "                                        )"
   ]
  },
  {
   "cell_type": "markdown",
   "id": "2c1f5160-e482-4f01-9581-abe173aaf5ac",
   "metadata": {
    "id": "edd3f772-e8fe-4738-ad3c-7c707dc2c86e"
   },
   "source": [
    "We are beginning to hit the set point now! Wow, this is looking fantastic the perturbation at t = 500 minutes is still not ideal, but we converge to a steady state pretty quick. Making kI negative helped to achieve our setting point goal. Let us keep exploring:"
   ]
  },
  {
   "cell_type": "code",
   "execution_count": null,
   "id": "56338a84-b2b0-45ea-849e-2a1e83682647",
   "metadata": {},
   "outputs": [],
   "source": [
    "#################################################################################\n",
    "### CREATE TESTBED WITH SIMPLE kI & kP CONTROL | 3RD ITERATION OF EXPLORATION ###\n",
    "#################################################################################\n",
    "\n",
    "_, builder = CONTROL_SBML.plotClosedLoop(setpoint=0.0000003, kP=0.0000006, kI=-.005, kF=None,                                          \n",
    "                                         times=np.linspace(440, 1420, 10000),\n",
    "                                         ylim=[0.0000001, 0.0000005], xlim=[450, 1420],\n",
    "                                        )"
   ]
  },
  {
   "cell_type": "markdown",
   "id": "632c25a7-21c3-4c81-b5f4-76e32d093195",
   "metadata": {
    "id": "edd3f772-e8fe-4738-ad3c-7c707dc2c86e"
   },
   "source": [
    "Very interesting! Our system now has a drastically reduced perturbation and EI_P always stays within our desired concentration range. Interestingly, we introduced a lot of oscillation into our system, which is not ideal since one control objective sought to minimize this, let us try one iteration to minimize oscillation:"
   ]
  },
  {
   "cell_type": "code",
   "execution_count": null,
   "id": "bfb44926-5123-4cee-88db-ee03ce557a38",
   "metadata": {},
   "outputs": [],
   "source": [
    "#################################################################################\n",
    "### CREATE TESTBED WITH SIMPLE kI & kP CONTROL | 4TH ITERATION OF EXPLORATION ###\n",
    "#################################################################################\n",
    "\n",
    "_, builder = CONTROL_SBML.plotClosedLoop(setpoint=0.0000003, kP=0.0000006, kI=-.0035, kF=None,                                          \n",
    "                                         times=np.linspace(440, 1420, 10000),\n",
    "                                         ylim=[0.0000001, 0.0000005], xlim=[450, 1420],\n",
    "                                        )"
   ]
  },
  {
   "cell_type": "markdown",
   "id": "42489f67-7d77-4fc9-84e4-fa21ee7581d5",
   "metadata": {
    "id": "edd3f772-e8fe-4738-ad3c-7c707dc2c86e"
   },
   "source": [
    "This PI controller works beautifully for our system!! This achieves all of our control objectives, surprisingly, but we will further optimize this in the grid search part.\n",
    "\n",
    "**OBSERVATIONS OF THE EFFECT OF kP & kI:**\n",
    "\n",
    "A positive kI was causing our system to way overcompensate when the perturbation hit at t = 500 minutes because of the building error between EI_P and the setpoint before hitting this perturbation time point at t = 500 min. I think making kI negative helped so much because that built up error could help counteract the huge perturbation at t = 500 min which causes EI_P to spike temporarily. Interestingly, the I control adds oscillation to the system, which seemed to be especially prevalent at the 3rd iteration. The root locus plot will tell us more about this behavior from I control. Ultimately, making kI negative helped to reach the setpoint by counteracting the overcompensation at the perturbation at t = 500 min and decreasing the magnitude of kI below -0.005 helped to fix the oscillatory behavior that arose.\n",
    "\n",
    "I had convergence errors trying to make kP negative, which makes sense because that would have the error work against bringing the EI_P concentration to the setpoint. Making kP extremely small really helped to minimize the spike of EI_P at t = 500 min when the gluocse concentration drops significantly, likely due to it minimizing overcompensation. Specifically, making kP have the same order of magnitude as the setpoint really made a difference.\n",
    "\n",
    "Overall, I am extremely satisfied with these designs and they beautifully achieve our initial control objects by keeping EIP in the desired concentration range, minimizing the oscillations, and allowing for a quick settling time and steady-state convergence. We will further optimize kP and kI in the grid search in the last part!"
   ]
  },
  {
   "cell_type": "markdown",
   "id": "304cdda0-b1b8-420a-b567-c0c628520fed",
   "metadata": {
    "id": "r3YyEFTekSYq"
   },
   "source": [
    "### Root Locus Analysis"
   ]
  },
  {
   "cell_type": "markdown",
   "id": "e4169e15-a311-4351-a4a1-f20c6ff24c59",
   "metadata": {
    "id": "tAZvhZBt8o6f"
   },
   "source": [
    "#### Grab Best Transfer Function from the System Identification in HW2"
   ]
  },
  {
   "cell_type": "code",
   "execution_count": null,
   "id": "2e5c1831-63d2-4653-9163-abc44270375f",
   "metadata": {},
   "outputs": [],
   "source": [
    "###########################################\n",
    "### REPLOT TRANSFER FUNCTION FROM ABOVE ###\n",
    "###########################################\n",
    "\n",
    "# Plot\n",
    "_ = CONTROL_SBML.plotTransferFunctionFit(num_numerator=2, num_denominator=3, \n",
    "                                         #initial_value=0.000000009, final_value=0.0000000075,\n",
    "                                         times=np.linspace(440, 1420, 10000),\n",
    "                                         #ylim=[0.00000026, 0.0000003], xlim=[700, 1420],\n",
    "                                         fit_start_time=650, num_step = 10, \n",
    "                                         is_steady_state = False) # ADDED PARAMETERS\n",
    "\n",
    "# Get the transfer function \n",
    "TRANSFER_FUNCTION = CONTROL_SBML.getOpenLoopTransferFunction()\n",
    "TRANSFER_FUNCTION"
   ]
  },
  {
   "cell_type": "markdown",
   "id": "ac35db29-6f42-4cc0-adf7-e6048cac0dd6",
   "metadata": {
    "id": "04e75fe1-33b2-49cf-b8cf-82bf0db4d3e3"
   },
   "source": [
    "This was the best transfer function from HW2 because it was the only transfer function that had the same directionality of the EI_P decrease. Let us look at the zeros & poles:"
   ]
  },
  {
   "cell_type": "code",
   "execution_count": null,
   "id": "5398189d-7bd0-4138-a669-3637e32802df",
   "metadata": {
    "colab": {
     "base_uri": "https://localhost:8080/"
    },
    "executionInfo": {
     "elapsed": 3,
     "status": "ok",
     "timestamp": 1706135721480,
     "user": {
      "displayName": "Joseph Hellerstein",
      "userId": "07301174361489660166"
     },
     "user_tz": 480
    },
    "id": "94592315-9f99-4fa1-8ca7-960f3e34a5fe",
    "outputId": "727f6204-2ad0-48d4-963a-c034c30ea1c4"
   },
   "outputs": [],
   "source": [
    "#######################################################\n",
    "### FIND THE ZEROS & POLES OF THE TRANSFER FUNCTION ###\n",
    "#######################################################\n",
    "\n",
    "TRANSFER_FUNCTION.zeros(), TRANSFER_FUNCTION.poles()"
   ]
  },
  {
   "cell_type": "markdown",
   "id": "c9676347-961e-40ba-8c9b-3e0f13203c63",
   "metadata": {
    "id": "3001497a-1a07-47c5-9a0a-c6ad0da88035"
   },
   "source": [
    "We see that we have a zero at s = 0 and that we have two negative, real poles indicating that our system is stable. These poles are located at s = -2.3439 and s = -0.0084, which are both pretty close to zero."
   ]
  },
  {
   "cell_type": "markdown",
   "id": "385a90ef-c30f-481a-9942-8f6051a99b6f",
   "metadata": {
    "id": "tAZvhZBt8o6f"
   },
   "source": [
    "#### P control Root Locus Analysis"
   ]
  },
  {
   "cell_type": "markdown",
   "id": "a2b7d72e-c916-4ea8-9932-0228547d5e72",
   "metadata": {
    "id": "906a0aa3-30b1-428b-908d-e6e9c9ac9647"
   },
   "source": [
    "\\begin{eqnarray}\n",
    "H(s)\n",
    "& = & \\frac{k_P Z(s)}{P(s) + k_P Z(s)} \\\\\n",
    "\\end{eqnarray}"
   ]
  },
  {
   "cell_type": "markdown",
   "id": "91172063-6301-474f-99a8-552bd4739c03",
   "metadata": {
    "id": "3001497a-1a07-47c5-9a0a-c6ad0da88035"
   },
   "source": [
    "Note that we do not multiply our transfer function by anything else for P control."
   ]
  },
  {
   "cell_type": "code",
   "execution_count": null,
   "id": "f7364715-ae9c-464e-958c-5b749405f788",
   "metadata": {},
   "outputs": [],
   "source": [
    "##############################################\n",
    "### DEFINE THE P CONTROL TRANSFER FUNCTION ###\n",
    "##############################################\n",
    "\n",
    "P_CONTROL_TRANSFER_FUNCTION = (9.51*s + 0)/(0.1723*(s**2) + 0.4053*s + 0.003403)"
   ]
  },
  {
   "cell_type": "code",
   "execution_count": null,
   "id": "1d5486fe-eeda-4f12-8c53-ab31e717390f",
   "metadata": {
    "colab": {
     "base_uri": "https://localhost:8080/",
     "height": 472
    },
    "executionInfo": {
     "elapsed": 577,
     "status": "ok",
     "timestamp": 1706135722055,
     "user": {
      "displayName": "Joseph Hellerstein",
      "userId": "07301174361489660166"
     },
     "user_tz": 480
    },
    "id": "05154ae4-e453-43fe-80f5-27525d296da4",
    "outputId": "c6fd38ae-ec79-4148-b027-ca292bd967ea"
   },
   "outputs": [],
   "source": [
    "#########################################\n",
    "### PLOT THE ROOT LOCUS FOR P CONTROL ###\n",
    "#########################################\n",
    "\n",
    "_ = control.root_locus(P_CONTROL_TRANSFER_FUNCTION, grid=False)"
   ]
  },
  {
   "cell_type": "code",
   "execution_count": null,
   "id": "a2e6b8f9-4c3e-41f3-b665-906f2d3d2a9c",
   "metadata": {
    "colab": {
     "base_uri": "https://localhost:8080/",
     "height": 472
    },
    "executionInfo": {
     "elapsed": 577,
     "status": "ok",
     "timestamp": 1706135722055,
     "user": {
      "displayName": "Joseph Hellerstein",
      "userId": "07301174361489660166"
     },
     "user_tz": 480
    },
    "id": "05154ae4-e453-43fe-80f5-27525d296da4",
    "outputId": "c6fd38ae-ec79-4148-b027-ca292bd967ea"
   },
   "outputs": [],
   "source": [
    "#####################################################################\n",
    "### PLOT THE ROOT LOCUS FOR P CONTROL & ZOOM IN ON THE RIGHT POLE ###\n",
    "#####################################################################\n",
    "\n",
    "_ = control.root_locus(P_CONTROL_TRANSFER_FUNCTION, xlim=[-.01, 0], grid=False) "
   ]
  },
  {
   "cell_type": "markdown",
   "id": "f1dfd9d7-a6a9-4dc6-b915-bd417f5d580b",
   "metadata": {
    "id": "3001497a-1a07-47c5-9a0a-c6ad0da88035"
   },
   "source": [
    "**P CONTROL ROOT LOCUS ANALYSIS**\n",
    "\n",
    "The above root locus plots show a couple of things. First, we can see that our poles are real and negative since they are on the real numbers line in the s-plane with no imaginary component. The negative real component of our roots indicates that our system is stable because exponential functions converge with negative exponents, indicating the exponential component of the Laplace will converge. The non-imaginary (i.e. real) part of our poles indicates that there is no oscillation in the P control system because Euler's Formula for exponentials, which introduces oscillation with cosine and sine for complex numbers, is not applicable. Thus, the exponential function of the Laplace is not transformed into a trigonometric function to introduce oscillation, but rather it stays exponential, which does not have oscillating behavior in mathematics in isolation.\n",
    "\n",
    "These poles always stay on the real numbers line in the s-plane, but on separate trajectories. As kP increases, the leftmost pole keeps becoming more negative but the rightmost pole becomes less negative until it approaches zero (bottom graph). Once the rightmost pole hits zero, kP cannot continually increase or else the system will become unstable. Thus, the rightmost pole of -0.008 is the dominant pole and it will limit the values we can achieve for kP. Thus, a grid search strategy will employ very little increase in kP. This also restricts the movement of the leftmost pole to the left. Furthermore, because our poles cannot change in the vertical direction (i.e., have oscillation and imaginary component), the kP is unable to change the damping of the perturbation (damping coefficient) much. However, moving the rightmost pole to become zero by increasing kP and moving the leftmost pole left during this process could decrease the settling time!"
   ]
  },
  {
   "cell_type": "markdown",
   "id": "d5a133f4-2053-4973-b521-73be7cf3eab1",
   "metadata": {
    "id": "tAZvhZBt8o6f"
   },
   "source": [
    "#### I control Root Locus Analysis"
   ]
  },
  {
   "cell_type": "markdown",
   "id": "2ce86b3c-b821-4b13-b312-21d3aae71594",
   "metadata": {
    "id": "5620ca1b-5510-4d8c-94a1-a0b3c5c04173"
   },
   "source": [
    "\\begin{eqnarray}\n",
    "H(s)\n",
    "& = & \\frac{k_I Z(s)}{s P(s) + k_I Z(s)} \\\\\n",
    "\\end{eqnarray}"
   ]
  },
  {
   "cell_type": "markdown",
   "id": "12a92c28-d2b9-4f55-b485-2f12ca149e10",
   "metadata": {
    "id": "3001497a-1a07-47c5-9a0a-c6ad0da88035"
   },
   "source": [
    "Note that we multiply our transfer function by 1/s for I control."
   ]
  },
  {
   "cell_type": "code",
   "execution_count": null,
   "id": "5537f339-5f64-4265-aab0-f65ce0090f5b",
   "metadata": {},
   "outputs": [],
   "source": [
    "##############################################\n",
    "### DEFINE THE I CONTROL TRANSFER FUNCTION ###\n",
    "##############################################\n",
    "\n",
    "I_CONTROL_TRANSFER_FUNCTION = ((9.51*s + 0)/(0.1723*(s**2) + 0.4053*s + 0.003403))*(1/s) #TF * (1/s)"
   ]
  },
  {
   "cell_type": "code",
   "execution_count": null,
   "id": "fa26bfee-f123-42ab-b20d-b0a691b02f4a",
   "metadata": {
    "colab": {
     "base_uri": "https://localhost:8080/",
     "height": 472
    },
    "executionInfo": {
     "elapsed": 577,
     "status": "ok",
     "timestamp": 1706135722055,
     "user": {
      "displayName": "Joseph Hellerstein",
      "userId": "07301174361489660166"
     },
     "user_tz": 480
    },
    "id": "05154ae4-e453-43fe-80f5-27525d296da4",
    "outputId": "c6fd38ae-ec79-4148-b027-ca292bd967ea"
   },
   "outputs": [],
   "source": [
    "#########################################\n",
    "### PLOT THE ROOT LOCUS FOR I CONTROL ###\n",
    "#########################################\n",
    "\n",
    "_ = control.root_locus(I_CONTROL_TRANSFER_FUNCTION, xlim=[-4, 1], grid=False) "
   ]
  },
  {
   "cell_type": "code",
   "execution_count": null,
   "id": "71034a5a-0430-4e2d-8be1-0efec9d1ab99",
   "metadata": {
    "colab": {
     "base_uri": "https://localhost:8080/",
     "height": 472
    },
    "executionInfo": {
     "elapsed": 577,
     "status": "ok",
     "timestamp": 1706135722055,
     "user": {
      "displayName": "Joseph Hellerstein",
      "userId": "07301174361489660166"
     },
     "user_tz": 480
    },
    "id": "05154ae4-e453-43fe-80f5-27525d296da4",
    "outputId": "c6fd38ae-ec79-4148-b027-ca292bd967ea"
   },
   "outputs": [],
   "source": [
    "#####################################################################\n",
    "### PLOT THE ROOT LOCUS FOR I CONTROL & ZOOM IN ON THE RIGHT POLE ###\n",
    "#####################################################################\n",
    "\n",
    "_ = control.root_locus(I_CONTROL_TRANSFER_FUNCTION, xlim=[-.01, 0.005], grid=False) "
   ]
  },
  {
   "cell_type": "markdown",
   "id": "359e8c60-af0e-42ec-b782-571ede8eb6f7",
   "metadata": {
    "id": "3001497a-1a07-47c5-9a0a-c6ad0da88035"
   },
   "source": [
    "**I CONTROL ROOT LOCUS ANALYSIS**\n",
    "\n",
    "The above root locus plots show a couple of things. Again, we can see that our poles are intially real and negative since they are on the real numbers line in the s-plane with no imaginary component. The negative real component of our roots indicates that our system is stable because exponential functions converge with negative exponents, indicating the exponential component of the Laplace will converge. The non-imaginary (i.e. real) part of our poles indicates that there is no intial oscillation in the I control system.\n",
    "\n",
    "However, as kI increases we see the poles move closer toward the midpoint between them until they diverge vertically into the imaginary s-plane, making the poles become complex numbers with a negative real component. The negative real component of the complex number means that this system stays stable for increasing kI, which is ideal. However, the increase in imaginary number magnitude for the poles with increasing kI indicates that oscillations are introduced into our system since the exponential function takes the form of Euler's formula with trigonometric functions in the Laplace Transform. \n",
    "\n",
    "The trajectories of these poles converging to a negative real number and then diverging in the imaginary s-plane indicates that there is not one dominant pole since the system never becomes unstable (ie, tends toward a positive real number). However, one of our control objectives was to minimize any oscillations so we have much greater room to modify kI here than kP for shifting our poles but we have to be cautious of introducing too many oscillations. Because these poles do change their imaginary-component magnitude at a certain point with increasing kI, we do have a method of controlling the damping coefficient with kI to make any oscillations have less magnitude. Thus, we need to find a value of kI that minimizes oscillations but also minimizes the frequency of any present oscillations. We are not concerned with stability with I control as mentioned previously."
   ]
  },
  {
   "cell_type": "markdown",
   "id": "0e921593-6f1b-4f67-857a-89879680f457",
   "metadata": {
    "id": "tAZvhZBt8o6f"
   },
   "source": [
    "#### Grid Search Strategy Based on P & I Control"
   ]
  },
  {
   "cell_type": "markdown",
   "id": "dccf2bac-04a3-483b-8e6f-5cf93aceff8e",
   "metadata": {
    "id": "3001497a-1a07-47c5-9a0a-c6ad0da88035"
   },
   "source": [
    "Based on the results and analysis above, it would be wise to grid search very narrow values of kP due to that dominant pole being very close to zero, which destabilizes this system beyond zero. It would be wise to search a broader range of kI values since there is no point of instability in the I control root locus plot; we should optimize kI on finding the smallest setting time with the least introduced oscillation. At the very least, the oscillation should stay centered around the setpoint and not have values of EIP outside of our control objective limits 2.4e-7 to 4.0e-7. "
   ]
  },
  {
   "cell_type": "markdown",
   "id": "dfe53c65-06d1-4e32-b221-4bb8958755ab",
   "metadata": {
    "id": "r3YyEFTekSYq"
   },
   "source": [
    "### Grid Search for PI Controller"
   ]
  },
  {
   "cell_type": "markdown",
   "id": "abe1e28e-5687-4dae-a745-c7b3b994f397",
   "metadata": {
    "id": "r3YyEFTekSYq"
   },
   "source": [
    "#### Testbed Construction from Different Method for Easier Grid Search "
   ]
  },
  {
   "cell_type": "code",
   "execution_count": null,
   "id": "e9f71bd5-ff26-422f-85c8-06502d7c0985",
   "metadata": {},
   "outputs": [],
   "source": [
    "#################################################################\n",
    "### USE CUSTOM BUILDPITESTBED FUNCTION FOR EASIER GRID SEARCH ###\n",
    "#################################################################\n",
    "\n",
    "antimony = CONTROL_SBML.getAntimony()\n",
    "PI_CONTROLLER_TESTBED = buildPITestbed(antimony, INPUT_NAME, OUTPUT_NAME, sign=1)"
   ]
  },
  {
   "cell_type": "code",
   "execution_count": null,
   "id": "dded1cf8-952d-48c6-91fb-fa5858850a0a",
   "metadata": {},
   "outputs": [],
   "source": [
    "######################################\n",
    "### PLOT THE PI CONTROLLER TESTBED ###\n",
    "######################################\n",
    "\n",
    "_ = plotModel(PI_CONTROLLER_TESTBED, title=\"PI Control of EI_P Output from Mlc Input (EI_P Concentration Scale)\",\n",
    "              selections=[\"setpoint\", \"EI_P\", \"Mlc\"],\n",
    "              setpoint=0.0000003, kP=0.0000006, kI=-.0035, ylim=[0.0000001, 0.0000005], \n",
    "              times=np.linspace(440, 1420, 10000), figsize=(4,4))\n",
    "\n",
    "_ = plotModel(PI_CONTROLLER_TESTBED, title=\"PI Control of EI_P Output from Mlc Input (Mlc Concentration Scale)\", \n",
    "              selections=[\"setpoint\", \"EI_P\", \"Mlc\"],\n",
    "              setpoint=0.0000003, kP=0.0000006, kI=-.0035, ylim=[0.000000001, 0.00000001], \n",
    "              times=np.linspace(440, 1420, 10000), figsize=(4,4))"
   ]
  },
  {
   "cell_type": "markdown",
   "id": "4568390b-de4b-4118-9fa7-387566ca108a",
   "metadata": {
    "id": "3001497a-1a07-47c5-9a0a-c6ad0da88035"
   },
   "source": [
    "This is redundant from part one, but I am modeling this section off of the workflow_for_closed_loop design & strategies we discussed in class. I will be optimizing the kP & kI found in the initial testbed construction. The root locus plots provide some helpful general information but I am taking those results with caution since by system identification was subpar."
   ]
  },
  {
   "cell_type": "markdown",
   "id": "d943d530-8742-4851-a3c8-b76ce4a29415",
   "metadata": {
    "id": "r3YyEFTekSYq"
   },
   "source": [
    "#### kP & kI Grid Search"
   ]
  },
  {
   "cell_type": "markdown",
   "id": "a113455c-f493-4470-b77a-07c219a64897",
   "metadata": {
    "id": "3001497a-1a07-47c5-9a0a-c6ad0da88035"
   },
   "source": [
    "Utilizing the workflow_for_closed_loop notebook, we will first optimize via rmse of the setpoint. Achieving a low rmse with this will correlate with our design objectives of keeping the system stable, reducing oscillations, and magnitude of oscillations, keeping EIP in the desired range, and settling quickly. The code was modified slightly for a more accurate rmse calculation by its true definition. Additionally, print statements help the user see the trajectory."
   ]
  },
  {
   "cell_type": "code",
   "execution_count": null,
   "id": "144ef9e1-a40a-4958-a417-5f31db0f0ddf",
   "metadata": {
    "colab": {
     "base_uri": "https://localhost:8080/",
     "height": 468
    },
    "executionInfo": {
     "elapsed": 18934,
     "status": "ok",
     "timestamp": 1709162165282,
     "user": {
      "displayName": "Joseph Hellerstein",
      "userId": "07301174361489660166"
     },
     "user_tz": 480
    },
    "id": "ea9ad50e-0d1d-494b-9a06-8feae9ef3796",
    "outputId": "0463bbed-f2f4-4ffe-e905-3ab2a7704ff5"
   },
   "outputs": [],
   "source": [
    "####################################################################################\n",
    "### PERFORM THE GRID SEARCH FOR kP & kI | OPTIMIZE FOR LOW RMSE TO SETPOINT ONLY ###\n",
    "####################################################################################\n",
    "\n",
    "# Previous kP & kI for reference\n",
    "kP = 0.0000006 \n",
    "kI = -.0035\n",
    "\n",
    "# Initialize the search parameters\n",
    "setpoint = 0.0000003\n",
    "best_rmse = 1.3857e-8 # Determined after running this multiple times and changing values\n",
    "best_ks = []\n",
    "kPs = [0.0000002 + 0.0000001*n for n in range(20)]\n",
    "kIs = [-.004 + .0001*n for n in range(20)]\n",
    "\n",
    "# Perform the grid search\n",
    "for kI in kIs:\n",
    "    for kP in kPs:\n",
    "        try:\n",
    "            data = plotModel(PI_CONTROLLER_TESTBED, title=\"\", \n",
    "                             selections=[\"setpoint\", \"EI_P\", \"Mlc\"], \n",
    "                             is_plot=False, setpoint=setpoint, \n",
    "                             kP=kP, kI=kI, ylim=[0.0000001, 0.0000005], \n",
    "                             times=np.linspace(440, 1420, 10000))\n",
    "        except:\n",
    "            continue\n",
    "        outputs = data[OUTPUT_NAME]\n",
    "        rmse = np.sqrt(np.mean((setpoint - outputs) ** 2)) \n",
    "        if rmse < best_rmse:\n",
    "            best_rmse = rmse\n",
    "            print(\"rmse =\", best_rmse, \"kP =\", kP, \"kI =\", kI)\n",
    "            best_ks = [kP, kI]\n",
    "\n",
    "# Report the results\n",
    "if len(best_ks) == 0:\n",
    "    print(\"\\n***No design found.\")\n",
    "else:\n",
    "    kP = best_ks[0]\n",
    "    kI = best_ks[1]\n",
    "    title = \"kP={kP}, kI={kI}\".format(kP=kP, kI=kI)\n",
    "    _ = plotModel(PI_CONTROLLER_TESTBED, selections=[\"setpoint\", \"EI_P\", \"Mlc\"], \n",
    "                  is_plot=True,\n",
    "                  setpoint=setpoint, kP=kP, kI=kI, ylim=[0.0000001, 0.0000005],\n",
    "                  times=np.linspace(440, 1420, 10000), \n",
    "                  title=title+\" (EI_P Conc. Scale)\")\n",
    "    \n",
    "    _ = plotModel(PI_CONTROLLER_TESTBED, selections=[\"setpoint\", \"EI_P\", \"Mlc\"], \n",
    "                  is_plot=True,\n",
    "                  setpoint=setpoint, kP=kP, kI=kI, ylim=[0.000000001, 0.00000001],\n",
    "                  times=np.linspace(440, 1420, 10000), \n",
    "                  title=title+\" (Mlc Conc. Scale)\")"
   ]
  },
  {
   "cell_type": "markdown",
   "id": "a90d3976-b66e-4694-a322-c80ff0af946d",
   "metadata": {
    "id": "3001497a-1a07-47c5-9a0a-c6ad0da88035"
   },
   "source": [
    "This PI controller is excellent! We are already achieving our design objectives. However, in the spirit of the assignment, I think that we can do better. Let us now optimize based on a weighted score split equally between minimizing rmse and minimizing the number of oscillations, two of our core design objectives. This just requires a few extra lines of code:"
   ]
  },
  {
   "cell_type": "code",
   "execution_count": null,
   "id": "076afe7e-5638-4f51-9f1f-b6794e9f7fbc",
   "metadata": {},
   "outputs": [],
   "source": [
    "#########################################################################################\n",
    "### PERFORM THE GRID SEARCH FOR kP & kI | OPTIMIZE FOR LOW RMSE & NUM OF OSCILLATIONS ###\n",
    "#########################################################################################\n",
    "\n",
    "# Previous kP & kI for reference\n",
    "kP = 0.0000006 \n",
    "kI = -.0035\n",
    "\n",
    "# Initialize the search parameters\n",
    "setpoint = 0.0000003\n",
    "best_score = float('inf')  # Initialize best score to a high value for minimization\n",
    "best_ks = []\n",
    "kPs = [0.0000001 + 0.0000001*n for n in range(20)]\n",
    "kIs = [-.004 + .0001*n for n in range(20)]\n",
    "\n",
    "# We will create a weighted scoring system that prioritizes low rmse & low number of oscillations\n",
    "rmse_weights = 0.5\n",
    "oscillation_weights = 0.5\n",
    "\n",
    "# Dummy max values for normalization\n",
    "max_rmse = 1.3857e-8  # Based on empirical data\n",
    "max_oscillations = 50  # Based on empirical data\n",
    "\n",
    "# Perform the grid search\n",
    "for kI_candidate in kIs:\n",
    "    for kP_candidate in kPs:\n",
    "        try:\n",
    "            data = plotModel(PI_CONTROLLER_TESTBED, title=\"\", \n",
    "                             selections=[\"setpoint\", \"EI_P\", \"Mlc\"], \n",
    "                             is_plot=False, setpoint=setpoint, \n",
    "                             kP=kP_candidate, kI=kI_candidate, ylim=[0.0000001, 0.0000005], \n",
    "                             times=np.linspace(440, 1420, 10000))\n",
    "        except:\n",
    "            continue\n",
    "        outputs = data[OUTPUT_NAME]\n",
    "        rmse = np.sqrt(np.mean((setpoint - outputs) ** 2))\n",
    "\n",
    "        # Calculate oscillations\n",
    "        output_changes = np.diff(outputs)\n",
    "        oscillations = np.sum(np.diff(np.sign(output_changes)) != 0)\n",
    "        \n",
    "        # Normalize metrics\n",
    "        normalized_rmse = rmse / max_rmse\n",
    "        normalized_oscillations = oscillations / max_oscillations\n",
    "        \n",
    "        # Compute weighted score (LOWER = BETTER)\n",
    "        score = rmse_weights * normalized_rmse + oscillation_weights * normalized_oscillations\n",
    "        \n",
    "        # Update best parameters based on score (LOWER = BETTER)\n",
    "        if score < best_score:\n",
    "            best_score = score\n",
    "            best_ks = [kP_candidate, kI_candidate]\n",
    "            print(\"New Best Found: Score =\", best_score, \"RMSE =\", rmse, \"Oscillations =\", oscillations, \"kP =\", kP_candidate, \"kI =\", kI_candidate)\n",
    "\n",
    "# Report the results\n",
    "if len(best_ks) == 0:\n",
    "    print(\"\\n***No design found.\")\n",
    "else:\n",
    "    kP, kI = best_ks\n",
    "    title = f\"kP={kP}, kI={kI}, Score={best_score}\"\n",
    "    _ = plotModel(PI_CONTROLLER_TESTBED, selections=[\"setpoint\", \"EI_P\", \"Mlc\"], \n",
    "                  is_plot=True,\n",
    "                  setpoint=setpoint, kP=kP, kI=kI, ylim=[0.0000001, 0.0000005],\n",
    "                  times=np.linspace(440, 1420, 10000), \n",
    "                  title=title+\" (EI_P Conc. Scale)\")\n",
    "    \n",
    "    _ = plotModel(PI_CONTROLLER_TESTBED, selections=[\"setpoint\", \"EI_P\", \"Mlc\"], \n",
    "                  is_plot=True,\n",
    "                  setpoint=setpoint, kP=kP, kI=kI, ylim=[0.000000001, 0.00000001],\n",
    "                  times=np.linspace(440, 1420, 10000), \n",
    "                  title=title+\" (Mlc Conc. Scale)\")"
   ]
  },
  {
   "cell_type": "markdown",
   "id": "4c671af3-b739-49c8-a397-76c02d1598ee",
   "metadata": {
    "id": "3001497a-1a07-47c5-9a0a-c6ad0da88035"
   },
   "source": [
    "It worked! There is not much of a change between this PI controller and the previous one, but it was satisfying to get this code running and to watch it work. Now, let's try to get super fancy by also modifying this scoring function to account for the maximum oscillation magnitude and the maximum value away from the setpoint (which might be nearly the same). Nonetheless, it is a valuable exercise."
   ]
  },
  {
   "cell_type": "code",
   "execution_count": null,
   "id": "45dd21e7-a72a-46de-9c7c-246b31248d7c",
   "metadata": {},
   "outputs": [],
   "source": [
    "####################################################################\n",
    "### PERFORM THE GRID SEARCH FOR kP & kI | OPTIMIZE FOR LOW RMSD, ###\n",
    "### LOW MAGNITUDE OF OSCILLATIONS, LOW NUM OF OSCILLATIONS, AND  ###\n",
    "### LOW MAXIMAL DEVIATION FROM SETPOINT                          ###\n",
    "####################################################################\n",
    "\n",
    "# Previous kP & kI for reference\n",
    "kP = 0.0000006 \n",
    "kI = -.0035\n",
    "\n",
    "# Initialize the search parameters\n",
    "setpoint = 0.0000003\n",
    "best_score = float('inf')  # Initialize best score to a high value for minimization\n",
    "best_ks = []\n",
    "kPs = [0.0000001 + 0.0000001*n for n in range(20)]\n",
    "kIs = [-.004 + .0001*n for n in range(20)]\n",
    "\n",
    "# We will create a weighted scoring system that prioritizes equally\n",
    "rmse_weight = 0.25\n",
    "oscillation_weight = 0.25\n",
    "magnitude_weight = 0.25\n",
    "max_deviation_weight = 0.25\n",
    "\n",
    "# Dummy max values for normalization \n",
    "max_rmse = 1.3857e-8 # Based on empirical data \n",
    "max_oscillations = 25 # Based on empirical data\n",
    "max_magnitude = 5.0e-8 # Based on empirical data\n",
    "max_deviation = 8.0e-8 # Based on empirical data \n",
    "\n",
    "# Perform the grid search\n",
    "for kI_candidate in kIs:\n",
    "    for kP_candidate in kPs:\n",
    "        try:\n",
    "            data = plotModel(PI_CONTROLLER_TESTBED, title=\"\", selections=[\"setpoint\", \"EI_P\", \"Mlc\"], \n",
    "                     is_plot=False, setpoint=setpoint, kP=kP_candidate, kI=kI_candidate, ylim=[0.0000001, 0.0000005], \n",
    "                     times=np.linspace(440, 1420, 10000))\n",
    "        except:\n",
    "            continue\n",
    "        outputs = data[OUTPUT_NAME]\n",
    "        rmse = np.sqrt(np.mean((setpoint - outputs) ** 2))\n",
    "\n",
    "        # Calculate oscillations and their magnitude\n",
    "        output_changes = np.diff(outputs)\n",
    "        sign_changes_indices = np.where(np.diff(np.sign(output_changes)))[0]\n",
    "        oscillations = len(sign_changes_indices)\n",
    "        magnitude_of_oscillations = np.mean(np.abs(np.diff(outputs[sign_changes_indices])))\n",
    "\n",
    "        # Calculate maximum deviation from setpoint\n",
    "        max_deviation = np.max(np.abs(outputs - setpoint))\n",
    "\n",
    "        # Normalize metrics\n",
    "        normalized_rmse = rmse / max_rmse\n",
    "        normalized_oscillations = oscillations / max_oscillations\n",
    "        normalized_magnitude = magnitude_of_oscillations / max_magnitude\n",
    "        normalized_deviation = max_deviation / max_deviation\n",
    "\n",
    "        # Compute weighted score (LOWER = BETTER)\n",
    "        score = (rmse_weight * normalized_rmse +\n",
    "                 oscillation_weight * normalized_oscillations +\n",
    "                 magnitude_weight * normalized_magnitude +\n",
    "                 max_deviation_weight * normalized_deviation\n",
    "                )\n",
    "        \n",
    "        # Update best parameters based on score (LOWER = BETTER)\n",
    "        if score < best_score:\n",
    "            best_score = score\n",
    "            best_ks = [kP_candidate, kI_candidate]\n",
    "            print(\"New Best Found: Score =\", best_score, \n",
    "                  \"RMSE =\", rmse, \n",
    "                  \"Oscillations =\", oscillations, \n",
    "                  \"Magnitude =\", magnitude_of_oscillations, \n",
    "                  \"Max Deviation =\", max_deviation, \n",
    "                  \"kP =\", kP_candidate, \"kI =\", kI_candidate)\n",
    "\n",
    "# Report the results\n",
    "if len(best_ks) == 0:\n",
    "    print(\"\\n***No design found.\")\n",
    "else:\n",
    "    kP, kI = best_ks\n",
    "    title = f\"kP={kP}, kI={kI}, Score={best_score}\"\n",
    "    _ = plotModel(PI_CONTROLLER_TESTBED, selections=[\"setpoint\", \"EI_P\", \"Mlc\"], \n",
    "                  is_plot=True,\n",
    "                  setpoint=setpoint, kP=kP, kI=kI, ylim=[0.0000001, 0.0000005],\n",
    "                  times=np.linspace(440, 1420, 10000), \n",
    "                  title=title+\" (EI_P Conc. Scale)\")\n",
    "    \n",
    "    _ = plotModel(PI_CONTROLLER_TESTBED, selections=[\"setpoint\", \"EI_P\", \"Mlc\"], \n",
    "                  is_plot=True,\n",
    "                  setpoint=setpoint, kP=kP, kI=kI, ylim=[0.000000001, 0.00000001],\n",
    "                  times=np.linspace(440, 1420, 10000), \n",
    "                  title=title+\" (Mlc Conc. Scale)\")"
   ]
  },
  {
   "cell_type": "markdown",
   "id": "000ea106-5b30-4548-866f-c4c68b63fc32",
   "metadata": {
    "id": "3001497a-1a07-47c5-9a0a-c6ad0da88035"
   },
   "source": [
    "Success! Again, this output does not differ much from the previous two because my initial input was already so close to the PI controller that I was looking for, I did not need to search much space and thus it does not look drastically different.\n",
    "\n",
    "**EVALUATION OF CANDIDATE DESIGNS:**\n",
    "\n",
    "Ultimately, the candidate designs were a massive success based on our control objectives. To review our priority control objectives were:\n",
    "\n",
    "* Keep the ``EI_P`` concentration in the range above 2.4e-7M at all costs but ideally [2.4e-7 M, 4.0e-7 M] for at least 720 minutes (12 hours).\n",
    "* Minimize any potential concentration oscillations and keep the oscillations within the concentration range above.\n",
    "* Converge to a stable, steady-state system after the glucose decreases at t = 500 minutes within 120 minutes (t = 620 minutes).\n",
    "\n",
    "We were very successful in the first and most important control objective with our PI controller design as the EIP output set to 3.0e-7 M kept the EIP levels between 2.4e-7M and 4.0e-7M for the entire time even, including through the perturbation (glucose decrease at t = 500 min) and after. This was by far the most important control objective because it shows that this PI controller for our E. coli can ensure they are intaking as much glucose as possible even after the bioreactor stops providing fresh glucose and the concentration in their environment spikes down. Additionally, we did a successful job of minimizing the number of oscillations and the magnitude of oscillations in the 2nd and 3rd iterations of the PI controller. Surprisingly, this meant keeping kI the same but increasing kP very subtly which probably had more of an effect of decreasing the oscillation magnitudes and therefore what my logic would also consider an oscillation. This means that hopefully, our E. coli would stay at a relatively stable equilibrium even during the glucose decrease, which would allow them to maintain their anabolic processes to express the desired plasmid product. As a final bonus, we can see that all of our designs are down to very small oscillations roughly around t = 620, about 120 minutes after the large glucose perturbation. It would have been ideal to be fully converged/stable by this time, but this is an extremely difficult task given the magnitude of the perturbation and the complex system we are dealing with. I am highly satisfied with how this PI controller performed overall.\n",
    "\n",
    "We defined our operating region for the Mlc protein input to be 7.6e-9M to 8.4e-9M on the resolved time scale past t = 700 minutes. In these plotted PI control designs, we are about 1-1.5e-9M below this operating region. This means our step response in the PI control designs is not within the operating region, which is not ideal, but we are still quite close to it and well within a magnitude. Staying in the operating region in this biological instance is not as important as achieving the control objectives, especially with a relatively small margin of error.\n",
    "\n",
    "In conclusion, we achieved our main control objectives with remarkable success using a PI controller that was further optimized with a grid search for kI and kP. Our Mlc antagonist input was slightly below the operating region, but the EI_P output still achieved a successful step response to the setpoint which is what is most important here."
   ]
  },
  {
   "cell_type": "markdown",
   "id": "592a56a9-f7ac-49f7-bb38-eababc30fba9",
   "metadata": {
    "id": "r3YyEFTekSYq"
   },
   "source": [
    "### Discussion"
   ]
  },
  {
   "cell_type": "markdown",
   "id": "e4e01495-d8bd-4688-9463-8361aca29dbc",
   "metadata": {
    "id": "3001497a-1a07-47c5-9a0a-c6ad0da88035"
   },
   "source": [
    "One of the most initially confusing parts of control design to me was interpreting the root locus plots and trying to figure out why they were important/what information I could gather from them. I found it very helpful to rewatch some lectures/go through old notebooks that we did in the class, especially the root locus notebook. Additionally, I found it valuable to watch YouTube summaries about the root locus plots. In particular, this was an AMAZING video: https://www.youtube.com/watch?v=CRvVDoQJjYI\n",
    "\n",
    "I found that the root locus plots contain a lot of extremely valuable information besides just stating if a system was stable and/or oscillating. Listening to the advice in the video about damping coefficients, settling times, and natural frequency was interesting and made me appreciate the power of a root locus plot.\n",
    "\n",
    "An additional trouble that I had with control design was how to quantify the settling time. This is something that I could approximate by eye, but I could not figure out how to execute this in code. Perhaps it could be when the data is +/- 5% of the setpoing, but for how long? One oscillation? However, for everything else I found the workflow for closed loop design notebook to have an extremely logical and elegant grid searching algorithm/design pipeline that I decided to employ. It was very easy to manipulate its logic to add my score function, and it is a general method that I could keep adding more metrics for scoring. \n",
    "\n",
    "The notebooks in this class were very helpful for navigating this project in general, the analysis of mTor was a huge influence for me, and likewise so was the workflow for closed-loop design (+ everything else we did in class)! One thing in the future that would be excellent would be to have a compilation of all the functions, their inputs, and their outputs. I always would forget what inputs were possible for some of these functions, especially ones we do not see often so maybe we would only see the inputs once. It would be nice to know what the kwargs were and such so that I could manipulate my plots more and be better with how I use the data! Overall though, the notebooks were incredibly helpful.\n",
    "\n",
    "Regarding this whole design pipeline, I think the most difficult step for me was the system identification because I couldn't find a directionally functional one. Thank you for being flexible with the final project and adapting it to accommodate it not being able to find an adequate transfer function for negative control. It was a really helpful and fun exercise for me to look through the ControlSBML github to find out a little bit more about how the fitting works and what the convergence logic looks like! This is where it would be slightly more helpful in the future to have some list of all the functions and their possible inputs because I would have loved to try messing around with more inputs to find out if I could change something that would have made it work better!\n",
    "\n",
    "One of the biggest challenges in this project was finding a biomodel that was interesting/relevant to me but also had interesting behavior. This took a surprisingly long amount of time to find and many had poor variable names, strange behaviors, and other irregular features. In retrospect, I wish that I had picked a system that was a little simpler than this one because I could barely even make sense of the antimony here containing compartments and many other complex features that made it hard to physically understand what was being done to the system. However, I am glad that I stuck with it and ultimately I believe that I show a similar result to what was published: removing/minimizing Mlc protein (which was done by removing its gene) does result in more glucose intake! It is pretty satisfying to arrive at that conclusion and this has given me a brand new perspective and respect for systems biology, control engineering, and biomodeling. This is a powerful tool that makes me appreciate that adding or subtracting one thing from a system doesn't just change it proportionally, it perturbs a very complex equilibrium in ways that are hard to rationally predict sometimes because of the interconnectedness, interdependency, and redundancy in biology.\n",
    "\n",
    "**In conclusion,** this was an eye-opening and very interesting class that is unlike anything I've taken before. I sincerely apologize for not being able to attend class in-person during some of the final weeks and for getting HW2 in late; I have had a lot of family issues happening this quarter and I had to fly home for the weekend HW2 was due when I missed your email. It's just been a stressful quarter with 4 classes and starting/trying to perform well in my new lab. I found this class to be very valuable and it has motivated me to take some classes in systems biology and more classes in biomodeling/biostatistics/computational biology. I hope there comes a time when I can apply this to my own research during graduate school, especially now that I've got a great pipeline to design & test simple controls. Thank you so much, Professor Hellerstein, I hope to see you around. Best of luck with your research & other classes!"
   ]
  },
  {
   "cell_type": "markdown",
   "id": "bf9d5e39-4e93-4cfb-ba13-476d0d084b35",
   "metadata": {
    "id": "3001497a-1a07-47c5-9a0a-c6ad0da88035"
   },
   "source": [
    "P.S. I restarted my kernel on JupyterHub & ran all cells and verified that each one worked before submission per your advice from HW1. Please let me know if there is anything that doesn't work for you."
   ]
  },
  {
   "cell_type": "code",
   "execution_count": null,
   "id": "4761b897-f221-44b2-8dc4-c25a566e0506",
   "metadata": {},
   "outputs": [],
   "source": []
  }
 ],
 "metadata": {
  "kernelspec": {
   "display_name": "Python 3 (ipykernel)",
   "language": "python",
   "name": "python3"
  },
  "language_info": {
   "codemirror_mode": {
    "name": "ipython",
    "version": 3
   },
   "file_extension": ".py",
   "mimetype": "text/x-python",
   "name": "python",
   "nbconvert_exporter": "python",
   "pygments_lexer": "ipython3",
   "version": "3.9.6"
  }
 },
 "nbformat": 4,
 "nbformat_minor": 5
}
