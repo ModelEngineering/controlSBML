{
 "cells": [
  {
   "cell_type": "markdown",
   "id": "419cfe51-3992-459e-8c97-2ce9caf3a4ec",
   "metadata": {},
   "source": [
    "# **API SUMMARY**"
   ]
  },
  {
   "cell_type": "code",
   "execution_count": 3,
   "id": "6daffb05-0e1c-4219-8e9c-14c62a1f80e9",
   "metadata": {},
   "outputs": [],
   "source": [
    "try:\n",
    "    import controlSBML as ctl\n",
    "except:\n",
    "    !pip install controlSBML\n",
    "    import controlSBML as ctl\n",
    "\n",
    "from controlSBML import ControlSBML, constants\n",
    "from controlSBML.grid import Grid"
   ]
  },
  {
   "cell_type": "markdown",
   "id": "453de60b-35da-41fa-9ea1-44903436cb22",
   "metadata": {},
   "source": [
    "The ``controlSBML`` API follows the workflow of control design."
   ]
  },
  {
   "cell_type": "markdown",
   "id": "28d878fb-6d25-4c01-a976-ac9eccad0d93",
   "metadata": {},
   "source": [
    "# Constructor"
   ]
  },
  {
   "cell_type": "markdown",
   "id": "aaf14632-e4a9-4c6d-be0d-0bee5e48eae9",
   "metadata": {},
   "source": [
    "    ctlsb = ControlSBML(model)\n",
    "Here ``model`` is one of: Antimony string, path to Antimony or SBML file, URL for SBML file.\n",
    "\n",
    "If the input and output are known:\n",
    "\n",
    "    ctlsb = Control(model, input_name=<name of input>, output_name=<name of output>)\n",
    "Name of input can be a species name. Name of an output can be a species name or a reaction (whose flux is output)."
   ]
  },
  {
   "cell_type": "code",
   "execution_count": 4,
   "id": "37240751-ddd7-44fa-954c-523cd9564e49",
   "metadata": {},
   "outputs": [],
   "source": [
    "# Example\n",
    "URL = \"https://www.ebi.ac.uk/biomodels/model/download/BIOMD0000001039.5?filename=Zake2021_Metformin%2BMice%2BIV.xml\"\n",
    "INPUT_NAME = \"mPlasmaArterial\"\n",
    "OUTPUT_NAME = \"mKidneyTissue\"\n",
    "CTLSB = ControlSBML(URL, input_name=INPUT_NAME, output_name=OUTPUT_NAME)"
   ]
  },
  {
   "cell_type": "markdown",
   "id": "d66f982f-d1b3-4b88-9989-c07e07c36366",
   "metadata": {},
   "source": [
    "# ``plotModel``"
   ]
  },
  {
   "cell_type": "markdown",
   "id": "67b2d328-31a7-4bb4-9054-655b34a397d4",
   "metadata": {},
   "source": [
    "``plotModel``"
   ]
  }
 ],
 "metadata": {
  "kernelspec": {
   "display_name": "Python 3 (ipykernel)",
   "language": "python",
   "name": "python3"
  },
  "language_info": {
   "codemirror_mode": {
    "name": "ipython",
    "version": 3
   },
   "file_extension": ".py",
   "mimetype": "text/x-python",
   "name": "python",
   "nbconvert_exporter": "python",
   "pygments_lexer": "ipython3",
   "version": "3.9.6"
  }
 },
 "nbformat": 4,
 "nbformat_minor": 5
}
