{
 "cells": [
  {
   "cell_type": "markdown",
   "id": "c0aabbc7-8e5f-4769-aeff-bb067739600e",
   "metadata": {},
   "source": [
    "# SOLVING LINEARY SYSTEMS OF DIFFERENTIAL EQUATIONS"
   ]
  },
  {
   "cell_type": "markdown",
   "id": "a4a09475-3b4c-4b93-9a3f-218ac0769721",
   "metadata": {},
   "source": [
    "# Preliminaries"
   ]
  },
  {
   "cell_type": "code",
   "execution_count": 1,
   "id": "92c14575-9863-4096-be93-7bc9291ad487",
   "metadata": {},
   "outputs": [],
   "source": [
    "import control as c\n",
    "from controlSBML.control_sbml import ControlSBML\n",
    "import controlSBML.constants as cn\n",
    "try:\n",
    "    from symmathSBML.symmath_sbml import SymmathSBML\n",
    "except:\n",
    "    pass\n",
    "\n",
    "import matplotlib.pyplot as plt\n",
    "import numpy as np\n",
    "import pandas as pd\n",
    "import tellurium as te\n",
    "\n",
    "import os"
   ]
  },
  {
   "cell_type": "markdown",
   "id": "9a5ae8e5-b057-4248-bb39-2d6ee4381a1c",
   "metadata": {},
   "source": [
    "# Terminology and Theory"
   ]
  },
  {
   "cell_type": "markdown",
   "id": "224a3d00-f576-476e-9f03-250a1c90f452",
   "metadata": {},
   "source": [
    "Let ${\\bf x}$ be a vector of $N$ of the variables $[x_1, \\cdots, x_N]^T$ such that $\\frac{d x_n}{d t} = a_{n, 1} x_1 + \\cdots + a_{n, N} x_N$. Or,\n",
    "$\\frac{{d \\bf x}}{dt} = {\\bf A} {\\bf x}$, where the $n,m$ entry in ${\\bf A}$ is $a_{n,m}$.\n",
    "\n",
    "We call this a **linear, homogeneous differential equation**.\n",
    "If we are given initial values for the $x_n$, then this is an **initial value problem**."
   ]
  },
  {
   "cell_type": "markdown",
   "id": "21f0fa36-afce-4a02-9ec6-85cde93e7e6b",
   "metadata": {},
   "source": [
    "To solve a homogeneous linear system, consider the eigenvalues $\\lambda_i$ and associated eigenvectors $e_i$ of ${\\bf A}$.\n",
    "By definition. ${\\bf A} {\\bf e}_i = \\lambda_i {\\bf e}_i$.\n",
    "\n",
    "Now, consider a candidate solution ${\\bf x} = c_1 {\\bf e}_1 e^{\\lambda_1 t} + \\cdots +  c_1  {\\bf e}_N  e^{\\lambda_N t}$.\n",
    "Note that\n",
    "\n"
   ]
  },
  {
   "cell_type": "markdown",
   "id": "9a7907e9-f6c0-49f4-9981-74d384bfc361",
   "metadata": {},
   "source": [
    "$$\n",
    "\\begin{align}\n",
    "\\frac{{d \\bf x}}{dt} && =&& c_1 \\lambda_1 {\\bf e}_1 e^{\\lambda_1 t} + \\cdots +  c_N \\lambda_N {\\bf e}_N  e^{\\lambda_N t} \\\\\n",
    "\\end{align}\n",
    "$$\n"
   ]
  },
  {
   "cell_type": "markdown",
   "id": "30b02a14-6e1e-4c6b-86c8-7653f2c04446",
   "metadata": {},
   "source": [
    "On the other hand,\n",
    "$$\n",
    "\\begin{align}\n",
    "{\\bf A} {\\bf x} && =&& {\\bf A} \\left( c_1 {\\bf e}_1 e^{\\lambda_1 t} + \\cdots +  c_N  {\\bf e}_N  e^{\\lambda_N t} \\right) \\\\\n",
    "&& = && c_1  \\lambda_1 {\\bf e}_1 e^{\\lambda_1 t} + \\cdots + c_1  \\lambda_N {\\bf e}_N e^{\\lambda_N t}  \\\\\n",
    "\\end{align}\n",
    "$$\n"
   ]
  },
  {
   "cell_type": "markdown",
   "id": "284a912e-5692-440a-973f-15a3d7a4c3a3",
   "metadata": {},
   "source": [
    "So, the candidate solution results in equality."
   ]
  },
  {
   "cell_type": "markdown",
   "id": "13beb156-81ad-469d-ab17-7bac0edadf07",
   "metadata": {},
   "source": [
    "Another representation of the solution to a linear homogeneous differential equation is\n",
    "\n",
    "${\\bf x}(t) = e^{ \\bf A t}$, which follows from the fact that\n",
    "\n",
    "\n",
    "\\begin{align}\n",
    "\\frac{d {\\bf x } (t)}{dt} &&=&& A e^{ \\bf A t} \\\\\n",
    "&& = && A {\\bf x}(t) \\\\\n",
    "\\end{align}\n",
    "\n",
    "We we elaborate later on how to calculate $e^{A t}$."
   ]
  },
  {
   "cell_type": "markdown",
   "id": "e7925ec6-b07f-475d-be78-3ce0a76ff8e9",
   "metadata": {},
   "source": [
    "# Solving Initial Value Problems (IVP)"
   ]
  },
  {
   "cell_type": "markdown",
   "id": "67d761a8-3e23-4e70-88a9-ea4485441e3e",
   "metadata": {},
   "source": [
    "How do we find the $c_n$ if we are given ${\\bf x} (0)$?"
   ]
  },
  {
   "cell_type": "markdown",
   "id": "25cc8ad4-6956-46a9-85e6-d7f186c823ef",
   "metadata": {},
   "source": [
    "Let ${\\bf E} = \\left[ {\\bf e_1} \\cdots {\\bf e_N} \\right]^T$. Then, we have the linear system\n",
    "\n",
    "${\\bf x}(0) = {\\bf E} \\left[ {c_1} \\cdots {c_N} \\right]^T$.\n",
    "If ${\\bf E}$ is non-singular, then there is a unique solution."
   ]
  },
  {
   "cell_type": "markdown",
   "id": "bd9c9c37-b885-4016-bd18-5fc521d8d869",
   "metadata": {},
   "source": [
    "# Systems with Forced Inputs"
   ]
  },
  {
   "cell_type": "markdown",
   "id": "4fe72f80-629b-4468-b855-52fb8f17b975",
   "metadata": {},
   "source": [
    "What is a forced input?"
   ]
  },
  {
   "cell_type": "markdown",
   "id": "21141230-d2af-4d6a-b807-5022fa463829",
   "metadata": {
    "tags": []
   },
   "source": [
    "<img src=\"images/pendulum.jpeg\"\n",
    "     alt=\"Markdown Monster icon\"\n",
    "     style=\"float: left; margin-right: 10px;\" />"
   ]
  },
  {
   "cell_type": "markdown",
   "id": "6e7db2cb-4cea-48f6-89e4-d613e5dd6aa6",
   "metadata": {},
   "source": [
    "A forced input, or just **input**, is a vector of settings for actuators.\n",
    "It can affect state (${\\bf x}(t)$) directly or indirectly.\n",
    "We take this into account by inclding another matrix ${\\bf B}$ that translates the\n",
    "input into its impact on state.\n",
    "That is, the net effect on state is ${\\bf B} {\\bf u}(t)$.\n"
   ]
  },
  {
   "cell_type": "markdown",
   "id": "611834cb-ec0e-432f-ab81-9fa87e2d350d",
   "metadata": {},
   "source": [
    "**Examples**"
   ]
  },
  {
   "cell_type": "markdown",
   "id": "f7857138-0c38-4ca9-a13f-6c2b6d580212",
   "metadata": {},
   "source": [
    "${\\bf x} (t) = e^{ {\\bf A} t} {\\bf x} (0) + \\int_0^t e^{ {\\bf A} (t - \\tau)} {\\bf B} {\\bf u}(\\tau) d \\tau$"
   ]
  },
  {
   "cell_type": "markdown",
   "id": "f94f3e1c-06fa-427d-9281-ba86a7f912ae",
   "metadata": {},
   "source": [
    "This is easier to interpret if the integral is approximated by a sum.\n",
    "\n",
    "That is,\n",
    "${\\bf x} (t) \\approx e^{ {\\bf A} t} {\\bf x} (0) + \\sum_{m=1}^{M \\Delta \\tau} e^{ {\\bf A} (t - m \\Delta \\tau)} {\\bf B} {\\bf u}(m \\Delta \\tau) \\Delta \\tau$,\n",
    "where $\\Delta \\tau = \\frac{t}{M}$.\n",
    "\n",
    "Let's look at each term in the sum: $e^{ {\\bf A} (t - m \\Delta \\tau)} {\\bf B} {\\bf u} (m \\Delta \\tau) $.\n",
    "Another view of this term is to do the following:\n",
    "* $t_m^{\\prime} = t - m \\Delta \\tau$;\n",
    "* ${\\bf x}_m^{\\prime} (0) = {\\bf B} {\\bf u}(m \\Delta \\tau)$.\n",
    "\n",
    "So, $e^{ {\\bf A} (t - m \\Delta \\tau)} {\\bf B} {\\bf u}(m \\Delta \\tau) = e^{ {\\bf A} t_m^{\\prime}} {\\bf x}_m^{\\prime}(0)$.\n",
    "Or,\n",
    "${\\bf x} (t) \\approx e^{ {\\bf A} t} {\\bf x} (0) + \\sum_{m=1}^{M \\Delta \\tau}  e^{ {\\bf A} t_m^{\\prime}} {\\bf x}_m^{\\prime}(0)$,\n",
    "That is, the effect of a forced input is just to add up the effects of running the system in different starting states based\n",
    "on the value of the forced input."
   ]
  },
  {
   "cell_type": "markdown",
   "id": "a279c854-8d09-4fb2-bb82-87773766c16c",
   "metadata": {},
   "source": [
    "# Application to Reaction Networks"
   ]
  },
  {
   "cell_type": "markdown",
   "id": "9d71561f-656d-4c8b-a629-02c1d532a0e6",
   "metadata": {},
   "source": [
    "Here, we show how to obtain time domain solutions for reaction networks.\n",
    "We start the following sequential pathway.\n",
    "\n",
    "$S_0 \\rightarrow S_1 \\rightarrow S_2 \\rightarrow S_3$\n",
    "\n",
    "$S_0$ and $S_3$ are fixed species in that there concentrations do not change (e.g., controlled externally)."
   ]
  },
  {
   "cell_type": "code",
   "execution_count": 2,
   "id": "d5054ada-eae7-4a92-80a7-e350d4900c1c",
   "metadata": {},
   "outputs": [
    {
     "data": {
      "image/png": "[encoded data removed]",
      "text/plain": [
       "<Figure size 432x288 with 1 Axes>"
      ]
     },
     "metadata": {},
     "output_type": "display_data"
    }
   ],
   "source": [
    "LINEAR_MDL = \"\"\"\n",
    "J0: $S0 -> S1; k0*$S0\n",
    "J1: S1 -> S2; k2*S1\n",
    "J2: S2 -> S3; k3*S2\n",
    "J3: S3 -> $S4;k4*S3\n",
    "\n",
    "k0 = 1\n",
    "k1 = 1\n",
    "k2 = 1\n",
    "k3 = 1\n",
    "k4 = 1\n",
    "S0 = 10\n",
    "S1 = 0\n",
    "S2 = 0\n",
    "S3 = 0\n",
    "$S4 = $S0\n",
    "\"\"\"\n",
    "LINEAR_RR = te.loada(LINEAR_MDL)\n",
    "LINEAR_RR.plot(LINEAR_RR.simulate(0, 10))"
   ]
  },
  {
   "cell_type": "markdown",
   "id": "a4222863-de8e-49ce-8284-4486a112d8e0",
   "metadata": {},
   "source": [
    "## The Sequential Pathway as a Linear System"
   ]
  },
  {
   "cell_type": "markdown",
   "id": "43fadbd0-865b-4142-a264-5e83e9212f79",
   "metadata": {},
   "source": [
    "We obtain the differential equations in the usual way.\n",
    "\n",
    "Let ${\\bf N}$ be the stoichiometry matrix, where the rows are species and the columns are reactions."
   ]
  }
 ],
 "metadata": {
  "kernelspec": {
   "display_name": "Python 3",
   "language": "python",
   "name": "python3"
  },
  "language_info": {
   "codemirror_mode": {
    "name": "ipython",
    "version": 3
   },
   "file_extension": ".py",
   "mimetype": "text/x-python",
   "name": "python",
   "nbconvert_exporter": "python",
   "pygments_lexer": "ipython3",
   "version": "3.6.9"
  }
 },
 "nbformat": 4,
 "nbformat_minor": 5
}
