{
 "cells": [
  {
   "cell_type": "markdown",
   "id": "a4c67fb0-0b0d-46da-873f-73b0525b8d78",
   "metadata": {},
   "source": [
    "# ANALYSIS OF METFORMIN CONTROL"
   ]
  },
  {
   "cell_type": "markdown",
   "id": "59f082f8-093c-4ad2-96ae-47cf58d42fe1",
   "metadata": {},
   "source": [
    "This notebook contains an analysis of the effect of metformin on various tissues and organs as published in \n"
   ]
  },
  {
   "cell_type": "markdown",
   "id": "a8e84257-8647-40a8-acaa-d96213ab5d54",
   "metadata": {},
   "source": [
    "<img src=\"images/metformin-model-fits.png\"\n",
    "     alt=\"Markdown Monster icon\" \n",
    "     width=\"800\" height=\"1000\"\n",
    "     style=\"float: left; margin-right: 10px;\" />"
   ]
  },
  {
   "cell_type": "code",
   "execution_count": null,
   "id": "95e8a0cf-8028-4744-8f58-59d7433b1bdb",
   "metadata": {},
   "outputs": [],
   "source": [
    "import controlSBML as ctl\n",
    "\n",
    "import control\n",
    "import lmfit\n",
    "import matplotlib.pyplot as plt\n",
    "import numpy as np\n",
    "import pandas as pd\n",
    "ctl.__version__"
   ]
  },
  {
   "cell_type": "markdown",
   "id": "e3fbc880-28d5-4708-b14a-434fae5e786a",
   "metadata": {},
   "source": [
    "# Problem Statement"
   ]
  },
  {
   "cell_type": "markdown",
   "id": "c0fb6205-fd27-49f0-bd8e-d9f7439df0e8",
   "metadata": {},
   "source": [
    "Metformin has proven effective at address type 2 diabetes. As such, there may be benefits if it is possible to maintain a constant dosage in physiological targets such as muscle. This is an exploratory study to investigate if the control of metformin in the blood (venus plasma) is sufficient to control metformin in muscle. This study considers a closed loop system in which: (a) metformin concentration is measured in muscle and (b) a controller can add metformin to the blood if its muscle concentration is low. We assume that there is no capability for removing metformin from the blood other than by physiological processes (e.g., intestinal absorption)."
   ]
  },
  {
   "cell_type": "markdown",
   "id": "a1ef151c-dbac-452d-b95f-ce5ff63cae0a",
   "metadata": {},
   "source": [
    "## Metformin Model"
   ]
  },
  {
   "cell_type": "code",
   "execution_count": null,
   "id": "1e17b8bb-c84f-4001-ad05-d443fa740cea",
   "metadata": {},
   "outputs": [],
   "source": [
    "url = \"https://www.ebi.ac.uk/biomodels/model/download/BIOMD0000001039.5?filename=Zake2021_Metformin%2BMice%2BIV.xml\"\n",
    "METFORMIN_CTLSB = ctl.ControlSBML(url, input_names=[\"mPlasmaVenous\"], output_names=[\"mMuscle\"])\n",
    "#print(ctlsb.antimony)\n",
    "METFORMIN_BUILDER = METFORMIN_CTLSB.makeSISOTransferFunctionBuilder(is_fixed_input_species=False)"
   ]
  },
  {
   "cell_type": "code",
   "execution_count": null,
   "id": "d461cb5f-aeaa-4916-9a24-15b45aa55821",
   "metadata": {},
   "outputs": [],
   "source": [
    "METFORMIN_CTLSB.roadrunner.simulate()\n",
    "METFORMIN_CTLSB.roadrunner.plot()"
   ]
  },
  {
   "cell_type": "markdown",
   "id": "6b230c61-9cf9-43f6-b24a-cd139749e074",
   "metadata": {},
   "source": [
    "# System Identification"
   ]
  },
  {
   "cell_type": "code",
   "execution_count": null,
   "id": "5e9a9f88-0de1-49d4-b3a6-7fb404cadc03",
   "metadata": {},
   "outputs": [],
   "source": [
    "METFORMIN_STAIRCASE = ctl.Staircase(initial_value=0, final_value=4000, num_step=5)\n",
    "response_ts = METFORMIN_BUILDER.makeStaircaseResponse(staircase=METFORMIN_STAIRCASE, end_time=50)\n",
    "METFORMIN_BUILDER.plotStaircaseResponse(response_ts)"
   ]
  },
  {
   "cell_type": "markdown",
   "id": "18ffe927-9511-4ce6-8562-9c9f22121ff5",
   "metadata": {},
   "source": [
    "* The system is controllable in the region V1 $>4$, although the control decreases with larger V1 for both complexes.\n",
    "* The operating region for V1 implies an operating region for pmTORC1 of 180 to 220 and for pmTORC2 0.7 to 1.0."
   ]
  },
  {
   "cell_type": "code",
   "execution_count": null,
   "id": "96a29907-4b17-4155-9411-7208d90bc31f",
   "metadata": {},
   "outputs": [],
   "source": [
    "fitter_result = METFORMIN_BUILDER.fitTransferFunction(num_numerator=2, num_denominator=3, \n",
    "                                                      staircase=METFORMIN_STAIRCASE, fit_start_time=10, start_time=0, end_time=50)\n",
    "METFORMIN_BUILDER.plotFitTransferFunction(fitter_result)"
   ]
  },
  {
   "cell_type": "markdown",
   "id": "aadbde66-84fe-4fdb-bf5c-fd2aed984838",
   "metadata": {},
   "source": [
    "# Testbed Construction"
   ]
  },
  {
   "cell_type": "markdown",
   "id": "0b70af05-9cd3-4312-ad87-2533d47bc113",
   "metadata": {},
   "source": [
    "Here, we build a closed loop system where the open loop is the SBML model of the simulated system. Our has a PI controller."
   ]
  },
  {
   "cell_type": "code",
   "execution_count": null,
   "id": "ad903906-a79c-4ddd-bef7-cb7d41791a73",
   "metadata": {},
   "outputs": [],
   "source": [
    "siso = ctl.SISOClosedLoopSystem(METFORMIN_CTLSB)\n",
    "siso.makePIDClosedLoopSystem(kp=0.1, ki=0.01, is_nonnegative_output=True, closed_loop_outputs=[\"mMuscle\", \"mPlasmaVenous\"])"
   ]
  },
  {
   "cell_type": "code",
   "execution_count": null,
   "id": "9455540b-e4bd-44ca-bfe2-1d0a40e05040",
   "metadata": {},
   "outputs": [],
   "source": [
    "result_ts = siso.makeStepResponse(start_time=0, end_time=60, step_size=500)"
   ]
  },
  {
   "cell_type": "code",
   "execution_count": null,
   "id": "c1d3cac7-744c-4c93-84d0-746640cd992d",
   "metadata": {},
   "outputs": [],
   "source": [
    "df = result_ts.copy()\n",
    "times = np.array(df.index)/1000\n",
    "plt.plot(times, df[\"mMuscle\"], color=\"blue\")\n",
    "ax = plt.gca()\n",
    "ax.plot(times, result_ts[\"reference\"], linestyle=\"--\", color = \"blue\")\n",
    "ax2 = ax.twinx()\n",
    "ax2.plot(times, result_ts[\"mPlasmaVenous\"], color=\"red\")\n",
    "ax2.set_ylim([0, 100])\n",
    "ax2.set_ylabel(\"mPlasmaVenous\", color=\"red\")\n",
    "ax.set_ylabel(\"mMuscle\", color=\"blue\")"
   ]
  },
  {
   "cell_type": "code",
   "execution_count": null,
   "id": "90b377b4-d07b-4cb2-a2f1-ba025cd69458",
   "metadata": {},
   "outputs": [],
   "source": [
    "min(result_ts[\"mPlasmaVenous\"] )"
   ]
  },
  {
   "cell_type": "markdown",
   "id": "ebc578dd-21a2-4aeb-b99b-4dc71d8bacf0",
   "metadata": {},
   "source": [
    "# Closed Loop Design and Analysis"
   ]
  }
 ],
 "metadata": {
  "kernelspec": {
   "display_name": "Python 3 (ipykernel)",
   "language": "python",
   "name": "python3"
  },
  "language_info": {
   "codemirror_mode": {
    "name": "ipython",
    "version": 3
   },
   "file_extension": ".py",
   "mimetype": "text/x-python",
   "name": "python",
   "nbconvert_exporter": "python",
   "pygments_lexer": "ipython3",
   "version": "3.9.6"
  }
 },
 "nbformat": 4,
 "nbformat_minor": 5
}
