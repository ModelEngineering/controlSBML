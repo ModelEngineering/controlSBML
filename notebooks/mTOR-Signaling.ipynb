{
 "cells": [
  {
   "cell_type": "markdown",
   "id": "8445071d-5b00-4d35-b9f5-5ce85f7d50b1",
   "metadata": {},
   "source": [
    "mTOR SIGNALING"
   ]
  },
  {
   "cell_type": "markdown",
   "id": "fb9590bf-07f1-4690-99c0-c8d2022763bb",
   "metadata": {},
   "source": [
    "<img src=\"images/mTOR-article.png\"\n",
    "     alt=\"Markdown Monster icon\"\n",
    "     style=\"float: left; margin-right: 10px;\" />"
   ]
  },
  {
   "cell_type": "markdown",
   "id": "088c3388-bf40-44c2-ac61-3bdcb48d5f29",
   "metadata": {},
   "source": [
    "<img src=\"images/mTOR-network.png\"\n",
    "     alt=\"Markdown Monster icon\"\n",
    "     style=\"float: left; margin-right: 10px;\" />"
   ]
  }
 ],
 "metadata": {
  "kernelspec": {
   "display_name": "Python 3 (ipykernel)",
   "language": "python",
   "name": "python3"
  },
  "language_info": {
   "codemirror_mode": {
    "name": "ipython",
    "version": 3
   },
   "file_extension": ".py",
   "mimetype": "text/x-python",
   "name": "python",
   "nbconvert_exporter": "python",
   "pygments_lexer": "ipython3",
   "version": "3.9.6"
  }
 },
 "nbformat": 4,
 "nbformat_minor": 5
}
