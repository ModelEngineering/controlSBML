{
 "cells": [
  {
   "cell_type": "markdown",
   "id": "91f29742-29b6-4b4d-aeca-c6aa3a7b746f",
   "metadata": {},
   "source": [
    "# CONTROL LIBRARY EXAMPLES"
   ]
  },
  {
   "cell_type": "markdown",
   "id": "be9ae6bb-ec66-44ed-9bc1-7450aa1906dd",
   "metadata": {},
   "source": [
    "# Preliminaries"
   ]
  },
  {
   "cell_type": "code",
   "execution_count": 1,
   "id": "69277ff7-7856-4b22-9598-305b1ea83969",
   "metadata": {},
   "outputs": [],
   "source": [
    "from controlSBML.control_extensions.state_space_tf import StateSpaceTF\n",
    "import controlSBML as ctl\n",
    "\n",
    "import control\n",
    "import numpy as np\n",
    "import pandas as pd\n",
    "import sympy\n",
    "import tellurium as te\n",
    "import matplotlib.pyplot as plt"
   ]
  },
  {
   "cell_type": "markdown",
   "id": "758f747a-a9aa-4ccc-9288-df1ecc4b5458",
   "metadata": {},
   "source": [
    "# Antimony Models"
   ]
  },
  {
   "cell_type": "markdown",
   "id": "8163eb7e-d617-4145-b0ba-be929a98b033",
   "metadata": {},
   "source": [
    "## LINEAR_MDL"
   ]
  },
  {
   "cell_type": "code",
   "execution_count": 188,
   "id": "8aa943e2-3314-465c-8956-dee43c198c67",
   "metadata": {},
   "outputs": [
    {
     "data": {
      "image/png": "[encoded data removed]",
      "text/plain": [
       "<Figure size 720x360 with 1 Axes>"
      ]
     },
     "metadata": {
      "needs_background": "light"
     },
     "output_type": "display_data"
    }
   ],
   "source": [
    "# Need to write the model in the correct way so that get a Jacobian with all state.\n",
    "# In particular, cannot use fixed concentrations. Instead, generate the species at the same rate at which it is consumed.\n",
    "LINEAR_MDL = \"\"\"\n",
    "J0:  -> S1; E_J0\n",
    "J1: S1 -> S2; k1*S1*E_J1\n",
    "J2: S2 -> S3; k2*S2*E_J2\n",
    "J3: S3 -> S4; k3*S3*E_J3\n",
    "J4: S4 -> $S5; k4*S4*E_J4\n",
    "\n",
    "k1 = 1;\n",
    "k2 = 1\n",
    "k3 = 1\n",
    "k4 = 1\n",
    "S0 = 1\n",
    "k0 = 1\n",
    "S1 = 10\n",
    "S2 = 0\n",
    "S3 = 0\n",
    "S4 = 0\n",
    "S5 = 0\n",
    "E_J0 = 1\n",
    "E_J1 = 1\n",
    "E_J2 = 1\n",
    "E_J3 = 1\n",
    "E_J4 = 1\n",
    "\"\"\"\n",
    "\n",
    "LINEAR_CTL = ctl.ControlSBML(LINEAR_MDL, input_names=[\"J0\"], output_names=[\"S4\", \"S1\"])\n",
    "LINEAR_CTL.plotTrueModel(figsize=(10, 5), end_time=10)"
   ]
  },
  {
   "cell_type": "code",
   "execution_count": 80,
   "id": "b23c7196-9967-487a-b53d-832af3158ce9",
   "metadata": {},
   "outputs": [
    {
     "name": "stdout",
     "output_type": "stream",
     "text": [
      "10.0\n",
      "5.0\n"
     ]
    }
   ],
   "source": [
    "LINEAR_CTL.roadrunner.reset()\n",
    "print(LINEAR_CTL.get(\"J1\"))\n",
    "LINEAR_CTL.set({\"S1\": 5})\n",
    "print(LINEAR_CTL.get(\"J1\"))"
   ]
  },
  {
   "cell_type": "code",
   "execution_count": 85,
   "id": "505cff2c-be6c-406f-9a66-f2ac2bd2bb26",
   "metadata": {},
   "outputs": [
    {
     "data": {
      "text/plain": [
       "J0    9.096447\n",
       "J1    5.000000\n",
       "J2    0.000000\n",
       "J3    0.000000\n",
       "J4    0.000000\n",
       "dtype: float64"
      ]
     },
     "execution_count": 85,
     "metadata": {},
     "output_type": "execute_result"
    }
   ],
   "source": [
    "df = LINEAR_CTL.full_stoichiometry_df\n",
    "flux_ser = pd.Series({n: LINEAR_CTL.get(n) for n in df.columns})\n",
    "flux_ser"
   ]
  },
  {
   "cell_type": "code",
   "execution_count": 86,
   "id": "32fe1fa3-7d40-4f90-8a36-23e22ebdad29",
   "metadata": {},
   "outputs": [
    {
     "data": {
      "text/html": [
       "<div>\n",
       "<style scoped>\n",
       "    .dataframe tbody tr th:only-of-type {\n",
       "        vertical-align: middle;\n",
       "    }\n",
       "\n",
       "    .dataframe tbody tr th {\n",
       "        vertical-align: top;\n",
       "    }\n",
       "\n",
       "    .dataframe thead th {\n",
       "        text-align: right;\n",
       "    }\n",
       "</style>\n",
       "<table border=\"1\" class=\"dataframe\">\n",
       "  <thead>\n",
       "    <tr style=\"text-align: right;\">\n",
       "      <th></th>\n",
       "      <th>J0</th>\n",
       "      <th>J1</th>\n",
       "      <th>J2</th>\n",
       "      <th>J3</th>\n",
       "      <th>J4</th>\n",
       "    </tr>\n",
       "  </thead>\n",
       "  <tbody>\n",
       "    <tr>\n",
       "      <th>S1</th>\n",
       "      <td>1.0</td>\n",
       "      <td>-1.0</td>\n",
       "      <td>0.0</td>\n",
       "      <td>0.0</td>\n",
       "      <td>0.0</td>\n",
       "    </tr>\n",
       "    <tr>\n",
       "      <th>S2</th>\n",
       "      <td>0.0</td>\n",
       "      <td>1.0</td>\n",
       "      <td>-1.0</td>\n",
       "      <td>0.0</td>\n",
       "      <td>0.0</td>\n",
       "    </tr>\n",
       "    <tr>\n",
       "      <th>S3</th>\n",
       "      <td>0.0</td>\n",
       "      <td>0.0</td>\n",
       "      <td>1.0</td>\n",
       "      <td>-1.0</td>\n",
       "      <td>0.0</td>\n",
       "    </tr>\n",
       "    <tr>\n",
       "      <th>S4</th>\n",
       "      <td>0.0</td>\n",
       "      <td>0.0</td>\n",
       "      <td>0.0</td>\n",
       "      <td>1.0</td>\n",
       "      <td>-1.0</td>\n",
       "    </tr>\n",
       "  </tbody>\n",
       "</table>\n",
       "</div>"
      ],
      "text/plain": [
       "     J0   J1   J2   J3   J4\n",
       "S1  1.0 -1.0  0.0  0.0  0.0\n",
       "S2  0.0  1.0 -1.0  0.0  0.0\n",
       "S3  0.0  0.0  1.0 -1.0  0.0\n",
       "S4  0.0  0.0  0.0  1.0 -1.0"
      ]
     },
     "execution_count": 86,
     "metadata": {},
     "output_type": "execute_result"
    }
   ],
   "source": [
    "df"
   ]
  },
  {
   "cell_type": "code",
   "execution_count": 88,
   "id": "9ca2970b-2271-4225-bfe5-603726f667fd",
   "metadata": {},
   "outputs": [
    {
     "data": {
      "text/plain": [
       "array([4.09644713, 5.        , 0.        , 0.        ])"
      ]
     },
     "execution_count": 88,
     "metadata": {},
     "output_type": "execute_result"
    }
   ],
   "source": [
    "np.matmul(df.values, flux_ser.values)"
   ]
  },
  {
   "cell_type": "code",
   "execution_count": 193,
   "id": "b3792a16-cc35-451c-8ead-eea4a83ab579",
   "metadata": {},
   "outputs": [
    {
     "data": {
      "text/plain": [
       "array([-100.,  100.,    0.,    0.])"
      ]
     },
     "execution_count": 193,
     "metadata": {},
     "output_type": "execute_result"
    }
   ],
   "source": [
    "ctlsb = NONLINEAR_CTL\n",
    "effector_dct = {\"J0\": \"E_J0\"}\n",
    "def updfcn(time, x_vec, u_vec, _): \n",
    "        \"\"\" \n",
    "        Computes the change in state. This is done by having roadrunner\n",
    "        calculate fluxes. No simulation is run, and so this technique\n",
    "        may not always work.\n",
    "        \n",
    "        Parameters\n",
    "        ----------\n",
    "        time: float: time\n",
    "        x_vec: np.array(float): state vector\n",
    "        u_vec: np.array(float): input vector (in log10 units)\n",
    "\n",
    "        Returns\n",
    "        -------\n",
    "        np.array(float): change in state vector\n",
    "        \"\"\"\n",
    "        if isinstance(u_vec, float):\n",
    "            u_vec = [u_vec]\n",
    "        ctlsb.setTime(time)\n",
    "        # Adust the state and input\n",
    "        state_dct = {n: x_vec[i] for i, n in enumerate(ctlsb.state_names)}\n",
    "        ctlsb.set(state_dct)\n",
    "        input_dct = {effector_dct[n]: u_vec[i]\n",
    "                     for i, n in enumerate(ctlsb.input_names)}\n",
    "        ctlsb.set(input_dct)\n",
    "        # Construct the flux vector\n",
    "        s_df = ctlsb.full_stoichiometry_df\n",
    "        flux_names = list(s_df.columns)\n",
    "        flux_dct = {n: ctlsb.get(n) for n in flux_names}\n",
    "        flux_ser = pd.Series(flux_dct)\n",
    "        # Compute the change in state\n",
    "        vec = np.matmul(s_df.values, flux_ser.values)\n",
    "        dstate_ser = pd.Series({n: vec[i] for i, n in enumerate(s_df.index)\n",
    "              if n in ctlsb.state_names})\n",
    "        return dstate_ser.values\n",
    "\n",
    "# TESTS\n",
    "ctlsb.setTime(0)\n",
    "x_vec = np.array(list(ctlsb.get(ctlsb.state_names).values()))\n",
    "updfcn(0, x_vec, np.array([0.0]), None)"
   ]
  },
  {
   "cell_type": "code",
   "execution_count": 199,
   "id": "0656f0b0-2b03-4a47-af4c-6a660f39196e",
   "metadata": {},
   "outputs": [
    {
     "data": {
      "text/plain": [
       "array([1.24903456, 4.45980395, 1.41619752])"
      ]
     },
     "execution_count": 199,
     "metadata": {},
     "output_type": "execute_result"
    }
   ],
   "source": [
    "def outfcn(time, x_vec, u_vec, _): \n",
    "        \"\"\" \n",
    "        Calculates the values of outputs.\n",
    "        \n",
    "        Parameters\n",
    "        ----------\n",
    "        time: float: time\n",
    "        x_vec: np.array(float): state vector\n",
    "        u_vec: np.array(float): input vector (in log10 units)\n",
    "\n",
    "        Returns\n",
    "        -------\n",
    "        np.array(float): change in state vector\n",
    "        \"\"\"\n",
    "        out_vec = np.repeat(np.nan, ctlsb.num_output)\n",
    "        for out_idx, name in enumerate(ctlsb.output_names):\n",
    "            state_idx = ctlsb.state_names.index(name)\n",
    "            out_vec[out_idx] = x_vec[state_idx]\n",
    "        if np.isnan(np.sum(out_vec)):\n",
    "            raise ValueError(\"Outputs could not be calculated.\")\n",
    "        return out_vec\n",
    "# Testing\n",
    "ctlsb = ctl.ControlSBML(NONLINEAR_MDL, output_names=[\"S1\", \"S4\", \"S2\"], input_names=[\"J0\"])\n",
    "time = 1\n",
    "ctlsb.setTime(time)\n",
    "new_x_vec = outfcn(time, ctlsb.state_ser.values, 0, None)\n",
    "new_x_vec"
   ]
  },
  {
   "cell_type": "code",
   "execution_count": 99,
   "id": "21916118-7d9f-4922-8437-4c229c1cd56c",
   "metadata": {},
   "outputs": [
    {
     "data": {
      "text/plain": [
       "array([5., 0., 0., 0.])"
      ]
     },
     "execution_count": 99,
     "metadata": {},
     "output_type": "execute_result"
    }
   ],
   "source": []
  },
  {
   "cell_type": "code",
   "execution_count": 200,
   "id": "4dd9e2c0-f087-4cc1-88f3-97980aeb25b3",
   "metadata": {},
   "outputs": [],
   "source": [
    "sys = control.NonlinearIOSystem(\n",
    "    updfcn, outfcn, inputs=ctlsb.input_names, outputs=ctlsb.output_names,\n",
    "    states=ctlsb.state_names, name='sys')"
   ]
  },
  {
   "cell_type": "code",
   "execution_count": 201,
   "id": "6501b940-6e53-4507-b64c-b3b146130ec3",
   "metadata": {},
   "outputs": [],
   "source": [
    "ctlsb.setTime(0)\n",
    "size = 101\n",
    "times = np.array([n*0.1 for n in range(size)])\n",
    "X0 = ctlsb.state_ser.values\n",
    "U = np.repeat([10], size)\n",
    "result = control.input_output_response(sys, times, X0=X0, U=U)"
   ]
  },
  {
   "cell_type": "code",
   "execution_count": 203,
   "id": "c4610aeb-dc56-4e68-8397-8a4695595f51",
   "metadata": {},
   "outputs": [
    {
     "data": {
      "image/png": "[encoded data removed]",
      "text/plain": [
       "<Figure size 432x288 with 1 Axes>"
      ]
     },
     "metadata": {
      "needs_background": "light"
     },
     "output_type": "display_data"
    }
   ],
   "source": [
    "df = pd.DataFrame(result.outputs)\n",
    "df = df.transpose()\n",
    "df.columns = ctlsb.output_names\n",
    "for col in df.columns:\n",
    "    plt.plot(result.t, df[col])"
   ]
  },
  {
   "cell_type": "markdown",
   "id": "8d2a615a-ed72-4168-a9b0-0bd06bf0299b",
   "metadata": {},
   "source": [
    "## NONLINEAR_MDL"
   ]
  },
  {
   "cell_type": "code",
   "execution_count": 192,
   "id": "993a6c8f-f646-47ba-b54e-efb08f141209",
   "metadata": {},
   "outputs": [
    {
     "data": {
      "image/png": "[encoded data removed]",
      "text/plain": [
       "<Figure size 720x360 with 1 Axes>"
      ]
     },
     "metadata": {
      "needs_background": "light"
     },
     "output_type": "display_data"
    }
   ],
   "source": [
    "# Nonlinear model with one quadratic term\n",
    "NONLINEAR_MDL = \"\"\"\n",
    "J0: -> S1; k1*E_J0\n",
    "J1: S1 -> S2; k2*S1*S1\n",
    "J2: S2 -> S3; k3*S2\n",
    "J3: S3 -> S4; k3*S3\n",
    "J4: S4 -> $S5; k4*S4\n",
    "\n",
    "k1 = 1;\n",
    "k2 = 1\n",
    "k3 = 1\n",
    "k4 = 1\n",
    "E_J0 = 1\n",
    "S1 = 10\n",
    "S2 = 0\n",
    "S3 = 0\n",
    "S4 = 0\n",
    "S5 = 2\n",
    "\"\"\"\n",
    "\n",
    "NONLINEAR_CTL = ctl.ControlSBML(NONLINEAR_MDL, output_names=[\"S1\", \"S4\"], input_names=[\"J0\"])\n",
    "NONLINEAR_CTL.plotTrueModel(figsize=(10, 5), end_time=10, ylim=[0, 10])"
   ]
  },
  {
   "cell_type": "markdown",
   "id": "16c0ff50-2b4e-46c6-bdfc-17b7bfa11e5a",
   "metadata": {},
   "source": [
    "# Simulation Effectors"
   ]
  },
  {
   "cell_type": "code",
   "execution_count": 4,
   "id": "6e31cc1e-e567-477c-93b9-4ec9c7d205af",
   "metadata": {},
   "outputs": [
    {
     "data": {
      "text/html": [
       "<div>\n",
       "<style scoped>\n",
       "    .dataframe tbody tr th:only-of-type {\n",
       "        vertical-align: middle;\n",
       "    }\n",
       "\n",
       "    .dataframe tbody tr th {\n",
       "        vertical-align: top;\n",
       "    }\n",
       "\n",
       "    .dataframe thead th {\n",
       "        text-align: right;\n",
       "    }\n",
       "</style>\n",
       "<table border=\"1\" class=\"dataframe\">\n",
       "  <thead>\n",
       "    <tr style=\"text-align: right;\">\n",
       "      <th></th>\n",
       "      <th>S1</th>\n",
       "      <th>S2</th>\n",
       "      <th>S3</th>\n",
       "      <th>S4</th>\n",
       "    </tr>\n",
       "    <tr>\n",
       "      <th>time</th>\n",
       "      <th></th>\n",
       "      <th></th>\n",
       "      <th></th>\n",
       "      <th></th>\n",
       "    </tr>\n",
       "  </thead>\n",
       "  <tbody>\n",
       "    <tr>\n",
       "      <th>0.0</th>\n",
       "      <td>10.000000</td>\n",
       "      <td>0.000000</td>\n",
       "      <td>0.000000</td>\n",
       "      <td>0.000000</td>\n",
       "    </tr>\n",
       "    <tr>\n",
       "      <th>0.1</th>\n",
       "      <td>9.143537</td>\n",
       "      <td>0.909516</td>\n",
       "      <td>0.045397</td>\n",
       "      <td>0.001512</td>\n",
       "    </tr>\n",
       "    <tr>\n",
       "      <th>0.2</th>\n",
       "      <td>8.368577</td>\n",
       "      <td>1.654985</td>\n",
       "      <td>0.164895</td>\n",
       "      <td>0.010973</td>\n",
       "    </tr>\n",
       "    <tr>\n",
       "      <th>0.3</th>\n",
       "      <td>7.667364</td>\n",
       "      <td>2.259391</td>\n",
       "      <td>0.336968</td>\n",
       "      <td>0.033603</td>\n",
       "    </tr>\n",
       "    <tr>\n",
       "      <th>0.4</th>\n",
       "      <td>7.032881</td>\n",
       "      <td>2.742832</td>\n",
       "      <td>0.544182</td>\n",
       "      <td>0.072277</td>\n",
       "    </tr>\n",
       "    <tr>\n",
       "      <th>...</th>\n",
       "      <td>...</td>\n",
       "      <td>...</td>\n",
       "      <td>...</td>\n",
       "      <td>...</td>\n",
       "    </tr>\n",
       "    <tr>\n",
       "      <th>9.5</th>\n",
       "      <td>9.095488</td>\n",
       "      <td>9.087263</td>\n",
       "      <td>9.051590</td>\n",
       "      <td>8.946985</td>\n",
       "    </tr>\n",
       "    <tr>\n",
       "      <th>9.6</th>\n",
       "      <td>9.095579</td>\n",
       "      <td>9.088049</td>\n",
       "      <td>9.055019</td>\n",
       "      <td>8.957096</td>\n",
       "    </tr>\n",
       "    <tr>\n",
       "      <th>9.7</th>\n",
       "      <td>9.095661</td>\n",
       "      <td>9.088769</td>\n",
       "      <td>9.058193</td>\n",
       "      <td>8.966558</td>\n",
       "    </tr>\n",
       "    <tr>\n",
       "      <th>9.8</th>\n",
       "      <td>9.095736</td>\n",
       "      <td>9.089427</td>\n",
       "      <td>9.061131</td>\n",
       "      <td>8.975411</td>\n",
       "    </tr>\n",
       "    <tr>\n",
       "      <th>9.9</th>\n",
       "      <td>9.095803</td>\n",
       "      <td>9.090030</td>\n",
       "      <td>9.063848</td>\n",
       "      <td>8.983689</td>\n",
       "    </tr>\n",
       "  </tbody>\n",
       "</table>\n",
       "<p>100 rows × 4 columns</p>\n",
       "</div>"
      ],
      "text/plain": [
       "             S1        S2        S3        S4\n",
       "time                                         \n",
       "0.0   10.000000  0.000000  0.000000  0.000000\n",
       "0.1    9.143537  0.909516  0.045397  0.001512\n",
       "0.2    8.368577  1.654985  0.164895  0.010973\n",
       "0.3    7.667364  2.259391  0.336968  0.033603\n",
       "0.4    7.032881  2.742832  0.544182  0.072277\n",
       "...         ...       ...       ...       ...\n",
       "9.5    9.095488  9.087263  9.051590  8.946985\n",
       "9.6    9.095579  9.088049  9.055019  8.957096\n",
       "9.7    9.095661  9.088769  9.058193  8.966558\n",
       "9.8    9.095736  9.089427  9.061131  8.975411\n",
       "9.9    9.095803  9.090030  9.063848  8.983689\n",
       "\n",
       "[100 rows x 4 columns]"
      ]
     },
     "execution_count": 4,
     "metadata": {},
     "output_type": "execute_result"
    }
   ],
   "source": [
    "length = 100\n",
    "dt = 0.1\n",
    "rr = LINEAR_CTL.roadrunner\n",
    "rr.reset()\n",
    "datas = []\n",
    "for idx in range(length):\n",
    "    err = 5.75 - rr[\"S1\"]\n",
    "    rr[\"E_J0\"] += max(0, 2*err)\n",
    "    #print((rr[\"S1\"], err, rr[\"E_J0\"], rr[\"J1\"]))\n",
    "    data = rr.simulate(idx*dt, (idx+1)*dt, 2)\n",
    "    datas.append(data[0, :])\n",
    "df = pd.DataFrame(np.array(datas))\n",
    "df.columns = [\"time\", \"S1\", \"S2\", \"S3\", \"S4\"]\n",
    "df = df.set_index(\"time\")\n",
    "df"
   ]
  },
  {
   "cell_type": "code",
   "execution_count": 5,
   "id": "8d9fa47b-242f-4fdd-b784-eabed73d3655",
   "metadata": {},
   "outputs": [],
   "source": [
    "def common_tellurium_wrapper(time, x_vec, u_vec, params):\n",
    "    \"\"\"\n",
    "    Calculates outputs.\n",
    "    \n",
    "    Parameters\n",
    "    ----------\n",
    "    time: float: time\n",
    "    x_vec: np.array(float): state vector\n",
    "    u_vec: np.array(float): input vector (in log10 units)\n",
    "    params\n",
    "        ctlsb: ControlSBML\n",
    "        last_time: float\n",
    "        is_intial: bool\n",
    "            set to true for first invocation\n",
    "        effector_dct: dict: Mapping of inputs to effectors\n",
    "            key: input_name\n",
    "            value: effector_name\n",
    "    \"\"\"\n",
    "    # Parameter setup\n",
    "    #print((\"input\", time, x_vec, u_vec))\n",
    "    ctlsb = params.get(\"ctlsb\", None)\n",
    "    effector_dct = params.get(\"effector_dct\", None)\n",
    "    # Check if simulate\n",
    "    cur_time = ctlsb.roadrunner.model.getTime()\n",
    "    if params[\"is_initial\"]:\n",
    "        params[\"is_initial\"] = False\n",
    "        ctlsb.roadrunner.reset()\n",
    "        params[\"last_time\"] = 0\n",
    "        state_dct = {n: x_vec[i] for i, n in enumerate(ctlsb.state_names)}\n",
    "    if time - params[\"last_time\"] < 1e-2:\n",
    "        # Ignore small changes in time\n",
    "        pass\n",
    "    else:\n",
    "        # Update the state and inputs in the simulation\n",
    "        state_dct = {n: x_vec[i] for i, n in enumerate(ctlsb.state_names)}\n",
    "        if not \"len\" in dir(u_vec):\n",
    "            u_vec = [u_vec]\n",
    "        input_dct = {effector_dct[n]: float(u_vec[i])\n",
    "                     for i, n in enumerate(ctlsb.input_names)}\n",
    "        ctlsb.set(input_dct)\n",
    "        # Run the simulation\n",
    "        start_time = params.get(\"last_time\", 0)\n",
    "        #print(\"start_time: %2.2f, end_time: %2.2f\" % (start_time, time))\n",
    "        _ = ctlsb.roadrunner.simulate(start_time, time, 2)\n",
    "        params[\"last_time\"] = time\n",
    "    # Get the outputs\n",
    "    #states = [ctlsb.get(n) for n in ctlsb.state_names]\n",
    "    # return outputs\n",
    "    #print((\"output\", ctlsb.get(ctlsb.state_names)))\n",
    "    #return states\n",
    "\n",
    "# Tests\n",
    "ctlsb = ctl.ControlSBML(NONLINEAR_MDL, input_names=[\"J0\"], output_names=[\"S1\", \"S2\"])\n",
    "effector_dct = {\"J0\": \"E_J0\"}\n",
    "params = {\"ctlsb\": ctlsb, \"effector_dct\": effector_dct, \"is_initial\": True}\n",
    "x_vec = ctlsb.state_ser.values\n",
    "u_vec = np.repeat(1, len(ctlsb.input_names))\n",
    "times = [n*0.1 for n in range(0, 51)]\n",
    "times.insert(1, 1e-3)\n",
    "dct = {n: [] for n in ctlsb.state_names}\n",
    "for time in times:\n",
    "    common_tellurium_wrapper(time, x_vec, u_vec, params)\n",
    "    states = [ctlsb.get(n) for n in ctlsb.state_names]\n",
    "    [dct[ctlsb.state_names[i]].append(states[i]) for i in range(ctlsb.num_state)]\n",
    "    #x_vec = ctlsb.state_ser.values\n",
    "df = pd.DataFrame(dct, columns=ctlsb.state_names)\n",
    "df.index = times\n",
    "df.index.name = \"time\"\n",
    "# Evaluate the result\n",
    "values = df.values[1:, :]\n",
    "squared_error = ((ctlsb.simulateRoadrunner() - values)**2).sum().sum()\n",
    "assert(squared_error < 1e-5)"
   ]
  },
  {
   "cell_type": "code",
   "execution_count": 6,
   "id": "953ee5c2-4e44-4945-bd97-7a2077854ed2",
   "metadata": {},
   "outputs": [],
   "source": [
    "def state_tellurium_wrapper(time, x_vec, u_vec, params):\n",
    "    common_tellurium_wrapper(time, x_vec, u_vec, params)\n",
    "    state_ser = params[\"ctlsb\"].state_ser\n",
    "    #print(time, state_ser)\n",
    "    return state_ser.values\n",
    "\n",
    "# Tests\n",
    "state_vec = state_tellurium_wrapper(0, x_vec, u_vec, params)\n",
    "state_vec = state_tellurium_wrapper(5, x_vec, u_vec, params)\n",
    "assert(np.sum(state_vec) > 3)"
   ]
  },
  {
   "cell_type": "code",
   "execution_count": 7,
   "id": "aa8c7984-1893-44f6-8bdc-90eaaeb38cd6",
   "metadata": {},
   "outputs": [],
   "source": [
    "def output_tellurium_wrapper(time, x_vec, u_vec, params):\n",
    "    # Assume that we're just extracting state from a completed simulation\n",
    "    #common_tellurium_wrapper(time, x_vec, u_vec, params)\n",
    "    return params[\"ctlsb\"].output_ser.values\n",
    "\n",
    "# Tests\n",
    "output_vec = output_tellurium_wrapper(5.0, x_vec, u_vec, params)\n",
    "assert(np.sum(output_vec) < 3)"
   ]
  },
  {
   "cell_type": "code",
   "execution_count": 8,
   "id": "681ed76c-6797-4dec-85a3-3abd4dbcba8c",
   "metadata": {},
   "outputs": [
    {
     "ename": "KeyError",
     "evalue": "'is_initial'",
     "output_type": "error",
     "traceback": [
      "\u001b[0;31m---------------------------------------------------------------------------\u001b[0m",
      "\u001b[0;31mKeyError\u001b[0m                                  Traceback (most recent call last)",
      "\u001b[0;32m<ipython-input-8-a6132f5d87b9>\u001b[0m in \u001b[0;36m<module>\u001b[0;34m\u001b[0m\n\u001b[1;32m     11\u001b[0m \u001b[0;31m# Simulate the system\u001b[0m\u001b[0;34m\u001b[0m\u001b[0;34m\u001b[0m\u001b[0;34m\u001b[0m\u001b[0m\n\u001b[1;32m     12\u001b[0m results = control.input_output_response(io_sys, times, np.repeat(1, len(times)), \n\u001b[0;32m---> 13\u001b[0;31m                                                                     X0, params=params)\n\u001b[0m",
      "\u001b[0;32m~/controlSBML/ctl/lib/python3.6/site-packages/control/iosys.py\u001b[0m in \u001b[0;36minput_output_response\u001b[0;34m(sys, T, U, X0, params, transpose, return_x, squeeze, solve_ivp_kwargs, **kwargs)\u001b[0m\n\u001b[1;32m   1869\u001b[0m         soln = sp.integrate.solve_ivp(\n\u001b[1;32m   1870\u001b[0m             \u001b[0mivp_rhs\u001b[0m\u001b[0;34m,\u001b[0m \u001b[0;34m(\u001b[0m\u001b[0mT0\u001b[0m\u001b[0;34m,\u001b[0m \u001b[0mTf\u001b[0m\u001b[0;34m)\u001b[0m\u001b[0;34m,\u001b[0m \u001b[0mX0\u001b[0m\u001b[0;34m,\u001b[0m \u001b[0mt_eval\u001b[0m\u001b[0;34m=\u001b[0m\u001b[0mT\u001b[0m\u001b[0;34m,\u001b[0m\u001b[0;34m\u001b[0m\u001b[0;34m\u001b[0m\u001b[0m\n\u001b[0;32m-> 1871\u001b[0;31m             vectorized=False, **solve_ivp_kwargs)\n\u001b[0m\u001b[1;32m   1872\u001b[0m \u001b[0;34m\u001b[0m\u001b[0m\n\u001b[1;32m   1873\u001b[0m         \u001b[0;31m# Compute the output associated with the state (and use sys.out to\u001b[0m\u001b[0;34m\u001b[0m\u001b[0;34m\u001b[0m\u001b[0;34m\u001b[0m\u001b[0m\n",
      "\u001b[0;32m~/controlSBML/ctl/lib/python3.6/site-packages/scipy/integrate/_ivp/ivp.py\u001b[0m in \u001b[0;36msolve_ivp\u001b[0;34m(fun, t_span, y0, method, t_eval, dense_output, events, vectorized, args, **options)\u001b[0m\n\u001b[1;32m    540\u001b[0m         \u001b[0mmethod\u001b[0m \u001b[0;34m=\u001b[0m \u001b[0mMETHODS\u001b[0m\u001b[0;34m[\u001b[0m\u001b[0mmethod\u001b[0m\u001b[0;34m]\u001b[0m\u001b[0;34m\u001b[0m\u001b[0;34m\u001b[0m\u001b[0m\n\u001b[1;32m    541\u001b[0m \u001b[0;34m\u001b[0m\u001b[0m\n\u001b[0;32m--> 542\u001b[0;31m     \u001b[0msolver\u001b[0m \u001b[0;34m=\u001b[0m \u001b[0mmethod\u001b[0m\u001b[0;34m(\u001b[0m\u001b[0mfun\u001b[0m\u001b[0;34m,\u001b[0m \u001b[0mt0\u001b[0m\u001b[0;34m,\u001b[0m \u001b[0my0\u001b[0m\u001b[0;34m,\u001b[0m \u001b[0mtf\u001b[0m\u001b[0;34m,\u001b[0m \u001b[0mvectorized\u001b[0m\u001b[0;34m=\u001b[0m\u001b[0mvectorized\u001b[0m\u001b[0;34m,\u001b[0m \u001b[0;34m**\u001b[0m\u001b[0moptions\u001b[0m\u001b[0;34m)\u001b[0m\u001b[0;34m\u001b[0m\u001b[0;34m\u001b[0m\u001b[0m\n\u001b[0m\u001b[1;32m    543\u001b[0m \u001b[0;34m\u001b[0m\u001b[0m\n\u001b[1;32m    544\u001b[0m     \u001b[0;32mif\u001b[0m \u001b[0mt_eval\u001b[0m \u001b[0;32mis\u001b[0m \u001b[0;32mNone\u001b[0m\u001b[0;34m:\u001b[0m\u001b[0;34m\u001b[0m\u001b[0;34m\u001b[0m\u001b[0m\n",
      "\u001b[0;32m~/controlSBML/ctl/lib/python3.6/site-packages/scipy/integrate/_ivp/rk.py\u001b[0m in \u001b[0;36m__init__\u001b[0;34m(self, fun, t0, y0, t_bound, max_step, rtol, atol, vectorized, first_step, **extraneous)\u001b[0m\n\u001b[1;32m     92\u001b[0m         \u001b[0mself\u001b[0m\u001b[0;34m.\u001b[0m\u001b[0mmax_step\u001b[0m \u001b[0;34m=\u001b[0m \u001b[0mvalidate_max_step\u001b[0m\u001b[0;34m(\u001b[0m\u001b[0mmax_step\u001b[0m\u001b[0;34m)\u001b[0m\u001b[0;34m\u001b[0m\u001b[0;34m\u001b[0m\u001b[0m\n\u001b[1;32m     93\u001b[0m         \u001b[0mself\u001b[0m\u001b[0;34m.\u001b[0m\u001b[0mrtol\u001b[0m\u001b[0;34m,\u001b[0m \u001b[0mself\u001b[0m\u001b[0;34m.\u001b[0m\u001b[0matol\u001b[0m \u001b[0;34m=\u001b[0m \u001b[0mvalidate_tol\u001b[0m\u001b[0;34m(\u001b[0m\u001b[0mrtol\u001b[0m\u001b[0;34m,\u001b[0m \u001b[0matol\u001b[0m\u001b[0;34m,\u001b[0m \u001b[0mself\u001b[0m\u001b[0;34m.\u001b[0m\u001b[0mn\u001b[0m\u001b[0;34m)\u001b[0m\u001b[0;34m\u001b[0m\u001b[0;34m\u001b[0m\u001b[0m\n\u001b[0;32m---> 94\u001b[0;31m         \u001b[0mself\u001b[0m\u001b[0;34m.\u001b[0m\u001b[0mf\u001b[0m \u001b[0;34m=\u001b[0m \u001b[0mself\u001b[0m\u001b[0;34m.\u001b[0m\u001b[0mfun\u001b[0m\u001b[0;34m(\u001b[0m\u001b[0mself\u001b[0m\u001b[0;34m.\u001b[0m\u001b[0mt\u001b[0m\u001b[0;34m,\u001b[0m \u001b[0mself\u001b[0m\u001b[0;34m.\u001b[0m\u001b[0my\u001b[0m\u001b[0;34m)\u001b[0m\u001b[0;34m\u001b[0m\u001b[0;34m\u001b[0m\u001b[0m\n\u001b[0m\u001b[1;32m     95\u001b[0m         \u001b[0;32mif\u001b[0m \u001b[0mfirst_step\u001b[0m \u001b[0;32mis\u001b[0m \u001b[0;32mNone\u001b[0m\u001b[0;34m:\u001b[0m\u001b[0;34m\u001b[0m\u001b[0;34m\u001b[0m\u001b[0m\n\u001b[1;32m     96\u001b[0m             self.h_abs = select_initial_step(\n",
      "\u001b[0;32m~/controlSBML/ctl/lib/python3.6/site-packages/scipy/integrate/_ivp/base.py\u001b[0m in \u001b[0;36mfun\u001b[0;34m(t, y)\u001b[0m\n\u001b[1;32m    136\u001b[0m         \u001b[0;32mdef\u001b[0m \u001b[0mfun\u001b[0m\u001b[0;34m(\u001b[0m\u001b[0mt\u001b[0m\u001b[0;34m,\u001b[0m \u001b[0my\u001b[0m\u001b[0;34m)\u001b[0m\u001b[0;34m:\u001b[0m\u001b[0;34m\u001b[0m\u001b[0;34m\u001b[0m\u001b[0m\n\u001b[1;32m    137\u001b[0m             \u001b[0mself\u001b[0m\u001b[0;34m.\u001b[0m\u001b[0mnfev\u001b[0m \u001b[0;34m+=\u001b[0m \u001b[0;36m1\u001b[0m\u001b[0;34m\u001b[0m\u001b[0;34m\u001b[0m\u001b[0m\n\u001b[0;32m--> 138\u001b[0;31m             \u001b[0;32mreturn\u001b[0m \u001b[0mself\u001b[0m\u001b[0;34m.\u001b[0m\u001b[0mfun_single\u001b[0m\u001b[0;34m(\u001b[0m\u001b[0mt\u001b[0m\u001b[0;34m,\u001b[0m \u001b[0my\u001b[0m\u001b[0;34m)\u001b[0m\u001b[0;34m\u001b[0m\u001b[0;34m\u001b[0m\u001b[0m\n\u001b[0m\u001b[1;32m    139\u001b[0m \u001b[0;34m\u001b[0m\u001b[0m\n\u001b[1;32m    140\u001b[0m         \u001b[0mself\u001b[0m\u001b[0;34m.\u001b[0m\u001b[0mfun\u001b[0m \u001b[0;34m=\u001b[0m \u001b[0mfun\u001b[0m\u001b[0;34m\u001b[0m\u001b[0;34m\u001b[0m\u001b[0m\n",
      "\u001b[0;32m~/controlSBML/ctl/lib/python3.6/site-packages/scipy/integrate/_ivp/base.py\u001b[0m in \u001b[0;36mfun_wrapped\u001b[0;34m(t, y)\u001b[0m\n\u001b[1;32m     18\u001b[0m \u001b[0;34m\u001b[0m\u001b[0m\n\u001b[1;32m     19\u001b[0m     \u001b[0;32mdef\u001b[0m \u001b[0mfun_wrapped\u001b[0m\u001b[0;34m(\u001b[0m\u001b[0mt\u001b[0m\u001b[0;34m,\u001b[0m \u001b[0my\u001b[0m\u001b[0;34m)\u001b[0m\u001b[0;34m:\u001b[0m\u001b[0;34m\u001b[0m\u001b[0;34m\u001b[0m\u001b[0m\n\u001b[0;32m---> 20\u001b[0;31m         \u001b[0;32mreturn\u001b[0m \u001b[0mnp\u001b[0m\u001b[0;34m.\u001b[0m\u001b[0masarray\u001b[0m\u001b[0;34m(\u001b[0m\u001b[0mfun\u001b[0m\u001b[0;34m(\u001b[0m\u001b[0mt\u001b[0m\u001b[0;34m,\u001b[0m \u001b[0my\u001b[0m\u001b[0;34m)\u001b[0m\u001b[0;34m,\u001b[0m \u001b[0mdtype\u001b[0m\u001b[0;34m=\u001b[0m\u001b[0mdtype\u001b[0m\u001b[0;34m)\u001b[0m\u001b[0;34m\u001b[0m\u001b[0;34m\u001b[0m\u001b[0m\n\u001b[0m\u001b[1;32m     21\u001b[0m \u001b[0;34m\u001b[0m\u001b[0m\n\u001b[1;32m     22\u001b[0m     \u001b[0;32mreturn\u001b[0m \u001b[0mfun_wrapped\u001b[0m\u001b[0;34m,\u001b[0m \u001b[0my0\u001b[0m\u001b[0;34m\u001b[0m\u001b[0;34m\u001b[0m\u001b[0m\n",
      "\u001b[0;32m~/controlSBML/ctl/lib/python3.6/site-packages/control/iosys.py\u001b[0m in \u001b[0;36mivp_rhs\u001b[0;34m(t, x)\u001b[0m\n\u001b[1;32m   1860\u001b[0m     \u001b[0;31m# Create a lambda function for the right hand side\u001b[0m\u001b[0;34m\u001b[0m\u001b[0;34m\u001b[0m\u001b[0;34m\u001b[0m\u001b[0m\n\u001b[1;32m   1861\u001b[0m     \u001b[0;32mdef\u001b[0m \u001b[0mivp_rhs\u001b[0m\u001b[0;34m(\u001b[0m\u001b[0mt\u001b[0m\u001b[0;34m,\u001b[0m \u001b[0mx\u001b[0m\u001b[0;34m)\u001b[0m\u001b[0;34m:\u001b[0m\u001b[0;34m\u001b[0m\u001b[0;34m\u001b[0m\u001b[0m\n\u001b[0;32m-> 1862\u001b[0;31m         \u001b[0;32mreturn\u001b[0m \u001b[0msys\u001b[0m\u001b[0;34m.\u001b[0m\u001b[0m_rhs\u001b[0m\u001b[0;34m(\u001b[0m\u001b[0mt\u001b[0m\u001b[0;34m,\u001b[0m \u001b[0mx\u001b[0m\u001b[0;34m,\u001b[0m \u001b[0mufun\u001b[0m\u001b[0;34m(\u001b[0m\u001b[0mt\u001b[0m\u001b[0;34m)\u001b[0m\u001b[0;34m)\u001b[0m\u001b[0;34m\u001b[0m\u001b[0;34m\u001b[0m\u001b[0m\n\u001b[0m\u001b[1;32m   1863\u001b[0m \u001b[0;34m\u001b[0m\u001b[0m\n\u001b[1;32m   1864\u001b[0m     \u001b[0;31m# Perform the simulation\u001b[0m\u001b[0;34m\u001b[0m\u001b[0;34m\u001b[0m\u001b[0;34m\u001b[0m\u001b[0m\n",
      "\u001b[0;32m~/controlSBML/ctl/lib/python3.6/site-packages/control/iosys.py\u001b[0m in \u001b[0;36m_rhs\u001b[0;34m(self, t, x, u)\u001b[0m\n\u001b[1;32m   1004\u001b[0m     \u001b[0;32mdef\u001b[0m \u001b[0m_rhs\u001b[0m\u001b[0;34m(\u001b[0m\u001b[0mself\u001b[0m\u001b[0;34m,\u001b[0m \u001b[0mt\u001b[0m\u001b[0;34m,\u001b[0m \u001b[0mx\u001b[0m\u001b[0;34m,\u001b[0m \u001b[0mu\u001b[0m\u001b[0;34m)\u001b[0m\u001b[0;34m:\u001b[0m\u001b[0;34m\u001b[0m\u001b[0;34m\u001b[0m\u001b[0m\n\u001b[1;32m   1005\u001b[0m         \u001b[0mxdot\u001b[0m \u001b[0;34m=\u001b[0m \u001b[0mself\u001b[0m\u001b[0;34m.\u001b[0m\u001b[0mupdfcn\u001b[0m\u001b[0;34m(\u001b[0m\u001b[0mt\u001b[0m\u001b[0;34m,\u001b[0m \u001b[0mx\u001b[0m\u001b[0;34m,\u001b[0m \u001b[0mu\u001b[0m\u001b[0;34m,\u001b[0m \u001b[0mself\u001b[0m\u001b[0;34m.\u001b[0m\u001b[0m_current_params\u001b[0m\u001b[0;34m)\u001b[0m\u001b[0;31m \u001b[0m\u001b[0;31m\\\u001b[0m\u001b[0;34m\u001b[0m\u001b[0;34m\u001b[0m\u001b[0m\n\u001b[0;32m-> 1006\u001b[0;31m             \u001b[0;32mif\u001b[0m \u001b[0mself\u001b[0m\u001b[0;34m.\u001b[0m\u001b[0mupdfcn\u001b[0m \u001b[0;32mis\u001b[0m \u001b[0;32mnot\u001b[0m \u001b[0;32mNone\u001b[0m \u001b[0;32melse\u001b[0m \u001b[0;34m[\u001b[0m\u001b[0;34m]\u001b[0m\u001b[0;34m\u001b[0m\u001b[0;34m\u001b[0m\u001b[0m\n\u001b[0m\u001b[1;32m   1007\u001b[0m         \u001b[0;32mreturn\u001b[0m \u001b[0mnp\u001b[0m\u001b[0;34m.\u001b[0m\u001b[0marray\u001b[0m\u001b[0;34m(\u001b[0m\u001b[0mxdot\u001b[0m\u001b[0;34m)\u001b[0m\u001b[0;34m.\u001b[0m\u001b[0mreshape\u001b[0m\u001b[0;34m(\u001b[0m\u001b[0;34m(\u001b[0m\u001b[0;34m-\u001b[0m\u001b[0;36m1\u001b[0m\u001b[0;34m,\u001b[0m\u001b[0;34m)\u001b[0m\u001b[0;34m)\u001b[0m\u001b[0;34m\u001b[0m\u001b[0;34m\u001b[0m\u001b[0m\n\u001b[1;32m   1008\u001b[0m \u001b[0;34m\u001b[0m\u001b[0m\n",
      "\u001b[0;32m<ipython-input-6-1d4583de3217>\u001b[0m in \u001b[0;36mstate_tellurium_wrapper\u001b[0;34m(time, x_vec, u_vec, params)\u001b[0m\n\u001b[1;32m      1\u001b[0m \u001b[0;32mdef\u001b[0m \u001b[0mstate_tellurium_wrapper\u001b[0m\u001b[0;34m(\u001b[0m\u001b[0mtime\u001b[0m\u001b[0;34m,\u001b[0m \u001b[0mx_vec\u001b[0m\u001b[0;34m,\u001b[0m \u001b[0mu_vec\u001b[0m\u001b[0;34m,\u001b[0m \u001b[0mparams\u001b[0m\u001b[0;34m)\u001b[0m\u001b[0;34m:\u001b[0m\u001b[0;34m\u001b[0m\u001b[0;34m\u001b[0m\u001b[0m\n\u001b[0;32m----> 2\u001b[0;31m     \u001b[0mcommon_tellurium_wrapper\u001b[0m\u001b[0;34m(\u001b[0m\u001b[0mtime\u001b[0m\u001b[0;34m,\u001b[0m \u001b[0mx_vec\u001b[0m\u001b[0;34m,\u001b[0m \u001b[0mu_vec\u001b[0m\u001b[0;34m,\u001b[0m \u001b[0mparams\u001b[0m\u001b[0;34m)\u001b[0m\u001b[0;34m\u001b[0m\u001b[0;34m\u001b[0m\u001b[0m\n\u001b[0m\u001b[1;32m      3\u001b[0m     \u001b[0mstate_ser\u001b[0m \u001b[0;34m=\u001b[0m \u001b[0mparams\u001b[0m\u001b[0;34m[\u001b[0m\u001b[0;34m\"ctlsb\"\u001b[0m\u001b[0;34m]\u001b[0m\u001b[0;34m.\u001b[0m\u001b[0mstate_ser\u001b[0m\u001b[0;34m\u001b[0m\u001b[0;34m\u001b[0m\u001b[0m\n\u001b[1;32m      4\u001b[0m     \u001b[0;31m#print(time, state_ser)\u001b[0m\u001b[0;34m\u001b[0m\u001b[0;34m\u001b[0m\u001b[0;34m\u001b[0m\u001b[0m\n\u001b[1;32m      5\u001b[0m     \u001b[0;32mreturn\u001b[0m \u001b[0mstate_ser\u001b[0m\u001b[0;34m.\u001b[0m\u001b[0mvalues\u001b[0m\u001b[0;34m\u001b[0m\u001b[0;34m\u001b[0m\u001b[0m\n",
      "\u001b[0;32m<ipython-input-5-f21cae5864d5>\u001b[0m in \u001b[0;36mcommon_tellurium_wrapper\u001b[0;34m(time, x_vec, u_vec, params)\u001b[0m\n\u001b[1;32m     23\u001b[0m     \u001b[0;31m# Check if simulate\u001b[0m\u001b[0;34m\u001b[0m\u001b[0;34m\u001b[0m\u001b[0;34m\u001b[0m\u001b[0m\n\u001b[1;32m     24\u001b[0m     \u001b[0mcur_time\u001b[0m \u001b[0;34m=\u001b[0m \u001b[0mctlsb\u001b[0m\u001b[0;34m.\u001b[0m\u001b[0mroadrunner\u001b[0m\u001b[0;34m.\u001b[0m\u001b[0mmodel\u001b[0m\u001b[0;34m.\u001b[0m\u001b[0mgetTime\u001b[0m\u001b[0;34m(\u001b[0m\u001b[0;34m)\u001b[0m\u001b[0;34m\u001b[0m\u001b[0;34m\u001b[0m\u001b[0m\n\u001b[0;32m---> 25\u001b[0;31m     \u001b[0;32mif\u001b[0m \u001b[0mparams\u001b[0m\u001b[0;34m[\u001b[0m\u001b[0;34m\"is_initial\"\u001b[0m\u001b[0;34m]\u001b[0m\u001b[0;34m:\u001b[0m\u001b[0;34m\u001b[0m\u001b[0;34m\u001b[0m\u001b[0m\n\u001b[0m\u001b[1;32m     26\u001b[0m         \u001b[0mparams\u001b[0m\u001b[0;34m[\u001b[0m\u001b[0;34m\"is_initial\"\u001b[0m\u001b[0;34m]\u001b[0m \u001b[0;34m=\u001b[0m \u001b[0;32mFalse\u001b[0m\u001b[0;34m\u001b[0m\u001b[0;34m\u001b[0m\u001b[0m\n\u001b[1;32m     27\u001b[0m         \u001b[0mctlsb\u001b[0m\u001b[0;34m.\u001b[0m\u001b[0mroadrunner\u001b[0m\u001b[0;34m.\u001b[0m\u001b[0mreset\u001b[0m\u001b[0;34m(\u001b[0m\u001b[0;34m)\u001b[0m\u001b[0;34m\u001b[0m\u001b[0;34m\u001b[0m\u001b[0m\n",
      "\u001b[0;31mKeyError\u001b[0m: 'is_initial'"
     ]
    }
   ],
   "source": [
    "times = np.array([n*0.1 for n in range(0, 51)])\n",
    "effector_dct = {\"J0\": \"E_J0\"}\n",
    "ctlsb = ctl.ControlSBML(NONLINEAR_MDL, input_names=[\"J0\"])\n",
    "params = {\"ctlsb\": ctlsb, \"effector_dct\": effector_dct}\n",
    "io_sys = control.NonlinearIOSystem(\n",
    "    state_tellurium_wrapper, outfcn=output_tellurium_wrapper, states=ctlsb.state_names, \n",
    "    inputs=ctlsb.input_names, outputs=ctlsb.output_names, name='tellurium', params=params)\n",
    "\n",
    "X0 = ctlsb.state_ser.values\n",
    "\n",
    "# Simulate the system\n",
    "results = control.input_output_response(io_sys, times, np.repeat(1, len(times)), \n",
    "                                                                    X0, params=params)"
   ]
  },
  {
   "cell_type": "code",
   "execution_count": null,
   "id": "964bb156-5bb2-4587-ad34-3a8e13e1297c",
   "metadata": {},
   "outputs": [],
   "source": [
    "dff = pd.DataFrame(results.outputs, index=ctlsb.state_names).transpose()\n",
    "dff[\"time\"] = times\n",
    "dff = dff.set_index(\"time\")"
   ]
  },
  {
   "cell_type": "markdown",
   "id": "b8ccda69-3563-47ba-a5c6-31f39bc8525d",
   "metadata": {},
   "source": [
    "# Constructing a Cascade of Systems"
   ]
  },
  {
   "cell_type": "markdown",
   "id": "bfcd8624-306b-4e0f-a717-cea10c50a1c3",
   "metadata": {},
   "source": [
    "Notes\n",
    "1. First create a ``NonlinearIOSystem``. Simulation is done via ``input_output_response``.\n",
    "1. Eacn system, system input, system output, and system state must have a name.\n",
    "1. Connections between systems are done by name\n",
    "1. If there is more than one input, then you must specify the input for all time steps.\n",
    "1. The number of states in the combined system is the sum of the number of states in each component system.\n",
    "1. WHen specifying connections, give the input signal and then the outputs."
   ]
  },
  {
   "cell_type": "markdown",
   "id": "d18bcd96-2633-46c0-a97d-d80d378d0b95",
   "metadata": {},
   "source": [
    "## Simple, Synthetic System"
   ]
  },
  {
   "cell_type": "code",
   "execution_count": null,
   "id": "e199e15e-4a5d-4802-8477-68bd592cf894",
   "metadata": {},
   "outputs": [],
   "source": [
    "NUM_STATE = 3\n",
    "END_TIME = 10\n",
    "# Create a simple system\n",
    "def generateRandomState(time, x_vec, u_vec, params=None):\n",
    "    num_state = len(x_vec)\n",
    "    new_state = np.random.rand(num_state)\n",
    "    new_state *= u_vec\n",
    "    return new_state\n",
    "#\n",
    "state_names = [\"s%d\" % n for n in range(NUM_STATE)]\n",
    "input_names = [\"u%d\" % n for n in range(NUM_STATE)]\n",
    "out_sys = control.NonlinearIOSystem(generateRandomState, None, states=state_names,\n",
    "                                             inputs=input_names, outputs=state_names, name=\"out_sys\")\n",
    "inp_sys = control.NonlinearIOSystem(generateRandomState, None, states=state_names,\n",
    "                                             inputs=input_names, outputs=state_names, name=\"inp_sys\")"
   ]
  },
  {
   "cell_type": "code",
   "execution_count": null,
   "id": "ce7ffe90-d007-49d2-8a33-ba323f9c40c8",
   "metadata": {},
   "outputs": [],
   "source": [
    "X0 = [np.random.rand(1) for _ in range(NUM_STATE)]\n",
    "u_vec = np.array([np.array(np.random.rand(NUM_STATE)) for _ in  range(END_TIME)])\n",
    "u_vec = np.array([np.repeat(100, NUM_STATE) for _ in  range(END_TIME)])\n",
    "u_vec = np.transpose(u_vec)\n",
    "times = np.array([n*0.1 for n in range(END_TIME)])\n",
    "t, y = control.input_output_response(inp_sys, times, u_vec, X0)"
   ]
  },
  {
   "cell_type": "code",
   "execution_count": null,
   "id": "2a137e60-02bd-4d5f-a0f8-d193ddf54ed5",
   "metadata": {},
   "outputs": [],
   "source": [
    "io_serial = control.interconnect(\n",
    "  [inp_sys, out_sys],\n",
    "  connections=[\n",
    "    ['out_sys.u0', 'inp_sys.s0'],\n",
    "      ['out_sys.u1', 'inp_sys.s1'],\n",
    "      ['out_sys.u2', 'inp_sys.s2'],\n",
    "  ],\n",
    "  inplist=['inp_sys.u1', 'inp_sys.u2', 'inp_sys.u0'],\n",
    "  outlist=['out_sys.s1', 'out_sys.s2', 'out_sys.s0'],\n",
    ")"
   ]
  },
  {
   "cell_type": "code",
   "execution_count": null,
   "id": "1ad204c1-1ce7-43f9-b2e2-5fd0b054545a",
   "metadata": {},
   "outputs": [],
   "source": [
    "io_serial.nstates, io_serial.noutputs, io_serial.ninputs"
   ]
  },
  {
   "cell_type": "code",
   "execution_count": null,
   "id": "5f13b560-2e3d-47ec-9eb5-cdba66f52d33",
   "metadata": {},
   "outputs": [],
   "source": [
    "num_state = 2*NUM_STATE\n",
    "X0 = [np.random.rand(1) for _ in range(num_state)]\n",
    "u_vec = np.array([np.repeat(1000, NUM_STATE) for _ in  range(END_TIME)])\n",
    "u_vec = np.transpose(u_vec)\n",
    "times = np.array([n*0.1 for n in range(END_TIME)])\n",
    "t, y = control.input_output_response(io_serial, times, u_vec, X0)"
   ]
  },
  {
   "cell_type": "code",
   "execution_count": null,
   "id": "bd0fd4c4-e900-42d8-bcbf-b6b52e965349",
   "metadata": {},
   "outputs": [],
   "source": [
    "y"
   ]
  },
  {
   "cell_type": "markdown",
   "id": "adaca549-f606-422a-b9f8-49a5564c9ea9",
   "metadata": {},
   "source": [
    "## ``controlSBML`` objects in systems"
   ]
  },
  {
   "cell_type": "code",
   "execution_count": null,
   "id": "58235063-e0d2-4a9f-b6f2-29b112df4841",
   "metadata": {},
   "outputs": [],
   "source": [
    "def state_tellurium_wrapper(time, x_vec, u_vec, params):\n",
    "    common_tellurium_wrapper(time, x_vec, u_vec, params)\n",
    "    state_ser = params[\"ctlsb\"].state_ser\n",
    "    return state_ser.values\n",
    "#\n",
    "ctlsb = ctl.ControlSBML(NONLINEAR_MDL, input_names=[\"J0\"], output_names=[\"S1\", \"S2\"])\n",
    "effector_dct = {\"J0\": \"E_J0\"}\n",
    "params = {\"ctlsb\": ctlsb, \"effector_dct\": effector_dct}\n",
    "tellurium = control.NonlinearIOSystem(state_tellurium_wrapper, output_tellurium_wrapper, states=ctlsb.state_names,\n",
    "                                             inputs=ctlsb.input_names, outputs=ctlsb.output_names, name=\"tellurium\")"
   ]
  },
  {
   "cell_type": "code",
   "execution_count": null,
   "id": "73d923dd-f551-4d43-ae19-74059d57a7fb",
   "metadata": {},
   "outputs": [],
   "source": [
    "#inp_sys = control.NonlinearIOSystem(generateRandomState, None, states=[\"s1\"],\n",
    "#                                             inputs=[\"inp\"], outputs=[\"out\"], name=\"inp_sys\")"
   ]
  },
  {
   "cell_type": "code",
   "execution_count": null,
   "id": "32e47f30-3aef-4c44-98b3-c39b57bec1f2",
   "metadata": {},
   "outputs": [],
   "source": [
    "io_serial = control.interconnect(\n",
    "  [tellurium, inp_sys],\n",
    "  connections=[\n",
    "  ['tellurium.J0', 'inp_sys.out'],\n",
    "  ],\n",
    "  inplist=['inp_sys.inp'],\n",
    "  outlist=ctlsb.output_names,\n",
    ")"
   ]
  },
  {
   "cell_type": "code",
   "execution_count": null,
   "id": "c05b6a05-7de2-47ba-9cf4-cb715fd6d5c8",
   "metadata": {},
   "outputs": [],
   "source": [
    "io_serial.connections"
   ]
  },
  {
   "cell_type": "code",
   "execution_count": null,
   "id": "44ed94a2-916d-447d-94ce-59bfad9373ff",
   "metadata": {},
   "outputs": [],
   "source": [
    "ctlsb = ctl.ControlSBML(NONLINEAR_MDL, input_names=[\"J0\"], output_names=[\"S1\", \"S2\"])\n",
    "effector_dct = {\"J0\": \"E_J0\"}\n",
    "params = {\"ctlsb\": ctlsb, \"effector_dct\": effector_dct}\n",
    "num_state = 1 + ctlsb.num_state\n",
    "X0 = [np.random.rand(1) for _ in range(num_state)]\n",
    "u_vec = np.array([1000 for _ in  range(END_TIME)])\n",
    "u_vec = np.transpose(u_vec)\n",
    "times = np.array([n*0.1 for n in range(END_TIME)])\n",
    "t, y = control.input_output_response(io_serial, times, u_vec, X0, params=params)\n",
    "df = pd.DataFrame(y, columns=ctlsb.output_names)"
   ]
  },
  {
   "cell_type": "code",
   "execution_count": null,
   "id": "109d825f-b94d-47dc-90d2-fa0632def011",
   "metadata": {},
   "outputs": [],
   "source": [
    "y"
   ]
  },
  {
   "cell_type": "code",
   "execution_count": null,
   "id": "2143af03-08b8-4f88-ae32-dfc0cc485faa",
   "metadata": {},
   "outputs": [],
   "source": [
    "df = pd.DataFrame(y, index=ctlsb.output_names).T\n",
    "df"
   ]
  },
  {
   "cell_type": "markdown",
   "id": "e89adb1c-8e6c-4360-b6a8-4462d20e1bc0",
   "metadata": {},
   "source": [
    "# Controller Construction"
   ]
  },
  {
   "cell_type": "code",
   "execution_count": 66,
   "id": "99cac0fb-89be-4473-a2fe-a1520f883b1f",
   "metadata": {},
   "outputs": [],
   "source": [
    "ctlsb = ctl.ControlSBML(NONLINEAR_MDL, input_names=[\"J0\"], output_names=[\"S1\", \"S4\"])\n",
    "effector_dct = {\"J0\": \"E_J0\"}\n",
    "#params = {\"ctlsb\": ctlsb, \"effector_dct\": effector_dct}\n",
    "#tellurium = control.NonlinearIOSystem(state_tellurium_wrapper, output_tellurium_wrapper, states=ctlsb.state_names,\n",
    "#                                             inputs=ctlsb.input_names, outputs=ctlsb.output_names, name=\"tellurium\")\n",
    "tellurium = ctlsb.makeNonlinearIOSystem(\"tellurium\", effector_dct=effector_dct)"
   ]
  },
  {
   "cell_type": "code",
   "execution_count": 71,
   "id": "3c4680eb-a911-4fea-9fb7-08c952b31da8",
   "metadata": {},
   "outputs": [],
   "source": [
    "xeq = [1]\n",
    "global err_sum\n",
    "err_sum = 0\n",
    "def outfcn(t, x, u, parms):\n",
    "    global err_sum\n",
    "    err = 0.5(xeq - u)\n",
    "    err_sum += err\n",
    "def outfcn(t, x, u, parms):\n",
    "    err = 1*(xeq - u)\n",
    "    #print((t, err))\n",
    "    return err\n",
    "tellurium_control = control.NonlinearIOSystem(\n",
    "  None,\n",
    "  outfcn,\n",
    "  inputs=['in'],\n",
    "  outputs=['out'], name='control')"
   ]
  },
  {
   "cell_type": "code",
   "execution_count": 72,
   "id": "68151b80-88d4-4aab-8701-0f500baae46c",
   "metadata": {},
   "outputs": [],
   "source": [
    "# Create the closed loop system\n",
    "tellurium_closed = control.interconnect(\n",
    "  [tellurium, tellurium_control],       # systems\n",
    "  connections=[\n",
    "    ['tellurium.J0', 'control.out'],\n",
    "    ['control.in',  'tellurium.S1'],\n",
    "  ],\n",
    "  outlist=ctlsb.output_names,\n",
    ")"
   ]
  },
  {
   "cell_type": "code",
   "execution_count": 75,
   "id": "08df19c8-0690-45cc-bdd3-fa99e91f4d41",
   "metadata": {},
   "outputs": [
    {
     "data": {
      "text/html": [
       "<div>\n",
       "<style scoped>\n",
       "    .dataframe tbody tr th:only-of-type {\n",
       "        vertical-align: middle;\n",
       "    }\n",
       "\n",
       "    .dataframe tbody tr th {\n",
       "        vertical-align: top;\n",
       "    }\n",
       "\n",
       "    .dataframe thead th {\n",
       "        text-align: right;\n",
       "    }\n",
       "</style>\n",
       "<table border=\"1\" class=\"dataframe\">\n",
       "  <thead>\n",
       "    <tr style=\"text-align: right;\">\n",
       "      <th></th>\n",
       "      <th>time</th>\n",
       "      <th>state</th>\n",
       "      <th>input</th>\n",
       "      <th>params</th>\n",
       "      <th>output</th>\n",
       "    </tr>\n",
       "  </thead>\n",
       "  <tbody>\n",
       "    <tr>\n",
       "      <th>0</th>\n",
       "      <td>0.000000e+00</td>\n",
       "      <td>[0.0, 0.0, 0.0, 0.0]</td>\n",
       "      <td>[0.0]</td>\n",
       "      <td>{'ctlsb': &lt;controlSBML.control_sbml.ControlSBM...</td>\n",
       "      <td>[0.0, 0.0]</td>\n",
       "    </tr>\n",
       "    <tr>\n",
       "      <th>1</th>\n",
       "      <td>0.000000e+00</td>\n",
       "      <td>[0.0, 0.0, 0.0, 0.0]</td>\n",
       "      <td>[1.0]</td>\n",
       "      <td>{'ctlsb': &lt;controlSBML.control_sbml.ControlSBM...</td>\n",
       "      <td>[0.0, 0.0]</td>\n",
       "    </tr>\n",
       "    <tr>\n",
       "      <th>2</th>\n",
       "      <td>1.000000e-06</td>\n",
       "      <td>[0.0, 0.0, 0.0, 0.0]</td>\n",
       "      <td>[0.0]</td>\n",
       "      <td>{'ctlsb': &lt;controlSBML.control_sbml.ControlSBM...</td>\n",
       "      <td>[0.0, 0.0]</td>\n",
       "    </tr>\n",
       "    <tr>\n",
       "      <th>3</th>\n",
       "      <td>1.000000e-06</td>\n",
       "      <td>[0.0, 0.0, 0.0, 0.0]</td>\n",
       "      <td>[1.0]</td>\n",
       "      <td>{'ctlsb': &lt;controlSBML.control_sbml.ControlSBM...</td>\n",
       "      <td>[0.0, 0.0]</td>\n",
       "    </tr>\n",
       "    <tr>\n",
       "      <th>4</th>\n",
       "      <td>2.000000e-07</td>\n",
       "      <td>[0.0, 0.0, 0.0, 0.0]</td>\n",
       "      <td>[0.0]</td>\n",
       "      <td>{'ctlsb': &lt;controlSBML.control_sbml.ControlSBM...</td>\n",
       "      <td>[0.0, 0.0]</td>\n",
       "    </tr>\n",
       "    <tr>\n",
       "      <th>...</th>\n",
       "      <td>...</td>\n",
       "      <td>...</td>\n",
       "      <td>...</td>\n",
       "      <td>...</td>\n",
       "      <td>...</td>\n",
       "    </tr>\n",
       "    <tr>\n",
       "      <th>199</th>\n",
       "      <td>4.800000e+00</td>\n",
       "      <td>[0.0, 0.0, 0.0, 0.0]</td>\n",
       "      <td>[1.0]</td>\n",
       "      <td>{'ctlsb': &lt;controlSBML.control_sbml.ControlSBM...</td>\n",
       "      <td>[0.0, 0.0]</td>\n",
       "    </tr>\n",
       "    <tr>\n",
       "      <th>200</th>\n",
       "      <td>4.900000e+00</td>\n",
       "      <td>[0.0, 0.0, 0.0, 0.0]</td>\n",
       "      <td>[0.0]</td>\n",
       "      <td>{'ctlsb': &lt;controlSBML.control_sbml.ControlSBM...</td>\n",
       "      <td>[0.0, 0.0]</td>\n",
       "    </tr>\n",
       "    <tr>\n",
       "      <th>201</th>\n",
       "      <td>4.900000e+00</td>\n",
       "      <td>[0.0, 0.0, 0.0, 0.0]</td>\n",
       "      <td>[1.0]</td>\n",
       "      <td>{'ctlsb': &lt;controlSBML.control_sbml.ControlSBM...</td>\n",
       "      <td>[0.0, 0.0]</td>\n",
       "    </tr>\n",
       "    <tr>\n",
       "      <th>202</th>\n",
       "      <td>5.000000e+00</td>\n",
       "      <td>[0.0, 0.0, 0.0, 0.0]</td>\n",
       "      <td>[0.0]</td>\n",
       "      <td>{'ctlsb': &lt;controlSBML.control_sbml.ControlSBM...</td>\n",
       "      <td>[0.0, 0.0]</td>\n",
       "    </tr>\n",
       "    <tr>\n",
       "      <th>203</th>\n",
       "      <td>5.000000e+00</td>\n",
       "      <td>[0.0, 0.0, 0.0, 0.0]</td>\n",
       "      <td>[1.0]</td>\n",
       "      <td>{'ctlsb': &lt;controlSBML.control_sbml.ControlSBM...</td>\n",
       "      <td>[0.0, 0.0]</td>\n",
       "    </tr>\n",
       "  </tbody>\n",
       "</table>\n",
       "<p>204 rows × 5 columns</p>\n",
       "</div>"
      ],
      "text/plain": [
       "             time                 state  input  \\\n",
       "0    0.000000e+00  [0.0, 0.0, 0.0, 0.0]  [0.0]   \n",
       "1    0.000000e+00  [0.0, 0.0, 0.0, 0.0]  [1.0]   \n",
       "2    1.000000e-06  [0.0, 0.0, 0.0, 0.0]  [0.0]   \n",
       "3    1.000000e-06  [0.0, 0.0, 0.0, 0.0]  [1.0]   \n",
       "4    2.000000e-07  [0.0, 0.0, 0.0, 0.0]  [0.0]   \n",
       "..            ...                   ...    ...   \n",
       "199  4.800000e+00  [0.0, 0.0, 0.0, 0.0]  [1.0]   \n",
       "200  4.900000e+00  [0.0, 0.0, 0.0, 0.0]  [0.0]   \n",
       "201  4.900000e+00  [0.0, 0.0, 0.0, 0.0]  [1.0]   \n",
       "202  5.000000e+00  [0.0, 0.0, 0.0, 0.0]  [0.0]   \n",
       "203  5.000000e+00  [0.0, 0.0, 0.0, 0.0]  [1.0]   \n",
       "\n",
       "                                                params      output  \n",
       "0    {'ctlsb': <controlSBML.control_sbml.ControlSBM...  [0.0, 0.0]  \n",
       "1    {'ctlsb': <controlSBML.control_sbml.ControlSBM...  [0.0, 0.0]  \n",
       "2    {'ctlsb': <controlSBML.control_sbml.ControlSBM...  [0.0, 0.0]  \n",
       "3    {'ctlsb': <controlSBML.control_sbml.ControlSBM...  [0.0, 0.0]  \n",
       "4    {'ctlsb': <controlSBML.control_sbml.ControlSBM...  [0.0, 0.0]  \n",
       "..                                                 ...         ...  \n",
       "199  {'ctlsb': <controlSBML.control_sbml.ControlSBM...  [0.0, 0.0]  \n",
       "200  {'ctlsb': <controlSBML.control_sbml.ControlSBM...  [0.0, 0.0]  \n",
       "201  {'ctlsb': <controlSBML.control_sbml.ControlSBM...  [0.0, 0.0]  \n",
       "202  {'ctlsb': <controlSBML.control_sbml.ControlSBM...  [0.0, 0.0]  \n",
       "203  {'ctlsb': <controlSBML.control_sbml.ControlSBM...  [0.0, 0.0]  \n",
       "\n",
       "[204 rows x 5 columns]"
      ]
     },
     "execution_count": 75,
     "metadata": {},
     "output_type": "execute_result"
    }
   ],
   "source": [
    "tellurium.output_call_df"
   ]
  },
  {
   "cell_type": "code",
   "execution_count": 73,
   "id": "98f240c3-4896-4df1-838a-54ec00c87fef",
   "metadata": {},
   "outputs": [
    {
     "data": {
      "text/html": [
       "<div>\n",
       "<style scoped>\n",
       "    .dataframe tbody tr th:only-of-type {\n",
       "        vertical-align: middle;\n",
       "    }\n",
       "\n",
       "    .dataframe tbody tr th {\n",
       "        vertical-align: top;\n",
       "    }\n",
       "\n",
       "    .dataframe thead th {\n",
       "        text-align: right;\n",
       "    }\n",
       "</style>\n",
       "<table border=\"1\" class=\"dataframe\">\n",
       "  <thead>\n",
       "    <tr style=\"text-align: right;\">\n",
       "      <th></th>\n",
       "      <th>S1</th>\n",
       "      <th>S4</th>\n",
       "    </tr>\n",
       "  </thead>\n",
       "  <tbody>\n",
       "    <tr>\n",
       "      <th>0</th>\n",
       "      <td>0.0</td>\n",
       "      <td>0.0</td>\n",
       "    </tr>\n",
       "    <tr>\n",
       "      <th>1</th>\n",
       "      <td>0.0</td>\n",
       "      <td>0.0</td>\n",
       "    </tr>\n",
       "    <tr>\n",
       "      <th>2</th>\n",
       "      <td>0.0</td>\n",
       "      <td>0.0</td>\n",
       "    </tr>\n",
       "    <tr>\n",
       "      <th>3</th>\n",
       "      <td>0.0</td>\n",
       "      <td>0.0</td>\n",
       "    </tr>\n",
       "    <tr>\n",
       "      <th>4</th>\n",
       "      <td>0.0</td>\n",
       "      <td>0.0</td>\n",
       "    </tr>\n",
       "    <tr>\n",
       "      <th>5</th>\n",
       "      <td>0.0</td>\n",
       "      <td>0.0</td>\n",
       "    </tr>\n",
       "    <tr>\n",
       "      <th>6</th>\n",
       "      <td>0.0</td>\n",
       "      <td>0.0</td>\n",
       "    </tr>\n",
       "    <tr>\n",
       "      <th>7</th>\n",
       "      <td>0.0</td>\n",
       "      <td>0.0</td>\n",
       "    </tr>\n",
       "    <tr>\n",
       "      <th>8</th>\n",
       "      <td>0.0</td>\n",
       "      <td>0.0</td>\n",
       "    </tr>\n",
       "    <tr>\n",
       "      <th>9</th>\n",
       "      <td>0.0</td>\n",
       "      <td>0.0</td>\n",
       "    </tr>\n",
       "    <tr>\n",
       "      <th>10</th>\n",
       "      <td>0.0</td>\n",
       "      <td>0.0</td>\n",
       "    </tr>\n",
       "    <tr>\n",
       "      <th>11</th>\n",
       "      <td>0.0</td>\n",
       "      <td>0.0</td>\n",
       "    </tr>\n",
       "    <tr>\n",
       "      <th>12</th>\n",
       "      <td>0.0</td>\n",
       "      <td>0.0</td>\n",
       "    </tr>\n",
       "    <tr>\n",
       "      <th>13</th>\n",
       "      <td>0.0</td>\n",
       "      <td>0.0</td>\n",
       "    </tr>\n",
       "    <tr>\n",
       "      <th>14</th>\n",
       "      <td>0.0</td>\n",
       "      <td>0.0</td>\n",
       "    </tr>\n",
       "    <tr>\n",
       "      <th>15</th>\n",
       "      <td>0.0</td>\n",
       "      <td>0.0</td>\n",
       "    </tr>\n",
       "    <tr>\n",
       "      <th>16</th>\n",
       "      <td>0.0</td>\n",
       "      <td>0.0</td>\n",
       "    </tr>\n",
       "    <tr>\n",
       "      <th>17</th>\n",
       "      <td>0.0</td>\n",
       "      <td>0.0</td>\n",
       "    </tr>\n",
       "    <tr>\n",
       "      <th>18</th>\n",
       "      <td>0.0</td>\n",
       "      <td>0.0</td>\n",
       "    </tr>\n",
       "    <tr>\n",
       "      <th>19</th>\n",
       "      <td>0.0</td>\n",
       "      <td>0.0</td>\n",
       "    </tr>\n",
       "    <tr>\n",
       "      <th>20</th>\n",
       "      <td>0.0</td>\n",
       "      <td>0.0</td>\n",
       "    </tr>\n",
       "    <tr>\n",
       "      <th>21</th>\n",
       "      <td>0.0</td>\n",
       "      <td>0.0</td>\n",
       "    </tr>\n",
       "    <tr>\n",
       "      <th>22</th>\n",
       "      <td>0.0</td>\n",
       "      <td>0.0</td>\n",
       "    </tr>\n",
       "    <tr>\n",
       "      <th>23</th>\n",
       "      <td>0.0</td>\n",
       "      <td>0.0</td>\n",
       "    </tr>\n",
       "    <tr>\n",
       "      <th>24</th>\n",
       "      <td>0.0</td>\n",
       "      <td>0.0</td>\n",
       "    </tr>\n",
       "    <tr>\n",
       "      <th>25</th>\n",
       "      <td>0.0</td>\n",
       "      <td>0.0</td>\n",
       "    </tr>\n",
       "    <tr>\n",
       "      <th>26</th>\n",
       "      <td>0.0</td>\n",
       "      <td>0.0</td>\n",
       "    </tr>\n",
       "    <tr>\n",
       "      <th>27</th>\n",
       "      <td>0.0</td>\n",
       "      <td>0.0</td>\n",
       "    </tr>\n",
       "    <tr>\n",
       "      <th>28</th>\n",
       "      <td>0.0</td>\n",
       "      <td>0.0</td>\n",
       "    </tr>\n",
       "    <tr>\n",
       "      <th>29</th>\n",
       "      <td>0.0</td>\n",
       "      <td>0.0</td>\n",
       "    </tr>\n",
       "    <tr>\n",
       "      <th>30</th>\n",
       "      <td>0.0</td>\n",
       "      <td>0.0</td>\n",
       "    </tr>\n",
       "    <tr>\n",
       "      <th>31</th>\n",
       "      <td>0.0</td>\n",
       "      <td>0.0</td>\n",
       "    </tr>\n",
       "    <tr>\n",
       "      <th>32</th>\n",
       "      <td>0.0</td>\n",
       "      <td>0.0</td>\n",
       "    </tr>\n",
       "    <tr>\n",
       "      <th>33</th>\n",
       "      <td>0.0</td>\n",
       "      <td>0.0</td>\n",
       "    </tr>\n",
       "    <tr>\n",
       "      <th>34</th>\n",
       "      <td>0.0</td>\n",
       "      <td>0.0</td>\n",
       "    </tr>\n",
       "    <tr>\n",
       "      <th>35</th>\n",
       "      <td>0.0</td>\n",
       "      <td>0.0</td>\n",
       "    </tr>\n",
       "    <tr>\n",
       "      <th>36</th>\n",
       "      <td>0.0</td>\n",
       "      <td>0.0</td>\n",
       "    </tr>\n",
       "    <tr>\n",
       "      <th>37</th>\n",
       "      <td>0.0</td>\n",
       "      <td>0.0</td>\n",
       "    </tr>\n",
       "    <tr>\n",
       "      <th>38</th>\n",
       "      <td>0.0</td>\n",
       "      <td>0.0</td>\n",
       "    </tr>\n",
       "    <tr>\n",
       "      <th>39</th>\n",
       "      <td>0.0</td>\n",
       "      <td>0.0</td>\n",
       "    </tr>\n",
       "    <tr>\n",
       "      <th>40</th>\n",
       "      <td>0.0</td>\n",
       "      <td>0.0</td>\n",
       "    </tr>\n",
       "    <tr>\n",
       "      <th>41</th>\n",
       "      <td>0.0</td>\n",
       "      <td>0.0</td>\n",
       "    </tr>\n",
       "    <tr>\n",
       "      <th>42</th>\n",
       "      <td>0.0</td>\n",
       "      <td>0.0</td>\n",
       "    </tr>\n",
       "    <tr>\n",
       "      <th>43</th>\n",
       "      <td>0.0</td>\n",
       "      <td>0.0</td>\n",
       "    </tr>\n",
       "    <tr>\n",
       "      <th>44</th>\n",
       "      <td>0.0</td>\n",
       "      <td>0.0</td>\n",
       "    </tr>\n",
       "    <tr>\n",
       "      <th>45</th>\n",
       "      <td>0.0</td>\n",
       "      <td>0.0</td>\n",
       "    </tr>\n",
       "    <tr>\n",
       "      <th>46</th>\n",
       "      <td>0.0</td>\n",
       "      <td>0.0</td>\n",
       "    </tr>\n",
       "    <tr>\n",
       "      <th>47</th>\n",
       "      <td>0.0</td>\n",
       "      <td>0.0</td>\n",
       "    </tr>\n",
       "    <tr>\n",
       "      <th>48</th>\n",
       "      <td>0.0</td>\n",
       "      <td>0.0</td>\n",
       "    </tr>\n",
       "    <tr>\n",
       "      <th>49</th>\n",
       "      <td>0.0</td>\n",
       "      <td>0.0</td>\n",
       "    </tr>\n",
       "    <tr>\n",
       "      <th>50</th>\n",
       "      <td>0.0</td>\n",
       "      <td>0.0</td>\n",
       "    </tr>\n",
       "  </tbody>\n",
       "</table>\n",
       "</div>"
      ],
      "text/plain": [
       "     S1   S4\n",
       "0   0.0  0.0\n",
       "1   0.0  0.0\n",
       "2   0.0  0.0\n",
       "3   0.0  0.0\n",
       "4   0.0  0.0\n",
       "5   0.0  0.0\n",
       "6   0.0  0.0\n",
       "7   0.0  0.0\n",
       "8   0.0  0.0\n",
       "9   0.0  0.0\n",
       "10  0.0  0.0\n",
       "11  0.0  0.0\n",
       "12  0.0  0.0\n",
       "13  0.0  0.0\n",
       "14  0.0  0.0\n",
       "15  0.0  0.0\n",
       "16  0.0  0.0\n",
       "17  0.0  0.0\n",
       "18  0.0  0.0\n",
       "19  0.0  0.0\n",
       "20  0.0  0.0\n",
       "21  0.0  0.0\n",
       "22  0.0  0.0\n",
       "23  0.0  0.0\n",
       "24  0.0  0.0\n",
       "25  0.0  0.0\n",
       "26  0.0  0.0\n",
       "27  0.0  0.0\n",
       "28  0.0  0.0\n",
       "29  0.0  0.0\n",
       "30  0.0  0.0\n",
       "31  0.0  0.0\n",
       "32  0.0  0.0\n",
       "33  0.0  0.0\n",
       "34  0.0  0.0\n",
       "35  0.0  0.0\n",
       "36  0.0  0.0\n",
       "37  0.0  0.0\n",
       "38  0.0  0.0\n",
       "39  0.0  0.0\n",
       "40  0.0  0.0\n",
       "41  0.0  0.0\n",
       "42  0.0  0.0\n",
       "43  0.0  0.0\n",
       "44  0.0  0.0\n",
       "45  0.0  0.0\n",
       "46  0.0  0.0\n",
       "47  0.0  0.0\n",
       "48  0.0  0.0\n",
       "49  0.0  0.0\n",
       "50  0.0  0.0"
      ]
     },
     "execution_count": 73,
     "metadata": {},
     "output_type": "execute_result"
    }
   ],
   "source": [
    "tellurium.reset()\n",
    "size = 51\n",
    "times = np.array([n*0.1 for n in range(size)])\n",
    "X0 = ctlsb.state_ser.values\n",
    "U = np.repeat(1, size)\n",
    "U = np.reshape(np.array([]), (0, 51))\n",
    "t, y = control.input_output_response(tellurium_closed, times, U, X0, params=params)\n",
    "#t, y = control.input_output_response(tellurium, times, U, X0)\n",
    "df = pd.DataFrame(np.transpose(y), columns=ctlsb.output_names)\n",
    "df"
   ]
  },
  {
   "cell_type": "markdown",
   "id": "5a773a85-5569-4f49-9bf3-008411f7a7ce",
   "metadata": {},
   "source": [
    "# Predatory Prey"
   ]
  },
  {
   "cell_type": "code",
   "execution_count": 41,
   "id": "dd783754-501a-41b7-b31e-027c3948caaa",
   "metadata": {},
   "outputs": [],
   "source": [
    "def predprey_rhs(t, x, u, params):\n",
    "    # Parameter setup\n",
    "    a = params.get('a', 3.2)\n",
    "    b = params.get('b', 0.6)\n",
    "    c = params.get('c', 50.)\n",
    "    d = params.get('d', 0.56)\n",
    "    k = params.get('k', 125)\n",
    "    r = params.get('r', 1.6)\n",
    "\n",
    "    # Map the states into local variable names\n",
    "    H = x[0]\n",
    "    L = x[1]\n",
    "\n",
    "    # Compute the control action (only allow addition of food)\n",
    "    u_0 = u if u > 0 else 0\n",
    "\n",
    "    # Compute the discrete updates\n",
    "    dH = (r + u_0) * H * (1 - H/k) - (a * H * L)/(c + H)\n",
    "    dL = b * (a * H *  L)/(c + H) - d * L\n",
    "\n",
    "    return [dH, dL]"
   ]
  },
  {
   "cell_type": "code",
   "execution_count": 44,
   "id": "7b4f0ae3-95b3-4418-b55d-c470deff93b2",
   "metadata": {},
   "outputs": [],
   "source": [
    "io_predprey = control.NonlinearIOSystem(\n",
    "    predprey_rhs, None, inputs=('u'), outputs=('H', 'L'),\n",
    "    states=('H', 'L'), name='predprey')"
   ]
  },
  {
   "cell_type": "code",
   "execution_count": 45,
   "id": "2a6f1f38-2ac4-443d-a66c-ce8540a2275d",
   "metadata": {},
   "outputs": [
    {
     "data": {
      "image/png": "[encoded data removed]",
      "text/plain": [
       "<Figure size 432x288 with 1 Axes>"
      ]
     },
     "metadata": {
      "needs_background": "light"
     },
     "output_type": "display_data"
    }
   ],
   "source": [
    "# Simulate the system\n",
    "X0 = [25, 20]                 # Initial H, L\n",
    "T = np.linspace(0, 70, 500)   # Simulation 70 years of time\n",
    "\n",
    "# Simulate the system\n",
    "t, y = control.input_output_response(io_predprey, T, 0, X0)\n",
    "\n",
    "# Plot the response\n",
    "plt.figure(1)\n",
    "plt.plot(t, y[0])\n",
    "plt.plot(t, y[1])\n",
    "plt.legend(['Hare', 'Lynx'])\n",
    "plt.show(block=False)"
   ]
  },
  {
   "cell_type": "code",
   "execution_count": null,
   "id": "8dffd738-6b2a-4620-b058-a7b36b400996",
   "metadata": {},
   "outputs": [],
   "source": [
    "np.shape(T)"
   ]
  },
  {
   "cell_type": "code",
   "execution_count": 46,
   "id": "a262fd3f-f8d3-4340-9923-987124ca56f7",
   "metadata": {},
   "outputs": [
    {
     "name": "stderr",
     "output_type": "stream",
     "text": [
      "/home/ubuntu/controlSBML/ctl/lib/python3.6/site-packages/control/iosys.py:1007: VisibleDeprecationWarning:\n",
      "\n",
      "Creating an ndarray from ragged nested sequences (which is a list-or-tuple of lists-or-tuples-or ndarrays with different lengths or shapes) is deprecated. If you meant to do this, you must specify 'dtype=object' when creating the ndarray\n",
      "\n"
     ]
    }
   ],
   "source": [
    "# Create a feedback controller. Step 1: Find an equalibrium point\n",
    "eqpt = control.find_eqpt(io_predprey, X0, 0)\n",
    "xeq = eqpt[0]                         # choose the nonzero equilibrium point\n",
    "lin_predprey = control.linearize(io_predprey, xeq, 0)"
   ]
  },
  {
   "cell_type": "code",
   "execution_count": 48,
   "id": "2fba3d01-3d73-44b2-88c2-9dafe4d33f77",
   "metadata": {},
   "outputs": [],
   "source": [
    "# Step 2: Construct the controller via pole placement\n",
    "K = control.place(lin_predprey.A, lin_predprey.B, [-0.1, -0.2])\n",
    "A, B = lin_predprey.A, lin_predprey.B\n",
    "C = np.array([[0, 1]])                # regulated output = number of lynxes\n",
    "kf = -1/(C @ np.linalg.inv(A - B @ K) @ B)"
   ]
  },
  {
   "cell_type": "code",
   "execution_count": 49,
   "id": "122aa5f0-ac0e-45e3-a478-2f8fcb0a24a2",
   "metadata": {},
   "outputs": [
    {
     "data": {
      "image/png": "[encoded data removed]",
      "text/plain": [
       "<Figure size 432x288 with 2 Axes>"
      ]
     },
     "metadata": {
      "needs_background": "light"
     },
     "output_type": "display_data"
    }
   ],
   "source": [
    "# Construct the controller\n",
    "io_controller = control.NonlinearIOSystem(\n",
    "  None,\n",
    "  lambda t, x, u, params: -K @ (u[1:] - xeq) + kf * (u[0] - xeq[1]),\n",
    "  inputs=('Ld', 'u1', 'u2'), outputs=1, name='control')\n",
    "\n",
    "# Create the closed loop system\n",
    "io_closed = control.interconnect(\n",
    "  [io_predprey, io_controller],       # systems\n",
    "  connections=[\n",
    "    ['predprey.u', 'control.y[0]'],\n",
    "    ['control.u1',  'predprey.H'],\n",
    "    ['control.u2',  'predprey.L']\n",
    "  ],\n",
    "  inplist=['control.Ld'],\n",
    "  outlist=['predprey.H', 'predprey.L', 'control.y[0]']\n",
    ")\n",
    "\n",
    "# Simulate the system\n",
    "t, y = control.input_output_response(io_closed, T, 30, [15, 20])\n",
    "\n",
    "# Plot the response\n",
    "plt.figure(2)\n",
    "plt.subplot(2, 1, 1)\n",
    "plt.plot(t, y[0])\n",
    "plt.plot(t, y[1])\n",
    "plt.legend(['Hare', 'Lynx'])\n",
    "plt.subplot(2, 1, 2)\n",
    "plt.plot(t, y[2])\n",
    "plt.legend(['input'])\n",
    "plt.show(block=False)"
   ]
  },
  {
   "cell_type": "code",
   "execution_count": null,
   "id": "89cc3f46-8615-4419-a14f-871fb4ae369b",
   "metadata": {},
   "outputs": [],
   "source": [
    "# Construct the controller\n",
    "io_controller = control.NonlinearIOSystem(\n",
    "  None,\n",
    "  lambda t, x, u, params: -K @ (u[1:] - xeq) + kf * (u[0] - xeq[1]),\n",
    "  inputs=('Ld', 'u1', 'u2'), outputs=1, name='control')"
   ]
  },
  {
   "cell_type": "code",
   "execution_count": null,
   "id": "e3a6148a-fa1e-4f67-b81a-c73d5ca382bf",
   "metadata": {},
   "outputs": [],
   "source": [
    "# Create the closed loop system\n",
    "io_closed = control.interconnect(\n",
    "  [io_predprey, io_controller],       # systems\n",
    "  connections=[\n",
    "    ['predprey.u', 'control.y[0]'],\n",
    "    ['control.u1',  'predprey.H'],\n",
    "    ['control.u2',  'predprey.L']\n",
    "  ],\n",
    "  inplist=['control.Ld'],\n",
    "  outlist=['predprey.H', 'predprey.L', 'control.y[0]']\n",
    ")"
   ]
  },
  {
   "cell_type": "code",
   "execution_count": null,
   "id": "eebd356f-c615-4868-85ae-4d695198f318",
   "metadata": {},
   "outputs": [],
   "source": [
    "# Simulate the system\n",
    "t, y = control.input_output_response(io_closed, T, 30, [15, 20])\n",
    "\n",
    "# Plot the response\n",
    "plt.figure(2)\n",
    "plt.subplot(2, 1, 1)\n",
    "plt.plot(t, y[0])\n",
    "plt.plot(t, y[1])\n",
    "plt.legend(['Hare', 'Lynx'])\n",
    "plt.subplot(2, 1, 2)\n",
    "plt.plot(t, y[2])\n",
    "plt.legend(['input'])\n",
    "plt.show(block=False)"
   ]
  },
  {
   "cell_type": "markdown",
   "id": "852cdbd0-f947-49cc-8e67-cf6b90125f2e",
   "metadata": {},
   "source": [
    "# Vertial Takeoff and Landing: TF + Bode plots"
   ]
  },
  {
   "cell_type": "code",
   "execution_count": null,
   "id": "60daeae0-f46f-44f7-8baf-1afed6eb25df",
   "metadata": {},
   "outputs": [],
   "source": [
    "# pvtol-nested.py - inner/outer design for vectored thrust aircraft\n",
    "# RMM, 5 Sep 09\n",
    "#\n",
    "# This file works through a fairly complicated control design and\n",
    "# analysis, corresponding to the planar vertical takeoff and landing\n",
    "# (PVTOL) aircraft in Astrom and Murray, Chapter 11.  It is intended\n",
    "# to demonstrate the basic functionality of the python-control\n",
    "# package.\n",
    "#\n",
    "\n",
    "import os\n",
    "import matplotlib.pyplot as plt  # MATLAB plotting functions\n",
    "from control.matlab import *    # MATLAB-like functions\n",
    "import numpy as np\n",
    "\n",
    "# System parameters\n",
    "m = 4               # mass of aircraft\n",
    "J = 0.0475          # inertia around pitch axis\n",
    "r = 0.25            # distance to center of force\n",
    "g = 9.8             # gravitational constant\n",
    "c = 0.05            # damping factor (estimated)\n",
    "\n",
    "# Transfer functions for dynamics\n",
    "Pi = tf([r], [J, 0, 0])  # inner loop (roll)\n",
    "Po = tf([1], [m, c, 0])  # outer loop (position)\n",
    "\n",
    "#\n",
    "# Inner loop control design\n",
    "#\n",
    "# This is the controller for the pitch dynamics.  Goal is to have\n",
    "# fast response for the pitch dynamics so that we can use this as a\n",
    "# control for the lateral dynamics\n",
    "#\n",
    "\n",
    "# Design a simple lead controller for the system\n",
    "k, a, b = 200, 2, 50\n",
    "Ci = k*tf([1, a], [1, b])  # lead compensator\n",
    "Li = Pi*Ci\n",
    "\n",
    "# Bode plot for the open loop process\n",
    "plt.figure(1)\n",
    "bode(Pi)\n",
    "\n",
    "# Bode plot for the loop transfer function, with margins\n",
    "plt.figure(2)\n",
    "bode(Li)\n",
    "\n",
    "# Compute out the gain and phase margins\n",
    "#! Not implemented\n",
    "# gm, pm, wcg, wcp = margin(Li)\n",
    "\n",
    "# Compute the sensitivity and complementary sensitivity functions\n",
    "Si = feedback(1, Li) \n",
    "Ti = Li*Si\n",
    "\n",
    "# Check to make sure that the specification is met \n",
    "plt.figure(3)\n",
    "gangof4(Pi, Ci) \n",
    "\n",
    "# Compute out the actual transfer function from u1 to v1 (see L8.2 notes)\n",
    "# Hi = Ci*(1-m*g*Pi)/(1+Ci*Pi)\n",
    "Hi = parallel(feedback(Ci, Pi), -m*g*feedback(Ci*Pi, 1)) \n",
    "\n",
    "plt.figure(4)\n",
    "plt.clf()\n",
    "plt.subplot(221)\n",
    "bode(Hi)\n",
    "\n",
    "# Now design the lateral control system\n",
    "a, b, K = 0.02, 5, 2\n",
    "Co = -K*tf([1, 0.3], [1, 10])  # another lead compensator\n",
    "Lo = -m*g*Po*Co                                                                                                                        "
   ]
  },
  {
   "cell_type": "markdown",
   "id": "83860af6-0219-4ea5-b91a-cb948b227b9f",
   "metadata": {},
   "source": [
    "# State Space to Transfer Function"
   ]
  },
  {
   "cell_type": "markdown",
   "id": "2f0e741e-08a8-44fa-ace7-8ba3cd19d223",
   "metadata": {},
   "source": [
    "``ss2tf`` does the conversion from state space model to transfer function for a single input, single output system.\n",
    "Conceptually, this is done by a similarity transformation in which the ${\\bf A}$ matrix is restructured into the \"controlability\" form: (a) the first row has a leading 1; (b) row $n > 1$ has its only non-zero column as $n + 1$. That is, the new state variables are $x_{n+1} = \\dot{x}_n$. If the matrix is singular, then some rows are zero. From this, it is easy to construct a transfer function."
   ]
  },
  {
   "cell_type": "code",
   "execution_count": null,
   "id": "a87ed391-c75d-473e-a2ef-6a73312ff16d",
   "metadata": {},
   "outputs": [],
   "source": [
    "A_mat = [[1., -2], [3, -4]]\n",
    "B_mat = np.identity(2)\n",
    "C_mat = np.identity(2)\n",
    "D_mat = 0*np.identity(2)\n",
    "sys_mimo = StateSpace(A_mat, B_mat, C_mat, D_mat)\n",
    "sys1 = ss2tf(sys_mimo)\n",
    "sys1"
   ]
  },
  {
   "cell_type": "code",
   "execution_count": null,
   "id": "96cd59de-3302-4138-b698-0609a43041d7",
   "metadata": {},
   "outputs": [],
   "source": [
    "s = sympy.symbols(\"s\")"
   ]
  },
  {
   "cell_type": "code",
   "execution_count": null,
   "id": "59342c8b-a0cc-44b4-88da-3df3e3c6e853",
   "metadata": {},
   "outputs": [],
   "source": [
    "#A_mat = np.random.randint(0, 10, (size, size))\n",
    "size= np.shape(A_mat)[0]\n",
    "smat = sympy.eye(size) *s - sympy.Matrix(A_mat)\n",
    "smat.inv()"
   ]
  },
  {
   "cell_type": "code",
   "execution_count": null,
   "id": "555af2cb-5c50-4523-bc72-417ba1c22c07",
   "metadata": {},
   "outputs": [],
   "source": [
    "ss_tf = StateSpaceTF(sys_mimo)\n",
    "print(ss_tf)"
   ]
  },
  {
   "cell_type": "code",
   "execution_count": null,
   "id": "812cf28e-4d34-492a-a212-99d2afa71b2f",
   "metadata": {},
   "outputs": [],
   "source": [
    "ss_tf.plotBode(legend_crd=(1.2, 1))"
   ]
  },
  {
   "cell_type": "code",
   "execution_count": null,
   "id": "3be22878-ee2e-44b7-b054-cc0c0ba6a661",
   "metadata": {},
   "outputs": [],
   "source": [
    "func11 = lambda s: 20*np.log10(np.abs( (s+4)/(s**2 + 3*s + 2)))\n",
    "func12 = lambda s: 20*np.log10(np.abs( (-2)/(s**2 + 3*s + 2)))\n",
    "func21 = lambda s: 20*np.log10(np.abs( (3)/(s**2 + 3*s + 2)))\n",
    "func22 = lambda s: 20*np.log10(np.abs( (s - 1)/(s**2 + 3*s + 2)))\n",
    "for f in [func11, func12, func21, func22]:\n",
    "    print(f(0.1))"
   ]
  },
  {
   "cell_type": "code",
   "execution_count": null,
   "id": "216fa54b-0252-47aa-a291-4707fd18d17c",
   "metadata": {},
   "outputs": [],
   "source": [
    "_ = control.bode(ss_tf.dataframe.loc[\"2\", \"2\"])"
   ]
  },
  {
   "cell_type": "code",
   "execution_count": null,
   "id": "43837491-5cfd-415f-b4a4-c50475807f56",
   "metadata": {},
   "outputs": [],
   "source": [
    "A = [[1., -2], [3, -4]]\n",
    "B = [[5.], [7]]\n",
    "C = [[6., 8]]\n",
    "D = [[9.]]\n",
    "sys2 = ss2tf(A, B, C, D)\n",
    "sys2"
   ]
  },
  {
   "cell_type": "code",
   "execution_count": null,
   "id": "6d09c0c3-6f18-43fa-8eb0-4db17558f7f9",
   "metadata": {},
   "outputs": [],
   "source": [
    "sys = control.StateSpace(A, B, C, D)\n",
    "sys"
   ]
  },
  {
   "cell_type": "code",
   "execution_count": null,
   "id": "a1f4a887-3464-410b-9e68-abd994335112",
   "metadata": {},
   "outputs": [],
   "source": [
    "_ = bode(sys[0, 0])"
   ]
  },
  {
   "cell_type": "code",
   "execution_count": null,
   "id": "2357d611-16b6-45b4-9aa9-3044f4c832cc",
   "metadata": {},
   "outputs": [],
   "source": [
    "tf = ss2tf(sys)"
   ]
  },
  {
   "cell_type": "markdown",
   "id": "aa39e320-68a8-4379-9553-f6acbdcc96f3",
   "metadata": {},
   "source": [
    "One description of a MIMO system is the matrix of input, output transfer functions. Another is to diagonlize the system."
   ]
  },
  {
   "cell_type": "code",
   "execution_count": null,
   "id": "c30ef5df-af5a-4291-a4b4-f914431a2d15",
   "metadata": {},
   "outputs": [],
   "source": [
    "tf.frequency_response(np.pi)\n"
   ]
  },
  {
   "cell_type": "code",
   "execution_count": null,
   "id": "5df4a242-8baf-4e11-8f75-6c8b3b4132fe",
   "metadata": {},
   "outputs": [],
   "source": [
    "mag, phase, angle = control.freqresp(sys1, [0.1*v for v in range(1, 101)])\n",
    "plt.plot(np.log10(angle), 20*np.log10(mag[0][0,:]))\n",
    "plt.plot(np.log10(angle), 20*np.log10(mag[0][1,:]))"
   ]
  },
  {
   "cell_type": "code",
   "execution_count": null,
   "id": "dec5c3c3-ef50-435c-be78-2081e7a0d497",
   "metadata": {},
   "outputs": [],
   "source": [
    "plt.plot(angle, mag[0][1,:])"
   ]
  },
  {
   "cell_type": "code",
   "execution_count": null,
   "id": "190b2a98-41c9-43eb-80f0-4249e334c6c6",
   "metadata": {},
   "outputs": [],
   "source": [
    "sys = control.TransferFunction(tf[0, 0])\n",
    "ax = plt.subplots(1)\n",
    "mag, phase, angle = bode(sys, [0.1*v for v in range(1, 10000)])"
   ]
  },
  {
   "cell_type": "code",
   "execution_count": null,
   "id": "9b42ae2e-2a1b-4819-b2dd-5848da90eb6d",
   "metadata": {},
   "outputs": [],
   "source": [
    "20*np.log10(mag)"
   ]
  },
  {
   "cell_type": "code",
   "execution_count": null,
   "id": "414923e7-0949-4f69-8cb2-e3b50bff8c83",
   "metadata": {},
   "outputs": [],
   "source": [
    "angle"
   ]
  },
  {
   "cell_type": "markdown",
   "id": "80f75994-a5c9-4403-9258-44e15becbce0",
   "metadata": {},
   "source": [
    "# Explore"
   ]
  },
  {
   "cell_type": "code",
   "execution_count": null,
   "id": "c2509e5c-e7e5-4463-a1e6-0a476b315493",
   "metadata": {},
   "outputs": [],
   "source": [
    "arr = np.array(range(5))\n",
    "arr1 = np.array(arr)\n",
    "arr1[0] = 2\n",
    "arr, arr1"
   ]
  },
  {
   "cell_type": "code",
   "execution_count": null,
   "id": "b26d66e9-e5c7-47f1-9417-9d1283affa14",
   "metadata": {},
   "outputs": [],
   "source": [
    "bode("
   ]
  }
 ],
 "metadata": {
  "kernelspec": {
   "display_name": "Python 3",
   "language": "python",
   "name": "python3"
  },
  "language_info": {
   "codemirror_mode": {
    "name": "ipython",
    "version": 3
   },
   "file_extension": ".py",
   "mimetype": "text/x-python",
   "name": "python",
   "nbconvert_exporter": "python",
   "pygments_lexer": "ipython3",
   "version": "3.6.9"
  }
 },
 "nbformat": 4,
 "nbformat_minor": 5
}
