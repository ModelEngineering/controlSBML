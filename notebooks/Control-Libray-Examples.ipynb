{
 "cells": [
  {
   "cell_type": "markdown",
   "id": "91f29742-29b6-4b4d-aeca-c6aa3a7b746f",
   "metadata": {},
   "source": [
    "# CONTROL LIBRARY EXAMPLES"
   ]
  },
  {
   "cell_type": "markdown",
   "id": "be9ae6bb-ec66-44ed-9bc1-7450aa1906dd",
   "metadata": {},
   "source": [
    "# Preliminaries"
   ]
  },
  {
   "cell_type": "code",
   "execution_count": 1,
   "id": "69277ff7-7856-4b22-9598-305b1ea83969",
   "metadata": {},
   "outputs": [
    {
     "ename": "IndentationError",
     "evalue": "expected an indented block (control_base.py, line 315)",
     "output_type": "error",
     "traceback": [
      "Traceback \u001b[0;36m(most recent call last)\u001b[0m:\n",
      "  File \u001b[1;32m\"/home/ubuntu/controlSBML/ctl/lib/python3.6/site-packages/IPython/core/interactiveshell.py\"\u001b[0m, line \u001b[1;32m3343\u001b[0m, in \u001b[1;35mrun_code\u001b[0m\n    exec(code_obj, self.user_global_ns, self.user_ns)\n",
      "  File \u001b[1;32m\"<ipython-input-1-caa8cda3c7e3>\"\u001b[0m, line \u001b[1;32m1\u001b[0m, in \u001b[1;35m<module>\u001b[0m\n    from controlSBML.control_extensions.state_space_tf import StateSpaceTF\n",
      "  File \u001b[1;32m\"/home/ubuntu/controlSBML/controlSBML/__init__.py\"\u001b[0m, line \u001b[1;32m3\u001b[0m, in \u001b[1;35m<module>\u001b[0m\n    from controlSBML.control_sbml import ControlSBML\n",
      "  File \u001b[1;32m\"/home/ubuntu/controlSBML/controlSBML/control_sbml.py\"\u001b[0m, line \u001b[1;32m10\u001b[0m, in \u001b[1;35m<module>\u001b[0m\n    from controlSBML.control_plot import ControlPlot\n",
      "  File \u001b[1;32m\"/home/ubuntu/controlSBML/controlSBML/control_plot.py\"\u001b[0m, line \u001b[1;32m5\u001b[0m, in \u001b[1;35m<module>\u001b[0m\n    from controlSBML.control_analysis import ControlAnalysis\n",
      "\u001b[0;36m  File \u001b[0;32m\"/home/ubuntu/controlSBML/controlSBML/control_analysis.py\"\u001b[0;36m, line \u001b[0;32m3\u001b[0;36m, in \u001b[0;35m<module>\u001b[0;36m\u001b[0m\n\u001b[0;31m    from controlSBML.control_base import ControlBase\u001b[0m\n",
      "\u001b[0;36m  File \u001b[0;32m\"/home/ubuntu/controlSBML/controlSBML/control_base.py\"\u001b[0;36m, line \u001b[0;32m315\u001b[0m\n\u001b[0;31m    if C_mat is None:\u001b[0m\n\u001b[0m    ^\u001b[0m\n\u001b[0;31mIndentationError\u001b[0m\u001b[0;31m:\u001b[0m expected an indented block\n"
     ]
    }
   ],
   "source": [
    "from controlSBML.control_extensions.state_space_tf import StateSpaceTF\n",
    "\n",
    "import control\n",
    "import numpy as np\n",
    "import sympy\n",
    "import matplotlib.pyplot as plt"
   ]
  },
  {
   "cell_type": "markdown",
   "id": "5a773a85-5569-4f49-9bf3-008411f7a7ce",
   "metadata": {},
   "source": [
    "# Predatory Prey"
   ]
  },
  {
   "cell_type": "code",
   "execution_count": null,
   "id": "dd783754-501a-41b7-b31e-027c3948caaa",
   "metadata": {},
   "outputs": [],
   "source": [
    "\n",
    "def predprey_rhs(t, x, u, params):\n",
    "    # Parameter setup\n",
    "    a = params.get('a', 3.2)\n",
    "    b = params.get('b', 0.6)\n",
    "    c = params.get('c', 50.)\n",
    "    d = params.get('d', 0.56)\n",
    "    k = params.get('k', 125)\n",
    "    r = params.get('r', 1.6)\n",
    "\n",
    "    # Map the states into local variable names\n",
    "    H = x[0]\n",
    "    L = x[1]\n",
    "\n",
    "    # Compute the control action (only allow addition of food)\n",
    "    u_0 = u if u > 0 else 0\n",
    "\n",
    "    # Compute the discrete updates\n",
    "    dH = (r + u_0) * H * (1 - H/k) - (a * H * L)/(c + H)\n",
    "    dL = b * (a * H *  L)/(c + H) - d * L\n",
    "\n",
    "    return [dH, dL]"
   ]
  },
  {
   "cell_type": "code",
   "execution_count": null,
   "id": "7b4f0ae3-95b3-4418-b55d-c470deff93b2",
   "metadata": {},
   "outputs": [],
   "source": [
    "io_predprey = control.NonlinearIOSystem(\n",
    "    predprey_rhs, None, inputs=('u'), outputs=('H', 'L'),\n",
    "    states=('H', 'L'), name='predprey')"
   ]
  },
  {
   "cell_type": "code",
   "execution_count": null,
   "id": "2a6f1f38-2ac4-443d-a66c-ce8540a2275d",
   "metadata": {},
   "outputs": [],
   "source": [
    "# Simulate the system\n",
    "X0 = [25, 20]                 # Initial H, L\n",
    "T = np.linspace(0, 70, 500)   # Simulation 70 years of time\n",
    "\n",
    "# Simulate the system\n",
    "t, y = control.input_output_response(io_predprey, T, 0, X0)\n",
    "\n",
    "# Plot the response\n",
    "plt.figure(1)\n",
    "plt.plot(t, y[0])\n",
    "plt.plot(t, y[1])\n",
    "plt.legend(['Hare', 'Lynx'])\n",
    "plt.show(block=False)"
   ]
  },
  {
   "cell_type": "code",
   "execution_count": null,
   "id": "a262fd3f-f8d3-4340-9923-987124ca56f7",
   "metadata": {},
   "outputs": [],
   "source": [
    "# Create a feedback controller. Step 1: Find an equalibrium point\n",
    "eqpt = control.find_eqpt(io_predprey, X0, 0)\n",
    "xeq = eqpt[0]                         # choose the nonzero equilibrium point\n",
    "lin_predprey = control.linearize(io_predprey, xeq, 0)"
   ]
  },
  {
   "cell_type": "code",
   "execution_count": null,
   "id": "2fba3d01-3d73-44b2-88c2-9dafe4d33f77",
   "metadata": {},
   "outputs": [],
   "source": [
    "# Step 2: Construct the controller via pole placement\n",
    "K = control.place(lin_predprey.A, lin_predprey.B, [-0.1, -0.2])\n",
    "A, B = lin_predprey.A, lin_predprey.B\n",
    "C = np.array([[0, 1]])                # regulated output = number of lynxes\n",
    "kf = -1/(C @ np.linalg.inv(A - B @ K) @ B)"
   ]
  },
  {
   "cell_type": "code",
   "execution_count": null,
   "id": "89cc3f46-8615-4419-a14f-871fb4ae369b",
   "metadata": {},
   "outputs": [],
   "source": [
    "# Construct the controller\n",
    "io_controller = control.NonlinearIOSystem(\n",
    "  None,\n",
    "  lambda t, x, u, params: -K @ (u[1:] - xeq) + kf * (u[0] - xeq[1]),\n",
    "  inputs=('Ld', 'u1', 'u2'), outputs=1, name='control')"
   ]
  },
  {
   "cell_type": "code",
   "execution_count": null,
   "id": "a02634ec-521f-4efe-b1b7-31e3a4f18fbb",
   "metadata": {},
   "outputs": [],
   "source": [
    "# Create the closed loop system\n",
    "io_closed = control.interconnect(\n",
    "  [io_predprey, io_controller],       # systems\n",
    "  connections=[\n",
    "    ['predprey.u', 'control.y[0]'],\n",
    "    ['control.u1',  'predprey.H'],\n",
    "    ['control.u2',  'predprey.L']\n",
    "  ],\n",
    "  inplist=['control.Ld'],\n",
    "  outlist=['predprey.H', 'predprey.L', 'control.y[0]']\n",
    ")"
   ]
  },
  {
   "cell_type": "code",
   "execution_count": null,
   "id": "eebd356f-c615-4868-85ae-4d695198f318",
   "metadata": {},
   "outputs": [],
   "source": [
    "# Simulate the system\n",
    "t, y = control.input_output_response(io_closed, T, 30, [15, 20])\n",
    "\n",
    "# Plot the response\n",
    "plt.figure(2)\n",
    "plt.subplot(2, 1, 1)\n",
    "plt.plot(t, y[0])\n",
    "plt.plot(t, y[1])\n",
    "plt.legend(['Hare', 'Lynx'])\n",
    "plt.subplot(2, 1, 2)\n",
    "plt.plot(t, y[2])\n",
    "plt.legend(['input'])\n",
    "plt.show(block=False)"
   ]
  },
  {
   "cell_type": "markdown",
   "id": "852cdbd0-f947-49cc-8e67-cf6b90125f2e",
   "metadata": {},
   "source": [
    "# Vertial Takeoff and Landing: TF + Bode plots"
   ]
  },
  {
   "cell_type": "code",
   "execution_count": null,
   "id": "60daeae0-f46f-44f7-8baf-1afed6eb25df",
   "metadata": {},
   "outputs": [],
   "source": [
    "# pvtol-nested.py - inner/outer design for vectored thrust aircraft\n",
    "# RMM, 5 Sep 09\n",
    "#\n",
    "# This file works through a fairly complicated control design and\n",
    "# analysis, corresponding to the planar vertical takeoff and landing\n",
    "# (PVTOL) aircraft in Astrom and Murray, Chapter 11.  It is intended\n",
    "# to demonstrate the basic functionality of the python-control\n",
    "# package.\n",
    "#\n",
    "\n",
    "import os\n",
    "import matplotlib.pyplot as plt  # MATLAB plotting functions\n",
    "from control.matlab import *    # MATLAB-like functions\n",
    "import numpy as np\n",
    "\n",
    "# System parameters\n",
    "m = 4               # mass of aircraft\n",
    "J = 0.0475          # inertia around pitch axis\n",
    "r = 0.25            # distance to center of force\n",
    "g = 9.8             # gravitational constant\n",
    "c = 0.05            # damping factor (estimated)\n",
    "\n",
    "# Transfer functions for dynamics\n",
    "Pi = tf([r], [J, 0, 0])  # inner loop (roll)\n",
    "Po = tf([1], [m, c, 0])  # outer loop (position)\n",
    "\n",
    "#\n",
    "# Inner loop control design\n",
    "#\n",
    "# This is the controller for the pitch dynamics.  Goal is to have\n",
    "# fast response for the pitch dynamics so that we can use this as a\n",
    "# control for the lateral dynamics\n",
    "#\n",
    "\n",
    "# Design a simple lead controller for the system\n",
    "k, a, b = 200, 2, 50\n",
    "Ci = k*tf([1, a], [1, b])  # lead compensator\n",
    "Li = Pi*Ci\n",
    "\n",
    "# Bode plot for the open loop process\n",
    "plt.figure(1)\n",
    "bode(Pi)\n",
    "\n",
    "# Bode plot for the loop transfer function, with margins\n",
    "plt.figure(2)\n",
    "bode(Li)\n",
    "\n",
    "# Compute out the gain and phase margins\n",
    "#! Not implemented\n",
    "# gm, pm, wcg, wcp = margin(Li)\n",
    "\n",
    "# Compute the sensitivity and complementary sensitivity functions\n",
    "Si = feedback(1, Li) \n",
    "Ti = Li*Si\n",
    "\n",
    "# Check to make sure that the specification is met \n",
    "plt.figure(3)\n",
    "gangof4(Pi, Ci) \n",
    "\n",
    "# Compute out the actual transfer function from u1 to v1 (see L8.2 notes)\n",
    "# Hi = Ci*(1-m*g*Pi)/(1+Ci*Pi)\n",
    "Hi = parallel(feedback(Ci, Pi), -m*g*feedback(Ci*Pi, 1)) \n",
    "\n",
    "plt.figure(4)\n",
    "plt.clf()\n",
    "plt.subplot(221)\n",
    "bode(Hi)\n",
    "\n",
    "# Now design the lateral control system\n",
    "a, b, K = 0.02, 5, 2\n",
    "Co = -K*tf([1, 0.3], [1, 10])  # another lead compensator\n",
    "Lo = -m*g*Po*Co                                                                                                                        "
   ]
  },
  {
   "cell_type": "markdown",
   "id": "83860af6-0219-4ea5-b91a-cb948b227b9f",
   "metadata": {},
   "source": [
    "# State Space to Transfer Function"
   ]
  },
  {
   "cell_type": "markdown",
   "id": "2f0e741e-08a8-44fa-ace7-8ba3cd19d223",
   "metadata": {},
   "source": [
    "``ss2tf`` does the conversion from state space model to transfer function for a single input, single output system.\n",
    "Conceptually, this is done by a similarity transformation in which the ${\\bf A}$ matrix is restructured into the \"controlability\" form: (a) the first row has a leading 1; (b) row $n > 1$ has its only non-zero column as $n + 1$. That is, the new state variables are $x_{n+1} = \\dot{x}_n$. If the matrix is singular, then some rows are zero. From this, it is easy to construct a transfer function."
   ]
  },
  {
   "cell_type": "code",
   "execution_count": null,
   "id": "a87ed391-c75d-473e-a2ef-6a73312ff16d",
   "metadata": {},
   "outputs": [],
   "source": [
    "A_mat = [[1., -2], [3, -4]]\n",
    "B_mat = np.identity(2)\n",
    "C_mat = np.identity(2)\n",
    "D_mat = 0*np.identity(2)\n",
    "sys_mimo = StateSpace(A_mat, B_mat, C_mat, D_mat)\n",
    "sys1 = ss2tf(sys_mimo)\n",
    "sys1"
   ]
  },
  {
   "cell_type": "code",
   "execution_count": null,
   "id": "96cd59de-3302-4138-b698-0609a43041d7",
   "metadata": {},
   "outputs": [],
   "source": [
    "s = sympy.symbols(\"s\")"
   ]
  },
  {
   "cell_type": "code",
   "execution_count": null,
   "id": "59342c8b-a0cc-44b4-88da-3df3e3c6e853",
   "metadata": {},
   "outputs": [],
   "source": [
    "#A_mat = np.random.randint(0, 10, (size, size))\n",
    "size= np.shape(A_mat)[0]\n",
    "smat = sympy.eye(size) *s - sympy.Matrix(A_mat)\n",
    "smat.inv()"
   ]
  },
  {
   "cell_type": "code",
   "execution_count": null,
   "id": "555af2cb-5c50-4523-bc72-417ba1c22c07",
   "metadata": {},
   "outputs": [],
   "source": [
    "ss_tf = StateSpaceTF(sys_mimo)\n",
    "print(ss_tf)"
   ]
  },
  {
   "cell_type": "code",
   "execution_count": null,
   "id": "812cf28e-4d34-492a-a212-99d2afa71b2f",
   "metadata": {},
   "outputs": [],
   "source": [
    "ss_tf.plotBode(legend_crd=(1.2, 1))"
   ]
  },
  {
   "cell_type": "code",
   "execution_count": null,
   "id": "3be22878-ee2e-44b7-b054-cc0c0ba6a661",
   "metadata": {},
   "outputs": [],
   "source": [
    "func11 = lambda s: 20*np.log10(np.abs( (s+4)/(s**2 + 3*s + 2)))\n",
    "func12 = lambda s: 20*np.log10(np.abs( (-2)/(s**2 + 3*s + 2)))\n",
    "func21 = lambda s: 20*np.log10(np.abs( (3)/(s**2 + 3*s + 2)))\n",
    "func22 = lambda s: 20*np.log10(np.abs( (s - 1)/(s**2 + 3*s + 2)))\n",
    "for f in [func11, func12, func21, func22]:\n",
    "    print(f(0.1))"
   ]
  },
  {
   "cell_type": "code",
   "execution_count": null,
   "id": "216fa54b-0252-47aa-a291-4707fd18d17c",
   "metadata": {},
   "outputs": [],
   "source": [
    "_ = control.bode(ss_tf.dataframe.loc[\"2\", \"2\"])"
   ]
  },
  {
   "cell_type": "code",
   "execution_count": null,
   "id": "43837491-5cfd-415f-b4a4-c50475807f56",
   "metadata": {},
   "outputs": [],
   "source": [
    "A = [[1., -2], [3, -4]]\n",
    "B = [[5.], [7]]\n",
    "C = [[6., 8]]\n",
    "D = [[9.]]\n",
    "sys2 = ss2tf(A, B, C, D)\n",
    "sys2"
   ]
  },
  {
   "cell_type": "code",
   "execution_count": null,
   "id": "6d09c0c3-6f18-43fa-8eb0-4db17558f7f9",
   "metadata": {},
   "outputs": [],
   "source": [
    "sys = control.StateSpace(A, B, C, D)\n",
    "sys"
   ]
  },
  {
   "cell_type": "code",
   "execution_count": null,
   "id": "a1f4a887-3464-410b-9e68-abd994335112",
   "metadata": {},
   "outputs": [],
   "source": [
    "_ = bode(sys[0, 0])"
   ]
  },
  {
   "cell_type": "code",
   "execution_count": null,
   "id": "2357d611-16b6-45b4-9aa9-3044f4c832cc",
   "metadata": {},
   "outputs": [],
   "source": [
    "tf = ss2tf(sys)"
   ]
  },
  {
   "cell_type": "markdown",
   "id": "aa39e320-68a8-4379-9553-f6acbdcc96f3",
   "metadata": {},
   "source": [
    "One description of a MIMO system is the matrix of input, output transfer functions. Another is to diagonlize the system."
   ]
  },
  {
   "cell_type": "code",
   "execution_count": null,
   "id": "c30ef5df-af5a-4291-a4b4-f914431a2d15",
   "metadata": {},
   "outputs": [],
   "source": [
    "tf.frequency_response(np.pi)\n"
   ]
  },
  {
   "cell_type": "code",
   "execution_count": null,
   "id": "5df4a242-8baf-4e11-8f75-6c8b3b4132fe",
   "metadata": {},
   "outputs": [],
   "source": [
    "mag, phase, angle = control.freqresp(sys1, [0.1*v for v in range(1, 101)])\n",
    "plt.plot(np.log10(angle), 20*np.log10(mag[0][0,:]))\n",
    "plt.plot(np.log10(angle), 20*np.log10(mag[0][1,:]))"
   ]
  },
  {
   "cell_type": "code",
   "execution_count": null,
   "id": "dec5c3c3-ef50-435c-be78-2081e7a0d497",
   "metadata": {},
   "outputs": [],
   "source": [
    "plt.plot(angle, mag[0][1,:])"
   ]
  },
  {
   "cell_type": "code",
   "execution_count": null,
   "id": "190b2a98-41c9-43eb-80f0-4249e334c6c6",
   "metadata": {},
   "outputs": [],
   "source": [
    "sys = control.TransferFunction(tf[0, 0])\n",
    "ax = plt.subplots(1)\n",
    "mag, phase, angle = bode(sys, [0.1*v for v in range(1, 10000)])"
   ]
  },
  {
   "cell_type": "code",
   "execution_count": null,
   "id": "9b42ae2e-2a1b-4819-b2dd-5848da90eb6d",
   "metadata": {},
   "outputs": [],
   "source": [
    "20*np.log10(mag)"
   ]
  },
  {
   "cell_type": "code",
   "execution_count": null,
   "id": "414923e7-0949-4f69-8cb2-e3b50bff8c83",
   "metadata": {},
   "outputs": [],
   "source": [
    "angle"
   ]
  },
  {
   "cell_type": "markdown",
   "id": "80f75994-a5c9-4403-9258-44e15becbce0",
   "metadata": {},
   "source": [
    "# Explore"
   ]
  },
  {
   "cell_type": "code",
   "execution_count": null,
   "id": "c2509e5c-e7e5-4463-a1e6-0a476b315493",
   "metadata": {},
   "outputs": [],
   "source": [
    "arr = np.array(range(5))\n",
    "arr1 = np.array(arr)\n",
    "arr1[0] = 2\n",
    "arr, arr1"
   ]
  },
  {
   "cell_type": "code",
   "execution_count": null,
   "id": "b26d66e9-e5c7-47f1-9417-9d1283affa14",
   "metadata": {},
   "outputs": [],
   "source": [
    "bode("
   ]
  }
 ],
 "metadata": {
  "kernelspec": {
   "display_name": "Python 3",
   "language": "python",
   "name": "python3"
  },
  "language_info": {
   "codemirror_mode": {
    "name": "ipython",
    "version": 3
   },
   "file_extension": ".py",
   "mimetype": "text/x-python",
   "name": "python",
   "nbconvert_exporter": "python",
   "pygments_lexer": "ipython3",
   "version": "3.6.9"
  }
 },
 "nbformat": 4,
 "nbformat_minor": 5
}
