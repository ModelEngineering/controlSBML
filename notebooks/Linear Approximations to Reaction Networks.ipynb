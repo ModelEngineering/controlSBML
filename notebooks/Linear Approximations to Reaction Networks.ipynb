{
 "cells": [
  {
   "cell_type": "markdown",
   "id": "0d6ccd69-d25c-4643-b8d9-887972581454",
   "metadata": {},
   "source": [
    "# Linear Approximations to Reaction Networks"
   ]
  },
  {
   "cell_type": "markdown",
   "id": "78c87479-3990-41ff-abe4-002f44c52d3f",
   "metadata": {},
   "source": [
    "## Preliminaries"
   ]
  },
  {
   "cell_type": "code",
   "execution_count": 1,
   "id": "07c84a69-4956-474e-bfb0-c45549f9d0ed",
   "metadata": {},
   "outputs": [],
   "source": [
    "import control as c\n",
    "from controlSBML.control_sbml import ControlSBML\n",
    "import controlSBML.constants as cn\n",
    "\n",
    "import matplotlib.pyplot as plt\n",
    "import numpy as np\n",
    "import pandas as pd\n",
    "import sympy as s\n",
    "import tellurium as te\n",
    "\n",
    "import os"
   ]
  },
  {
   "cell_type": "markdown",
   "id": "1c1a588f-1697-4ad5-9ca1-60f961b14f95",
   "metadata": {},
   "source": [
    "## Antimony Model"
   ]
  },
  {
   "cell_type": "code",
   "execution_count": 2,
   "id": "d2c1c09e-9ec6-4a3f-9b37-380fea0cd2ae",
   "metadata": {},
   "outputs": [
    {
     "data": {
      "image/png": "[encoded data removed]",
      "text/plain": [
       "<Figure size 432x288 with 1 Axes>"
      ]
     },
     "metadata": {},
     "output_type": "display_data"
    }
   ],
   "source": [
    "# Need to write the model in the correct way so that get a Jacobian with all state.\n",
    "# In particular, cannot use fixed concentrations. Instead, generate the species at the same rate at which it is consumed.\n",
    "MODEL = \"\"\"\n",
    "-> S0; 1\n",
    "S0 -> S1; S0\n",
    "S1 -> S2; k2*S1\n",
    "S2 -> $S3; k3*S2*S1\n",
    "\n",
    "k1 = 1;\n",
    "k2 = 1\n",
    "k3 = 1\n",
    "k4 = 1\n",
    "S0 = 1\n",
    "k0 = 1\n",
    "S1 = 10\n",
    "S2 = 0\n",
    "S3 = 0\n",
    "\"\"\"\n",
    "ROADRUNNER = te.loada(MODEL)\n",
    "ROADRUNNER.plot(ROADRUNNER.simulate())"
   ]
  },
  {
   "cell_type": "code",
   "execution_count": 3,
   "id": "f4b7a42d-5b55-4110-a4df-0cc161498a9d",
   "metadata": {},
   "outputs": [
    {
     "data": {
      "text/plain": [
       "      S0, S1,  S2\n",
       "S0 [[ -1,  0,   0],\n",
       "S1  [  1, -1,   0],\n",
       "S2  [  0,  1, -10]]"
      ]
     },
     "execution_count": 3,
     "metadata": {},
     "output_type": "execute_result"
    }
   ],
   "source": [
    "ROADRUNNER.reset()\n",
    "jacobian_mat = ROADRUNNER.getFullJacobian()\n",
    "jacobian_mat"
   ]
  },
  {
   "cell_type": "code",
   "execution_count": 4,
   "id": "50a6a25d-943f-4570-87eb-28720f0f3b6d",
   "metadata": {},
   "outputs": [],
   "source": [
    "CTLSB = ControlSBML(MODEL)"
   ]
  },
  {
   "cell_type": "markdown",
   "id": "7130d3c5-3228-403a-bc8e-ae1e7fa68b55",
   "metadata": {
    "tags": []
   },
   "source": [
    "## Accuracy of Linear Model"
   ]
  },
  {
   "cell_type": "markdown",
   "id": "6e7cd7f9-0030-4a61-b4ae-751d4312df12",
   "metadata": {},
   "source": [
    "**TO DO**\n",
    "1. plot true model and linear approximation for different start times and different non-linearities"
   ]
  },
  {
   "cell_type": "code",
   "execution_count": 5,
   "id": "e7046560-642a-4e9c-b7f3-1d2a1dbf2952",
   "metadata": {},
   "outputs": [
    {
     "data": {
      "text/plain": [
       "<matplotlib.legend.Legend at 0x7fce4b173dd8>"
      ]
     },
     "execution_count": 5,
     "metadata": {},
     "output_type": "execute_result"
    },
    {
     "data": {
      "image/png": "[encoded data removed]",
      "text/plain": [
       "<Figure size 432x288 with 1 Axes>"
      ]
     },
     "metadata": {
      "needs_background": "light"
     },
     "output_type": "display_data"
    }
   ],
   "source": [
    "CTLSB.setTime(0)\n",
    "sys = CTLSB.mkStateSpace()\n",
    "X0 = CTLSB.mkInitialState()\n",
    "num_species = len(X0)\n",
    "times = [0.1*n for n in range(50)]\n",
    "_, ax = plt.subplots(1)\n",
    "T, yout = c.forced_response(sys, T=times, X0=X0)\n",
    "for idx in range(num_species):\n",
    "    ax.plot(T, yout[idx])\n",
    "plt.legend(CTLSB.state_names)"
   ]
  },
  {
   "cell_type": "code",
   "execution_count": null,
   "id": "5d8418d2-749f-4803-9c75-c2ccc35babfd",
   "metadata": {},
   "outputs": [],
   "source": []
  },
  {
   "cell_type": "markdown",
   "id": "36c3674a-30b4-4d71-9b42-1fc54e57e67f",
   "metadata": {},
   "source": [
    "# Controllability"
   ]
  },
  {
   "cell_type": "code",
   "execution_count": 6,
   "id": "4745b29c-8dc2-4783-8981-3cfc0ee412ff",
   "metadata": {},
   "outputs": [
    {
     "data": {
      "text/plain": [
       "array([[1],\n",
       "       [0],\n",
       "       [0]])"
      ]
     },
     "execution_count": 6,
     "metadata": {},
     "output_type": "execute_result"
    }
   ],
   "source": [
    "B = np.array([1, 0, 0])\n",
    "B = np.reshape(B, (3, 1))\n",
    "B"
   ]
  },
  {
   "cell_type": "code",
   "execution_count": 7,
   "id": "e23d4347-07cc-419c-b0fd-db160ef3a0f3",
   "metadata": {},
   "outputs": [
    {
     "data": {
      "text/latex": [
       "\\[\n",
       "\\left(\\begin{array}{rllrllrll|rll}\n",
       "-1\\phantom{.}&\\hspace{-1em}&\\hspace{-1em}\\phantom{\\cdot}&0\\phantom{.}&\\hspace{-1em}&\\hspace{-1em}\\phantom{\\cdot}&0\\phantom{.}&\\hspace{-1em}&\\hspace{-1em}\\phantom{\\cdot}&1\\phantom{.}&\\hspace{-1em}&\\hspace{-1em}\\phantom{\\cdot}\\\\\n",
       "1\\phantom{.}&\\hspace{-1em}&\\hspace{-1em}\\phantom{\\cdot}&-1\\phantom{.}&\\hspace{-1em}&\\hspace{-1em}\\phantom{\\cdot}&0\\phantom{.}&\\hspace{-1em}&\\hspace{-1em}\\phantom{\\cdot}&0\\phantom{.}&\\hspace{-1em}&\\hspace{-1em}\\phantom{\\cdot}\\\\\n",
       "0\\phantom{.}&\\hspace{-1em}&\\hspace{-1em}\\phantom{\\cdot}&1\\phantom{.}&\\hspace{-1em}&\\hspace{-1em}\\phantom{\\cdot}&-10\\phantom{.}&\\hspace{-1em}&\\hspace{-1em}\\phantom{\\cdot}&0\\phantom{.}&\\hspace{-1em}&\\hspace{-1em}\\phantom{\\cdot}\\\\\n",
       "\\hline\n",
       "1\\phantom{.}&\\hspace{-1em}&\\hspace{-1em}\\phantom{\\cdot}&0\\phantom{.}&\\hspace{-1em}&\\hspace{-1em}\\phantom{\\cdot}&0\\phantom{.}&\\hspace{-1em}&\\hspace{-1em}\\phantom{\\cdot}&0\\phantom{.}&\\hspace{-1em}&\\hspace{-1em}\\phantom{\\cdot}\\\\\n",
       "0\\phantom{.}&\\hspace{-1em}&\\hspace{-1em}\\phantom{\\cdot}&1\\phantom{.}&\\hspace{-1em}&\\hspace{-1em}\\phantom{\\cdot}&0\\phantom{.}&\\hspace{-1em}&\\hspace{-1em}\\phantom{\\cdot}&0\\phantom{.}&\\hspace{-1em}&\\hspace{-1em}\\phantom{\\cdot}\\\\\n",
       "0\\phantom{.}&\\hspace{-1em}&\\hspace{-1em}\\phantom{\\cdot}&0\\phantom{.}&\\hspace{-1em}&\\hspace{-1em}\\phantom{\\cdot}&1\\phantom{.}&\\hspace{-1em}&\\hspace{-1em}\\phantom{\\cdot}&0\\phantom{.}&\\hspace{-1em}&\\hspace{-1em}\\phantom{\\cdot}\\\\\n",
       "\\end{array}\\right)\n",
       "\\]"
      ],
      "text/plain": [
       "StateSpace(array([[ -1.,   0.,   0.],\n",
       "       [  1.,  -1.,   0.],\n",
       "       [  0.,   1., -10.]]), array([[1.],\n",
       "       [0.],\n",
       "       [0.]]), array([[1., 0., 0.],\n",
       "       [0., 1., 0.],\n",
       "       [0., 0., 1.]]), array([[0.],\n",
       "       [0.],\n",
       "       [0.]]))"
      ]
     },
     "execution_count": 7,
     "metadata": {},
     "output_type": "execute_result"
    }
   ],
   "source": [
    "sys1 = c.StateSpace(sys.A, B, sys.C, sys.D)\n",
    "sys1"
   ]
  },
  {
   "cell_type": "code",
   "execution_count": 8,
   "id": "6e4caa00-5226-4b59-9b39-3c2c4c4d5f86",
   "metadata": {},
   "outputs": [
    {
     "data": {
      "text/plain": [
       "3"
      ]
     },
     "execution_count": 8,
     "metadata": {},
     "output_type": "execute_result"
    }
   ],
   "source": [
    "np.linalg.matrix_rank(c.ctrb(sys1.A, sys1.B))"
   ]
  },
  {
   "cell_type": "code",
   "execution_count": 9,
   "id": "cab2402c-00ba-44ce-816c-b96f8d96c92a",
   "metadata": {},
   "outputs": [
    {
     "data": {
      "text/plain": [
       "(array([-10.,  -1.,  -1.]),\n",
       " array([[ 0.00000000e+00,  0.00000000e+00,  2.20686521e-15],\n",
       "        [ 0.00000000e+00,  9.93883735e-01, -9.93883735e-01],\n",
       "        [ 1.00000000e+00,  1.10431526e-01, -1.10431526e-01]]))"
      ]
     },
     "execution_count": 9,
     "metadata": {},
     "output_type": "execute_result"
    }
   ],
   "source": [
    "np.linalg.eig(sys.A)"
   ]
  },
  {
   "cell_type": "markdown",
   "id": "19cb7042-8658-48e0-aecb-b78ced49a2c2",
   "metadata": {},
   "source": [
    "## Issues\n",
    "1. Many models wouldn't load in symmathSBML\n",
    "1. Seems that state includes some elements that are not species, BCK2\n",
    "1. Why is there a difference between the length of the state_vec and the length of species_names?\n",
    "1. Need getCurrentState"
   ]
  }
 ],
 "metadata": {
  "kernelspec": {
   "display_name": "Python 3",
   "language": "python",
   "name": "python3"
  },
  "language_info": {
   "codemirror_mode": {
    "name": "ipython",
    "version": 3
   },
   "file_extension": ".py",
   "mimetype": "text/x-python",
   "name": "python",
   "nbconvert_exporter": "python",
   "pygments_lexer": "ipython3",
   "version": "3.6.4"
  }
 },
 "nbformat": 4,
 "nbformat_minor": 5
}
