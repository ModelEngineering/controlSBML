{
 "cells": [
  {
   "cell_type": "markdown",
   "id": "a4c67fb0-0b0d-46da-873f-73b0525b8d78",
   "metadata": {},
   "source": [
    "# ANALYSIS OF MTOR"
   ]
  },
  {
   "cell_type": "markdown",
   "id": "59f082f8-093c-4ad2-96ae-47cf58d42fe1",
   "metadata": {},
   "source": [
    "This notebook contains an analysis of the mTOR system described in Varusai and Nguyen, 2018.\n",
    "\n",
    "We consider a model of the signaling network for mTOR, the mechanistic Target of Rapamycin (mTOR), an evolutionarily conserved network that controls key cellular processes, especially cell growth and metabolism. The signalling cascade is activated by a variety of receptor tyrosine kinases, most notably the Insulin Receptor."
   ]
  },
  {
   "cell_type": "markdown",
   "id": "267be4a9-2fb9-4a7c-a3f2-6a5551a81127",
   "metadata": {},
   "source": [
    "<img src=\"images/mTOR-System.png\"\n",
    "     alt=\"Markdown Monster icon\" \n",
    "     width=\"500\" height=\"600\"\n",
    "     style=\"float: left; margin-right: 10px;\" />"
   ]
  },
  {
   "cell_type": "code",
   "execution_count": 1,
   "id": "44eb1429-8298-46be-811f-b132707b75d9",
   "metadata": {},
   "outputs": [
    {
     "ename": "ModuleNotFoundError",
     "evalue": "No module named 'controlSBML'",
     "output_type": "error",
     "traceback": [
      "\u001b[0;31m---------------------------------------------------------------------------\u001b[0m",
      "\u001b[0;31mModuleNotFoundError\u001b[0m                       Traceback (most recent call last)",
      "Cell \u001b[0;32mIn[1], line 1\u001b[0m\n\u001b[0;32m----> 1\u001b[0m \u001b[38;5;28;01mfrom\u001b[39;00m \u001b[38;5;21;01mcontrolSBML\u001b[39;00m \u001b[38;5;28;01mimport\u001b[39;00m ControlSBML\n\u001b[1;32m      3\u001b[0m \u001b[38;5;28;01mimport\u001b[39;00m \u001b[38;5;21;01mcontrol\u001b[39;00m\n\u001b[1;32m      4\u001b[0m \u001b[38;5;28;01mimport\u001b[39;00m \u001b[38;5;21;01mmatplotlib\u001b[39;00m\u001b[38;5;21;01m.\u001b[39;00m\u001b[38;5;21;01mpyplot\u001b[39;00m \u001b[38;5;28;01mas\u001b[39;00m \u001b[38;5;21;01mplt\u001b[39;00m\n",
      "\u001b[0;31mModuleNotFoundError\u001b[0m: No module named 'controlSBML'"
     ]
    }
   ],
   "source": [
    "from controlSBML import ControlSBML\n",
    "\n",
    "import control\n",
    "import matplotlib.pyplot as plt\n",
    "import numpy as np\n",
    "import pandas as pd"
   ]
  },
  {
   "cell_type": "markdown",
   "id": "e3fbc880-28d5-4708-b14a-434fae5e786a",
   "metadata": {},
   "source": [
    "# Problem Statement"
   ]
  },
  {
   "cell_type": "markdown",
   "id": "c0fb6205-fd27-49f0-bd8e-d9f7439df0e8",
   "metadata": {},
   "source": [
    "The biological problem we address is controlling the concentration of phosphorylated mTORC1 through phosphorylated insulin. \\ccite{varusai_dynamic_2018} describes this in terms of the species pIRS. The system we study has the single input $pIRS$ and the output mTORC1. It turns out that the mTOR system is bistable with respect to the insulin. Thus, our control objective is to regulate the outputs in the high insulin region where V1 $> 4$.\n",
    "* Outputs: pmTORC1, pmTORC2\n",
    "* Inputs: V1\n",
    "* Control problem: regulate pmTORC1, pmTORC2"
   ]
  },
  {
   "cell_type": "markdown",
   "id": "a1ef151c-dbac-452d-b95f-ce5ff63cae0a",
   "metadata": {},
   "source": [
    "## mTOR Model"
   ]
  },
  {
   "cell_type": "code",
   "execution_count": null,
   "id": "1e17b8bb-c84f-4001-ad05-d443fa740cea",
   "metadata": {},
   "outputs": [],
   "source": [
    "URL = \"https://www.ebi.ac.uk/biomodels/services/download/get-files/MODEL1909250003/2/Varusai2018.xml\"\n",
    "CTLSB = ControlSBML(URL, figsize=(5, 5), times=np.linspace(0, 2000, 20000), markers=False,\n",
    "                   save_path=\"data.csv\")  # Specify default value of options"
   ]
  },
  {
   "cell_type": "code",
   "execution_count": null,
   "id": "2c398ec3-2b15-4717-9de5-5038b191139b",
   "metadata": {},
   "outputs": [],
   "source": [
    "ts = CTLSB.plotModel(ax2=0)"
   ]
  },
  {
   "cell_type": "code",
   "execution_count": null,
   "id": "1f92e289-aea4-4813-b9dc-8cb5c87dcdde",
   "metadata": {},
   "outputs": [],
   "source": [
    "ts.head()"
   ]
  },
  {
   "cell_type": "markdown",
   "id": "6acce6a0-c01e-4729-89d0-ff721ad69514",
   "metadata": {},
   "source": [
    "## System Definition"
   ]
  },
  {
   "cell_type": "code",
   "execution_count": null,
   "id": "9d7d7c3b-89f2-4305-a273-ae4b5e44051d",
   "metadata": {},
   "outputs": [],
   "source": [
    "INPUT_NAME = \"pIRS\"\n",
    "OUTPUT_NAME = \"pmTORC1\""
   ]
  },
  {
   "cell_type": "code",
   "execution_count": null,
   "id": "3751371d-9e75-4628-ab29-1424b884e1d2",
   "metadata": {},
   "outputs": [],
   "source": [
    "\n",
    "df = ts[[INPUT_NAME, OUTPUT_NAME]]\n",
    "seconds = np.array(df.index)/1000\n",
    "df.index = seconds\n",
    "df.plot()"
   ]
  },
  {
   "cell_type": "code",
   "execution_count": null,
   "id": "baf834a5-5336-41f3-82ea-936931de7f9b",
   "metadata": {},
   "outputs": [],
   "source": [
    "# Define the system and plot response over a controlled range\n",
    "CTLSB.setSystem(input_name=INPUT_NAME, output_name=OUTPUT_NAME)\n",
    "_ = CTLSB.plotStaircaseResponse(initial_value=0, final_value=35, times=np.linspace(0, 10000, 100000))"
   ]
  },
  {
   "cell_type": "markdown",
   "id": "d6baae84-262f-4709-9ee2-87fc38c22f60",
   "metadata": {},
   "source": [
    "Clearly, the effect of theinput, pIRS, is effective over only a subset of the range of pIRS. So, we focus on the interval [20, 25]."
   ]
  },
  {
   "cell_type": "code",
   "execution_count": null,
   "id": "6ab954cf-bd11-4aa9-8cf3-a283f461ad8a",
   "metadata": {},
   "outputs": [],
   "source": [
    "_, builder = CTLSB.plotStaircaseResponse(initial_value=20, final_value=25, times=np.linspace(0, 10000, 100000))"
   ]
  },
  {
   "cell_type": "code",
   "execution_count": null,
   "id": "02d0f920-781f-4ef5-9cf9-ca6e770428bc",
   "metadata": {},
   "outputs": [],
   "source": [
    "builder"
   ]
  },
  {
   "cell_type": "markdown",
   "id": "e8155e6a-832e-4c76-879d-5a507fdfbfa3",
   "metadata": {},
   "source": [
    "* The system is controllable in the region V1 $>4$, although the control decreases with larger V1 for both complexes.\n",
    "* The operating region for V1 implies an operating region for pmTORC1 of 180 to 220 and for pmTORC2 0.7 to 1.0."
   ]
  },
  {
   "cell_type": "markdown",
   "id": "6b230c61-9cf9-43f6-b24a-cd139749e074",
   "metadata": {},
   "source": [
    "# System Identification"
   ]
  },
  {
   "cell_type": "code",
   "execution_count": null,
   "id": "96a29907-4b17-4155-9411-7208d90bc31f",
   "metadata": {},
   "outputs": [],
   "source": [
    "_, builder = CTLSB.plotTransferFunctionFit(num_numerator=2, num_denominator=3, initial_value=20, final_value=25,\n",
    "                                  fit_start_time=2000, times=np.linspace(0, 10000, 100000))"
   ]
  },
  {
   "cell_type": "markdown",
   "id": "1377d100-84c6-4fa4-b05e-cb6aaa1ebc36",
   "metadata": {},
   "source": [
    "Note that the sole pole is at 0. This is consistent with an oscillatory system."
   ]
  },
  {
   "cell_type": "code",
   "execution_count": null,
   "id": "c43c3aef-147b-4407-b68b-931fcdd437c6",
   "metadata": {},
   "outputs": [],
   "source": [
    "builder"
   ]
  },
  {
   "cell_type": "code",
   "execution_count": null,
   "id": "5c794ff7-0209-4ec9-868c-a838b576ce92",
   "metadata": {},
   "outputs": [],
   "source": [
    "TRANSFER_FUNCTION = CTLSB.getOpenLoopTransferFunction()\n",
    "TRANSFER_FUNCTION"
   ]
  },
  {
   "cell_type": "code",
   "execution_count": null,
   "id": "4a188fb3-3c76-486e-b8c7-ca3ef8d7f3d4",
   "metadata": {},
   "outputs": [],
   "source": [
    "TRANSFER_FUNCTION.poles(), TRANSFER_FUNCTION.zeros()"
   ]
  },
  {
   "cell_type": "code",
   "execution_count": null,
   "id": "2af07286-c708-4ace-b92c-d7d1f7a22646",
   "metadata": {},
   "outputs": [],
   "source": [
    "_ = control.bode(TRANSFER_FUNCTION)"
   ]
  },
  {
   "cell_type": "markdown",
   "id": "aadbde66-84fe-4fdb-bf5c-fd2aed984838",
   "metadata": {},
   "source": [
    "# Testbed Construction"
   ]
  },
  {
   "cell_type": "markdown",
   "id": "0b70af05-9cd3-4312-ad87-2533d47bc113",
   "metadata": {},
   "source": [
    "Here, we build a closed loop system where the open loop is the SBML model of the simulated system. Our has a PI controller."
   ]
  },
  {
   "cell_type": "code",
   "execution_count": null,
   "id": "151697b6-4a99-40a7-b2b0-affe1b21bcf0",
   "metadata": {},
   "outputs": [],
   "source": [
    "_, builder = CTLSB.plotClosedLoop(setpoint=150, kp=1, ki=0.001, kf=None)"
   ]
  },
  {
   "cell_type": "code",
   "execution_count": null,
   "id": "722ff9bf-5b98-43d7-b794-cf83ee481c11",
   "metadata": {},
   "outputs": [],
   "source": [
    "builder"
   ]
  },
  {
   "cell_type": "code",
   "execution_count": null,
   "id": "6bba3144-a810-4bce-99cb-c56428af218d",
   "metadata": {},
   "outputs": [],
   "source": [
    "_ = CTLSB.plotClosedLoop(setpoint=150, kp=1, ki=0.001, kf=None, times=np.linspace(0, 2000, 20000))"
   ]
  },
  {
   "cell_type": "code",
   "execution_count": null,
   "id": "de9a0d98-b4fc-4928-9f72-33583cf51be4",
   "metadata": {},
   "outputs": [],
   "source": [
    "_ = CTLSB.plotClosedLoop(setpoint=80, kp=1, ki=0.01, kf=None)"
   ]
  },
  {
   "cell_type": "markdown",
   "id": "a92965a4-66e3-4771-81e9-f7c5a45f3022",
   "metadata": {},
   "source": [
    "We are able to simulate the closed loop system, but it's not easy to find design parameters such that: (a) settling times are short; (b) there is not overshoot; and (c) all concentrations are non-negative."
   ]
  },
  {
   "cell_type": "markdown",
   "id": "6f8e19cb-1484-44df-80d2-c16653ed7219",
   "metadata": {},
   "source": [
    "**Notes**\n",
    "1. Need to use positive feedback. Not clear from the controlability curves.\n",
    "2. Introducing even a little I behavior makes the controller worse.\n",
    "3. There is a multimodal behavior of the network that radically changes the long term steady state values. Could this be analyzed by decomposing the system to have multiple tandem controllers. The first controls the effect of IR on pIRS; the second controls the effect of pIRS on pmTORC1."
   ]
  },
  {
   "cell_type": "markdown",
   "id": "8e8ce356-5c4f-451d-8d82-bae1d49b9e81",
   "metadata": {},
   "source": [
    "# Design and Evaluation"
   ]
  },
  {
   "cell_type": "code",
   "execution_count": null,
   "id": "d3d43899-cc44-4c5d-ba81-1b225a31fc66",
   "metadata": {},
   "outputs": [],
   "source": [
    "grid = CTLSB.getGrid(kp_spec=True, ki_spec=False, num_coordinate=100, is_random=False)\n",
    "axis = grid.getAxis(\"kp\")\n",
    "axis.setMinValue(0.1)\n",
    "axis.setMaxValue(10)\n",
    "ts, builder = CTLSB.plotGridDesign(grid, setpoint=120, num_restart=1, is_greedy=False, save_path=\"data1.csv\")"
   ]
  },
  {
   "cell_type": "code",
   "execution_count": null,
   "id": "faa7af41-5abd-426e-a74a-1573fc3251d9",
   "metadata": {},
   "outputs": [],
   "source": [
    "CTLSB.plotDesignResult(figsize=(5,5), title=\"One Parameter Designs\", save_path=\"data1.csv\")"
   ]
  },
  {
   "cell_type": "code",
   "execution_count": null,
   "id": "38ab75a5-afbb-46ba-b634-8b3c014e15c8",
   "metadata": {},
   "outputs": [],
   "source": [
    "grid = CTLSB.getGrid(kp_spec=True, ki_spec=True, num_coordinate=11, is_random=False)\n",
    "axis = grid.getAxis(\"kp\")\n",
    "axis.setMinValue(0.1)\n",
    "axis.setMaxValue(2)\n",
    "axis = grid.getAxis(\"ki\")\n",
    "axis.setMinValue(0.01)\n",
    "axis.setMaxValue(0.02)\n",
    "ts, builder = CTLSB.plotGridDesign(grid, setpoint=120, num_restart=1, is_greedy=False, is_report=True, save_path=\"data2.csv\")"
   ]
  },
  {
   "cell_type": "code",
   "execution_count": null,
   "id": "6d953c51-2f23-48ec-a426-809318569cf9",
   "metadata": {},
   "outputs": [],
   "source": [
    "CTLSB.plotDesignResult(figsize=(5,5), save_path=\"data2.csv\", title=\"Two Parameter Design\")"
   ]
  },
  {
   "cell_type": "code",
   "execution_count": null,
   "id": "3693fa48-4608-4250-a74c-f5678964aa97",
   "metadata": {},
   "outputs": [],
   "source": [
    "grid = CTLSB.getGrid(kp_spec=True, ki_spec=True, kf_spec=True, num_coordinate=11, is_random=False)\n",
    "axis = grid.getAxis(\"kp\")\n",
    "axis.setMinValue(1.5)\n",
    "axis.setMaxValue(1.9)\n",
    "axis.setNumCoordinate(11)\n",
    "axis = grid.getAxis(\"ki\")\n",
    "axis.setMinValue(0.001)\n",
    "axis.setMaxValue(0.009)\n",
    "axis.setNumCoordinate(11)\n",
    "axis = grid.getAxis(\"kf\")\n",
    "axis.setMinValue(0.001)\n",
    "axis.setMaxValue(0.002)\n",
    "axis.setNumCoordinate(11)\n",
    "ts, builder = CTLSB.plotGridDesign(grid, setpoint=120, num_restart=1, is_greedy=False, is_report=True, save_path=\"data3.csv\")"
   ]
  },
  {
   "cell_type": "code",
   "execution_count": null,
   "id": "e11f7ae1-e66e-4fea-bdbe-f1735d693d2c",
   "metadata": {},
   "outputs": [],
   "source": [
    "CTLSB.plotDesignResult(figsize=(5,5), save_path=\"data3.csv\", suptitle=\"Three Parameter Design\")"
   ]
  },
  {
   "cell_type": "markdown",
   "id": "e3972a69-2ca4-4564-a985-3f094c821005",
   "metadata": {},
   "source": [
    "Move x-axis label to far left"
   ]
  },
  {
   "cell_type": "code",
   "execution_count": null,
   "id": "07bb9a69-4ac4-4a35-ae3d-f9aa73191824",
   "metadata": {},
   "outputs": [],
   "source": [
    "_ = CTLSB.plotClosedLoop(setpoint=120, kp=CTLSB.kp, ki=CTLSB.ki, times=np.linspace(0, 20000, 200000))"
   ]
  },
  {
   "cell_type": "code",
   "execution_count": null,
   "id": "b791ca12-a87b-438a-bd81-243f60d552e4",
   "metadata": {},
   "outputs": [],
   "source": [
    "_ = CTLSB.plotClosedLoop(setpoint=150, kp=2.2084, ki=0.0188, times=np.linspace(0, 2000, 20000))"
   ]
  },
  {
   "cell_type": "markdown",
   "id": "14ca0d6e-886d-42bd-9ee7-d9d6fdd89934",
   "metadata": {},
   "source": [
    "# Issues"
   ]
  },
  {
   "cell_type": "markdown",
   "id": "c5621588-306e-488c-82d1-d22b7b1675aa",
   "metadata": {},
   "source": [
    "1. Handle longer time strings on x-axis"
   ]
  }
 ],
 "metadata": {
  "kernelspec": {
   "display_name": "Python 3 (ipykernel)",
   "language": "python",
   "name": "python3"
  },
  "language_info": {
   "codemirror_mode": {
    "name": "ipython",
    "version": 3
   },
   "file_extension": ".py",
   "mimetype": "text/x-python",
   "name": "python",
   "nbconvert_exporter": "python",
   "pygments_lexer": "ipython3",
   "version": "3.9.6"
  }
 },
 "nbformat": 4,
 "nbformat_minor": 5
}
