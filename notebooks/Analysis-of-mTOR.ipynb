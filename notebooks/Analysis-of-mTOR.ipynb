{
 "cells": [
  {
   "cell_type": "markdown",
   "id": "a4c67fb0-0b0d-46da-873f-73b0525b8d78",
   "metadata": {},
   "source": [
    "# ANALYSIS OF MTOR"
   ]
  },
  {
   "cell_type": "markdown",
   "id": "59f082f8-093c-4ad2-96ae-47cf58d42fe1",
   "metadata": {},
   "source": [
    "This notebook contains an analysis of the mTOR system described in Varusai and Nguyen, 2018.\n",
    "\n",
    "We consider a model of the signaling network for mTOR, the mechanistic Target of Rapamycin (mTOR), an evolutionarily conserved network that controls key cellular processes, especially cell growth and metabolism. The signalling cascade is activated by a variety of receptor tyrosine kinases, most notably the Insulin Receptor."
   ]
  },
  {
   "cell_type": "markdown",
   "id": "267be4a9-2fb9-4a7c-a3f2-6a5551a81127",
   "metadata": {},
   "source": [
    "<img src=\"images/mTOR-System.png\"\n",
    "     alt=\"Markdown Monster icon\" \n",
    "     width=\"500\" height=\"600\"\n",
    "     style=\"float: left; margin-right: 10px;\" />"
   ]
  },
  {
   "cell_type": "code",
   "execution_count": null,
   "id": "95e8a0cf-8028-4744-8f58-59d7433b1bdb",
   "metadata": {},
   "outputs": [],
   "source": [
    "import controlSBML as ctl\n",
    "\n",
    "import control\n",
    "import matplotlib.pyplot as plt\n",
    "import numpy as np\n",
    "import pandas as pd\n",
    "ctl.__version__"
   ]
  },
  {
   "cell_type": "markdown",
   "id": "e3fbc880-28d5-4708-b14a-434fae5e786a",
   "metadata": {},
   "source": [
    "# Problem Statement"
   ]
  },
  {
   "cell_type": "markdown",
   "id": "c0fb6205-fd27-49f0-bd8e-d9f7439df0e8",
   "metadata": {},
   "source": [
    "The biological problem we address is controlling the concentration of phosphorylated mTORC1 through phosphorylated insulin. \\ccite{varusai_dynamic_2018} describes this in terms of the species pIRS. The system we study has the single input $pIRS$ and the output mTORC1. It turns out that the mTOR system is bistable with respect to the insulin. Thus, our control objective is to regulate the outputs in the high insulin region where V1 $> 4$.\n",
    "* Outputs: pmTORC1, pmTORC2\n",
    "* Inputs: V1\n",
    "* Control problem: regulate pmTORC1, pmTORC2"
   ]
  },
  {
   "cell_type": "markdown",
   "id": "a1ef151c-dbac-452d-b95f-ce5ff63cae0a",
   "metadata": {},
   "source": [
    "## mTOR Model"
   ]
  },
  {
   "cell_type": "code",
   "execution_count": null,
   "id": "1e17b8bb-c84f-4001-ad05-d443fa740cea",
   "metadata": {},
   "outputs": [],
   "source": [
    "URL = \"https://www.ebi.ac.uk/biomodels/model/download/BIOMD0000000823.2?filename=Varusai2018.xml\"\n",
    "INPUT_NAME = \"IR\"\n",
    "OUTPUT_NAME = \"pmTORC1\"\n",
    "SYSTEM = ctl.SBMLSystem(URL, input_names=[INPUT_NAME], output_names=[OUTPUT_NAME],\n",
    "                       is_fixed_input_species=True)"
   ]
  },
  {
   "cell_type": "code",
   "execution_count": null,
   "id": "2c398ec3-2b15-4717-9de5-5038b191139b",
   "metadata": {},
   "outputs": [],
   "source": [
    "ts = SYSTEM.plotModel(figsize=(5,5), end_time=2000, markers=np.repeat(\"\", 20))\n",
    "for column in ts.columns:\n",
    "    if not column in [INPUT_NAME, OUTPUT_NAME]:\n",
    "        del ts[column]\n",
    "times = ts.index/1000\n",
    "plt.plot(times, ts[OUTPUT_NAME], color=\"green\")\n",
    "ax = plt.gca()\n",
    "ax2 = ax.twinx()\n",
    "ax2.plot(times, ts[INPUT_NAME], color=\"red\")\n",
    "ax.set_ylabel(OUTPUT_NAME, color=\"green\")\n",
    "ax2.set_ylabel(INPUT_NAME, color=\"red\")\n",
    "ax.set_xlabel(\"time\")"
   ]
  },
  {
   "cell_type": "code",
   "execution_count": null,
   "id": "07534880-55a1-4207-a164-eaf44a4a48d1",
   "metadata": {},
   "outputs": [],
   "source": [
    "print(SYSTEM.getValidInputs())"
   ]
  },
  {
   "cell_type": "code",
   "execution_count": null,
   "id": "86db9a18-37eb-40d8-8997-21504cc31cc8",
   "metadata": {},
   "outputs": [],
   "source": [
    "STAIRCASE = ctl.Staircase(initial_value=5, final_value=10, num_step=5)\n",
    "BUILDER = ctl.SISOTransferFunctionBuilder(SYSTEM)\n",
    "response_ts = BUILDER.makeStaircaseResponse(staircase=STAIRCASE, end_time=5000, points_per_time=10)\n",
    "BUILDER.plotStaircaseResponse(response_ts, figsize=(5,5))"
   ]
  },
  {
   "cell_type": "markdown",
   "id": "e8155e6a-832e-4c76-879d-5a507fdfbfa3",
   "metadata": {},
   "source": [
    "* The system is controllable in the region V1 $>4$, although the control decreases with larger V1 for both complexes.\n",
    "* The operating region for V1 implies an operating region for pmTORC1 of 180 to 220 and for pmTORC2 0.7 to 1.0."
   ]
  },
  {
   "cell_type": "markdown",
   "id": "6b230c61-9cf9-43f6-b24a-cd139749e074",
   "metadata": {},
   "source": [
    "# System Identification"
   ]
  },
  {
   "cell_type": "code",
   "execution_count": null,
   "id": "96a29907-4b17-4155-9411-7208d90bc31f",
   "metadata": {},
   "outputs": [],
   "source": [
    "fitter_result = BUILDER.fitTransferFunction(num_numerator=2, num_denominator=3, staircase=STAIRCASE, \n",
    "                                            fit_start_time=0, start_time=0, end_time=5000)\n",
    "BUILDER.plotFitTransferFunction(fitter_result, figsize=(5,5))"
   ]
  },
  {
   "cell_type": "markdown",
   "id": "aadbde66-84fe-4fdb-bf5c-fd2aed984838",
   "metadata": {},
   "source": [
    "# Testbed Construction"
   ]
  },
  {
   "cell_type": "markdown",
   "id": "0b70af05-9cd3-4312-ad87-2533d47bc113",
   "metadata": {},
   "source": [
    "Here, we build a closed loop system where the open loop is the SBML model of the simulated system. Our has a PI controller."
   ]
  },
  {
   "cell_type": "code",
   "execution_count": null,
   "id": "ad903906-a79c-4ddd-bef7-cb7d41791a73",
   "metadata": {},
   "outputs": [],
   "source": [
    "setpoint = 0.2\n",
    "ts, builder = SYSTEM.simulateSISOClosedLoop(kp=6.8,  end_time=10000, is_steady_state=False, \n",
    "                                            setpoint=setpoint, num_point=1000, sign=1,\n",
    "                                            )\n",
    "SYSTEM.plotSISOClosedLoop(ts, setpoint, markers=[\"\", \"\"], figsize=(5,5))"
   ]
  },
  {
   "cell_type": "markdown",
   "id": "a92965a4-66e3-4771-81e9-f7c5a45f3022",
   "metadata": {},
   "source": [
    "We are able to simulate the closed loop system, but it's not easy to find design parameters such that: (a) settling times are short; (b) there is not overshoot; and (c) all concentrations are non-negative."
   ]
  },
  {
   "cell_type": "markdown",
   "id": "6f8e19cb-1484-44df-80d2-c16653ed7219",
   "metadata": {},
   "source": [
    "**Notes**\n",
    "1. Need to use positive feedback. Not clear from the controlability curves.\n",
    "2. Introducing even a little I behavior makes the controller worse.\n",
    "3. There is a multimodal behavior of the network that radically changes the long term steady state values. Could this be analyzed by decomposing the system to have multiple tandem controllers. The first controls the effect of IR on pIRS; the second controls the effect of pIRS on pmTORC1."
   ]
  },
  {
   "cell_type": "code",
   "execution_count": null,
   "id": "602b0344-754e-4376-a11e-625bce413180",
   "metadata": {},
   "outputs": [],
   "source": [
    "builder"
   ]
  },
  {
   "cell_type": "markdown",
   "id": "8e8ce356-5c4f-451d-8d82-bae1d49b9e81",
   "metadata": {},
   "source": [
    "# Design and Evaluation"
   ]
  }
 ],
 "metadata": {
  "kernelspec": {
   "display_name": "Python 3 (ipykernel)",
   "language": "python",
   "name": "python3"
  },
  "language_info": {
   "codemirror_mode": {
    "name": "ipython",
    "version": 3
   },
   "file_extension": ".py",
   "mimetype": "text/x-python",
   "name": "python",
   "nbconvert_exporter": "python",
   "pygments_lexer": "ipython3",
   "version": "3.9.6"
  }
 },
 "nbformat": 4,
 "nbformat_minor": 5
}
