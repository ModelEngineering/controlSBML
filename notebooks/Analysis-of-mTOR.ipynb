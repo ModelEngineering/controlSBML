{
 "cells": [
  {
   "cell_type": "markdown",
   "id": "a4c67fb0-0b0d-46da-873f-73b0525b8d78",
   "metadata": {},
   "source": [
    "# ANALYSIS OF MTOR"
   ]
  },
  {
   "cell_type": "markdown",
   "id": "59f082f8-093c-4ad2-96ae-47cf58d42fe1",
   "metadata": {},
   "source": [
    "This notebook contains an analysis of the mTOR system described in Varusai and Nguyen, 2018.\n",
    "\n",
    "We consider a model of the signaling network for mTOR, the mechanistic Target of Rapamycin (mTOR), an evolutionarily conserved network that controls key cellular processes, especially cell growth and metabolism. The signalling cascade is activated by a variety of receptor tyrosine kinases, most notably the Insulin Receptor."
   ]
  },
  {
   "cell_type": "code",
   "execution_count": 1,
   "id": "95e8a0cf-8028-4744-8f58-59d7433b1bdb",
   "metadata": {},
   "outputs": [
    {
     "data": {
      "text/plain": [
       "'1.0.11'"
      ]
     },
     "execution_count": 1,
     "metadata": {},
     "output_type": "execute_result"
    }
   ],
   "source": [
    "import controlSBML as ctl\n",
    "\n",
    "import control\n",
    "import lmfit\n",
    "import matplotlib.pyplot as plt\n",
    "import numpy as np\n",
    "import pandas as pd\n",
    "ctl.__version__"
   ]
  },
  {
   "cell_type": "markdown",
   "id": "ca57ba06-00eb-49fc-aa12-95e79db7ebef",
   "metadata": {},
   "source": [
    "# Problem Statement"
   ]
  }
 ],
 "metadata": {
  "kernelspec": {
   "display_name": "Python 3 (ipykernel)",
   "language": "python",
   "name": "python3"
  },
  "language_info": {
   "codemirror_mode": {
    "name": "ipython",
    "version": 3
   },
   "file_extension": ".py",
   "mimetype": "text/x-python",
   "name": "python",
   "nbconvert_exporter": "python",
   "pygments_lexer": "ipython3",
   "version": "3.9.6"
  }
 },
 "nbformat": 4,
 "nbformat_minor": 5
}
