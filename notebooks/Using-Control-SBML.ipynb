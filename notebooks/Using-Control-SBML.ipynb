{
 "cells": [
  {
   "cell_type": "markdown",
   "id": "0d6ccd69-d25c-4643-b8d9-887972581454",
   "metadata": {
    "tags": []
   },
   "source": [
    "# USING ``controlSBML``"
   ]
  },
  {
   "cell_type": "markdown",
   "id": "78c87479-3990-41ff-abe4-002f44c52d3f",
   "metadata": {
    "tags": []
   },
   "source": [
    "## Preliminaries"
   ]
  },
  {
   "cell_type": "code",
   "execution_count": 1,
   "id": "07c84a69-4956-474e-bfb0-c45549f9d0ed",
   "metadata": {},
   "outputs": [],
   "source": [
    "import controlSBML as ctl\n",
    "\n",
    "import control\n",
    "import matplotlib.pyplot as plt\n",
    "import numpy as np\n",
    "import pandas as pd"
   ]
  },
  {
   "cell_type": "markdown",
   "id": "85174cb3-c21c-4f72-bc01-963dd3ddcb30",
   "metadata": {},
   "source": [
    "# ControlSBML Objects"
   ]
  },
  {
   "cell_type": "markdown",
   "id": "b58e812a-c872-429f-ae58-4240ccf75923",
   "metadata": {},
   "source": [
    "## Construction ``ControlSBML``"
   ]
  },
  {
   "cell_type": "code",
   "execution_count": 2,
   "id": "dd8f4994-b4ea-419c-be6b-66e607396c2f",
   "metadata": {},
   "outputs": [],
   "source": [
    "# From a URL\n",
    "CTLSB_MTOR = ctl.ControlSBML(\n",
    "    \"https://www.ebi.ac.uk/biomodels/model/download/BIOMD0000000823.2?filename=Varusai2018.xml\",\n",
    "    input_names=[\"v1\", \"v11\"], output_names=[\"mTORC1_DEPTOR\", \"mTORC2_DEPTOR\"])"
   ]
  },
  {
   "cell_type": "code",
   "execution_count": 3,
   "id": "f7ac44f5-2e3e-4c55-aca6-1f9568f91da1",
   "metadata": {},
   "outputs": [],
   "source": [
    "SIMPLE_MODEL = \"\"\"\n",
    "J1: S1 -> S2; S1\n",
    "S1 = 10; S2 = 0;\n",
    "\"\"\""
   ]
  },
  {
   "cell_type": "code",
   "execution_count": 4,
   "id": "0a36b4ef-5876-4a07-8bf0-777acfcdab32",
   "metadata": {},
   "outputs": [],
   "source": [
    "# From an antimony string\n",
    "CTLSB_SIMPLE = ctl.ControlSBML(SIMPLE_MODEL, input_names=[\"J1\"], output_names=[\"S2\"])"
   ]
  },
  {
   "cell_type": "markdown",
   "id": "689ed862-98cb-4c77-a2cd-8133376cafc0",
   "metadata": {},
   "source": [
    "## Properties"
   ]
  },
  {
   "cell_type": "code",
   "execution_count": 5,
   "id": "e81fad5a-245f-4635-97b0-e6d27709c16e",
   "metadata": {},
   "outputs": [
    {
     "name": "stdout",
     "output_type": "stream",
     "text": [
      "// Created by libAntimony v2.12.0\n",
      "function Constant_flux__irreversible(v)\n",
      "  v;\n",
      "end\n",
      "\n",
      "Constant_flux__irreversible is \"Constant flux (irreversible)\"\n",
      "\n",
      "function Henri_Michaelis_Menten__irreversible(substrate, Km, V)\n",
      "  V*substrate/(Km + substrate);\n",
      "end\n",
      "\n",
      "Henri_Michaelis_Menten__irreversible is \"Henri-Michaelis-Menten (irreversible)\"\n",
      "\n",
      "function HMM_Mod(V, s, m, Km)\n",
      "  V*s*m/(Km + s);\n",
      "end\n",
      "\n",
      "HMM_Mod is \"HMM_Mod\"\n",
      "\n",
      "function Function_for_v11(k11ca, pmTORC1, DEPTOR, Km11a, pDEPTOR, k11cb, pmTORC2, Km11b)\n",
      "  k11ca*pmTORC1*DEPTOR/(Km11a + pDEPTOR) + k11cb*pmTORC2*DEPTOR/(Km11b + DEPTOR);\n",
      "end\n",
      "\n",
      "Function_for_v11 is \"Function_for_v11\"\n",
      "\n",
      "function Function_for_v5(k5ca, pIRS, Akt, Km5a, k5cb, pmTORC2, Km5b)\n",
      "  k5ca*pIRS*Akt/(Km5a + Akt) + k5cb*pmTORC2*Akt/(Km5b + Akt);\n",
      "end\n",
      "\n",
      "Function_for_v5 is \"Function_for_v5\"\n",
      "\n",
      "\n",
      "model *Varusai2018___Dynamic_modelling_of_the_mTOR_signalling_network_reveals_complex_emergent_behaviours_conferred_by_DEPTOR()\n",
      "\n",
      "  // Compartments and Species:\n",
      "  compartment compartment_;\n",
      "  species IR in compartment_, pIR in compartment_, IRS in compartment_, pIRS in compartment_;\n",
      "  species iIRS in compartment_, Akt in compartment_, pAkt in compartment_;\n",
      "  species mTORC1 in compartment_, pmTORC1 in compartment_, mTORC2 in compartment_;\n",
      "  species pmTORC2 in compartment_, imTORC2 in compartment_, mTORC1_DEPTOR in compartment_;\n",
      "  species mTORC2_DEPTOR in compartment_, DEPTOR in compartment_, pDEPTOR in compartment_;\n",
      "\n",
      "  // Reactions:\n",
      "  v1: IR => pIR; compartment_*Henri_Michaelis_Menten__irreversible(IR, Km1, V1);\n",
      "  v2: pIR => IR; compartment_*Henri_Michaelis_Menten__irreversible(pIR, Km2, V2);\n",
      "  v3: IRS => pIRS; compartment_*HMM_Mod(k3c, IRS, pIR, Km3);\n",
      "  v4: pIRS => IRS; compartment_*Henri_Michaelis_Menten__irreversible(pIRS, Km4, V4);\n",
      "  v5: Akt => pAkt; compartment_*Function_for_v5(k5ca, pIRS, Akt, Km5a, k5cb, pmTORC2, Km5b);\n",
      "  v6: pAkt => Akt; compartment_*Henri_Michaelis_Menten__irreversible(pAkt, Km6, V6);\n",
      "  v7: mTORC1 => pmTORC1; compartment_*HMM_Mod(k7c, mTORC1, pAkt, Km7);\n",
      "  v8: pmTORC1 => mTORC1; compartment_*Henri_Michaelis_Menten__irreversible(pmTORC1, Km8, V8);\n",
      "  v9: mTORC2 => pmTORC2; compartment_*HMM_Mod(k9c, mTORC2, pIR, Km9);\n",
      "  v10: pmTORC2 => mTORC2; compartment_*Henri_Michaelis_Menten__irreversible(pmTORC2, Km10, V10);\n",
      "  v11: DEPTOR => pDEPTOR; compartment_*Function_for_v11(k11ca, pmTORC1, DEPTOR, Km11a, pDEPTOR, k11cb, pmTORC2, Km11b);\n",
      "  v12: pDEPTOR => DEPTOR; compartment_*Henri_Michaelis_Menten__irreversible(pDEPTOR, Km12, V12);\n",
      "  v13: mTORC1 + DEPTOR -> mTORC1_DEPTOR; compartment_*(k13f*mTORC1*DEPTOR - k13r*mTORC1_DEPTOR);\n",
      "  v14: mTORC2 + DEPTOR -> mTORC2_DEPTOR; compartment_*(k14f*mTORC2*DEPTOR - k14r*mTORC2_DEPTOR);\n",
      "  v15: IRS => iIRS; compartment_*HMM_Mod(k15c, IRS, pmTORC1, Km15);\n",
      "  v16: iIRS => IRS; compartment_*Henri_Michaelis_Menten__irreversible(iIRS, Km16, V16);\n",
      "  v17:  => DEPTOR; compartment_*Constant_flux__irreversible(ks17);\n",
      "  v18: pDEPTOR => ; compartment_*kd18*pDEPTOR;\n",
      "\n",
      "  // Species initializations:\n",
      "  IR = 50;\n",
      "  pIR = 0;\n",
      "  IRS = 100;\n",
      "  pIRS = 0;\n",
      "  iIRS = 0;\n",
      "  Akt = 100;\n",
      "  pAkt = 0;\n",
      "  mTORC1 = 250;\n",
      "  pmTORC1 = 0;\n",
      "  mTORC2 = 200;\n",
      "  pmTORC2 = 0;\n",
      "  imTORC2 = 0;\n",
      "  mTORC1_DEPTOR = 0;\n",
      "  mTORC2_DEPTOR = 0;\n",
      "  DEPTOR = 350;\n",
      "  pDEPTOR = 0;\n",
      "\n",
      "  // Compartment initializations:\n",
      "  compartment_ = 1;\n",
      "\n",
      "  // Variable initializations:\n",
      "  V1 = 1;\n",
      "  Km1 = 95;\n",
      "  V2 = 1;\n",
      "  Km2 = 35;\n",
      "  k3c = 0.1;\n",
      "  Km3 = 50;\n",
      "  V4 = 1;\n",
      "  Km4 = 50;\n",
      "  k5ca = 0.05;\n",
      "  Km5a = 7;\n",
      "  k5cb = 1.5;\n",
      "  Km5b = 4;\n",
      "  V6 = 2;\n",
      "  Km6 = 34;\n",
      "  k7c = 0.1;\n",
      "  Km7 = 2;\n",
      "  V8 = 6;\n",
      "  Km8 = 1;\n",
      "  k9c = 0.3;\n",
      "  Km9 = 160;\n",
      "  V10 = 3;\n",
      "  Km10 = 7;\n",
      "  k11ca = 0.1;\n",
      "  Km11a = 120;\n",
      "  k11cb = 0.13;\n",
      "  Km11b = 11;\n",
      "  V12 = 4;\n",
      "  Km12 = 7;\n",
      "  k13f = 0.001;\n",
      "  k13r = 0.006;\n",
      "  k14f = 0.007;\n",
      "  k14r = 0.006;\n",
      "  k15c = 0.1;\n",
      "  Km15 = 50;\n",
      "  V16 = 1;\n",
      "  Km16 = 50;\n",
      "  ks17 = 0;\n",
      "  kd18 = 0;\n",
      "\n",
      "  // Other declarations:\n",
      "  const compartment_, V1, Km1, V2, Km2, k3c, Km3, V4, Km4, k5ca, Km5a, k5cb;\n",
      "  const Km5b, V6, Km6, k7c, Km7, V8, Km8, k9c, Km9, V10, Km10, k11ca, Km11a;\n",
      "  const k11cb, Km11b, V12, Km12, k13f, k13r, k14f, k14r, k15c, Km15, V16;\n",
      "  const Km16, ks17, kd18;\n",
      "\n",
      "  // Unit definitions:\n",
      "  unit volume = 1e-3 litre;\n",
      "  unit substance = 1e-3 mole;\n",
      "\n",
      "  // CV terms:\n",
      "  compartment_ hypernym \"http://identifiers.org/ncit/C48694\"\n",
      "  IR identity \"http://identifiers.org/pr/PR:000009064\"\n",
      "  pIR hypernym \"http://identifiers.org/pr/PR:000009064\"\n",
      "  IRS identity \"http://identifiers.org/ncit/C28474\"\n",
      "  pIRS hypernym \"http://identifiers.org/ncit/C28474\"\n",
      "  iIRS hypernym \"http://identifiers.org/ncit/C28474\"\n",
      "  Akt identity \"http://identifiers.org/pr/PR:000029189\"\n",
      "  pAkt hypernym \"http://identifiers.org/pr/PR:000029189\"\n",
      "  mTORC1 hypernym \"http://identifiers.org/ncit/C96314\"\n",
      "  pmTORC1 hypernym \"http://identifiers.org/ncit/C96314\"\n",
      "  mTORC2 identity \"http://identifiers.org/ncit/C96315\"\n",
      "  pmTORC2 hypernym \"http://identifiers.org/ncit/C96315\"\n",
      "  imTORC2 hypernym \"http://identifiers.org/ncit/C96315\"\n",
      "  mTORC1_DEPTOR part \"http://identifiers.org/ncit/C96314\"\n",
      "  mTORC1_DEPTOR part \"http://identifiers.org/ncit/C101595\"\n",
      "  mTORC2_DEPTOR part \"http://identifiers.org/ncit/C101595\"\n",
      "  mTORC2_DEPTOR part \"http://identifiers.org/ncit/mTORC2\"\n",
      "  DEPTOR identity \"http://identifiers.org/ncit/C101595\"\n",
      "  pDEPTOR hypernym \"http://identifiers.org/ncit/C101595\"\n",
      "  v1 hypernym \"http://identifiers.org/go/GO:0016310\"\n",
      "  v2 hypernym \"http://identifiers.org/go/GO:0016311\"\n",
      "  v3 hypernym \"http://identifiers.org/go/GO:0016310\"\n",
      "  v4 hypernym \"http://identifiers.org/go/GO:0016311\"\n",
      "  v5 hypernym \"http://identifiers.org/go/GO:0016310\"\n",
      "  v6 hypernym \"http://identifiers.org/go/GO:0016311\"\n",
      "  v7 hypernym \"http://identifiers.org/go/GO:0016310\"\n",
      "  v8 hypernym \"http://identifiers.org/go/GO:0016311\"\n",
      "  v9 hypernym \"http://identifiers.org/go/GO:0016310\"\n",
      "  v10 hypernym \"http://identifiers.org/go/GO:0016311\"\n",
      "  v11 hypernym \"http://identifiers.org/go/GO:0016310\"\n",
      "  v12 hypernym \"http://identifiers.org/go/GO:0016311\"\n",
      "  v13 hypernym \"http://identifiers.org/ncit/C18469\"\n",
      "  v14 hypernym \"http://identifiers.org/ncit/C18469\"\n",
      "  v15 hypernym \"http://identifiers.org/ncit/C16983\"\n",
      "  v15 hypernym \"http://identifiers.org/sbo/SBO:0000169\"\n",
      "  v16 hypernym \"http://identifiers.org/ncit/C21018\"\n",
      "  v17 hypernym \"http://identifiers.org/ncit/C80450\"\n",
      "  v18 hypernym \"http://identifiers.org/ncit/C61559\"\n",
      "end\n",
      "\n",
      "Varusai2018___Dynamic_modelling_of_the_mTOR_signalling_network_reveals_complex_emergent_behaviours_conferred_by_DEPTOR is \"Varusai2018 - Dynamic modelling of the mTOR signalling network reveals complex emergent behaviours conferred by DEPTOR\"\n",
      "\n",
      "Varusai2018___Dynamic_modelling_of_the_mTOR_signalling_network_reveals_complex_emergent_behaviours_conferred_by_DEPTOR description \"http://identifiers.org/pubmed/29330362\"\n",
      "Varusai2018___Dynamic_modelling_of_the_mTOR_signalling_network_reveals_complex_emergent_behaviours_conferred_by_DEPTOR model_entity_is \"http://identifiers.org/biomodels.db/MODEL1909250003\",\n",
      "                                                                                                                                       \"http://identifiers.org/biomodels.db/BIOMD0000000823\"\n",
      "Varusai2018___Dynamic_modelling_of_the_mTOR_signalling_network_reveals_complex_emergent_behaviours_conferred_by_DEPTOR property \"http://identifiers.org/mamo/MAMO_0000046\"\n",
      "Varusai2018___Dynamic_modelling_of_the_mTOR_signalling_network_reveals_complex_emergent_behaviours_conferred_by_DEPTOR property \"http://identifiers.org/pw/PW:0000180\"\n",
      "Varusai2018___Dynamic_modelling_of_the_mTOR_signalling_network_reveals_complex_emergent_behaviours_conferred_by_DEPTOR property \"http://identifiers.org/ncit/C101595\"\n",
      "Varusai2018___Dynamic_modelling_of_the_mTOR_signalling_network_reveals_complex_emergent_behaviours_conferred_by_DEPTOR taxon \"http://identifiers.org/taxonomy/9606\"\n",
      "\n"
     ]
    }
   ],
   "source": [
    "# Print the first few lines of the antimony representation of this model\n",
    "print(CTLSB_MTOR.antimony)"
   ]
  },
  {
   "cell_type": "code",
   "execution_count": 6,
   "id": "49e011c1-3422-4557-81d8-0bbb44690d8c",
   "metadata": {},
   "outputs": [
    {
     "data": {
      "text/plain": [
       "['IR',\n",
       " 'pIR',\n",
       " 'IRS',\n",
       " 'pIRS',\n",
       " 'iIRS',\n",
       " 'Akt',\n",
       " 'pAkt',\n",
       " 'mTORC1',\n",
       " 'pmTORC1',\n",
       " 'mTORC2',\n",
       " 'pmTORC2',\n",
       " 'imTORC2',\n",
       " 'mTORC1_DEPTOR',\n",
       " 'mTORC2_DEPTOR',\n",
       " 'DEPTOR',\n",
       " 'pDEPTOR']"
      ]
     },
     "execution_count": 6,
     "metadata": {},
     "output_type": "execute_result"
    }
   ],
   "source": [
    "CTLSB_MTOR.state_names"
   ]
  },
  {
   "cell_type": "code",
   "execution_count": 7,
   "id": "aa53287a-9c8a-45b7-bd69-c1862bfa986d",
   "metadata": {},
   "outputs": [
    {
     "data": {
      "text/html": [
       "<div>\n",
       "<style scoped>\n",
       "    .dataframe tbody tr th:only-of-type {\n",
       "        vertical-align: middle;\n",
       "    }\n",
       "\n",
       "    .dataframe tbody tr th {\n",
       "        vertical-align: top;\n",
       "    }\n",
       "\n",
       "    .dataframe thead th {\n",
       "        text-align: right;\n",
       "    }\n",
       "</style>\n",
       "<table border=\"1\" class=\"dataframe\">\n",
       "  <thead>\n",
       "    <tr style=\"text-align: right;\">\n",
       "      <th></th>\n",
       "      <th>IR</th>\n",
       "      <th>pIR</th>\n",
       "      <th>IRS</th>\n",
       "      <th>pIRS</th>\n",
       "      <th>iIRS</th>\n",
       "      <th>Akt</th>\n",
       "      <th>pAkt</th>\n",
       "      <th>mTORC1</th>\n",
       "      <th>pmTORC1</th>\n",
       "      <th>mTORC2</th>\n",
       "      <th>pmTORC2</th>\n",
       "      <th>imTORC2</th>\n",
       "      <th>mTORC1_DEPTOR</th>\n",
       "      <th>mTORC2_DEPTOR</th>\n",
       "      <th>DEPTOR</th>\n",
       "      <th>pDEPTOR</th>\n",
       "    </tr>\n",
       "  </thead>\n",
       "  <tbody>\n",
       "    <tr>\n",
       "      <th>IR</th>\n",
       "      <td>-0.004518</td>\n",
       "      <td>0.028571</td>\n",
       "      <td>0.0</td>\n",
       "      <td>0.000000</td>\n",
       "      <td>0.00</td>\n",
       "      <td>0.0</td>\n",
       "      <td>0.000000</td>\n",
       "      <td>0.00</td>\n",
       "      <td>0.000000</td>\n",
       "      <td>0.00</td>\n",
       "      <td>0.000000</td>\n",
       "      <td>0.0</td>\n",
       "      <td>0.000</td>\n",
       "      <td>0.000</td>\n",
       "      <td>0.00</td>\n",
       "      <td>0.000000</td>\n",
       "    </tr>\n",
       "    <tr>\n",
       "      <th>pIR</th>\n",
       "      <td>0.004518</td>\n",
       "      <td>-0.028571</td>\n",
       "      <td>0.0</td>\n",
       "      <td>0.000000</td>\n",
       "      <td>0.00</td>\n",
       "      <td>0.0</td>\n",
       "      <td>0.000000</td>\n",
       "      <td>0.00</td>\n",
       "      <td>0.000000</td>\n",
       "      <td>0.00</td>\n",
       "      <td>0.000000</td>\n",
       "      <td>0.0</td>\n",
       "      <td>0.000</td>\n",
       "      <td>0.000</td>\n",
       "      <td>0.00</td>\n",
       "      <td>0.000000</td>\n",
       "    </tr>\n",
       "    <tr>\n",
       "      <th>IRS</th>\n",
       "      <td>0.000000</td>\n",
       "      <td>-0.066667</td>\n",
       "      <td>0.0</td>\n",
       "      <td>0.020000</td>\n",
       "      <td>0.02</td>\n",
       "      <td>0.0</td>\n",
       "      <td>0.000000</td>\n",
       "      <td>0.00</td>\n",
       "      <td>-0.066667</td>\n",
       "      <td>0.00</td>\n",
       "      <td>0.000000</td>\n",
       "      <td>0.0</td>\n",
       "      <td>0.000</td>\n",
       "      <td>0.000</td>\n",
       "      <td>0.00</td>\n",
       "      <td>0.000000</td>\n",
       "    </tr>\n",
       "    <tr>\n",
       "      <th>pIRS</th>\n",
       "      <td>0.000000</td>\n",
       "      <td>0.066667</td>\n",
       "      <td>0.0</td>\n",
       "      <td>-0.020000</td>\n",
       "      <td>0.00</td>\n",
       "      <td>0.0</td>\n",
       "      <td>0.000000</td>\n",
       "      <td>0.00</td>\n",
       "      <td>0.000000</td>\n",
       "      <td>0.00</td>\n",
       "      <td>0.000000</td>\n",
       "      <td>0.0</td>\n",
       "      <td>0.000</td>\n",
       "      <td>0.000</td>\n",
       "      <td>0.00</td>\n",
       "      <td>0.000000</td>\n",
       "    </tr>\n",
       "    <tr>\n",
       "      <th>iIRS</th>\n",
       "      <td>0.000000</td>\n",
       "      <td>0.000000</td>\n",
       "      <td>0.0</td>\n",
       "      <td>0.000000</td>\n",
       "      <td>-0.02</td>\n",
       "      <td>0.0</td>\n",
       "      <td>0.000000</td>\n",
       "      <td>0.00</td>\n",
       "      <td>0.066667</td>\n",
       "      <td>0.00</td>\n",
       "      <td>0.000000</td>\n",
       "      <td>0.0</td>\n",
       "      <td>0.000</td>\n",
       "      <td>0.000</td>\n",
       "      <td>0.00</td>\n",
       "      <td>0.000000</td>\n",
       "    </tr>\n",
       "    <tr>\n",
       "      <th>Akt</th>\n",
       "      <td>0.000000</td>\n",
       "      <td>0.000000</td>\n",
       "      <td>0.0</td>\n",
       "      <td>-0.046729</td>\n",
       "      <td>0.00</td>\n",
       "      <td>0.0</td>\n",
       "      <td>0.058824</td>\n",
       "      <td>0.00</td>\n",
       "      <td>0.000000</td>\n",
       "      <td>0.00</td>\n",
       "      <td>-1.442308</td>\n",
       "      <td>0.0</td>\n",
       "      <td>0.000</td>\n",
       "      <td>0.000</td>\n",
       "      <td>0.00</td>\n",
       "      <td>0.000000</td>\n",
       "    </tr>\n",
       "    <tr>\n",
       "      <th>pAkt</th>\n",
       "      <td>0.000000</td>\n",
       "      <td>0.000000</td>\n",
       "      <td>0.0</td>\n",
       "      <td>0.046729</td>\n",
       "      <td>0.00</td>\n",
       "      <td>0.0</td>\n",
       "      <td>-0.058824</td>\n",
       "      <td>0.00</td>\n",
       "      <td>0.000000</td>\n",
       "      <td>0.00</td>\n",
       "      <td>1.442308</td>\n",
       "      <td>0.0</td>\n",
       "      <td>0.000</td>\n",
       "      <td>0.000</td>\n",
       "      <td>0.00</td>\n",
       "      <td>0.000000</td>\n",
       "    </tr>\n",
       "    <tr>\n",
       "      <th>mTORC1</th>\n",
       "      <td>0.000000</td>\n",
       "      <td>0.000000</td>\n",
       "      <td>0.0</td>\n",
       "      <td>0.000000</td>\n",
       "      <td>0.00</td>\n",
       "      <td>0.0</td>\n",
       "      <td>-0.099206</td>\n",
       "      <td>-0.35</td>\n",
       "      <td>5.999848</td>\n",
       "      <td>0.00</td>\n",
       "      <td>0.000000</td>\n",
       "      <td>0.0</td>\n",
       "      <td>0.006</td>\n",
       "      <td>0.000</td>\n",
       "      <td>-0.25</td>\n",
       "      <td>0.000000</td>\n",
       "    </tr>\n",
       "    <tr>\n",
       "      <th>pmTORC1</th>\n",
       "      <td>0.000000</td>\n",
       "      <td>0.000000</td>\n",
       "      <td>0.0</td>\n",
       "      <td>0.000000</td>\n",
       "      <td>0.00</td>\n",
       "      <td>0.0</td>\n",
       "      <td>0.099206</td>\n",
       "      <td>0.00</td>\n",
       "      <td>-5.999848</td>\n",
       "      <td>0.00</td>\n",
       "      <td>0.000000</td>\n",
       "      <td>0.0</td>\n",
       "      <td>0.000</td>\n",
       "      <td>0.000</td>\n",
       "      <td>0.00</td>\n",
       "      <td>0.000000</td>\n",
       "    </tr>\n",
       "    <tr>\n",
       "      <th>mTORC2</th>\n",
       "      <td>0.000000</td>\n",
       "      <td>-0.166667</td>\n",
       "      <td>0.0</td>\n",
       "      <td>0.000000</td>\n",
       "      <td>0.00</td>\n",
       "      <td>0.0</td>\n",
       "      <td>0.000000</td>\n",
       "      <td>0.00</td>\n",
       "      <td>0.000000</td>\n",
       "      <td>-2.45</td>\n",
       "      <td>0.428571</td>\n",
       "      <td>0.0</td>\n",
       "      <td>0.000</td>\n",
       "      <td>0.006</td>\n",
       "      <td>-1.40</td>\n",
       "      <td>0.000000</td>\n",
       "    </tr>\n",
       "    <tr>\n",
       "      <th>pmTORC2</th>\n",
       "      <td>0.000000</td>\n",
       "      <td>0.166667</td>\n",
       "      <td>0.0</td>\n",
       "      <td>0.000000</td>\n",
       "      <td>0.00</td>\n",
       "      <td>0.0</td>\n",
       "      <td>0.000000</td>\n",
       "      <td>0.00</td>\n",
       "      <td>0.000000</td>\n",
       "      <td>0.00</td>\n",
       "      <td>-0.428571</td>\n",
       "      <td>0.0</td>\n",
       "      <td>0.000</td>\n",
       "      <td>0.000</td>\n",
       "      <td>0.00</td>\n",
       "      <td>0.000000</td>\n",
       "    </tr>\n",
       "    <tr>\n",
       "      <th>imTORC2</th>\n",
       "      <td>0.000000</td>\n",
       "      <td>0.000000</td>\n",
       "      <td>0.0</td>\n",
       "      <td>0.000000</td>\n",
       "      <td>0.00</td>\n",
       "      <td>0.0</td>\n",
       "      <td>0.000000</td>\n",
       "      <td>0.00</td>\n",
       "      <td>0.000000</td>\n",
       "      <td>0.00</td>\n",
       "      <td>0.000000</td>\n",
       "      <td>0.0</td>\n",
       "      <td>0.000</td>\n",
       "      <td>0.000</td>\n",
       "      <td>0.00</td>\n",
       "      <td>0.000000</td>\n",
       "    </tr>\n",
       "    <tr>\n",
       "      <th>mTORC1_DEPTOR</th>\n",
       "      <td>0.000000</td>\n",
       "      <td>0.000000</td>\n",
       "      <td>0.0</td>\n",
       "      <td>0.000000</td>\n",
       "      <td>0.00</td>\n",
       "      <td>0.0</td>\n",
       "      <td>0.000000</td>\n",
       "      <td>0.35</td>\n",
       "      <td>0.000000</td>\n",
       "      <td>0.00</td>\n",
       "      <td>0.000000</td>\n",
       "      <td>0.0</td>\n",
       "      <td>-0.006</td>\n",
       "      <td>0.000</td>\n",
       "      <td>0.25</td>\n",
       "      <td>0.000000</td>\n",
       "    </tr>\n",
       "    <tr>\n",
       "      <th>mTORC2_DEPTOR</th>\n",
       "      <td>0.000000</td>\n",
       "      <td>0.000000</td>\n",
       "      <td>0.0</td>\n",
       "      <td>0.000000</td>\n",
       "      <td>0.00</td>\n",
       "      <td>0.0</td>\n",
       "      <td>0.000000</td>\n",
       "      <td>0.00</td>\n",
       "      <td>0.000000</td>\n",
       "      <td>2.45</td>\n",
       "      <td>0.000000</td>\n",
       "      <td>0.0</td>\n",
       "      <td>0.000</td>\n",
       "      <td>-0.006</td>\n",
       "      <td>1.40</td>\n",
       "      <td>0.000000</td>\n",
       "    </tr>\n",
       "    <tr>\n",
       "      <th>DEPTOR</th>\n",
       "      <td>0.000000</td>\n",
       "      <td>0.000000</td>\n",
       "      <td>0.0</td>\n",
       "      <td>0.000000</td>\n",
       "      <td>0.00</td>\n",
       "      <td>0.0</td>\n",
       "      <td>0.000000</td>\n",
       "      <td>-0.35</td>\n",
       "      <td>-0.291667</td>\n",
       "      <td>-2.45</td>\n",
       "      <td>-0.126039</td>\n",
       "      <td>0.0</td>\n",
       "      <td>0.006</td>\n",
       "      <td>0.006</td>\n",
       "      <td>-1.65</td>\n",
       "      <td>0.571429</td>\n",
       "    </tr>\n",
       "    <tr>\n",
       "      <th>pDEPTOR</th>\n",
       "      <td>0.000000</td>\n",
       "      <td>0.000000</td>\n",
       "      <td>0.0</td>\n",
       "      <td>0.000000</td>\n",
       "      <td>0.00</td>\n",
       "      <td>0.0</td>\n",
       "      <td>0.000000</td>\n",
       "      <td>0.00</td>\n",
       "      <td>0.291667</td>\n",
       "      <td>0.00</td>\n",
       "      <td>0.126039</td>\n",
       "      <td>0.0</td>\n",
       "      <td>0.000</td>\n",
       "      <td>0.000</td>\n",
       "      <td>0.00</td>\n",
       "      <td>-0.571429</td>\n",
       "    </tr>\n",
       "  </tbody>\n",
       "</table>\n",
       "</div>"
      ],
      "text/plain": [
       "                     IR       pIR  IRS      pIRS  iIRS  Akt      pAkt  mTORC1  \\\n",
       "IR            -0.004518  0.028571  0.0  0.000000  0.00  0.0  0.000000    0.00   \n",
       "pIR            0.004518 -0.028571  0.0  0.000000  0.00  0.0  0.000000    0.00   \n",
       "IRS            0.000000 -0.066667  0.0  0.020000  0.02  0.0  0.000000    0.00   \n",
       "pIRS           0.000000  0.066667  0.0 -0.020000  0.00  0.0  0.000000    0.00   \n",
       "iIRS           0.000000  0.000000  0.0  0.000000 -0.02  0.0  0.000000    0.00   \n",
       "Akt            0.000000  0.000000  0.0 -0.046729  0.00  0.0  0.058824    0.00   \n",
       "pAkt           0.000000  0.000000  0.0  0.046729  0.00  0.0 -0.058824    0.00   \n",
       "mTORC1         0.000000  0.000000  0.0  0.000000  0.00  0.0 -0.099206   -0.35   \n",
       "pmTORC1        0.000000  0.000000  0.0  0.000000  0.00  0.0  0.099206    0.00   \n",
       "mTORC2         0.000000 -0.166667  0.0  0.000000  0.00  0.0  0.000000    0.00   \n",
       "pmTORC2        0.000000  0.166667  0.0  0.000000  0.00  0.0  0.000000    0.00   \n",
       "imTORC2        0.000000  0.000000  0.0  0.000000  0.00  0.0  0.000000    0.00   \n",
       "mTORC1_DEPTOR  0.000000  0.000000  0.0  0.000000  0.00  0.0  0.000000    0.35   \n",
       "mTORC2_DEPTOR  0.000000  0.000000  0.0  0.000000  0.00  0.0  0.000000    0.00   \n",
       "DEPTOR         0.000000  0.000000  0.0  0.000000  0.00  0.0  0.000000   -0.35   \n",
       "pDEPTOR        0.000000  0.000000  0.0  0.000000  0.00  0.0  0.000000    0.00   \n",
       "\n",
       "                pmTORC1  mTORC2   pmTORC2  imTORC2  mTORC1_DEPTOR  \\\n",
       "IR             0.000000    0.00  0.000000      0.0          0.000   \n",
       "pIR            0.000000    0.00  0.000000      0.0          0.000   \n",
       "IRS           -0.066667    0.00  0.000000      0.0          0.000   \n",
       "pIRS           0.000000    0.00  0.000000      0.0          0.000   \n",
       "iIRS           0.066667    0.00  0.000000      0.0          0.000   \n",
       "Akt            0.000000    0.00 -1.442308      0.0          0.000   \n",
       "pAkt           0.000000    0.00  1.442308      0.0          0.000   \n",
       "mTORC1         5.999848    0.00  0.000000      0.0          0.006   \n",
       "pmTORC1       -5.999848    0.00  0.000000      0.0          0.000   \n",
       "mTORC2         0.000000   -2.45  0.428571      0.0          0.000   \n",
       "pmTORC2        0.000000    0.00 -0.428571      0.0          0.000   \n",
       "imTORC2        0.000000    0.00  0.000000      0.0          0.000   \n",
       "mTORC1_DEPTOR  0.000000    0.00  0.000000      0.0         -0.006   \n",
       "mTORC2_DEPTOR  0.000000    2.45  0.000000      0.0          0.000   \n",
       "DEPTOR        -0.291667   -2.45 -0.126039      0.0          0.006   \n",
       "pDEPTOR        0.291667    0.00  0.126039      0.0          0.000   \n",
       "\n",
       "               mTORC2_DEPTOR  DEPTOR   pDEPTOR  \n",
       "IR                     0.000    0.00  0.000000  \n",
       "pIR                    0.000    0.00  0.000000  \n",
       "IRS                    0.000    0.00  0.000000  \n",
       "pIRS                   0.000    0.00  0.000000  \n",
       "iIRS                   0.000    0.00  0.000000  \n",
       "Akt                    0.000    0.00  0.000000  \n",
       "pAkt                   0.000    0.00  0.000000  \n",
       "mTORC1                 0.000   -0.25  0.000000  \n",
       "pmTORC1                0.000    0.00  0.000000  \n",
       "mTORC2                 0.006   -1.40  0.000000  \n",
       "pmTORC2                0.000    0.00  0.000000  \n",
       "imTORC2                0.000    0.00  0.000000  \n",
       "mTORC1_DEPTOR          0.000    0.25  0.000000  \n",
       "mTORC2_DEPTOR         -0.006    1.40  0.000000  \n",
       "DEPTOR                 0.006   -1.65  0.571429  \n",
       "pDEPTOR                0.000    0.00 -0.571429  "
      ]
     },
     "execution_count": 7,
     "metadata": {},
     "output_type": "execute_result"
    }
   ],
   "source": [
    "CTLSB_MTOR.jacobian_df"
   ]
  },
  {
   "cell_type": "code",
   "execution_count": 8,
   "id": "582b6c01-a27c-4f9e-9b9c-c8af982726e3",
   "metadata": {
    "tags": []
   },
   "outputs": [
    {
     "data": {
      "text/plain": [
       "IR                50.0\n",
       "pIR                0.0\n",
       "IRS              100.0\n",
       "pIRS               0.0\n",
       "iIRS               0.0\n",
       "Akt              100.0\n",
       "pAkt               0.0\n",
       "mTORC1           250.0\n",
       "pmTORC1            0.0\n",
       "mTORC2           200.0\n",
       "pmTORC2            0.0\n",
       "imTORC2            0.0\n",
       "mTORC1_DEPTOR      0.0\n",
       "mTORC2_DEPTOR      0.0\n",
       "DEPTOR           350.0\n",
       "pDEPTOR            0.0\n",
       "dtype: float64"
      ]
     },
     "execution_count": 8,
     "metadata": {},
     "output_type": "execute_result"
    }
   ],
   "source": [
    "# State vector at current time\n",
    "CTLSB_MTOR.state_ser"
   ]
  },
  {
   "cell_type": "code",
   "execution_count": 9,
   "id": "71b87da1-5ab6-445c-8e28-3db48e4403f9",
   "metadata": {},
   "outputs": [
    {
     "data": {
      "image/png": "[encoded data removed]",
      "text/plain": [
       "<Figure size 432x288 with 1 Axes>"
      ]
     },
     "metadata": {},
     "output_type": "display_data"
    }
   ],
   "source": [
    "# Run a roadrunner simulation\n",
    "data = CTLSB_MTOR.roadrunner.simulate()\n",
    "CTLSB_MTOR.roadrunner.plot(data)"
   ]
  },
  {
   "cell_type": "code",
   "execution_count": 10,
   "id": "db9afce6-52ba-4cc0-a7b6-f61703c7cd97",
   "metadata": {},
   "outputs": [
    {
     "data": {
      "text/plain": [
       "array([  0.        ,   7.97532933,  14.71919234,  20.56435101,\n",
       "        25.72431853,  30.34421942,  34.5271093 ,  38.34882709,\n",
       "        41.86679949,  45.12555884,  48.16036123,  50.99958259,\n",
       "        53.6664095 ,  56.18004694,  58.5565766 ,  60.80960868,\n",
       "        62.9507778 ,  64.99010037,  66.93625713,  68.79683659,\n",
       "        70.5785132 ,  72.28718335,  73.92808406,  75.50589417,\n",
       "        77.02481548,  78.48863252,  79.90076566,  81.26431401,\n",
       "        82.58209794,  83.85669513,  85.09047047,  86.28559611,\n",
       "        87.44406995,  88.56773538,  89.65829864,  90.71734332,\n",
       "        91.74634223,  92.74666525,  93.71958884,  94.66630613,\n",
       "        95.58793483,  96.48552329,  97.36005591,  98.21245693,\n",
       "        99.04359636,  99.85429526, 100.64532924, 101.41743117,\n",
       "       102.17129425, 102.90757476, 103.62689509])"
      ]
     },
     "execution_count": 10,
     "metadata": {},
     "output_type": "execute_result"
    }
   ],
   "source": [
    "data[\"[mTORC1_DEPTOR]\"]"
   ]
  },
  {
   "cell_type": "markdown",
   "id": "4537b0d7-a7db-4146-b651-58004e4f885b",
   "metadata": {},
   "source": [
    "## Methods"
   ]
  },
  {
   "cell_type": "code",
   "execution_count": 11,
   "id": "e3713c9c-d976-4d53-97bc-679cd037a991",
   "metadata": {},
   "outputs": [
    {
     "data": {
      "text/plain": [
       "IR                49.332441\n",
       "pIR                0.667559\n",
       "IRS               99.955594\n",
       "pIRS               0.044387\n",
       "iIRS               0.000019\n",
       "Akt               99.962699\n",
       "pAkt               0.037301\n",
       "mTORC1           179.420968\n",
       "pmTORC1            0.000516\n",
       "mTORC2            20.129355\n",
       "pmTORC2            0.027063\n",
       "imTORC2            0.000000\n",
       "mTORC1_DEPTOR     70.578516\n",
       "mTORC2_DEPTOR    179.843582\n",
       "DEPTOR            99.575651\n",
       "pDEPTOR            0.002250\n",
       "dtype: float64"
      ]
     },
     "execution_count": 11,
     "metadata": {},
     "output_type": "execute_result"
    }
   ],
   "source": [
    "# Change the simulation time\n",
    "CTLSB_MTOR.setTime(2)\n",
    "CTLSB_MTOR.state_ser"
   ]
  },
  {
   "cell_type": "markdown",
   "id": "cc878fc7-be32-42ab-ae3a-da303fee2d3b",
   "metadata": {},
   "source": [
    "A state space representation has the form:\n",
    "* $\\dot{{\\bf x}} = {\\bf A} {\\bf x} + {\\bf B} {\\bf u}$\n",
    "* ${\\bf y} = {\\bf C} {\\bf x}$\n",
    "\n",
    "Below is described the elements of this representation for SBML models. \n",
    "This is displayed as 4 sub-matrics: ${\\bf A}$ is upper left, ${\\bf B}$ is upper right, ${\\bf C}$ is lower left, and ${\\bf D}$ is lower right."
   ]
  },
  {
   "cell_type": "code",
   "execution_count": 12,
   "id": "d639e7e3-e8c0-4108-9fd9-8c9073cbf805",
   "metadata": {},
   "outputs": [
    {
     "data": {
      "text/latex": [
       "\\[\n",
       "\\left(\\begin{array}{rllrll|rll}\n",
       "-1\\phantom{.}&\\hspace{-1em}&\\hspace{-1em}\\phantom{\\cdot}&0\\phantom{.}&\\hspace{-1em}&\\hspace{-1em}\\phantom{\\cdot}&-1\\phantom{.}&\\hspace{-1em}&\\hspace{-1em}\\phantom{\\cdot}\\\\\n",
       "1\\phantom{.}&\\hspace{-1em}&\\hspace{-1em}\\phantom{\\cdot}&0\\phantom{.}&\\hspace{-1em}&\\hspace{-1em}\\phantom{\\cdot}&1\\phantom{.}&\\hspace{-1em}&\\hspace{-1em}\\phantom{\\cdot}\\\\\n",
       "\\hline\n",
       "0\\phantom{.}&\\hspace{-1em}&\\hspace{-1em}\\phantom{\\cdot}&1\\phantom{.}&\\hspace{-1em}&\\hspace{-1em}\\phantom{\\cdot}&0\\phantom{.}&\\hspace{-1em}&\\hspace{-1em}\\phantom{\\cdot}\\\\\n",
       "\\end{array}\\right)\n",
       "\\]"
      ],
      "text/plain": [
       "StateSpace(array([[-1.,  0.],\n",
       "       [ 1.,  0.]]), array([[-1.],\n",
       "       [ 1.]]), array([[0., 1.]]), array([[0.]]))"
      ]
     },
     "execution_count": 12,
     "metadata": {},
     "output_type": "execute_result"
    }
   ],
   "source": [
    "# Create a state space model using the Jacobian at the current time\n",
    "state_space = CTLSB_SIMPLE.makeStateSpace()\n",
    "state_space"
   ]
  },
  {
   "cell_type": "code",
   "execution_count": 13,
   "id": "5ee0f791-2ef8-44c1-9d13-fc1048679c69",
   "metadata": {},
   "outputs": [],
   "source": [
    "# Create a NonlinearIOSystem object that can be used in creating InterconnectedSystems\n",
    "# An effector_dct maps the input (a reaction flux) to a chemical species that can be manipulated\n",
    "effector_dct = {\"v1\": \"IR\", \"v11\": \"DEPTOR\"}\n",
    "non_linear_mtor = CTLSB_MTOR.makeNonlinearIOSystem(\"mtor\", effector_dct=effector_dct)"
   ]
  },
  {
   "cell_type": "markdown",
   "id": "28c1e0a9-2c2d-45c4-b8b2-78f74b6aa99e",
   "metadata": {},
   "source": [
    "# Other Objects and Functions"
   ]
  },
  {
   "cell_type": "code",
   "execution_count": 14,
   "id": "2104a5a1-d2e2-46b0-ae1e-8d4f9bb6581c",
   "metadata": {},
   "outputs": [
    {
     "name": "stdout",
     "output_type": "stream",
     "text": [
      "***Warning***\n",
      "\n",
      "   System mtor: Input v1 cannot be set. Ignored.\n",
      "***Warning***\n",
      "\n",
      "   System mtor: Input v11 cannot be set. Ignored.\n"
     ]
    }
   ],
   "source": [
    "## Simulating a system\n",
    "non_linear_mtor = CTLSB_MTOR.makeNonlinearIOSystem(\"mtor\")\n",
    "# Simulate the system using as it is specified in the simulation. Note the warning messages.\n",
    "ts = ctl.simulateSystem(non_linear_mtor)"
   ]
  },
  {
   "cell_type": "code",
   "execution_count": 15,
   "id": "9af7f612-86e8-4fb6-bcd1-02d27255c62a",
   "metadata": {},
   "outputs": [
    {
     "data": {
      "text/html": [
       "<div>\n",
       "<style scoped>\n",
       "    .dataframe tbody tr th:only-of-type {\n",
       "        vertical-align: middle;\n",
       "    }\n",
       "\n",
       "    .dataframe tbody tr th {\n",
       "        vertical-align: top;\n",
       "    }\n",
       "\n",
       "    .dataframe thead th {\n",
       "        text-align: right;\n",
       "    }\n",
       "</style>\n",
       "<table border=\"1\" class=\"dataframe\">\n",
       "  <thead>\n",
       "    <tr style=\"text-align: right;\">\n",
       "      <th></th>\n",
       "      <th>mTORC1_DEPTOR</th>\n",
       "      <th>mTORC2_DEPTOR</th>\n",
       "    </tr>\n",
       "    <tr>\n",
       "      <th>miliseconds</th>\n",
       "      <th></th>\n",
       "      <th></th>\n",
       "    </tr>\n",
       "  </thead>\n",
       "  <tbody>\n",
       "    <tr>\n",
       "      <th>0</th>\n",
       "      <td>0.000000</td>\n",
       "      <td>0.000000</td>\n",
       "    </tr>\n",
       "    <tr>\n",
       "      <th>100</th>\n",
       "      <td>7.976238</td>\n",
       "      <td>40.630475</td>\n",
       "    </tr>\n",
       "    <tr>\n",
       "      <th>200</th>\n",
       "      <td>14.719418</td>\n",
       "      <td>69.200285</td>\n",
       "    </tr>\n",
       "    <tr>\n",
       "      <th>300</th>\n",
       "      <td>20.563877</td>\n",
       "      <td>90.242212</td>\n",
       "    </tr>\n",
       "    <tr>\n",
       "      <th>400</th>\n",
       "      <td>25.726158</td>\n",
       "      <td>106.399542</td>\n",
       "    </tr>\n",
       "  </tbody>\n",
       "</table>\n",
       "</div>"
      ],
      "text/plain": [
       "             mTORC1_DEPTOR  mTORC2_DEPTOR\n",
       "miliseconds                              \n",
       "0                 0.000000       0.000000\n",
       "100               7.976238      40.630475\n",
       "200              14.719418      69.200285\n",
       "300              20.563877      90.242212\n",
       "400              25.726158     106.399542"
      ]
     },
     "execution_count": 15,
     "metadata": {},
     "output_type": "execute_result"
    }
   ],
   "source": [
    "# The output is a Timeseries. This is a dataframe where the index is time in milliseconds\n",
    "ts.head()"
   ]
  },
  {
   "cell_type": "code",
   "execution_count": 16,
   "id": "54efd4cc-e87e-46eb-bd07-b67f59cf3036",
   "metadata": {},
   "outputs": [
    {
     "data": {
      "image/png": "[encoded data removed]",
      "text/plain": [
       "<Figure size 288x288 with 1 Axes>"
      ]
     },
     "metadata": {
      "needs_background": "light"
     },
     "output_type": "display_data"
    }
   ],
   "source": [
    "# We can plot any Timeseries object. Various options are available for the plot\n",
    "ctl.plotOneTS(ts, ylabel=\"Concentration\", figsize=(4,4))"
   ]
  },
  {
   "cell_type": "code",
   "execution_count": 17,
   "id": "ee3a07a0-8012-412c-a114-520d45fc2be2",
   "metadata": {},
   "outputs": [
    {
     "data": {
      "image/png": "[encoded data removed]",
      "text/plain": [
       "<Figure size 720x720 with 2 Axes>"
      ]
     },
     "metadata": {
      "needs_background": "light"
     },
     "output_type": "display_data"
    }
   ],
   "source": [
    "# We can also plot multiple Time Series\n",
    "df = ts.copy()  # Create a DataFrame from the Timeseries\n",
    "for col in df.columns:\n",
    "    df[col] = 2*ts[col]  # Create new values in the DataFrame\n",
    "ts2 = ctl.Timeseries(df)  # Make a Timeseries from the DataFrame\n",
    "ctl.plotManyTS(ts, ts2, ncol=2, names=[\"first\", \"second\"])"
   ]
  },
  {
   "cell_type": "code",
   "execution_count": 18,
   "id": "be2411ad-6849-4d2e-b21c-2ccdd63092b8",
   "metadata": {},
   "outputs": [
    {
     "data": {
      "image/png": "[encoded data removed]",
      "text/plain": [
       "<Figure size 720x360 with 8 Axes>"
      ]
     },
     "metadata": {
      "needs_background": "light"
     },
     "output_type": "display_data"
    }
   ],
   "source": [
    "# Compare the linear approximation using the Jacobian at different times with the true model\n",
    "# The dot on the x-axis shows the timepoint of the Jacobian\n",
    "CTLSB_MTOR.plotAccuracy(step_val=0, timepoints=[0, 1, 2, 4], figsize=(10, 5), xlabel=\"time\", end_time=20)"
   ]
  },
  {
   "cell_type": "markdown",
   "id": "58073d25-3834-43e3-bc40-cacbc972bc28",
   "metadata": {},
   "source": [
    "# Constructing Feedback Systems"
   ]
  },
  {
   "cell_type": "markdown",
   "id": "7004e455-9435-440c-ad26-99a71caa64c2",
   "metadata": {},
   "source": [
    "## mTOR System"
   ]
  },
  {
   "cell_type": "markdown",
   "id": "958e9853-79ee-460a-8d67-f68d856e083d",
   "metadata": {},
   "source": [
    "<img src=\"images/mTOR-network.png\"\n",
    "     alt=\"Markdown Monster icon\"\n",
    "     style=\"float: left; margin-right: 10px;\" />"
   ]
  },
  {
   "cell_type": "markdown",
   "id": "29e8b1e1-5797-41e1-a7b9-d7e37454070d",
   "metadata": {},
   "source": [
    "We use the CalTech ``control`` package to analyze and design control systems.\n",
    "This is why ``ControlSBML`` has a method to create a ``StateSpace`` object (``makeStateSpace``) and\n",
    "a ``NonlinearIOSystem`` object (``makeNonlinearIOSystem``).\n",
    "Below, we show how to construct a PI controller.\n",
    "To avoid excessive \"windup\", we hae a threshold on the control error.\n",
    "\n",
    "In the following, the control objective is to regulate mTORC1_DEPTOR.\n",
    "This is done b controlling phosphorylated Akt (pAkt),\n",
    "which has an *inverse* effect on mTORC1_DEPTOR.\n",
    "\n",
    "The implementation has 3 parts:\n",
    "\n",
    "* The mTOR system. See ``mtor`` below. This has the input ``v6`` that controls the conversion of pAkt to Akt\n",
    "and the outputs TORC1_DEPTOR, pAkt.\n",
    "* The controller, ``controller``. This is a proportional controller that calculates the difference between\n",
    "the reference value of TORC1_DEPTOR in ``xeq`` and the measured value that is output from ``mtor``.\n",
    "* The closed loop system, ``closed``, that describes the connections between the mTOR system and the controller."
   ]
  },
  {
   "cell_type": "code",
   "execution_count": 19,
   "id": "b4f9b745-c534-4e92-acfe-0c78f3602f45",
   "metadata": {},
   "outputs": [],
   "source": [
    "ctlsb = ctl.ControlSBML(\"https://www.ebi.ac.uk/biomodels/model/download/BIOMD0000000823.2?filename=Varusai2018.xml\",\n",
    "                       input_names=[\"v6\"], output_names=[\"mTORC1_DEPTOR\", \"pAkt\"])\n",
    "effector_dct = {\"v6\": \"pAkt\"}\n",
    "mtor = ctlsb.makeNonlinearIOSystem(\"mtor\", effector_dct=effector_dct)"
   ]
  },
  {
   "cell_type": "code",
   "execution_count": 20,
   "id": "4596c40d-ac09-4d5c-8473-85166b502ada",
   "metadata": {},
   "outputs": [
    {
     "data": {
      "image/png": "[encoded data removed]",
      "text/plain": [
       "<Figure size 360x360 with 1 Axes>"
      ]
     },
     "metadata": {
      "needs_background": "light"
     },
     "output_type": "display_data"
    }
   ],
   "source": [
    "# Uncontrolled system\n",
    "ctl.plotOneTS(ctl.simulateSystem(mtor, end_time=500), figsize=(5,5))"
   ]
  },
  {
   "cell_type": "code",
   "execution_count": 21,
   "id": "795d3a67-bd04-43df-93e7-3e4ead6bb0e7",
   "metadata": {},
   "outputs": [
    {
     "data": {
      "text/plain": [
       "IR                48.555905\n",
       "pIR                1.444095\n",
       "IRS               99.784581\n",
       "pIRS               0.215162\n",
       "iIRS               0.000258\n",
       "Akt               99.835887\n",
       "pAkt               0.164113\n",
       "mTORC1           150.143156\n",
       "pmTORC1            0.002549\n",
       "mTORC2             7.143008\n",
       "pmTORC2            0.039623\n",
       "imTORC2            0.000000\n",
       "mTORC1_DEPTOR     99.854295\n",
       "mTORC2_DEPTOR    192.817369\n",
       "DEPTOR            57.322228\n",
       "pDEPTOR            0.006108\n",
       "dtype: float64"
      ]
     },
     "execution_count": 21,
     "metadata": {},
     "output_type": "execute_result"
    }
   ],
   "source": [
    "# State at which system will be regulated\n",
    "ctlsb.setTime(4.5)\n",
    "mtor_initial_state = ctlsb.state_ser.values\n",
    "ctlsb.state_ser"
   ]
  },
  {
   "cell_type": "markdown",
   "id": "a81d1bfa-cad5-4fec-8dc5-3b52c6bc8a58",
   "metadata": {},
   "source": [
    "## Controller"
   ]
  },
  {
   "cell_type": "code",
   "execution_count": 22,
   "id": "86eeff3c-6ba0-48d8-8fb1-ffbbfbeb93df",
   "metadata": {},
   "outputs": [],
   "source": [
    "xeq = [100]  # Desired concentration for mTORC1_DEPTOR\n",
    "def outfcn(t, x, u, _):\n",
    "    # State is accumulated error\n",
    "    new_err = xeq[0] - u[0]\n",
    "    return -30*new_err\n",
    "controller = control.NonlinearIOSystem(\n",
    "  None,\n",
    "  outfcn,\n",
    "  inputs=['in'],\n",
    "  outputs=['out'], name='controller')"
   ]
  },
  {
   "cell_type": "markdown",
   "id": "2fbae979-5def-452d-8236-e0c8a37fdc47",
   "metadata": {},
   "source": [
    "## InterconnectSystem"
   ]
  },
  {
   "cell_type": "code",
   "execution_count": 23,
   "id": "5599d5b8-ba5e-41f0-b08d-5ba3d8b05ecd",
   "metadata": {},
   "outputs": [],
   "source": [
    "xeq = [100]  # Desired concentration for mTORC1_DEPTOR\n",
    "def outfcn(t, x, u, _):\n",
    "    # State is accumulated error\n",
    "    new_err = xeq[0] - u[0]\n",
    "    return -30*new_err\n",
    "controller = control.NonlinearIOSystem(\n",
    "  None,\n",
    "  outfcn,\n",
    "  inputs=['in'],\n",
    "  outputs=['out'], name='controller')"
   ]
  },
  {
   "cell_type": "code",
   "execution_count": 24,
   "id": "0d9e471e-1c06-4a08-b9ce-ffe6029f070d",
   "metadata": {},
   "outputs": [],
   "source": [
    "# Create the closed loop system\n",
    "closed_outputs = list(mtor.outlist)\n",
    "closed_outputs.append('controller.out')\n",
    "#closed_outputs.append(\"controller.out\")  # Make this visible as well\n",
    "mtor_closed = control.interconnect(\n",
    "  [mtor, controller],       # systems\n",
    "  connections=[\n",
    "    ['mtor.v6', 'controller.out'],\n",
    "    ['controller.in',  'mtor.mTORC1_DEPTOR'],\n",
    "  ],\n",
    "  inplist=[\"controller.in\"],\n",
    "  outlist=closed_outputs,\n",
    ")"
   ]
  },
  {
   "cell_type": "code",
   "execution_count": 25,
   "id": "cda6fe6a-dab7-4c6d-82ee-58e44679e459",
   "metadata": {},
   "outputs": [
    {
     "data": {
      "image/png": "[encoded data removed]",
      "text/plain": [
       "<Figure size 360x360 with 1 Axes>"
      ]
     },
     "metadata": {
      "needs_background": "light"
     },
     "output_type": "display_data"
    }
   ],
   "source": [
    "initial_x_vec = ctl.makeStateVector(mtor_closed)\n",
    "ts = ctl.simulateSystem(mtor_closed, output_names=closed_outputs, initial_x_vec=initial_x_vec, end_time=200)\n",
    "ctl.plotOneTS(ts, figsize=(5,5), legend_crd=(1.6, 1))"
   ]
  },
  {
   "cell_type": "markdown",
   "id": "c18091b5-f6e0-41c7-aff3-ba2179d68982",
   "metadata": {},
   "source": [
    "Recall that the uncontrolled system had mTORC1_DEPTOR equal to 150. The closed loop system regulates this to 100, as desired."
   ]
  },
  {
   "cell_type": "markdown",
   "id": "c3f81598-5fdf-4c90-8272-911405063dde",
   "metadata": {},
   "source": [
    "## Notes and Comments"
   ]
  },
  {
   "cell_type": "markdown",
   "id": "8dd6ba3b-6c7b-4108-aaf8-8344f60c7a90",
   "metadata": {},
   "source": [
    "Some considerations in control analysis:\n",
    "* Choose appropriate inputs regulate in the system under control and appropriate effectors for those inputs.\n",
    "* Make sure that you use the correct directional change for how the control error impacts the measured output.\n",
    "If the closed loop system is unstable, you likely have used the wrong direction.\n",
    "* If you use the state update function (``updfcn``), remember that the output is the derivative of the new state."
   ]
  },
  {
   "cell_type": "markdown",
   "id": "e7732581-822a-4100-a0db-8bdc1fbc541a",
   "metadata": {},
   "source": [
    "# Transfer Functions"
   ]
  },
  {
   "cell_type": "code",
   "execution_count": 26,
   "id": "ae92c343-b370-4d4c-971f-49f15e58e9a7",
   "metadata": {},
   "outputs": [],
   "source": [
    "# A transfer function has a single input and a single output\n",
    "CTLSB_TF = ctl.ControlSBML(\n",
    "    \"https://www.ebi.ac.uk/biomodels/model/download/BIOMD0000000823.2?filename=Varusai2018.xml\",\n",
    "    input_names=[\"v11\"], output_names=[\"mTORC1_DEPTOR\"])"
   ]
  },
  {
   "cell_type": "code",
   "execution_count": 32,
   "id": "f4493e1e-b5dc-44a9-9d23-9b87e16ac203",
   "metadata": {},
   "outputs": [],
   "source": [
    "tf = CTLSB_TF.makeTransferFunction()"
   ]
  },
  {
   "cell_type": "code",
   "execution_count": 33,
   "id": "c2da2046-36ca-4823-b415-188d6905aab1",
   "metadata": {},
   "outputs": [
    {
     "data": {
      "text/plain": [
       "control.xferfcn.TransferFunction"
      ]
     },
     "execution_count": 33,
     "metadata": {},
     "output_type": "execute_result"
    }
   ],
   "source": [
    "type(tf)"
   ]
  },
  {
   "cell_type": "code",
   "execution_count": 34,
   "id": "b202583c-e874-466c-b549-32c30da0e28e",
   "metadata": {},
   "outputs": [
    {
     "data": {
      "text/latex": [
       "$$\\frac{-0.25 s - 0.614}{s^3 + 5.033 s^2 + 4.536 s + 1.135}$$"
      ],
      "text/plain": [
       "TransferFunction(array([-0.25 , -0.614]), array([1.        , 5.03342857, 4.53645026, 1.1352777 ]))"
      ]
     },
     "execution_count": 34,
     "metadata": {},
     "output_type": "execute_result"
    }
   ],
   "source": [
    "tf"
   ]
  },
  {
   "cell_type": "code",
   "execution_count": 30,
   "id": "204d4e57-08c4-4fa2-b80a-a785de07ea44",
   "metadata": {},
   "outputs": [
    {
     "data": {
      "text/plain": [
       "array([-3.96034236, -0.57142857, -0.50165764])"
      ]
     },
     "execution_count": 30,
     "metadata": {},
     "output_type": "execute_result"
    }
   ],
   "source": [
    "tf.pole()"
   ]
  },
  {
   "cell_type": "code",
   "execution_count": 31,
   "id": "0cce6788-c365-4c5a-bb81-29ef312d00a1",
   "metadata": {},
   "outputs": [
    {
     "data": {
      "text/plain": [
       "-0.5408368354883167"
      ]
     },
     "execution_count": 31,
     "metadata": {},
     "output_type": "execute_result"
    }
   ],
   "source": [
    "tf.dcgain()"
   ]
  }
 ],
 "metadata": {
  "kernelspec": {
   "display_name": "Python 3",
   "language": "python",
   "name": "python3"
  },
  "language_info": {
   "codemirror_mode": {
    "name": "ipython",
    "version": 3
   },
   "file_extension": ".py",
   "mimetype": "text/x-python",
   "name": "python",
   "nbconvert_exporter": "python",
   "pygments_lexer": "ipython3",
   "version": "3.6.9"
  },
  "toc-autonumbering": false
 },
 "nbformat": 4,
 "nbformat_minor": 5
}
