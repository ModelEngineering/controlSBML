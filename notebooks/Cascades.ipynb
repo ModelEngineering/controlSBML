{
 "cells": [
  {
   "cell_type": "markdown",
   "id": "d88f02a0-4976-42e9-ab47-888f480a5da8",
   "metadata": {},
   "source": [
    "# CASCADES"
   ]
  },
  {
   "cell_type": "code",
   "execution_count": 1,
   "id": "fa9c0cad-eb68-4a8e-90c0-10bb6dbe5b30",
   "metadata": {},
   "outputs": [],
   "source": [
    "import sympy\n",
    "import tellurium as te\n",
    "import numpy as np\n",
    "import pandas as pd"
   ]
  },
  {
   "cell_type": "markdown",
   "id": "7fd03786-5534-411f-9b73-4370d08ece1b",
   "metadata": {},
   "source": [
    "# Single element cascade"
   ]
  },
  {
   "cell_type": "markdown",
   "id": "75eba83d-2064-4ff3-81db-85c9a6ee5612",
   "metadata": {},
   "source": [
    "There is a single species, two inputs (left and right) and two outputs.\n",
    "\\begin{eqnarray}\n",
    "\\dot{S} (t) & = & v^L(t) + v^R(t) - k^L S(t) - k^R S(t) \\\\\n",
    "S(s) & = & \\frac{v^L(s) + v^R (s)}{ s + k^L  + k^R } \\\\\n",
    "\\end{eqnarray}"
   ]
  },
  {
   "cell_type": "markdown",
   "id": "2263a437-c579-47db-9cc7-724bb29aa8e4",
   "metadata": {},
   "source": [
    "From the final value theorm, we see that $S \\rightarrow 0$ if $v^L = 0 = v^R$, which makes intuitive sense."
   ]
  },
  {
   "cell_type": "markdown",
   "id": "3a497131-d38d-4910-a420-c38d2f37c35b",
   "metadata": {},
   "source": [
    "Note that\n",
    "\\begin{eqnarray}\n",
    "H^L(s) & = & \\frac{S(s)}{v^L(s)} \\\\\n",
    "&= & \\frac{1}{ s + k^L  + k^R } \\\\\n",
    "& = & \\frac{S(s)}{v^R(s)} \\\\\n",
    "& = & H^R(s) \\\\\n",
    "& = & H(s) \\\\\n",
    "\\end{eqnarray}\n",
    "That is\n",
    "$S(s) = H(s) (v^L(s) +  v^R(s))$."
   ]
  },
  {
   "cell_type": "markdown",
   "id": "9932bf7d-84ae-431f-8225-74e5878e84a0",
   "metadata": {},
   "source": [
    "Let $S_n$ be the $n$th species in the cascade with parameters $v^L_{n}, v^R_{n}, k^L_n, k^R_n$.\n",
    "Consider a two species cascade so that\n",
    "$n \\in {1, 2}$, and\n",
    "$v^L_1 = 0$ and $v^R_2 = 0$. So we have\n",
    "\\begin{eqnarray}\n",
    "S_1(s) & = & H_1(s) v_1^R(s) \\\\\n",
    "S_2(s) & = & H_2(s) v_2^L(s) \\\\\n",
    "v^R_1 (s) & = & S_2 (s) k^L_2 \\\\\n",
    "v^R_2 (s) & = & S_1 (s) k^R_2 \\\\\n",
    "\\end{eqnarray}\n",
    "and so\n",
    "\\begin{eqnarray}\n",
    "S_1(s) & = & H_1(s) S_2 (s) k^L_2  \\\\\n",
    "S_2(s) & = & H_2(s) S_1 (s) k^R_1  \\\\\n",
    "\\end{eqnarray}\n",
    "Substituting,\n",
    "\\begin{eqnarray}\n",
    "H_1(s) & = & \\frac{1}{ H_2(s)  k^R_1  k^L_2 } \\\\\n",
    "\\end{eqnarray}"
   ]
  },
  {
   "cell_type": "markdown",
   "id": "a9f5633b-8fde-4662-89d5-e0d4661754fc",
   "metadata": {
    "tags": []
   },
   "source": [
    "\\begin{eqnarray}\n",
    " H_1(s)& = & \\frac{s + k^L_2 }{ k^R_1  k^L_2 } \\\\\n",
    "\\end{eqnarray}"
   ]
  },
  {
   "cell_type": "code",
   "execution_count": 7,
   "id": "3e4d2436-5031-4142-8989-c19a0ef42967",
   "metadata": {},
   "outputs": [
    {
     "data": {
      "image/png": "[encoded data removed]",
      "text/plain": [
       "<Figure size 600x400 with 1 Axes>"
      ]
     },
     "metadata": {},
     "output_type": "display_data"
    }
   ],
   "source": [
    "model = \"\"\"\n",
    "S1 -> S2; kR1 * S1\n",
    "S2 -> S1; kL2 * S2\n",
    "\n",
    "S1 = 5\n",
    "S2 = 5\n",
    "kR1 = 1\n",
    "kL2 = 2\n",
    "\n",
    "at (time > 2): kL2 = 0.5\n",
    "\"\"\"\n",
    "rr = te.loada(model)\n",
    "rr.simulate()\n",
    "rr.plot(ylim=[0, 10])"
   ]
  },
  {
   "cell_type": "markdown",
   "id": "97ecac32-6818-4423-9e37-7a835bff5e7a",
   "metadata": {},
   "source": [
    "# Steady state for n stage cascade"
   ]
  },
  {
   "cell_type": "markdown",
   "id": "c3edd53c-8787-4410-90ae-8aaee6908ffe",
   "metadata": {},
   "source": [
    "At steady state, the rates across each stage must be the same. That is,\n",
    "\\begin{eqnarray}\n",
    "k^R_{n-1}S_{n-1} &= &k^L{n}S_{n} \\\\\n",
    "\\end{eqnarray}\n",
    "Also, $\\sum_n S_n = T$."
   ]
  },
  {
   "cell_type": "markdown",
   "id": "0925ec8b-77f1-45ee-94e6-9d36ef8711dd",
   "metadata": {},
   "source": [
    "So, for an $N$ stage cascade:\n",
    "\\begin{eqnarray}\n",
    "k^R_{n-1}S_{n-1} &= &k^L{n}S_{n} \\\\\n",
    "S_{n} &= & \\frac{k^L_{n+1}}{k^R_{n}} S_{n+1} \\\\\n",
    "S_{n} &= & \\prod_{j=n}^{N-1}\\frac{k^L_{j+1}}{k^R_{j}} S_{N} \\\\\n",
    "\\end{eqnarray}\n",
    "where $k^L_j =0$ for $j \\leq 1$ and $k^R_j = 0$ for $j \\geq N$."
   ]
  },
  {
   "cell_type": "markdown",
   "id": "8884ab50-f01c-4643-878c-7c0640b7edd0",
   "metadata": {},
   "source": [
    "And,\n",
    "\\begin{eqnarray}\n",
    "T & = & \\sum_n S_n \\\\\n",
    "& = & S_N + \\sum_{n=1}^{N-1} \\prod_{j=n}^{N-1}\\frac{k^L_{j+1}}{k^R_{j}} S_{N} \\\\\n",
    "S_N & = &  \\frac{T}{1 + \\sum_{n=1}^{N-1} \\prod_{j=n}^{N-1}\\frac{k^L_{j+1}}{k^R_{j}} } \\\\\n",
    "S_n & = & \\frac{T \\prod_{j=n}^{N-1}\\frac{k^L_{j+1}}{k^R_{j}} }{1 + \\sum_{n=1}^{N-1} \\prod_{j=n}^{N-1}\\frac{k^L_{j+1}}{k^R_{j}} } \\\\\n",
    "\\end{eqnarray}"
   ]
  }
 ],
 "metadata": {
  "kernelspec": {
   "display_name": "Python 3 (ipykernel)",
   "language": "python",
   "name": "python3"
  },
  "language_info": {
   "codemirror_mode": {
    "name": "ipython",
    "version": 3
   },
   "file_extension": ".py",
   "mimetype": "text/x-python",
   "name": "python",
   "nbconvert_exporter": "python",
   "pygments_lexer": "ipython3",
   "version": "3.9.6"
  }
 },
 "nbformat": 4,
 "nbformat_minor": 5
}
