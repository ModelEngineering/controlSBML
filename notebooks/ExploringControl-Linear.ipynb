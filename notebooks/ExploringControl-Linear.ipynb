{
 "cells": [
  {
   "cell_type": "markdown",
   "id": "0d6ccd69-d25c-4643-b8d9-887972581454",
   "metadata": {},
   "source": [
    "# Exploring Control - Linear Pathway"
   ]
  },
  {
   "cell_type": "markdown",
   "id": "78c87479-3990-41ff-abe4-002f44c52d3f",
   "metadata": {},
   "source": [
    "## Preliminaries"
   ]
  },
  {
   "cell_type": "code",
   "execution_count": 1,
   "id": "07c84a69-4956-474e-bfb0-c45549f9d0ed",
   "metadata": {},
   "outputs": [],
   "source": [
    "import control as c\n",
    "from symmathSBML.symmath_sbml import SymmathSBML\n",
    "import symmathSBML.constants as cn\n",
    "\n",
    "import matplotlib.pyplot as plt\n",
    "import numpy as np\n",
    "import pandas as pd\n",
    "import sympy as s\n",
    "import tellurium as te\n",
    "\n",
    "import os"
   ]
  },
  {
   "cell_type": "markdown",
   "id": "1c1a588f-1697-4ad5-9ca1-60f961b14f95",
   "metadata": {},
   "source": [
    "## Antimony Model"
   ]
  },
  {
   "cell_type": "code",
   "execution_count": 46,
   "id": "d2c1c09e-9ec6-4a3f-9b37-380fea0cd2ae",
   "metadata": {},
   "outputs": [
    {
     "data": {
      "image/png": "[encoded data removed]",
      "text/plain": [
       "<Figure size 432x288 with 1 Axes>"
      ]
     },
     "metadata": {},
     "output_type": "display_data"
    }
   ],
   "source": [
    "# Need to write the model in the correct way so that get a Jacobian with all state.\n",
    "# In particular, cannot use fixed concentrations. Instead, generate the species at the same rate at which it is consumed.\n",
    "MODEL = \"\"\"\n",
    "-> S0; 1\n",
    "S0 -> S1; S0\n",
    "S1 -> S2; k2*S1\n",
    "S2 -> $S3; k3*S2*S1\n",
    "\n",
    "k1 = 1;\n",
    "k2 = 1\n",
    "k3 = 1\n",
    "k4 = 1\n",
    "S0 = 1\n",
    "k0 = 1\n",
    "S1 = 10\n",
    "S2 = 0\n",
    "S3 = 0\n",
    "\"\"\"\n",
    "ROADRUNNER = te.loada(MODEL)\n",
    "ROADRUNNER.plot(ROADRUNNER.simulate())"
   ]
  },
  {
   "cell_type": "code",
   "execution_count": 45,
   "id": "f4b7a42d-5b55-4110-a4df-0cc161498a9d",
   "metadata": {},
   "outputs": [
    {
     "data": {
      "text/plain": [
       "      S0, S1,  S2\n",
       "S0 [[ -1,  0,   0],\n",
       "S1  [  1, -1,   0],\n",
       "S2  [  0,  1, -10]]"
      ]
     },
     "execution_count": 45,
     "metadata": {},
     "output_type": "execute_result"
    }
   ],
   "source": [
    "ROADRUNNER.reset()\n",
    "jacobian_mat = ROADRUNNER.getFullJacobian()\n",
    "jacobian_mat"
   ]
  },
  {
   "cell_type": "code",
   "execution_count": 38,
   "id": "50a6a25d-943f-4570-87eb-28720f0f3b6d",
   "metadata": {},
   "outputs": [],
   "source": [
    "SYMMATH = SymmathSBML(MODEL)"
   ]
  },
  {
   "cell_type": "code",
   "execution_count": 39,
   "id": "a3270a00-c0d6-41a5-8aae-855ba6f1bf5a",
   "metadata": {},
   "outputs": [
    {
     "data": {
      "text/plain": [
       "dict_keys(['k0', 'k2', 'k3', 'k1', 'k4', 'S0', 'S1', 'S2', 'S3', 'J0', 'J1', 'J2', '__builtins__'])"
      ]
     },
     "execution_count": 39,
     "metadata": {},
     "output_type": "execute_result"
    }
   ],
   "source": [
    "SYMMATH.namespace_dct.keys()"
   ]
  },
  {
   "cell_type": "markdown",
   "id": "16ea34ac-b7b6-4669-bf8e-33ae58b7fcb7",
   "metadata": {},
   "source": [
    "## System properties of Model"
   ]
  },
  {
   "cell_type": "code",
   "execution_count": 40,
   "id": "37e28de3-be56-4336-8ee2-cd4c9dbc39c6",
   "metadata": {},
   "outputs": [
    {
     "data": {
      "text/latex": [
       "$\\displaystyle \\left[\\begin{matrix}S_{0}\\\\S_{1}\\end{matrix}\\right]$"
      ],
      "text/plain": [
       "Matrix([\n",
       "[S0],\n",
       "[S1]])"
      ]
     },
     "execution_count": 40,
     "metadata": {},
     "output_type": "execute_result"
    }
   ],
   "source": [
    "SYMMATH.state_svec"
   ]
  },
  {
   "cell_type": "markdown",
   "id": "084b5dda-6a95-4063-be71-f841900422f8",
   "metadata": {},
   "source": [
    "**Issues**\n",
    "1. Why doesn't this include S3, S4?"
   ]
  },
  {
   "cell_type": "code",
   "execution_count": 41,
   "id": "9adc9e5c-ea70-4a97-8743-0dbeee5eec7a",
   "metadata": {},
   "outputs": [
    {
     "data": {
      "text/latex": [
       "$\\displaystyle \\left[\\begin{matrix}1.0 & -1.0\\\\0 & 1.0\\end{matrix}\\right]$"
      ],
      "text/plain": [
       "Matrix([\n",
       "[1.0, -1.0],\n",
       "[  0,  1.0]])"
      ]
     },
     "execution_count": 41,
     "metadata": {},
     "output_type": "execute_result"
    }
   ],
   "source": [
    "SYMMATH.substitute(expression=SYMMATH.state_epr_jacobian_smat)"
   ]
  },
  {
   "cell_type": "markdown",
   "id": "7130d3c5-3228-403a-bc8e-ae1e7fa68b55",
   "metadata": {},
   "source": [
    "## Accuracy of Linear Model"
   ]
  },
  {
   "cell_type": "code",
   "execution_count": 6,
   "id": "22df26c9-4f15-48c0-bcef-7c5d29b8c879",
   "metadata": {},
   "outputs": [],
   "source": [
    "# Construct the elements of a system\n",
    "symmath = SYMMATH.copy()\n",
    "sys = symmath.mkStateSpace()\n",
    "X0 = symmath.mkInitialState()"
   ]
  },
  {
   "cell_type": "code",
   "execution_count": 7,
   "id": "09db84e3-a8cd-4629-9535-887335aafeaf",
   "metadata": {},
   "outputs": [
    {
     "data": {
      "text/latex": [
       "\\[\n",
       "\\left(\\begin{array}{rllrllrll|rll}\n",
       "-1\\phantom{.}&\\hspace{-1em}&\\hspace{-1em}\\phantom{\\cdot}&0\\phantom{.}&\\hspace{-1em}&\\hspace{-1em}\\phantom{\\cdot}&0\\phantom{.}&\\hspace{-1em}&\\hspace{-1em}\\phantom{\\cdot}&0\\phantom{.}&\\hspace{-1em}&\\hspace{-1em}\\phantom{\\cdot}\\\\\n",
       "1\\phantom{.}&\\hspace{-1em}&\\hspace{-1em}\\phantom{\\cdot}&-10\\phantom{.}&\\hspace{-1em}&\\hspace{-1em}\\phantom{\\cdot}&0\\phantom{.}&\\hspace{-1em}&\\hspace{-1em}\\phantom{\\cdot}&0\\phantom{.}&\\hspace{-1em}&\\hspace{-1em}\\phantom{\\cdot}\\\\\n",
       "0\\phantom{.}&\\hspace{-1em}&\\hspace{-1em}\\phantom{\\cdot}&10\\phantom{.}&\\hspace{-1em}&\\hspace{-1em}\\phantom{\\cdot}&0\\phantom{.}&\\hspace{-1em}&\\hspace{-1em}\\phantom{\\cdot}&0\\phantom{.}&\\hspace{-1em}&\\hspace{-1em}\\phantom{\\cdot}\\\\\n",
       "\\hline\n",
       "1\\phantom{.}&\\hspace{-1em}&\\hspace{-1em}\\phantom{\\cdot}&0\\phantom{.}&\\hspace{-1em}&\\hspace{-1em}\\phantom{\\cdot}&0\\phantom{.}&\\hspace{-1em}&\\hspace{-1em}\\phantom{\\cdot}&0\\phantom{.}&\\hspace{-1em}&\\hspace{-1em}\\phantom{\\cdot}\\\\\n",
       "0\\phantom{.}&\\hspace{-1em}&\\hspace{-1em}\\phantom{\\cdot}&1\\phantom{.}&\\hspace{-1em}&\\hspace{-1em}\\phantom{\\cdot}&0\\phantom{.}&\\hspace{-1em}&\\hspace{-1em}\\phantom{\\cdot}&0\\phantom{.}&\\hspace{-1em}&\\hspace{-1em}\\phantom{\\cdot}\\\\\n",
       "0\\phantom{.}&\\hspace{-1em}&\\hspace{-1em}\\phantom{\\cdot}&0\\phantom{.}&\\hspace{-1em}&\\hspace{-1em}\\phantom{\\cdot}&1\\phantom{.}&\\hspace{-1em}&\\hspace{-1em}\\phantom{\\cdot}&0\\phantom{.}&\\hspace{-1em}&\\hspace{-1em}\\phantom{\\cdot}\\\\\n",
       "\\end{array}\\right)\n",
       "\\]"
      ],
      "text/plain": [
       "StateSpace(array([[ -1.,   0.,   0.],\n",
       "       [  1., -10.,   0.],\n",
       "       [  0.,  10.,   0.]]), array([[0.],\n",
       "       [0.],\n",
       "       [0.]]), array([[1., 0., 0.],\n",
       "       [0., 1., 0.],\n",
       "       [0., 0., 1.]]), array([[0.],\n",
       "       [0.],\n",
       "       [0.]]))"
      ]
     },
     "execution_count": 7,
     "metadata": {},
     "output_type": "execute_result"
    }
   ],
   "source": [
    "sys"
   ]
  },
  {
   "cell_type": "code",
   "execution_count": 8,
   "id": "e7046560-642a-4e9c-b7f3-1d2a1dbf2952",
   "metadata": {},
   "outputs": [
    {
     "data": {
      "text/plain": [
       "<matplotlib.legend.Legend at 0x7f817e084470>"
      ]
     },
     "execution_count": 8,
     "metadata": {},
     "output_type": "execute_result"
    },
    {
     "data": {
      "image/png": "[encoded data removed]",
      "text/plain": [
       "<Figure size 432x288 with 1 Axes>"
      ]
     },
     "metadata": {
      "needs_background": "light"
     },
     "output_type": "display_data"
    }
   ],
   "source": [
    "num_species = len(X0)\n",
    "times = [0.1*n for n in range(50)]\n",
    "_, ax = plt.subplots(1)\n",
    "T, yout = c.forced_response(sys, T=times, X0=X0)\n",
    "for idx in range(num_species):\n",
    "    ax.plot(T, yout[idx])\n",
    "plt.legend(symmath.species_names)"
   ]
  },
  {
   "cell_type": "code",
   "execution_count": 9,
   "id": "bad9f7b9-4407-46be-b525-c2c2a7e4aee7",
   "metadata": {},
   "outputs": [
    {
     "data": {
      "image/png": "[encoded data removed]",
      "text/plain": [
       "<Figure size 432x288 with 1 Axes>"
      ]
     },
     "metadata": {},
     "output_type": "display_data"
    }
   ],
   "source": [
    "symmath.roadrunner.reset()\n",
    "data = symmath.roadrunner.simulate(0, 5)\n",
    "symmath.roadrunner.plot(data)"
   ]
  },
  {
   "cell_type": "markdown",
   "id": "36c3674a-30b4-4d71-9b42-1fc54e57e67f",
   "metadata": {},
   "source": [
    "# Controllability"
   ]
  },
  {
   "cell_type": "code",
   "execution_count": 10,
   "id": "4745b29c-8dc2-4783-8981-3cfc0ee412ff",
   "metadata": {},
   "outputs": [
    {
     "data": {
      "text/plain": [
       "array([[1],\n",
       "       [0],\n",
       "       [0]])"
      ]
     },
     "execution_count": 10,
     "metadata": {},
     "output_type": "execute_result"
    }
   ],
   "source": [
    "B = np.array([1, 0, 0])\n",
    "B = np.reshape(B, (3, 1))\n",
    "B"
   ]
  },
  {
   "cell_type": "code",
   "execution_count": 11,
   "id": "e23d4347-07cc-419c-b0fd-db160ef3a0f3",
   "metadata": {},
   "outputs": [
    {
     "data": {
      "text/latex": [
       "\\[\n",
       "\\left(\\begin{array}{rllrllrll|rll}\n",
       "-1\\phantom{.}&\\hspace{-1em}&\\hspace{-1em}\\phantom{\\cdot}&0\\phantom{.}&\\hspace{-1em}&\\hspace{-1em}\\phantom{\\cdot}&0\\phantom{.}&\\hspace{-1em}&\\hspace{-1em}\\phantom{\\cdot}&1\\phantom{.}&\\hspace{-1em}&\\hspace{-1em}\\phantom{\\cdot}\\\\\n",
       "1\\phantom{.}&\\hspace{-1em}&\\hspace{-1em}\\phantom{\\cdot}&-10\\phantom{.}&\\hspace{-1em}&\\hspace{-1em}\\phantom{\\cdot}&0\\phantom{.}&\\hspace{-1em}&\\hspace{-1em}\\phantom{\\cdot}&0\\phantom{.}&\\hspace{-1em}&\\hspace{-1em}\\phantom{\\cdot}\\\\\n",
       "0\\phantom{.}&\\hspace{-1em}&\\hspace{-1em}\\phantom{\\cdot}&10\\phantom{.}&\\hspace{-1em}&\\hspace{-1em}\\phantom{\\cdot}&0\\phantom{.}&\\hspace{-1em}&\\hspace{-1em}\\phantom{\\cdot}&0\\phantom{.}&\\hspace{-1em}&\\hspace{-1em}\\phantom{\\cdot}\\\\\n",
       "\\hline\n",
       "1\\phantom{.}&\\hspace{-1em}&\\hspace{-1em}\\phantom{\\cdot}&0\\phantom{.}&\\hspace{-1em}&\\hspace{-1em}\\phantom{\\cdot}&0\\phantom{.}&\\hspace{-1em}&\\hspace{-1em}\\phantom{\\cdot}&0\\phantom{.}&\\hspace{-1em}&\\hspace{-1em}\\phantom{\\cdot}\\\\\n",
       "0\\phantom{.}&\\hspace{-1em}&\\hspace{-1em}\\phantom{\\cdot}&1\\phantom{.}&\\hspace{-1em}&\\hspace{-1em}\\phantom{\\cdot}&0\\phantom{.}&\\hspace{-1em}&\\hspace{-1em}\\phantom{\\cdot}&0\\phantom{.}&\\hspace{-1em}&\\hspace{-1em}\\phantom{\\cdot}\\\\\n",
       "0\\phantom{.}&\\hspace{-1em}&\\hspace{-1em}\\phantom{\\cdot}&0\\phantom{.}&\\hspace{-1em}&\\hspace{-1em}\\phantom{\\cdot}&1\\phantom{.}&\\hspace{-1em}&\\hspace{-1em}\\phantom{\\cdot}&0\\phantom{.}&\\hspace{-1em}&\\hspace{-1em}\\phantom{\\cdot}\\\\\n",
       "\\end{array}\\right)\n",
       "\\]"
      ],
      "text/plain": [
       "StateSpace(array([[ -1.,   0.,   0.],\n",
       "       [  1., -10.,   0.],\n",
       "       [  0.,  10.,   0.]]), array([[1.],\n",
       "       [0.],\n",
       "       [0.]]), array([[1., 0., 0.],\n",
       "       [0., 1., 0.],\n",
       "       [0., 0., 1.]]), array([[0.],\n",
       "       [0.],\n",
       "       [0.]]))"
      ]
     },
     "execution_count": 11,
     "metadata": {},
     "output_type": "execute_result"
    }
   ],
   "source": [
    "sys1 = c.StateSpace(sys.A, B, sys.C, sys.D)\n",
    "sys1"
   ]
  },
  {
   "cell_type": "code",
   "execution_count": 12,
   "id": "6e4caa00-5226-4b59-9b39-3c2c4c4d5f86",
   "metadata": {},
   "outputs": [
    {
     "data": {
      "text/plain": [
       "3"
      ]
     },
     "execution_count": 12,
     "metadata": {},
     "output_type": "execute_result"
    }
   ],
   "source": [
    "np.linalg.matrix_rank(c.ctrb(sys1.A, sys1.B))"
   ]
  },
  {
   "cell_type": "code",
   "execution_count": 13,
   "id": "cab2402c-00ba-44ce-816c-b96f8d96c92a",
   "metadata": {},
   "outputs": [
    {
     "data": {
      "text/plain": [
       "(array([  0., -10.,  -1.]),\n",
       " array([[ 0.        ,  0.        ,  0.66712438],\n",
       "        [ 0.        ,  0.70710678,  0.07412493],\n",
       "        [ 1.        , -0.70710678, -0.74124932]]))"
      ]
     },
     "execution_count": 13,
     "metadata": {},
     "output_type": "execute_result"
    }
   ],
   "source": [
    "np.linalg.eig(sys.A)"
   ]
  },
  {
   "cell_type": "markdown",
   "id": "19cb7042-8658-48e0-aecb-b78ced49a2c2",
   "metadata": {},
   "source": [
    "## Issues\n",
    "1. Many models wouldn't load in symmathSBML\n",
    "1. Seems that state includes some elements that are not species, BCK2\n",
    "1. Why is there a difference between the length of the state_vec and the length of species_names?\n",
    "1. Need getCurrentState"
   ]
  }
 ],
 "metadata": {
  "kernelspec": {
   "display_name": "Python 3",
   "language": "python",
   "name": "python3"
  },
  "language_info": {
   "codemirror_mode": {
    "name": "ipython",
    "version": 3
   },
   "file_extension": ".py",
   "mimetype": "text/x-python",
   "name": "python",
   "nbconvert_exporter": "python",
   "pygments_lexer": "ipython3",
   "version": "3.6.4"
  }
 },
 "nbformat": 4,
 "nbformat_minor": 5
}
