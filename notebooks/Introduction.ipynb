{
 "cells": [
  {
   "cell_type": "markdown",
   "id": "c2835b06-37ac-48c7-8b3f-c1ed63429e38",
   "metadata": {},
   "source": [
    "# INTRODUCTION TO COLAB AND MATH IN COLAB"
   ]
  },
  {
   "cell_type": "markdown",
   "id": "8b9e1bd5-d790-492d-8045-24600203d3cf",
   "metadata": {},
   "source": [
    "# Latex"
   ]
  },
  {
   "cell_type": "markdown",
   "id": "c2305403-7d66-42e5-b979-3c2e80acc0c2",
   "metadata": {},
   "source": [
    "## Latex Macros\n",
    "Macro definitions\n",
    "* bold: \\b{x}\n",
    "$\\newcommand{\\b}[1]{ {\\bf #1}}$ : $\\b{x}$, $\\b{A}$"
   ]
  },
  {
   "cell_type": "markdown",
   "id": "6c8a99ca-b649-4daf-aa5a-cc0ed9cc7a41",
   "metadata": {},
   "source": [
    "# Notation"
   ]
  },
  {
   "cell_type": "markdown",
   "id": "15d6efc0-afaa-451b-9071-ed544d5b589b",
   "metadata": {},
   "source": [
    "* lower case letters are scalars (e.g., $n$)\n",
    "* lower case bold letters are vector: $\\b{x} = (x_1, \\cdots, x_N)^T$\n",
    "* upper case bold letters are marices:\n",
    "$\n",
    "\\begin{equation*}\n",
    "\\b{A} = \n",
    "\\begin{pmatrix}\n",
    "a_{1,1} & a_{1,2} & \\cdots & a_{1,n} \\\\\n",
    "a_{2,1} & a_{2,2} & \\cdots & a_{2,n} \\\\\n",
    "\\vdots  & \\vdots  & \\ddots & \\vdots  \\\\\n",
    "a_{m,1} & a_{m,2} & \\cdots & a_{m,n} \n",
    "\\end{pmatrix}\n",
    "\\end{equation*}\n",
    "$"
   ]
  }
 ],
 "metadata": {
  "kernelspec": {
   "display_name": "Python 3",
   "language": "python",
   "name": "python3"
  },
  "language_info": {
   "codemirror_mode": {
    "name": "ipython",
    "version": 3
   },
   "file_extension": ".py",
   "mimetype": "text/x-python",
   "name": "python",
   "nbconvert_exporter": "python",
   "pygments_lexer": "ipython3",
   "version": "3.6.9"
  }
 },
 "nbformat": 4,
 "nbformat_minor": 5
}
