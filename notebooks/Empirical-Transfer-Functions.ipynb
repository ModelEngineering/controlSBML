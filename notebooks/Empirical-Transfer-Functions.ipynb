{
 "cells": [
  {
   "cell_type": "markdown",
   "id": "0d6ccd69-d25c-4643-b8d9-887972581454",
   "metadata": {
    "tags": []
   },
   "source": [
    "# EMPIRICAL TRANSFER FUNCTIONS"
   ]
  },
  {
   "cell_type": "markdown",
   "id": "78c87479-3990-41ff-abe4-002f44c52d3f",
   "metadata": {
    "tags": []
   },
   "source": [
    "## Preliminaries"
   ]
  },
  {
   "cell_type": "code",
   "execution_count": 2,
   "id": "7d5c5511-6416-4154-a222-7beb2f3890da",
   "metadata": {},
   "outputs": [
    {
     "name": "stdout",
     "output_type": "stream",
     "text": [
      "Collecting controlSBML\n",
      "  Downloading controlSBML-1.0.11-py3-none-any.whl (50 kB)\n",
      "\u001b[K     |████████████████████████████████| 50 kB 1.6 MB/s eta 0:00:01\n",
      "\u001b[?25hCollecting pylint\n",
      "  Downloading pylint-2.17.4-py3-none-any.whl (536 kB)\n",
      "\u001b[K     |████████████████████████████████| 536 kB 5.2 MB/s eta 0:00:01\n",
      "\u001b[?25hCollecting tellurium\n",
      "  Downloading tellurium-2.2.8-py3-none-any.whl (122 kB)\n",
      "\u001b[K     |████████████████████████████████| 122 kB 4.8 MB/s eta 0:00:01\n",
      "\u001b[?25hRequirement already satisfied: urllib3 in /opt/conda/lib/python3.9/site-packages (from controlSBML) (1.26.6)\n",
      "Collecting coverage\n",
      "  Downloading coverage-7.2.7-cp39-cp39-manylinux_2_5_x86_64.manylinux1_x86_64.manylinux_2_17_x86_64.manylinux2014_x86_64.whl (228 kB)\n",
      "\u001b[K     |████████████████████████████████| 228 kB 3.9 MB/s eta 0:00:01\n",
      "\u001b[?25hCollecting control\n",
      "  Downloading control-0.9.4-py3-none-any.whl (455 kB)\n",
      "\u001b[K     |████████████████████████████████| 455 kB 7.4 MB/s eta 0:00:01\n",
      "\u001b[?25hCollecting python-libsbml\n",
      "  Downloading python_libsbml-5.20.1-cp39-cp39-manylinux_2_17_x86_64.manylinux2014_x86_64.whl (8.0 MB)\n",
      "\u001b[K     |████████████████████████████████| 8.0 MB 10.7 MB/s eta 0:00:01\n",
      "\u001b[?25hRequirement already satisfied: seaborn in /opt/conda/lib/python3.9/site-packages (from controlSBML) (0.11.2)\n",
      "Collecting twine\n",
      "  Downloading twine-4.0.2-py3-none-any.whl (36 kB)\n",
      "Requirement already satisfied: jupyterlab in /opt/conda/lib/python3.9/site-packages (from controlSBML) (3.1.6)\n",
      "Requirement already satisfied: pandas in /opt/conda/lib/python3.9/site-packages (from controlSBML) (1.3.2)\n",
      "Requirement already satisfied: sympy in /opt/conda/lib/python3.9/site-packages (from controlSBML) (1.8)\n",
      "Requirement already satisfied: matplotlib in /opt/conda/lib/python3.9/site-packages (from controlSBML) (3.4.3)\n",
      "Collecting symmathSBML\n",
      "  Downloading symmathSBML-0.2.1.tar.gz (19 kB)\n",
      "Requirement already satisfied: numpy in /opt/conda/lib/python3.9/site-packages (from controlSBML) (1.21.2)\n",
      "Requirement already satisfied: pip in /opt/conda/lib/python3.9/site-packages (from controlSBML) (21.2.4)\n",
      "Collecting docstring-expander\n",
      "  Downloading docstring_expander-0.23.tar.gz (4.0 kB)\n",
      "Collecting lmfit\n",
      "  Downloading lmfit-1.2.1-py3-none-any.whl (101 kB)\n",
      "\u001b[K     |████████████████████████████████| 101 kB 8.9 MB/s eta 0:00:01\n",
      "\u001b[?25hRequirement already satisfied: scipy>=1.3 in /opt/conda/lib/python3.9/site-packages (from control->controlSBML) (1.7.1)\n",
      "Requirement already satisfied: jupyter-server~=1.4 in /opt/conda/lib/python3.9/site-packages (from jupyterlab->controlSBML) (1.10.2)\n",
      "Requirement already satisfied: nbclassic~=0.2 in /opt/conda/lib/python3.9/site-packages (from jupyterlab->controlSBML) (0.3.1)\n",
      "Requirement already satisfied: ipython in /opt/conda/lib/python3.9/site-packages (from jupyterlab->controlSBML) (7.26.0)\n",
      "Requirement already satisfied: packaging in /opt/conda/lib/python3.9/site-packages (from jupyterlab->controlSBML) (21.0)\n",
      "Requirement already satisfied: tornado>=6.1.0 in /opt/conda/lib/python3.9/site-packages (from jupyterlab->controlSBML) (6.1)\n",
      "Requirement already satisfied: jupyterlab-server~=2.3 in /opt/conda/lib/python3.9/site-packages (from jupyterlab->controlSBML) (2.7.0)\n",
      "Requirement already satisfied: jinja2>=2.1 in /opt/conda/lib/python3.9/site-packages (from jupyterlab->controlSBML) (3.0.1)\n",
      "Requirement already satisfied: jupyter-core in /opt/conda/lib/python3.9/site-packages (from jupyterlab->controlSBML) (4.7.1)\n",
      "Requirement already satisfied: MarkupSafe>=2.0 in /opt/conda/lib/python3.9/site-packages (from jinja2>=2.1->jupyterlab->controlSBML) (2.0.1)\n",
      "Requirement already satisfied: terminado>=0.8.3 in /opt/conda/lib/python3.9/site-packages (from jupyter-server~=1.4->jupyterlab->controlSBML) (0.10.1)\n",
      "Requirement already satisfied: anyio<4,>=3.1.0 in /opt/conda/lib/python3.9/site-packages (from jupyter-server~=1.4->jupyterlab->controlSBML) (3.3.0)\n",
      "Requirement already satisfied: requests-unixsocket in /opt/conda/lib/python3.9/site-packages (from jupyter-server~=1.4->jupyterlab->controlSBML) (0.2.0)\n",
      "Requirement already satisfied: jupyter-client>=6.1.1 in /opt/conda/lib/python3.9/site-packages (from jupyter-server~=1.4->jupyterlab->controlSBML) (6.1.12)\n",
      "Requirement already satisfied: traitlets>=4.2.1 in /opt/conda/lib/python3.9/site-packages (from jupyter-server~=1.4->jupyterlab->controlSBML) (5.0.5)\n",
      "Requirement already satisfied: Send2Trash in /opt/conda/lib/python3.9/site-packages (from jupyter-server~=1.4->jupyterlab->controlSBML) (1.8.0)\n",
      "Requirement already satisfied: prometheus-client in /opt/conda/lib/python3.9/site-packages (from jupyter-server~=1.4->jupyterlab->controlSBML) (0.11.0)\n",
      "Requirement already satisfied: nbformat in /opt/conda/lib/python3.9/site-packages (from jupyter-server~=1.4->jupyterlab->controlSBML) (5.1.3)\n",
      "Requirement already satisfied: ipython-genutils in /opt/conda/lib/python3.9/site-packages (from jupyter-server~=1.4->jupyterlab->controlSBML) (0.2.0)\n",
      "Requirement already satisfied: argon2-cffi in /opt/conda/lib/python3.9/site-packages (from jupyter-server~=1.4->jupyterlab->controlSBML) (20.1.0)\n",
      "Requirement already satisfied: nbconvert in /opt/conda/lib/python3.9/site-packages (from jupyter-server~=1.4->jupyterlab->controlSBML) (6.1.0)\n",
      "Requirement already satisfied: websocket-client in /opt/conda/lib/python3.9/site-packages (from jupyter-server~=1.4->jupyterlab->controlSBML) (0.57.0)\n",
      "Requirement already satisfied: pyzmq>=17 in /opt/conda/lib/python3.9/site-packages (from jupyter-server~=1.4->jupyterlab->controlSBML) (22.2.1)\n",
      "Requirement already satisfied: idna>=2.8 in /opt/conda/lib/python3.9/site-packages (from anyio<4,>=3.1.0->jupyter-server~=1.4->jupyterlab->controlSBML) (3.1)\n",
      "Requirement already satisfied: sniffio>=1.1 in /opt/conda/lib/python3.9/site-packages (from anyio<4,>=3.1.0->jupyter-server~=1.4->jupyterlab->controlSBML) (1.2.0)\n",
      "Requirement already satisfied: python-dateutil>=2.1 in /opt/conda/lib/python3.9/site-packages (from jupyter-client>=6.1.1->jupyter-server~=1.4->jupyterlab->controlSBML) (2.8.2)\n",
      "Requirement already satisfied: json5 in /opt/conda/lib/python3.9/site-packages (from jupyterlab-server~=2.3->jupyterlab->controlSBML) (0.9.5)\n",
      "Requirement already satisfied: entrypoints>=0.2.2 in /opt/conda/lib/python3.9/site-packages (from jupyterlab-server~=2.3->jupyterlab->controlSBML) (0.3)\n",
      "Requirement already satisfied: requests in /opt/conda/lib/python3.9/site-packages (from jupyterlab-server~=2.3->jupyterlab->controlSBML) (2.26.0)\n",
      "Requirement already satisfied: babel in /opt/conda/lib/python3.9/site-packages (from jupyterlab-server~=2.3->jupyterlab->controlSBML) (2.9.1)\n",
      "Requirement already satisfied: jsonschema>=3.0.1 in /opt/conda/lib/python3.9/site-packages (from jupyterlab-server~=2.3->jupyterlab->controlSBML) (3.2.0)\n",
      "Requirement already satisfied: six>=1.11.0 in /opt/conda/lib/python3.9/site-packages (from jsonschema>=3.0.1->jupyterlab-server~=2.3->jupyterlab->controlSBML) (1.16.0)\n",
      "Requirement already satisfied: attrs>=17.4.0 in /opt/conda/lib/python3.9/site-packages (from jsonschema>=3.0.1->jupyterlab-server~=2.3->jupyterlab->controlSBML) (21.2.0)\n",
      "Requirement already satisfied: pyrsistent>=0.14.0 in /opt/conda/lib/python3.9/site-packages (from jsonschema>=3.0.1->jupyterlab-server~=2.3->jupyterlab->controlSBML) (0.17.3)\n",
      "Requirement already satisfied: setuptools in /opt/conda/lib/python3.9/site-packages (from jsonschema>=3.0.1->jupyterlab-server~=2.3->jupyterlab->controlSBML) (49.6.0.post20210108)\n",
      "Requirement already satisfied: notebook<7 in /opt/conda/lib/python3.9/site-packages (from nbclassic~=0.2->jupyterlab->controlSBML) (6.4.3)\n",
      "Requirement already satisfied: ipykernel in /opt/conda/lib/python3.9/site-packages (from notebook<7->nbclassic~=0.2->jupyterlab->controlSBML) (6.1.0)\n",
      "Requirement already satisfied: ptyprocess in /opt/conda/lib/python3.9/site-packages (from terminado>=0.8.3->jupyter-server~=1.4->jupyterlab->controlSBML) (0.7.0)\n",
      "Requirement already satisfied: cffi>=1.0.0 in /opt/conda/lib/python3.9/site-packages (from argon2-cffi->jupyter-server~=1.4->jupyterlab->controlSBML) (1.14.6)\n",
      "Requirement already satisfied: pycparser in /opt/conda/lib/python3.9/site-packages (from cffi>=1.0.0->argon2-cffi->jupyter-server~=1.4->jupyterlab->controlSBML) (2.20)\n",
      "Requirement already satisfied: pytz>=2015.7 in /opt/conda/lib/python3.9/site-packages (from babel->jupyterlab-server~=2.3->jupyterlab->controlSBML) (2021.1)\n",
      "Requirement already satisfied: debugpy<2.0,>=1.0.0 in /opt/conda/lib/python3.9/site-packages (from ipykernel->notebook<7->nbclassic~=0.2->jupyterlab->controlSBML) (1.4.1)\n",
      "Requirement already satisfied: matplotlib-inline<0.2.0,>=0.1.0 in /opt/conda/lib/python3.9/site-packages (from ipykernel->notebook<7->nbclassic~=0.2->jupyterlab->controlSBML) (0.1.2)\n",
      "Requirement already satisfied: pygments in /opt/conda/lib/python3.9/site-packages (from ipython->jupyterlab->controlSBML) (2.9.0)\n",
      "Requirement already satisfied: pickleshare in /opt/conda/lib/python3.9/site-packages (from ipython->jupyterlab->controlSBML) (0.7.5)\n",
      "Requirement already satisfied: pexpect>4.3 in /opt/conda/lib/python3.9/site-packages (from ipython->jupyterlab->controlSBML) (4.8.0)\n",
      "Requirement already satisfied: jedi>=0.16 in /opt/conda/lib/python3.9/site-packages (from ipython->jupyterlab->controlSBML) (0.18.0)\n",
      "Requirement already satisfied: decorator in /opt/conda/lib/python3.9/site-packages (from ipython->jupyterlab->controlSBML) (5.0.9)\n",
      "Requirement already satisfied: prompt-toolkit!=3.0.0,!=3.0.1,<3.1.0,>=2.0.0 in /opt/conda/lib/python3.9/site-packages (from ipython->jupyterlab->controlSBML) (3.0.19)\n",
      "Requirement already satisfied: backcall in /opt/conda/lib/python3.9/site-packages (from ipython->jupyterlab->controlSBML) (0.2.0)\n",
      "Requirement already satisfied: parso<0.9.0,>=0.8.0 in /opt/conda/lib/python3.9/site-packages (from jedi>=0.16->ipython->jupyterlab->controlSBML) (0.8.2)\n",
      "Requirement already satisfied: wcwidth in /opt/conda/lib/python3.9/site-packages (from prompt-toolkit!=3.0.0,!=3.0.1,<3.1.0,>=2.0.0->ipython->jupyterlab->controlSBML) (0.2.5)\n",
      "Collecting uncertainties>=3.1.4\n",
      "  Downloading uncertainties-3.1.7-py2.py3-none-any.whl (98 kB)\n",
      "\u001b[K     |████████████████████████████████| 98 kB 6.1 MB/s  eta 0:00:01\n",
      "\u001b[?25hCollecting asteval>=0.9.28\n",
      "  Downloading asteval-0.9.30-py3-none-any.whl (19 kB)\n",
      "Collecting future\n",
      "  Downloading future-0.18.3.tar.gz (840 kB)\n",
      "\u001b[K     |████████████████████████████████| 840 kB 12.8 MB/s eta 0:00:01\n",
      "\u001b[?25hRequirement already satisfied: kiwisolver>=1.0.1 in /opt/conda/lib/python3.9/site-packages (from matplotlib->controlSBML) (1.3.1)\n",
      "Requirement already satisfied: pillow>=6.2.0 in /opt/conda/lib/python3.9/site-packages (from matplotlib->controlSBML) (8.3.1)\n",
      "Requirement already satisfied: pyparsing>=2.2.1 in /opt/conda/lib/python3.9/site-packages (from matplotlib->controlSBML) (2.4.7)\n",
      "Requirement already satisfied: cycler>=0.10 in /opt/conda/lib/python3.9/site-packages (from matplotlib->controlSBML) (0.10.0)\n",
      "Requirement already satisfied: testpath in /opt/conda/lib/python3.9/site-packages (from nbconvert->jupyter-server~=1.4->jupyterlab->controlSBML) (0.5.0)\n",
      "Requirement already satisfied: defusedxml in /opt/conda/lib/python3.9/site-packages (from nbconvert->jupyter-server~=1.4->jupyterlab->controlSBML) (0.7.1)\n",
      "Requirement already satisfied: mistune<2,>=0.8.1 in /opt/conda/lib/python3.9/site-packages (from nbconvert->jupyter-server~=1.4->jupyterlab->controlSBML) (0.8.4)\n",
      "Requirement already satisfied: pandocfilters>=1.4.1 in /opt/conda/lib/python3.9/site-packages (from nbconvert->jupyter-server~=1.4->jupyterlab->controlSBML) (1.4.2)\n",
      "Requirement already satisfied: nbclient<0.6.0,>=0.5.0 in /opt/conda/lib/python3.9/site-packages (from nbconvert->jupyter-server~=1.4->jupyterlab->controlSBML) (0.5.3)\n",
      "Requirement already satisfied: jupyterlab-pygments in /opt/conda/lib/python3.9/site-packages (from nbconvert->jupyter-server~=1.4->jupyterlab->controlSBML) (0.1.2)\n",
      "Requirement already satisfied: bleach in /opt/conda/lib/python3.9/site-packages (from nbconvert->jupyter-server~=1.4->jupyterlab->controlSBML) (4.0.0)\n",
      "Requirement already satisfied: nest-asyncio in /opt/conda/lib/python3.9/site-packages (from nbclient<0.6.0,>=0.5.0->nbconvert->jupyter-server~=1.4->jupyterlab->controlSBML) (1.5.1)\n",
      "Requirement already satisfied: async-generator in /opt/conda/lib/python3.9/site-packages (from nbclient<0.6.0,>=0.5.0->nbconvert->jupyter-server~=1.4->jupyterlab->controlSBML) (1.10)\n",
      "Requirement already satisfied: webencodings in /opt/conda/lib/python3.9/site-packages (from bleach->nbconvert->jupyter-server~=1.4->jupyterlab->controlSBML) (0.5.1)\n",
      "Requirement already satisfied: typing-extensions>=3.10.0 in /opt/conda/lib/python3.9/site-packages (from pylint->controlSBML) (3.10.0.0)\n",
      "Collecting tomli>=1.1.0\n",
      "  Downloading tomli-2.0.1-py3-none-any.whl (12 kB)\n",
      "Requirement already satisfied: dill>=0.2 in /opt/conda/lib/python3.9/site-packages (from pylint->controlSBML) (0.3.4)\n",
      "Collecting astroid<=2.17.0-dev0,>=2.15.4\n",
      "  Downloading astroid-2.15.6-py3-none-any.whl (278 kB)\n",
      "\u001b[K     |████████████████████████████████| 278 kB 6.4 MB/s eta 0:00:01\n",
      "\u001b[?25hCollecting mccabe<0.8,>=0.6\n",
      "  Downloading mccabe-0.7.0-py2.py3-none-any.whl (7.3 kB)\n",
      "Collecting platformdirs>=2.2.0\n",
      "  Downloading platformdirs-3.8.1-py3-none-any.whl (16 kB)\n",
      "Collecting isort<6,>=4.2.5\n",
      "  Downloading isort-5.12.0-py3-none-any.whl (91 kB)\n",
      "\u001b[K     |████████████████████████████████| 91 kB 6.6 MB/s  eta 0:00:01\n",
      "\u001b[?25hCollecting tomlkit>=0.10.1\n",
      "  Downloading tomlkit-0.11.8-py3-none-any.whl (35 kB)\n",
      "Collecting wrapt<2,>=1.11\n",
      "  Downloading wrapt-1.15.0-cp39-cp39-manylinux_2_5_x86_64.manylinux1_x86_64.manylinux_2_17_x86_64.manylinux2014_x86_64.whl (78 kB)\n",
      "\u001b[K     |████████████████████████████████| 78 kB 2.8 MB/s eta 0:00:01\n",
      "\u001b[?25hCollecting typing-extensions>=3.10.0\n",
      "  Downloading typing_extensions-4.7.1-py3-none-any.whl (33 kB)\n",
      "Collecting lazy-object-proxy>=1.4.0\n",
      "  Downloading lazy_object_proxy-1.9.0-cp39-cp39-manylinux_2_5_x86_64.manylinux1_x86_64.manylinux_2_17_x86_64.manylinux2014_x86_64.whl (62 kB)\n",
      "\u001b[K     |████████████████████████████████| 62 kB 834 kB/s  eta 0:00:01\n",
      "\u001b[?25hRequirement already satisfied: charset-normalizer~=2.0.0 in /opt/conda/lib/python3.9/site-packages (from requests->jupyterlab-server~=2.3->jupyterlab->controlSBML) (2.0.0)\n",
      "Requirement already satisfied: certifi>=2017.4.17 in /opt/conda/lib/python3.9/site-packages (from requests->jupyterlab-server~=2.3->jupyterlab->controlSBML) (2021.5.30)\n",
      "Collecting nose\n",
      "  Downloading nose-1.3.7-py3-none-any.whl (154 kB)\n",
      "\u001b[K     |████████████████████████████████| 154 kB 5.3 MB/s eta 0:00:01\n",
      "\u001b[?25hCollecting tk\n",
      "  Downloading tk-0.1.0-py3-none-any.whl (3.9 kB)\n",
      "Requirement already satisfied: mpmath>=0.19 in /opt/conda/lib/python3.9/site-packages (from sympy->controlSBML) (1.2.1)\n",
      "Collecting antimony>=2.12.0\n",
      "  Downloading antimony-2.13.4-py3-none-manylinux2014_x86_64.whl (4.4 MB)\n",
      "\u001b[K     |████████████████████████████████| 4.4 MB 5.6 MB/s eta 0:00:01\n",
      "\u001b[?25hCollecting tellurium\n",
      "  Downloading tellurium-2.2.7-py3-none-any.whl (122 kB)\n",
      "\u001b[K     |████████████████████████████████| 122 kB 16.6 MB/s eta 0:00:01\n",
      "\u001b[?25h  Downloading tellurium-2.2.5.2-py3-none-any.whl (122 kB)\n",
      "\u001b[K     |████████████████████████████████| 122 kB 5.8 MB/s eta 0:00:01\n",
      "\u001b[?25hCollecting libroadrunner>=2.0.3\n",
      "  Downloading libroadrunner-2.4.0-cp39-cp39-manylinux2014_x86_64.whl (50.0 MB)\n",
      "\u001b[K     |████████████████████████████████| 50.0 MB 683 kB/s eta 0:00:011\n",
      "\u001b[?25hCollecting tellurium\n",
      "  Downloading tellurium-2.2.5.1-py3-none-any.whl (122 kB)\n",
      "\u001b[K     |████████████████████████████████| 122 kB 16.2 MB/s eta 0:00:01\n",
      "\u001b[?25h  Downloading tellurium-2.2.4.3-py3-none-any.whl (121 kB)\n",
      "\u001b[K     |████████████████████████████████| 121 kB 13.8 MB/s eta 0:00:01\n",
      "\u001b[?25h  Downloading tellurium-2.2.4.2-py3-none-any.whl (121 kB)\n",
      "\u001b[K     |████████████████████████████████| 121 kB 17.2 MB/s eta 0:00:01\n",
      "\u001b[?25h  Downloading tellurium-2.2.4.1-py3-none-any.whl (121 kB)\n",
      "\u001b[K     |████████████████████████████████| 121 kB 10.2 MB/s eta 0:00:01\n",
      "\u001b[?25h  Downloading tellurium-2.2.4-py3-none-any.whl (121 kB)\n",
      "\u001b[K     |████████████████████████████████| 121 kB 17.3 MB/s eta 0:00:01\n",
      "\u001b[?25h  Downloading tellurium-2.2.3.1-py3-none-any.whl (121 kB)\n",
      "\u001b[K     |████████████████████████████████| 121 kB 17.0 MB/s eta 0:00:01\n",
      "\u001b[?25h  Downloading tellurium-2.2.3-py3-none-any.whl (121 kB)\n",
      "\u001b[K     |████████████████████████████████| 121 kB 5.2 MB/s eta 0:00:01\n",
      "\u001b[?25hCollecting plotly>=2.0.12\n",
      "  Downloading plotly-5.15.0-py2.py3-none-any.whl (15.5 MB)\n",
      "\u001b[K     |████████████████████████████████| 15.5 MB 17.6 MB/s eta 0:00:01\n",
      "\u001b[?25hCollecting sbml2matlab>=0.9.1\n",
      "  Downloading sbml2matlab-1.2.3-cp39-cp39-manylinux2010_x86_64.whl (3.7 MB)\n",
      "\u001b[K     |████████████████████████████████| 3.7 MB 6.4 MB/s eta 0:00:01\n",
      "\u001b[?25hCollecting python-libnuml>=1.0.0\n",
      "  Downloading python_libnuml-1.1.6-cp39-cp39-manylinux_2_17_x86_64.manylinux2014_x86_64.whl (2.1 MB)\n",
      "\u001b[K     |████████████████████████████████| 2.1 MB 14.3 MB/s eta 0:00:01\n",
      "\u001b[?25hRequirement already satisfied: appdirs>=1.4.3 in /opt/conda/lib/python3.9/site-packages (from tellurium->controlSBML) (1.4.4)\n",
      "Collecting rrplugins>=2.0.3\n",
      "  Downloading rrplugins-2.0.4-py3-none-manylinux2010_x86_64.whl (36.7 MB)\n",
      "\u001b[K     |████████████████████████████████| 36.7 MB 177 kB/s eta 0:00:012\n",
      "\u001b[?25hCollecting pytest\n",
      "  Downloading pytest-7.4.0-py3-none-any.whl (323 kB)\n",
      "\u001b[K     |████████████████████████████████| 323 kB 15.4 MB/s eta 0:00:01\n",
      "\u001b[?25hCollecting python-libsedml>=2.0.17\n",
      "  Downloading python_libsedml-2.0.32-cp39-cp39-manylinux_2_17_x86_64.manylinux2014_x86_64.whl (3.3 MB)\n",
      "\u001b[K     |████████████████████████████████| 3.3 MB 9.8 MB/s eta 0:00:01\n",
      "\u001b[?25hCollecting python-libcombine>=0.2.2\n",
      "  Downloading python_libcombine-0.2.19-cp39-cp39-manylinux_2_17_x86_64.manylinux2014_x86_64.whl (2.6 MB)\n",
      "\u001b[K     |████████████████████████████████| 2.6 MB 4.5 MB/s eta 0:00:01\n",
      "\u001b[?25hCollecting phrasedml>=1.0.9\n",
      "  Downloading phrasedml-1.3.0-py3-none-manylinux2014_x86_64.whl (4.9 MB)\n",
      "\u001b[K     |████████████████████████████████| 4.9 MB 10.8 MB/s eta 0:00:01\n",
      "\u001b[?25hCollecting libroadrunner>=2.0.3\n",
      "  Downloading libroadrunner-2.3.2-cp39-cp39-manylinux2014_x86_64.whl (50.0 MB)\n",
      "\u001b[K     |████████████████████████████████| 50.0 MB 239 kB/s eta 0:00:012\n",
      "\u001b[?25h  Downloading libroadrunner-2.3.1-cp39-cp39-manylinux2014_x86_64.whl (50.0 MB)\n",
      "\u001b[K     |████████████████████████████████| 50.0 MB 653 kB/s eta 0:00:012    |████                            | 6.3 MB 17.0 MB/s eta 0:00:03     |██████▏                         | 9.6 MB 17.0 MB/s eta 0:00:03     |█████████████▌                  | 21.1 MB 487 kB/s eta 0:01:00\n",
      "\u001b[?25h  Downloading libroadrunner-2.3.0-cp39-cp39-manylinux2014_x86_64.whl (50.0 MB)\n",
      "\u001b[K     |████████████████████████████████| 50.0 MB 4.0 MB/s eta 0:00:011\n",
      "\u001b[?25h  Downloading libroadrunner-2.2.2-cp39-cp39-manylinux2014_x86_64.whl (50.0 MB)\n",
      "\u001b[K     |████████████████████████████████| 50.0 MB 392 kB/s eta 0:00:01     |████████████▊                   | 19.9 MB 2.6 MB/s eta 0:00:12\n",
      "\u001b[?25hCollecting numpy\n",
      "  Downloading numpy-1.22.4-cp39-cp39-manylinux_2_17_x86_64.manylinux2014_x86_64.whl (16.8 MB)\n",
      "\u001b[K     |████████████████████████████████| 16.8 MB 1.1 MB/s  eta 0:00:01\n",
      "\u001b[?25hCollecting tenacity>=6.2.0\n",
      "  Downloading tenacity-8.2.2-py3-none-any.whl (24 kB)\n",
      "Collecting exceptiongroup>=1.0.0rc8\n",
      "  Downloading exceptiongroup-1.1.2-py3-none-any.whl (14 kB)\n",
      "Collecting iniconfig\n",
      "  Downloading iniconfig-2.0.0-py3-none-any.whl (5.9 kB)\n",
      "Collecting pluggy<2.0,>=0.12\n",
      "  Downloading pluggy-1.2.0-py3-none-any.whl (17 kB)\n",
      "Collecting requests-toolbelt!=0.9.0,>=0.8.0\n",
      "  Downloading requests_toolbelt-1.0.0-py2.py3-none-any.whl (54 kB)\n",
      "\u001b[K     |████████████████████████████████| 54 kB 3.3 MB/s  eta 0:00:01\n",
      "\u001b[?25hCollecting pkginfo>=1.8.1\n",
      "  Downloading pkginfo-1.9.6-py3-none-any.whl (30 kB)\n",
      "Collecting readme-renderer>=35.0\n",
      "  Downloading readme_renderer-40.0-py3-none-any.whl (14 kB)\n",
      "Collecting keyring>=15.1\n",
      "  Downloading keyring-24.2.0-py3-none-any.whl (37 kB)\n",
      "Requirement already satisfied: importlib-metadata>=3.6 in /opt/conda/lib/python3.9/site-packages (from twine->controlSBML) (4.6.4)\n",
      "Collecting rich>=12.0.0\n",
      "  Downloading rich-13.4.2-py3-none-any.whl (239 kB)\n",
      "\u001b[K     |████████████████████████████████| 239 kB 11.8 MB/s eta 0:00:01\n",
      "\u001b[?25hCollecting rfc3986>=1.4.0\n",
      "  Downloading rfc3986-2.0.0-py2.py3-none-any.whl (31 kB)\n",
      "Requirement already satisfied: zipp>=0.5 in /opt/conda/lib/python3.9/site-packages (from importlib-metadata>=3.6->twine->controlSBML) (3.5.0)\n",
      "Collecting SecretStorage>=3.2\n",
      "  Downloading SecretStorage-3.3.3-py3-none-any.whl (15 kB)\n",
      "Collecting importlib-metadata>=3.6\n",
      "  Downloading importlib_metadata-6.8.0-py3-none-any.whl (22 kB)\n",
      "Collecting jeepney>=0.4.2\n",
      "  Downloading jeepney-0.8.0-py3-none-any.whl (48 kB)\n",
      "\u001b[K     |████████████████████████████████| 48 kB 5.0 MB/s  eta 0:00:01\n",
      "\u001b[?25hCollecting jaraco.classes\n",
      "  Downloading jaraco.classes-3.3.0-py3-none-any.whl (5.9 kB)\n",
      "Collecting docutils>=0.13.1\n",
      "  Downloading docutils-0.20.1-py3-none-any.whl (572 kB)\n",
      "\u001b[K     |████████████████████████████████| 572 kB 17.3 MB/s eta 0:00:01\n",
      "\u001b[?25hCollecting markdown-it-py>=2.2.0\n",
      "  Downloading markdown_it_py-3.0.0-py3-none-any.whl (87 kB)\n",
      "\u001b[K     |████████████████████████████████| 87 kB 7.3 MB/s  eta 0:00:01\n",
      "\u001b[?25hCollecting pygments\n",
      "  Downloading Pygments-2.15.1-py3-none-any.whl (1.1 MB)\n",
      "\u001b[K     |████████████████████████████████| 1.1 MB 15.1 MB/s eta 0:00:01\n",
      "\u001b[?25hCollecting mdurl~=0.1\n",
      "  Downloading mdurl-0.1.2-py3-none-any.whl (10.0 kB)\n",
      "Requirement already satisfied: cryptography>=2.0 in /opt/conda/lib/python3.9/site-packages (from SecretStorage>=3.2->keyring>=15.1->twine->controlSBML) (3.4.7)\n",
      "Collecting more-itertools\n",
      "  Downloading more_itertools-9.1.0-py3-none-any.whl (54 kB)\n",
      "\u001b[K     |████████████████████████████████| 54 kB 2.5 MB/s  eta 0:00:01\n",
      "\u001b[?25hBuilding wheels for collected packages: docstring-expander, future, symmathSBML\n",
      "  Building wheel for docstring-expander (setup.py) ... \u001b[?25ldone\n",
      "\u001b[?25h  Created wheel for docstring-expander: filename=docstring_expander-0.23-py3-none-any.whl size=4740 sha256=8f7fa92516bd7ca191e042f7a3b905e80533d475917c890390f88362a7cc1acc\n",
      "  Stored in directory: /home/jovyan/.cache/pip/wheels/7b/9a/0b/58233ce4a49d1e0fe68319d361a403416322f7b5a838e74b35\n",
      "  Building wheel for future (setup.py) ... \u001b[?25ldone\n",
      "\u001b[?25h  Created wheel for future: filename=future-0.18.3-py3-none-any.whl size=492025 sha256=bc172dccac9817e664f30bd57809f2119e212925a8c2df5f658101c404e38207\n",
      "  Stored in directory: /home/jovyan/.cache/pip/wheels/bf/5d/6a/2e53874f7ec4e2bede522385439531fafec8fafe005b5c3d1b\n",
      "  Building wheel for symmathSBML (setup.py) ... \u001b[?25ldone\n",
      "\u001b[?25h  Created wheel for symmathSBML: filename=symmathSBML-0.2.1-py3-none-any.whl size=24170 sha256=ea853a7c5cbaa2d5d0dae0a2e254445ad10bfef3d24c5405a14dc9e55de35629\n",
      "  Stored in directory: /home/jovyan/.cache/pip/wheels/65/c0/96/2b040e117134b5bf26956799305a8b66e7ccb3b6fbc5fc85c0\n",
      "Successfully built docstring-expander future symmathSBML\n",
      "Installing collected packages: pygments, numpy, wrapt, typing-extensions, tomli, tenacity, pluggy, more-itertools, mdurl, lazy-object-proxy, jeepney, iniconfig, exceptiongroup, tomlkit, SecretStorage, sbml2matlab, rrplugins, python-libsedml, python-libsbml, python-libnuml, python-libcombine, pytest, plotly, platformdirs, phrasedml, mccabe, markdown-it-py, libroadrunner, jaraco.classes, isort, importlib-metadata, future, docutils, astroid, antimony, uncertainties, tk, tellurium, rich, rfc3986, requests-toolbelt, readme-renderer, pylint, pkginfo, nose, keyring, coverage, control, asteval, twine, symmathSBML, lmfit, docstring-expander, controlSBML\n",
      "  Attempting uninstall: pygments\n",
      "    Found existing installation: Pygments 2.9.0\n",
      "    Uninstalling Pygments-2.9.0:\n",
      "      Successfully uninstalled Pygments-2.9.0\n",
      "  Attempting uninstall: numpy\n",
      "    Found existing installation: numpy 1.21.2\n",
      "    Uninstalling numpy-1.21.2:\n",
      "      Successfully uninstalled numpy-1.21.2\n",
      "  Attempting uninstall: typing-extensions\n",
      "    Found existing installation: typing-extensions 3.10.0.0\n",
      "    Uninstalling typing-extensions-3.10.0.0:\n",
      "      Successfully uninstalled typing-extensions-3.10.0.0\n",
      "  Attempting uninstall: importlib-metadata\n",
      "    Found existing installation: importlib-metadata 4.6.4\n",
      "    Uninstalling importlib-metadata-4.6.4:\n",
      "      Successfully uninstalled importlib-metadata-4.6.4\n",
      "Successfully installed SecretStorage-3.3.3 antimony-2.13.4 asteval-0.9.30 astroid-2.15.6 control-0.9.4 controlSBML-1.0.11 coverage-7.2.7 docstring-expander-0.23 docutils-0.20.1 exceptiongroup-1.1.2 future-0.18.3 importlib-metadata-6.8.0 iniconfig-2.0.0 isort-5.12.0 jaraco.classes-3.3.0 jeepney-0.8.0 keyring-24.2.0 lazy-object-proxy-1.9.0 libroadrunner-2.2.2 lmfit-1.2.1 markdown-it-py-3.0.0 mccabe-0.7.0 mdurl-0.1.2 more-itertools-9.1.0 nose-1.3.7 numpy-1.22.4 phrasedml-1.3.0 pkginfo-1.9.6 platformdirs-3.8.1 plotly-5.15.0 pluggy-1.2.0 pygments-2.15.1 pylint-2.17.4 pytest-7.4.0 python-libcombine-0.2.19 python-libnuml-1.1.6 python-libsbml-5.20.1 python-libsedml-2.0.32 readme-renderer-40.0 requests-toolbelt-1.0.0 rfc3986-2.0.0 rich-13.4.2 rrplugins-2.0.4 sbml2matlab-1.2.3 symmathSBML-0.2.1 tellurium-2.2.3 tenacity-8.2.2 tk-0.1.0 tomli-2.0.1 tomlkit-0.11.8 twine-4.0.2 typing-extensions-4.7.1 uncertainties-3.1.7 wrapt-1.15.0\n"
     ]
    }
   ],
   "source": [
    "!pip install controlSBML"
   ]
  },
  {
   "cell_type": "code",
   "execution_count": 4,
   "id": "07c84a69-4956-474e-bfb0-c45549f9d0ed",
   "metadata": {},
   "outputs": [
    {
     "ename": "ImportError",
     "evalue": "libncurses.so.5: cannot open shared object file: No such file or directory",
     "output_type": "error",
     "traceback": [
      "\u001b[0;31m---------------------------------------------------------------------------\u001b[0m",
      "\u001b[0;31mImportError\u001b[0m                               Traceback (most recent call last)",
      "\u001b[0;32m/tmp/ipykernel_142/3023135767.py\u001b[0m in \u001b[0;36m<module>\u001b[0;34m\u001b[0m\n\u001b[0;32m----> 1\u001b[0;31m \u001b[0;32mimport\u001b[0m \u001b[0mcontrolSBML\u001b[0m \u001b[0;32mas\u001b[0m \u001b[0mctl\u001b[0m\u001b[0;34m\u001b[0m\u001b[0;34m\u001b[0m\u001b[0m\n\u001b[0m\u001b[1;32m      2\u001b[0m \u001b[0;34m\u001b[0m\u001b[0m\n\u001b[1;32m      3\u001b[0m \u001b[0;32mimport\u001b[0m \u001b[0mcontrol\u001b[0m\u001b[0;34m\u001b[0m\u001b[0;34m\u001b[0m\u001b[0m\n\u001b[1;32m      4\u001b[0m \u001b[0;32mimport\u001b[0m \u001b[0mlmfit\u001b[0m\u001b[0;34m\u001b[0m\u001b[0;34m\u001b[0m\u001b[0m\n\u001b[1;32m      5\u001b[0m \u001b[0;32mimport\u001b[0m \u001b[0mmatplotlib\u001b[0m\u001b[0;34m.\u001b[0m\u001b[0mpyplot\u001b[0m \u001b[0;32mas\u001b[0m \u001b[0mplt\u001b[0m\u001b[0;34m\u001b[0m\u001b[0;34m\u001b[0m\u001b[0m\n",
      "\u001b[0;32m/opt/conda/lib/python3.9/site-packages/controlSBML/__init__.py\u001b[0m in \u001b[0;36m<module>\u001b[0;34m\u001b[0m\n\u001b[1;32m      1\u001b[0m \u001b[0;31m# Model urls\u001b[0m\u001b[0;34m\u001b[0m\u001b[0;34m\u001b[0m\u001b[0;34m\u001b[0m\u001b[0m\n\u001b[1;32m      2\u001b[0m \u001b[0;32mfrom\u001b[0m \u001b[0mcontrolSBML\u001b[0m\u001b[0;34m.\u001b[0m\u001b[0m_version\u001b[0m \u001b[0;32mimport\u001b[0m \u001b[0m__version__\u001b[0m\u001b[0;34m\u001b[0m\u001b[0;34m\u001b[0m\u001b[0m\n\u001b[0;32m----> 3\u001b[0;31m \u001b[0;32mfrom\u001b[0m \u001b[0mcontrolSBML\u001b[0m\u001b[0;34m.\u001b[0m\u001b[0mcontrol_sbml\u001b[0m \u001b[0;32mimport\u001b[0m \u001b[0mControlSBML\u001b[0m\u001b[0;34m\u001b[0m\u001b[0;34m\u001b[0m\u001b[0m\n\u001b[0m\u001b[1;32m      4\u001b[0m \u001b[0;32mfrom\u001b[0m \u001b[0mcontrolSBML\u001b[0m\u001b[0;34m.\u001b[0m\u001b[0mconstants\u001b[0m \u001b[0;32mimport\u001b[0m \u001b[0mLegendSpec\u001b[0m\u001b[0;34m\u001b[0m\u001b[0;34m\u001b[0m\u001b[0m\n\u001b[1;32m      5\u001b[0m \u001b[0;32mfrom\u001b[0m \u001b[0mcontrolSBML\u001b[0m\u001b[0;34m.\u001b[0m\u001b[0mnonlinear_io_system\u001b[0m \u001b[0;32mimport\u001b[0m \u001b[0mNonlinearIOSystem\u001b[0m\u001b[0;34m\u001b[0m\u001b[0;34m\u001b[0m\u001b[0m\n",
      "\u001b[0;32m/opt/conda/lib/python3.9/site-packages/controlSBML/control_sbml.py\u001b[0m in \u001b[0;36m<module>\u001b[0;34m\u001b[0m\n\u001b[1;32m      8\u001b[0m \"\"\"\n\u001b[1;32m      9\u001b[0m \u001b[0;34m\u001b[0m\u001b[0m\n\u001b[0;32m---> 10\u001b[0;31m \u001b[0;32mfrom\u001b[0m \u001b[0mcontrolSBML\u001b[0m\u001b[0;34m.\u001b[0m\u001b[0mcontrol_plot\u001b[0m \u001b[0;32mimport\u001b[0m \u001b[0mControlPlot\u001b[0m\u001b[0;34m\u001b[0m\u001b[0;34m\u001b[0m\u001b[0m\n\u001b[0m\u001b[1;32m     11\u001b[0m \u001b[0;34m\u001b[0m\u001b[0m\n\u001b[1;32m     12\u001b[0m \u001b[0;34m\u001b[0m\u001b[0m\n",
      "\u001b[0;32m/opt/conda/lib/python3.9/site-packages/controlSBML/control_plot.py\u001b[0m in \u001b[0;36m<module>\u001b[0;34m\u001b[0m\n\u001b[1;32m      3\u001b[0m \u001b[0;34m\u001b[0m\u001b[0m\n\u001b[1;32m      4\u001b[0m \u001b[0;32mimport\u001b[0m \u001b[0mcontrolSBML\u001b[0m\u001b[0;34m.\u001b[0m\u001b[0mconstants\u001b[0m \u001b[0;32mas\u001b[0m \u001b[0mcn\u001b[0m\u001b[0;34m\u001b[0m\u001b[0;34m\u001b[0m\u001b[0m\n\u001b[0;32m----> 5\u001b[0;31m \u001b[0;32mfrom\u001b[0m \u001b[0mcontrolSBML\u001b[0m\u001b[0;34m.\u001b[0m\u001b[0mcontrol_analysis\u001b[0m \u001b[0;32mimport\u001b[0m \u001b[0mControlAnalysis\u001b[0m\u001b[0;34m\u001b[0m\u001b[0;34m\u001b[0m\u001b[0m\n\u001b[0m\u001b[1;32m      6\u001b[0m \u001b[0;32mfrom\u001b[0m \u001b[0mcontrolSBML\u001b[0m\u001b[0;34m.\u001b[0m\u001b[0mcontrol_extensions\u001b[0m\u001b[0;34m.\u001b[0m\u001b[0mstate_space_tf\u001b[0m \u001b[0;32mimport\u001b[0m \u001b[0mStateSpaceTF\u001b[0m\u001b[0;34m\u001b[0m\u001b[0;34m\u001b[0m\u001b[0m\n\u001b[1;32m      7\u001b[0m \u001b[0;32mfrom\u001b[0m \u001b[0mcontrolSBML\u001b[0m\u001b[0;34m.\u001b[0m\u001b[0moption_management\u001b[0m\u001b[0;34m.\u001b[0m\u001b[0moption_manager\u001b[0m \u001b[0;32mimport\u001b[0m \u001b[0mOptionManager\u001b[0m\u001b[0;34m\u001b[0m\u001b[0;34m\u001b[0m\u001b[0m\n",
      "\u001b[0;32m/opt/conda/lib/python3.9/site-packages/controlSBML/control_analysis.py\u001b[0m in \u001b[0;36m<module>\u001b[0;34m\u001b[0m\n\u001b[1;32m      2\u001b[0m \u001b[0;34m\u001b[0m\u001b[0m\n\u001b[1;32m      3\u001b[0m \u001b[0;32mfrom\u001b[0m \u001b[0mcontrolSBML\u001b[0m\u001b[0;34m.\u001b[0m\u001b[0mtimeseries\u001b[0m \u001b[0;32mimport\u001b[0m \u001b[0mTimeseries\u001b[0m\u001b[0;34m\u001b[0m\u001b[0;34m\u001b[0m\u001b[0m\n\u001b[0;32m----> 4\u001b[0;31m \u001b[0;32mfrom\u001b[0m \u001b[0mcontrolSBML\u001b[0m\u001b[0;34m.\u001b[0m\u001b[0mcontrol_base\u001b[0m \u001b[0;32mimport\u001b[0m \u001b[0mControlBase\u001b[0m\u001b[0;34m\u001b[0m\u001b[0;34m\u001b[0m\u001b[0m\n\u001b[0m\u001b[1;32m      5\u001b[0m \u001b[0;32mimport\u001b[0m \u001b[0mcontrolSBML\u001b[0m\u001b[0;34m.\u001b[0m\u001b[0mconstants\u001b[0m \u001b[0;32mas\u001b[0m \u001b[0mcn\u001b[0m\u001b[0;34m\u001b[0m\u001b[0;34m\u001b[0m\u001b[0m\n\u001b[1;32m      6\u001b[0m \u001b[0;32mfrom\u001b[0m \u001b[0mcontrolSBML\u001b[0m\u001b[0;34m.\u001b[0m\u001b[0moption_management\u001b[0m\u001b[0;34m.\u001b[0m\u001b[0moptions\u001b[0m \u001b[0;32mimport\u001b[0m \u001b[0mOptions\u001b[0m\u001b[0;34m\u001b[0m\u001b[0;34m\u001b[0m\u001b[0m\n",
      "\u001b[0;32m/opt/conda/lib/python3.9/site-packages/controlSBML/control_base.py\u001b[0m in \u001b[0;36m<module>\u001b[0;34m\u001b[0m\n\u001b[1;32m     12\u001b[0m \u001b[0;34m\u001b[0m\u001b[0m\n\u001b[1;32m     13\u001b[0m \u001b[0;34m\u001b[0m\u001b[0m\n\u001b[0;32m---> 14\u001b[0;31m \u001b[0;32mfrom\u001b[0m \u001b[0mcontrolSBML\u001b[0m\u001b[0;34m.\u001b[0m\u001b[0mmake_roadrunner\u001b[0m \u001b[0;32mimport\u001b[0m \u001b[0mmakeRoadrunner\u001b[0m\u001b[0;34m\u001b[0m\u001b[0;34m\u001b[0m\u001b[0m\n\u001b[0m\u001b[1;32m     15\u001b[0m \u001b[0;32mimport\u001b[0m \u001b[0mcontrolSBML\u001b[0m \u001b[0;32mas\u001b[0m \u001b[0mctl\u001b[0m\u001b[0;34m\u001b[0m\u001b[0;34m\u001b[0m\u001b[0m\n\u001b[1;32m     16\u001b[0m \u001b[0;32mfrom\u001b[0m \u001b[0mcontrolSBML\u001b[0m \u001b[0;32mimport\u001b[0m \u001b[0mutil\u001b[0m\u001b[0;34m\u001b[0m\u001b[0;34m\u001b[0m\u001b[0m\n",
      "\u001b[0;32m/opt/conda/lib/python3.9/site-packages/controlSBML/make_roadrunner.py\u001b[0m in \u001b[0;36m<module>\u001b[0;34m\u001b[0m\n\u001b[1;32m      1\u001b[0m \u001b[0;34m\"\"\"Creates a Roadrunner instance from a model reference.\"\"\"\u001b[0m\u001b[0;34m\u001b[0m\u001b[0;34m\u001b[0m\u001b[0m\n\u001b[1;32m      2\u001b[0m \u001b[0;34m\u001b[0m\u001b[0m\n\u001b[0;32m----> 3\u001b[0;31m \u001b[0;32mimport\u001b[0m \u001b[0mtellurium\u001b[0m \u001b[0;32mas\u001b[0m \u001b[0mte\u001b[0m\u001b[0;34m\u001b[0m\u001b[0;34m\u001b[0m\u001b[0m\n\u001b[0m\u001b[1;32m      4\u001b[0m \u001b[0;34m\u001b[0m\u001b[0m\n\u001b[1;32m      5\u001b[0m \u001b[0mANT\u001b[0m \u001b[0;34m=\u001b[0m \u001b[0;34m\"ant\"\u001b[0m\u001b[0;34m\u001b[0m\u001b[0;34m\u001b[0m\u001b[0m\n",
      "\u001b[0;32m/opt/conda/lib/python3.9/site-packages/tellurium/__init__.py\u001b[0m in \u001b[0;36m<module>\u001b[0;34m\u001b[0m\n\u001b[1;32m     12\u001b[0m \u001b[0;34m\u001b[0m\u001b[0m\n\u001b[1;32m     13\u001b[0m \u001b[0;31m# General\u001b[0m\u001b[0;34m\u001b[0m\u001b[0;34m\u001b[0m\u001b[0;34m\u001b[0m\u001b[0m\n\u001b[0;32m---> 14\u001b[0;31m from .tellurium import (\n\u001b[0m\u001b[1;32m     15\u001b[0m     \u001b[0mgetVersionInfo\u001b[0m\u001b[0;34m,\u001b[0m\u001b[0;34m\u001b[0m\u001b[0;34m\u001b[0m\u001b[0m\n\u001b[1;32m     16\u001b[0m     \u001b[0mprintVersionInfo\u001b[0m\u001b[0;34m,\u001b[0m\u001b[0;34m\u001b[0m\u001b[0;34m\u001b[0m\u001b[0m\n",
      "\u001b[0;32m/opt/conda/lib/python3.9/site-packages/tellurium/tellurium.py\u001b[0m in \u001b[0;36m<module>\u001b[0;34m\u001b[0m\n\u001b[1;32m    152\u001b[0m \u001b[0;31m# Remaining imports\u001b[0m\u001b[0;34m\u001b[0m\u001b[0;34m\u001b[0m\u001b[0;34m\u001b[0m\u001b[0m\n\u001b[1;32m    153\u001b[0m \u001b[0;31m##############################################\u001b[0m\u001b[0;34m\u001b[0m\u001b[0;34m\u001b[0m\u001b[0;34m\u001b[0m\u001b[0m\n\u001b[0;32m--> 154\u001b[0;31m \u001b[0;32mimport\u001b[0m \u001b[0mroadrunner\u001b[0m\u001b[0;34m\u001b[0m\u001b[0;34m\u001b[0m\u001b[0m\n\u001b[0m\u001b[1;32m    155\u001b[0m \u001b[0;34m\u001b[0m\u001b[0m\n\u001b[1;32m    156\u001b[0m \u001b[0;32mtry\u001b[0m\u001b[0;34m:\u001b[0m\u001b[0;34m\u001b[0m\u001b[0;34m\u001b[0m\u001b[0m\n",
      "\u001b[0;32m/opt/conda/lib/python3.9/site-packages/roadrunner/__init__.py\u001b[0m in \u001b[0;36m<module>\u001b[0;34m\u001b[0m\n\u001b[1;32m      8\u001b[0m \"\"\"\n\u001b[1;32m      9\u001b[0m \u001b[0;34m\u001b[0m\u001b[0m\n\u001b[0;32m---> 10\u001b[0;31m \u001b[0;32mfrom\u001b[0m \u001b[0;34m.\u001b[0m\u001b[0mroadrunner\u001b[0m \u001b[0;32mimport\u001b[0m \u001b[0;34m*\u001b[0m\u001b[0;34m\u001b[0m\u001b[0;34m\u001b[0m\u001b[0m\n\u001b[0m\u001b[1;32m     11\u001b[0m \u001b[0;34m\u001b[0m\u001b[0m\n\u001b[1;32m     12\u001b[0m \u001b[0m__version__\u001b[0m \u001b[0;34m=\u001b[0m \u001b[0mroadrunner\u001b[0m\u001b[0;34m.\u001b[0m\u001b[0mgetVersionStr\u001b[0m\u001b[0;34m(\u001b[0m\u001b[0mVERSIONSTR_BASIC\u001b[0m\u001b[0;34m)\u001b[0m\u001b[0;34m\u001b[0m\u001b[0;34m\u001b[0m\u001b[0m\n",
      "\u001b[0;32m/opt/conda/lib/python3.9/site-packages/roadrunner/roadrunner.py\u001b[0m in \u001b[0;36m<module>\u001b[0;34m\u001b[0m\n\u001b[1;32m     13\u001b[0m \u001b[0;31m# Import the low-level C/C++ module\u001b[0m\u001b[0;34m\u001b[0m\u001b[0;34m\u001b[0m\u001b[0;34m\u001b[0m\u001b[0m\n\u001b[1;32m     14\u001b[0m \u001b[0;32mif\u001b[0m \u001b[0m__package__\u001b[0m \u001b[0;32mor\u001b[0m \u001b[0;34m\".\"\u001b[0m \u001b[0;32min\u001b[0m \u001b[0m__name__\u001b[0m\u001b[0;34m:\u001b[0m\u001b[0;34m\u001b[0m\u001b[0;34m\u001b[0m\u001b[0m\n\u001b[0;32m---> 15\u001b[0;31m     \u001b[0;32mfrom\u001b[0m \u001b[0;34m.\u001b[0m \u001b[0;32mimport\u001b[0m \u001b[0m_roadrunner\u001b[0m\u001b[0;34m\u001b[0m\u001b[0;34m\u001b[0m\u001b[0m\n\u001b[0m\u001b[1;32m     16\u001b[0m \u001b[0;32melse\u001b[0m\u001b[0;34m:\u001b[0m\u001b[0;34m\u001b[0m\u001b[0;34m\u001b[0m\u001b[0m\n\u001b[1;32m     17\u001b[0m     \u001b[0;32mimport\u001b[0m \u001b[0m_roadrunner\u001b[0m\u001b[0;34m\u001b[0m\u001b[0;34m\u001b[0m\u001b[0m\n",
      "\u001b[0;31mImportError\u001b[0m: libncurses.so.5: cannot open shared object file: No such file or directory"
     ]
    }
   ],
   "source": [
    "import controlSBML as ctl\n",
    "\n",
    "import control\n",
    "import lmfit\n",
    "import matplotlib.pyplot as plt\n",
    "import numpy as np\n",
    "import pandas as pd\n",
    "import tellurium as te\n",
    "ctl.__version__"
   ]
  },
  {
   "cell_type": "markdown",
   "id": "6ce43955-c086-434e-9b98-9b0ae892f618",
   "metadata": {},
   "source": [
    "## Models"
   ]
  },
  {
   "cell_type": "markdown",
   "id": "b08bb046-85e2-405f-88e9-376c9064b012",
   "metadata": {},
   "source": [
    "### SIMPLE_MODEL"
   ]
  },
  {
   "cell_type": "code",
   "execution_count": null,
   "id": "b6c35ab0-e280-4ea6-97c5-1547cb519cb5",
   "metadata": {},
   "outputs": [],
   "source": [
    "SIMPLE_MODEL = \"\"\"\n",
    "species E1;\n",
    "J1: S1 -> S2; S1 + E1\n",
    "S1 = 10; S2 = 0; E1 = 0;\n",
    "\"\"\""
   ]
  },
  {
   "cell_type": "markdown",
   "id": "1559635c-8359-4b72-b4da-34b9f3b132d2",
   "metadata": {},
   "source": [
    "### LINEAR_MODEL"
   ]
  },
  {
   "cell_type": "code",
   "execution_count": null,
   "id": "f9fd9895-0c55-4a93-88ed-973c9179c6b0",
   "metadata": {},
   "outputs": [],
   "source": [
    "LINEAR_MODEL = \"\"\"\n",
    "J1: S1 -> S2; k1*S1\n",
    "J2: S2 -> S3; k2*S2\n",
    "J3: S3 -> ; k3*S3\n",
    "S1 = 10; S2 = 0; S3 = 0\n",
    "\n",
    "k1 = 1\n",
    "k2 = 1\n",
    "k3 = 1\n",
    "\"\"\"\n",
    "rr = te.loada(LINEAR_MODEL)\n",
    "rr.simulate()\n",
    "rr.plot()"
   ]
  },
  {
   "cell_type": "code",
   "execution_count": null,
   "id": "5f0166cc-0c71-4937-b48b-af6e6c7df9c5",
   "metadata": {},
   "outputs": [],
   "source": [
    "LINEAR_CTLSB = ctl.ControlSBML(LINEAR_MODEL, input_names=[\"S1\"], output_names=[\"S3\"])"
   ]
  },
  {
   "cell_type": "markdown",
   "id": "1d6862a2-0b77-4872-9eb3-f7940f5266f5",
   "metadata": {},
   "source": [
    "### WOLF_MODEL"
   ]
  },
  {
   "cell_type": "code",
   "execution_count": null,
   "id": "eb24426f-618e-4b9d-b2e4-5068f59fb76d",
   "metadata": {},
   "outputs": [],
   "source": [
    "WOLF_URL = \"https://www.ebi.ac.uk/biomodels/model/download/BIOMD0000000206.2?filename=BIOMD0000000206_url.xml\"\n",
    "rr = te.loadSBMLModel(WOLF_URL)\n",
    "WOLF_MODEL = rr.getAntimony()\n",
    "WOLF_CTLSB = ctl.ControlSBML(WOLF_MODEL, input_names=[\"at_\"], output_names=[\"s5\"])\n",
    "print(WOLF_MODEL)"
   ]
  },
  {
   "cell_type": "markdown",
   "id": "217b38a5-317f-4ee7-be32-cebe697e0ab0",
   "metadata": {},
   "source": [
    "### MTOR_MODEL"
   ]
  },
  {
   "cell_type": "code",
   "execution_count": null,
   "id": "3d43f9de-9de0-4721-85e7-c5184804efef",
   "metadata": {},
   "outputs": [],
   "source": [
    "MTOR_URL = \"https://www.ebi.ac.uk/biomodels/model/download/BIOMD0000000823.2?filename=Varusai2018.xml\"\n",
    "rr = te.loadSBMLModel(MTOR_URL)\n",
    "MTOR_MODEL = rr.getAntimony()\n",
    "MTOR_CTLSB = ctl.ControlSBML(MTOR_MODEL, input_names=[\"pIR\"], output_names=[\"mTORC1_DEPTOR\"])\n",
    "print(MTOR_MODEL)"
   ]
  },
  {
   "cell_type": "markdown",
   "id": "1304ea47-3cff-460e-b418-303237b2aa97",
   "metadata": {},
   "source": [
    "# Helpers"
   ]
  },
  {
   "cell_type": "code",
   "execution_count": null,
   "id": "ad3da50c-679b-48c6-bf09-d707ca6310dc",
   "metadata": {},
   "outputs": [],
   "source": [
    "def plotTimeResponse(time_response, output_names,\n",
    "                     is_legend=True, stmts=None):\n",
    "    # Plots the results of running a simulation\n",
    "    outputs = time_response.outputs\n",
    "    times = time_response.time\n",
    "    colors = [\"orange\", \"green\"]\n",
    "    for idx in range(len(output_names)):\n",
    "        if np.ndim(outputs) > 1:\n",
    "            plt.plot(times, outputs[idx,:], c=colors[idx])\n",
    "        else:\n",
    "            plt.plot(times, outputs, c=colors[idx])\n",
    "    if is_legend:\n",
    "        _ = plt.legend(output_names)\n",
    "    if stmts is None:\n",
    "        stmts = []\n",
    "    for stmt in stmts:\n",
    "        exec(stmt)\n",
    "    plt.xlabel(\"time\")\n",
    "    plt.ylabel(\"concentration\")"
   ]
  },
  {
   "cell_type": "markdown",
   "id": "46f54be2-6a13-4636-aa6f-965b55d2f1db",
   "metadata": {},
   "source": [
    "# Linear model transfer function"
   ]
  },
  {
   "cell_type": "markdown",
   "id": "087b9c78-3476-4b88-9aa4-209e2ee32323",
   "metadata": {},
   "source": [
    "In this section, we use LINEAR_MODEL to illustrate system identification.\n",
    "The work can be simplied by making use of the ``SISOTransferFunctionBuilder``\n",
    "object in ``ControlSBML``."
   ]
  },
  {
   "cell_type": "markdown",
   "id": "0cbdfe67-c9dd-4ba3-8269-59cecba8f37a",
   "metadata": {},
   "source": [
    "## Step 1. Construct the ``SISOTransferFunctionBuilder``"
   ]
  },
  {
   "cell_type": "code",
   "execution_count": null,
   "id": "3916643c-c6e9-480c-bf73-ad1eb6768c9e",
   "metadata": {},
   "outputs": [],
   "source": [
    "linear_builder = LINEAR_CTLSB.makeSISOTransferFunctionBuilder()\n",
    "linear_builder.input_name, linear_builder.output_name"
   ]
  },
  {
   "cell_type": "markdown",
   "id": "68563aa9-b01f-4adc-b6a2-a4fca9088abd",
   "metadata": {},
   "source": [
    "## Step 2. Determine the operating region"
   ]
  },
  {
   "cell_type": "markdown",
   "id": "2b033474-1db1-4fa1-8b76-cdbca96aa945",
   "metadata": {},
   "source": [
    "The operating region of the range of input values that are being considered.\n",
    "We assess the operating region by using a *staircase input*.\n",
    "This is a sequence of steps of the same height that have a duration that is sufficiently\n",
    "long so that the system stabilizes."
   ]
  },
  {
   "cell_type": "code",
   "execution_count": null,
   "id": "c0a71476-6dab-4cd4-acc8-d9588056e72d",
   "metadata": {},
   "outputs": [],
   "source": [
    "linear_builder.plotStaircaseResponse(initial_value=2, final_value=10, figsize=(3,3),\n",
    "                                    legend_crd=(0.5, 1), end_time=100)"
   ]
  },
  {
   "cell_type": "markdown",
   "id": "8f6dac7a-e90c-472b-88af-fd51700f512e",
   "metadata": {},
   "source": [
    "## Step 3. Find the transfer function"
   ]
  },
  {
   "cell_type": "markdown",
   "id": "440fd08c-19bb-41c3-ad97-4166f091b2f1",
   "metadata": {},
   "source": [
    "To fit a transfer function, we must specify the number of terms in the\n",
    "numerator and denominator polynomials."
   ]
  },
  {
   "cell_type": "code",
   "execution_count": null,
   "id": "22108159-4f84-4da1-bd9f-fffd55994983",
   "metadata": {},
   "outputs": [],
   "source": [
    "fitter_result = linear_builder.fitTransferFunction(1, 2, final_value=10,\n",
    "                                                   initial_value=2, end_time=100)\n",
    "ctl.plotOneTS(fitter_result.time_series, figsize=(3,3), legend_crd=(2,1))"
   ]
  },
  {
   "cell_type": "markdown",
   "id": "2eab538e-540c-4c84-91f5-27673339b1de",
   "metadata": {},
   "source": [
    "This plot displays values of ``S3`` in response to values of ``S1``.\n",
    "We see that the output closely follows the input, and that there is a response over\n",
    "the entire range of input."
   ]
  },
  {
   "cell_type": "markdown",
   "id": "4ac4056c-d439-4be4-9597-78e3db8745a5",
   "metadata": {},
   "source": [
    "## Step 4. Analyze the fit result"
   ]
  },
  {
   "cell_type": "markdown",
   "id": "a68f897f-8dbd-4f2c-896c-83fd15550b2a",
   "metadata": {},
   "source": [
    "``fitter_result`` has many useful properties.\n",
    "* ``minimizer_result`` contains detailed information about the results of the optimization\n",
    "* ``nfev`` is the number of different transfer functions that were evaluated to find the fit\n",
    "* ``parameters`` contains the parameter values\n",
    "* ``redchi`` is the reduced ChiSq for the fit\n",
    "* ``stderr`` contains the standard deviations of the parameter values\n",
    "* ``time_series`` is a ``Timeseries`` object with the input, nonlinear simulated output, and predicted value of the output\n",
    "* ``transfer_function`` is the fitted transfer function"
   ]
  },
  {
   "cell_type": "code",
   "execution_count": null,
   "id": "d239dabe-67f4-49cc-b361-e4f7a370f12d",
   "metadata": {},
   "outputs": [],
   "source": [
    "fitter_result.transfer_function"
   ]
  },
  {
   "cell_type": "code",
   "execution_count": null,
   "id": "81ad8a0b-bd82-4c98-badc-365bfc2e06f4",
   "metadata": {},
   "outputs": [],
   "source": [
    "fitter_result.nfev"
   ]
  },
  {
   "cell_type": "code",
   "execution_count": null,
   "id": "3480ab53-e9e6-4b32-a173-47f8597ac043",
   "metadata": {},
   "outputs": [],
   "source": [
    "print(fitter_result.transfer_function)\n",
    "ctl.plotOneTS(fitter_result.time_series, figsize=(3,3), legend_crd=(2, 1))"
   ]
  },
  {
   "cell_type": "markdown",
   "id": "d1f6399f-39c7-4e08-91ab-912fd25ed175",
   "metadata": {},
   "source": [
    "#  Wolf Transfer Function"
   ]
  },
  {
   "cell_type": "code",
   "execution_count": null,
   "id": "a0e1a4c4-1118-479f-80d4-9594e80976fe",
   "metadata": {},
   "outputs": [],
   "source": [
    "wolf_builder = WOLF_CTLSB.makeSISOTransferFunctionBuilder()\n",
    "wolf_builder.input_name, wolf_builder.output_name"
   ]
  },
  {
   "cell_type": "code",
   "execution_count": null,
   "id": "c7988b3f-6519-4b3d-a9f9-1f254586dda8",
   "metadata": {},
   "outputs": [],
   "source": [
    "wolf_builder.plotStaircaseResponse(initial_value=2, final_value=10, figsize=(3,3),\n",
    "                                    legend_crd=(0.5, 1), end_time=100)"
   ]
  },
  {
   "cell_type": "code",
   "execution_count": null,
   "id": "65923de7-9f4a-4f49-98c5-4cf9f336e43a",
   "metadata": {},
   "outputs": [],
   "source": [
    "fitter_result = wolf_builder.fitTransferFunction(3, 3, final_value=10,\n",
    "                                                   initial_value=2, end_time=100)\n",
    "print(fitter_result.transfer_function)\n",
    "ctl.plotOneTS(fitter_result.time_series, figsize=(3,3), legend_crd=(2, 1))"
   ]
  },
  {
   "cell_type": "code",
   "execution_count": null,
   "id": "623e16b1-7e89-4c3e-af4a-5fff4e2ecff3",
   "metadata": {},
   "outputs": [],
   "source": [
    "fitter_result.transfer_function.dcgain()"
   ]
  },
  {
   "cell_type": "markdown",
   "id": "dcedc584-1011-45a2-8413-11f6af65cbc6",
   "metadata": {},
   "source": [
    "Is this model sufficiently accurate to do control design?\n",
    "\n",
    "The key consideration here is accuracy of DC Gain. How do the step increases in input relate to the magnitude of the increase in output?"
   ]
  },
  {
   "cell_type": "markdown",
   "id": "3a53660c-ed76-4cad-9a13-bb31d34b696b",
   "metadata": {},
   "source": [
    "# mTOR transfer function"
   ]
  },
  {
   "cell_type": "code",
   "execution_count": null,
   "id": "9a6d9e13-da00-4b56-95ff-8088ca1c671b",
   "metadata": {},
   "outputs": [],
   "source": [
    "mtor_builder = MTOR_CTLSB.makeSISOTransferFunctionBuilder()\n",
    "mtor_builder.plotStaircaseResponse(initial_value=2, final_value=10, figsize=(3,3),\n",
    "                                    legend_crd=(2, 1), end_time=2000)"
   ]
  },
  {
   "cell_type": "markdown",
   "id": "3cdbc7f0-6af2-40ec-a5d2-5620058e8b84",
   "metadata": {},
   "source": [
    "There does not seem to be a relationship between the step input and the output."
   ]
  }
 ],
 "metadata": {
  "kernelspec": {
   "display_name": "Python 3 (ipykernel)",
   "language": "python",
   "name": "python3"
  },
  "language_info": {
   "codemirror_mode": {
    "name": "ipython",
    "version": 3
   },
   "file_extension": ".py",
   "mimetype": "text/x-python",
   "name": "python",
   "nbconvert_exporter": "python",
   "pygments_lexer": "ipython3",
   "version": "3.9.6"
  },
  "toc-autonumbering": false
 },
 "nbformat": 4,
 "nbformat_minor": 5
}
