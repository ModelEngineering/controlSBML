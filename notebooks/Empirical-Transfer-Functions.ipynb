{
 "cells": [
  {
   "cell_type": "markdown",
   "id": "0d6ccd69-d25c-4643-b8d9-887972581454",
   "metadata": {
    "tags": []
   },
   "source": [
    "# EMPIRICAL TRANSFER FUNCTIONS"
   ]
  },
  {
   "cell_type": "markdown",
   "id": "78c87479-3990-41ff-abe4-002f44c52d3f",
   "metadata": {
    "tags": []
   },
   "source": [
    "## Preliminaries"
   ]
  },
  {
   "cell_type": "code",
   "execution_count": 1,
   "id": "07c84a69-4956-474e-bfb0-c45549f9d0ed",
   "metadata": {},
   "outputs": [
    {
     "data": {
      "text/plain": [
       "'1.0.11'"
      ]
     },
     "execution_count": 1,
     "metadata": {},
     "output_type": "execute_result"
    }
   ],
   "source": [
    "import controlSBML as ctl\n",
    "from controlSBML.mimo_transfer_function_builder import MIMOTransferFunctionBuilder\n",
    "\n",
    "import control\n",
    "import lmfit\n",
    "import matplotlib.pyplot as plt\n",
    "import numpy as np\n",
    "import pandas as pd\n",
    "import tellurium as te\n",
    "ctl.__version__"
   ]
  },
  {
   "cell_type": "markdown",
   "id": "6ce43955-c086-434e-9b98-9b0ae892f618",
   "metadata": {},
   "source": [
    "## Models"
   ]
  },
  {
   "cell_type": "markdown",
   "id": "b08bb046-85e2-405f-88e9-376c9064b012",
   "metadata": {},
   "source": [
    "### SIMPLE_MODEL"
   ]
  },
  {
   "cell_type": "code",
   "execution_count": 2,
   "id": "b6c35ab0-e280-4ea6-97c5-1547cb519cb5",
   "metadata": {},
   "outputs": [],
   "source": [
    "SIMPLE_MODEL = \"\"\"\n",
    "species E1;\n",
    "J1: S1 -> S2; S1 + E1\n",
    "S1 = 10; S2 = 0; E1 = 0;\n",
    "\"\"\""
   ]
  },
  {
   "cell_type": "markdown",
   "id": "1559635c-8359-4b72-b4da-34b9f3b132d2",
   "metadata": {},
   "source": [
    "### LINEAR_MODEL"
   ]
  },
  {
   "cell_type": "code",
   "execution_count": 3,
   "id": "f9fd9895-0c55-4a93-88ed-973c9179c6b0",
   "metadata": {},
   "outputs": [
    {
     "data": {
      "image/png": "[encoded data removed]",
      "text/plain": [
       "<Figure size 600x400 with 1 Axes>"
      ]
     },
     "metadata": {},
     "output_type": "display_data"
    }
   ],
   "source": [
    "LINEAR_MODEL = \"\"\"\n",
    "J1: S1 -> S2; k1*S1\n",
    "J2: S2 -> S3; k2*S2\n",
    "J3: S3 -> ; k3*S3\n",
    "S1 = 10; S2 = 0; S3 = 0\n",
    "\n",
    "k1 = 1\n",
    "k2 = 1\n",
    "k3 = 1\n",
    "\"\"\"\n",
    "rr = te.loada(LINEAR_MODEL)\n",
    "rr.simulate()\n",
    "rr.plot()"
   ]
  },
  {
   "cell_type": "code",
   "execution_count": 4,
   "id": "5f0166cc-0c71-4937-b48b-af6e6c7df9c5",
   "metadata": {},
   "outputs": [],
   "source": [
    "LINEAR_CTLSB = ctl.ControlSBML(LINEAR_MODEL, input_names=[\"S1\"], output_names=[\"S3\"])"
   ]
  },
  {
   "cell_type": "markdown",
   "id": "1d6862a2-0b77-4872-9eb3-f7940f5266f5",
   "metadata": {},
   "source": [
    "### WOLF_MODEL"
   ]
  },
  {
   "cell_type": "code",
   "execution_count": 5,
   "id": "eb24426f-618e-4b9d-b2e4-5068f59fb76d",
   "metadata": {},
   "outputs": [
    {
     "name": "stdout",
     "output_type": "stream",
     "text": [
      "// Created by libAntimony v2.13.2\n",
      "model *Wolf2000_Glycolytic_Oscillations()\n",
      "\n",
      "  // Compartments and Species:\n",
      "  compartment compartment_;\n",
      "  species s1 in compartment_, at_ in compartment_, s2 in compartment_, s3 in compartment_;\n",
      "  species na in compartment_, s4 in compartment_, s5 in compartment_, s6 in compartment_;\n",
      "  species s6o in compartment_;\n",
      "\n",
      "  // Reactions:\n",
      "  v1: s1 + 2 at_ -> s2; compartment_*k1*s1*at_/(1 + (at_/ki)^n);\n",
      "  v2: s2 -> 2 s3; compartment_*k2*s2;\n",
      "  v3: s3 + na -> s4 + at_; compartment_*((k31*k32*s3*na*(atot - at_) - k33*k34*s4*at_*(ntot - na))/(k33*(ntot - na) + k32*(atot - at_)));\n",
      "  v4: s4 -> s5 + at_; compartment_*k4*s4*(atot - at_);\n",
      "  v5: s5 -> s6; compartment_*k5*s5;\n",
      "  v7: at_ -> ; compartment_*k7*at_;\n",
      "  v8: s3 -> na; compartment_*k8*s3*(ntot - na);\n",
      "  v9: s6o -> ; compartment_*k9*s6o;\n",
      "  v10: s6 -> 0.1 s6o; compartment_*k10*(s6 - s6o);\n",
      "  v6: s6 -> na; compartment_*k6*s6*(ntot - na);\n",
      "  v0:  -> s1; compartment_*k0;\n",
      "\n",
      "  // Species initializations:\n",
      "  s1 = 1;\n",
      "  at_ = 2;\n",
      "  s2 = 5;\n",
      "  s3 = 0.6;\n",
      "  na = 0.6;\n",
      "  s4 = 0.7;\n",
      "  s5 = 8;\n",
      "  s6 = 0.08;\n",
      "  s6o = 0.02;\n",
      "\n",
      "  // Compartment initializations:\n",
      "  compartment_ = 1;\n",
      "\n",
      "  // Variable initializations:\n",
      "  k0 = 50;\n",
      "  k0 has mM_min_1;\n",
      "  k1 = 550;\n",
      "  k1 has mM_1_min_1;\n",
      "  k2 = 9.8;\n",
      "  k2 has min_1;\n",
      "  k31 = 323.8;\n",
      "  k31 has mM_1_min_1;\n",
      "  k33 = 57823.1;\n",
      "  k33 has mM_1_min_1;\n",
      "  k32 = 76411.1;\n",
      "  k32 has mM_1_min_1;\n",
      "  k34 = 23.7;\n",
      "  k34 has mM_1_min_1;\n",
      "  k4 = 80;\n",
      "  k4 has mM_1_min_1;\n",
      "  k5 = 9.7;\n",
      "  k5 has min_1;\n",
      "  k6 = 2000;\n",
      "  k6 has mM_1_min_1;\n",
      "  k7 = 28;\n",
      "  k7 has min_1;\n",
      "  k8 = 85.7;\n",
      "  k8 has mM_1_min_1;\n",
      "  k9 = 80;\n",
      "  k9 has min_1;\n",
      "  k10 = 375;\n",
      "  k10 has min_1;\n",
      "  atot = 4;\n",
      "  atot has mM;\n",
      "  ntot = 1;\n",
      "  ntot has mM;\n",
      "  n = 4;\n",
      "  n has dimensionless;\n",
      "  ki = 1;\n",
      "  ki has mM;\n",
      "\n",
      "  // Other declarations:\n",
      "  const compartment_, k0, k1, k2, k31, k33, k32, k34, k4, k5, k6, k7, k8;\n",
      "  const k9, k10, atot, ntot, n, ki;\n",
      "\n",
      "  // Unit definitions:\n",
      "  unit substance = 1e-3 mole;\n",
      "  unit time_unit = 60 second;\n",
      "  unit mM = 1e-3 mole / litre;\n",
      "  unit mM_min_1 = 1e-3 mole / (litre * 60 second);\n",
      "  unit min_1 = 1 / 60 second;\n",
      "  unit mM_1_min_1 = litre / (1e-3 mole * 60 second);\n",
      "\n",
      "  // Display Names:\n",
      "  substance is \"milli mole\";\n",
      "  time_unit is \"min\";\n",
      "  compartment_ is \"compartment\";\n",
      "  s1 is \"Glucose\";\n",
      "  at_ is \"ATP\";\n",
      "  s2 is \"F16P\";\n",
      "  s3 is \"Triose_Gly3Phos_DHAP\";\n",
      "  na is \"NAD\";\n",
      "  s4 is \"3PG\";\n",
      "  s5 is \"Pyruvate\";\n",
      "  s6 is \"Acetaldehyde\";\n",
      "  s6o is \"extracellular acetaldehyde\";\n",
      "\n",
      "  // CV terms:\n",
      "  s1 identity \"http://identifiers.org/obo.chebi/CHEBI:17234\",\n",
      "              \"http://identifiers.org/kegg.compound/C00293\"\n",
      "  at_ identity \"http://identifiers.org/obo.chebi/CHEBI:15422\",\n",
      "               \"http://identifiers.org/kegg.compound/C00002\"\n",
      "  s2 identity \"http://identifiers.org/obo.chebi/CHEBI:16905\",\n",
      "              \"http://identifiers.org/kegg.compound/C05378\"\n",
      "  s3 part \"http://identifiers.org/obo.chebi/CHEBI:16108\",\n",
      "          \"http://identifiers.org/obo.chebi/CHEBI:29052\",\n",
      "          \"http://identifiers.org/kegg.compound/C00111\",\n",
      "          \"http://identifiers.org/kegg.compound/C00118\"\n",
      "  na identity \"http://identifiers.org/obo.chebi/CHEBI:15846\",\n",
      "              \"http://identifiers.org/kegg.compound/C00003\"\n",
      "  s4 identity \"http://identifiers.org/obo.chebi/CHEBI:17794\",\n",
      "              \"http://identifiers.org/kegg.compound/C00197\"\n",
      "  s5 identity \"http://identifiers.org/kegg.compound/C00022\",\n",
      "              \"http://identifiers.org/chebi/CHEBI:32816\"\n",
      "  s5 identity \"http://identifiers.org/obo.chebi/CHEBI:15361\"\n",
      "  s6 identity \"http://identifiers.org/obo.chebi/CHEBI:15343\",\n",
      "              \"http://identifiers.org/kegg.compound/C00084\"\n",
      "  s6o identity \"http://identifiers.org/obo.chebi/CHEBI:15343\",\n",
      "               \"http://identifiers.org/kegg.compound/C00084\"\n",
      "  v1 part \"http://identifiers.org/kegg.reaction/R00756\",\n",
      "          \"http://identifiers.org/kegg.reaction/R00299\"\n",
      "  v1 part \"http://identifiers.org/ec-code/2.7.1.11\",\n",
      "          \"http://identifiers.org/ec-code/5.3.1.9\"\n",
      "  v2 identity \"http://identifiers.org/ec-code/4.1.2.13\",\n",
      "              \"http://identifiers.org/kegg.reaction/R01070\"\n",
      "  v3 part \"http://identifiers.org/ec-code/2.7.2.3\",\n",
      "          \"http://identifiers.org/ec-code/1.2.1.12\"\n",
      "  v4 part \"http://identifiers.org/kegg.reaction/R00658\",\n",
      "          \"http://identifiers.org/kegg.reaction/R00200\"\n",
      "  v4 part \"http://identifiers.org/ec-code/2.7.1.40\"\n",
      "  v5 hypernym \"http://identifiers.org/ec-code/4.1.1.1\",\n",
      "              \"http://identifiers.org/kegg.reaction/R00224\"\n",
      "  v7 hypernym \"http://identifiers.org/obo.go/GO:0006754\"\n",
      "  v8 part \"http://identifiers.org/kegg.reaction/R05679\"\n",
      "  v9 hypernym \"http://identifiers.org/obo.go/GO:0046187\"\n",
      "  v6 hypernym \"http://identifiers.org/ec-code/1.1.1.71\",\n",
      "              \"http://identifiers.org/kegg.reaction/R00754\"\n",
      "  v0 hypernym \"http://identifiers.org/obo.go/GO:0046323\"\n",
      "end\n",
      "\n",
      "Wolf2000_Glycolytic_Oscillations is \"Wolf2000_Glycolytic_Oscillations\"\n",
      "\n",
      "Wolf2000_Glycolytic_Oscillations model_entity_is \"http://identifiers.org/biomodels.db/MODEL3352181362\"\n",
      "Wolf2000_Glycolytic_Oscillations model_entity_is \"http://identifiers.org/biomodels.db/BIOMD0000000206\"\n",
      "Wolf2000_Glycolytic_Oscillations description \"http://identifiers.org/pubmed/10692304\"\n",
      "Wolf2000_Glycolytic_Oscillations taxon \"http://identifiers.org/taxonomy/4932\"\n",
      "Wolf2000_Glycolytic_Oscillations hypernym \"http://identifiers.org/obo.go/GO:0006096\"\n",
      "Wolf2000_Glycolytic_Oscillations identity \"http://identifiers.org/kegg.pathway/sce00010\"\n",
      "\n"
     ]
    }
   ],
   "source": [
    "WOLF_URL = \"https://www.ebi.ac.uk/biomodels/model/download/BIOMD0000000206.2?filename=BIOMD0000000206_url.xml\"\n",
    "rr = te.loadSBMLModel(WOLF_URL)\n",
    "WOLF_MODEL = rr.getAntimony()\n",
    "WOLF_CTLSB = ctl.ControlSBML(WOLF_MODEL, input_names=[\"at_\"], output_names=[\"s5\"])\n",
    "print(WOLF_MODEL)"
   ]
  },
  {
   "cell_type": "markdown",
   "id": "217b38a5-317f-4ee7-be32-cebe697e0ab0",
   "metadata": {},
   "source": [
    "### MTOR_MODEL"
   ]
  },
  {
   "cell_type": "code",
   "execution_count": 6,
   "id": "3d43f9de-9de0-4721-85e7-c5184804efef",
   "metadata": {},
   "outputs": [
    {
     "name": "stdout",
     "output_type": "stream",
     "text": [
      "// Created by libAntimony v2.13.2\n",
      "function Constant_flux__irreversible(v)\n",
      "  v;\n",
      "end\n",
      "\n",
      "Constant_flux__irreversible is \"Constant flux (irreversible)\"\n",
      "\n",
      "function Henri_Michaelis_Menten__irreversible(substrate, Km, V)\n",
      "  V*substrate/(Km + substrate);\n",
      "end\n",
      "\n",
      "Henri_Michaelis_Menten__irreversible is \"Henri-Michaelis-Menten (irreversible)\"\n",
      "\n",
      "function HMM_Mod(V, s, m, Km)\n",
      "  V*s*m/(Km + s);\n",
      "end\n",
      "\n",
      "HMM_Mod is \"HMM_Mod\"\n",
      "\n",
      "function Function_for_v11(k11ca, pmTORC1, DEPTOR, Km11a, pDEPTOR, k11cb, pmTORC2, Km11b)\n",
      "  k11ca*pmTORC1*DEPTOR/(Km11a + pDEPTOR) + k11cb*pmTORC2*DEPTOR/(Km11b + DEPTOR);\n",
      "end\n",
      "\n",
      "Function_for_v11 is \"Function_for_v11\"\n",
      "\n",
      "function Function_for_v5(k5ca, pIRS, Akt, Km5a, k5cb, pmTORC2, Km5b)\n",
      "  k5ca*pIRS*Akt/(Km5a + Akt) + k5cb*pmTORC2*Akt/(Km5b + Akt);\n",
      "end\n",
      "\n",
      "Function_for_v5 is \"Function_for_v5\"\n",
      "\n",
      "\n",
      "model *Varusai2018___Dynamic_modelling_of_the_mTOR_signalling_network_reveals_complex_emergent_behaviours_conferred_by_DEPTOR()\n",
      "\n",
      "  // Compartments and Species:\n",
      "  compartment compartment_;\n",
      "  species IR in compartment_, pIR in compartment_, IRS in compartment_, pIRS in compartment_;\n",
      "  species iIRS in compartment_, Akt in compartment_, pAkt in compartment_;\n",
      "  species mTORC1 in compartment_, pmTORC1 in compartment_, mTORC2 in compartment_;\n",
      "  species pmTORC2 in compartment_, imTORC2 in compartment_, mTORC1_DEPTOR in compartment_;\n",
      "  species mTORC2_DEPTOR in compartment_, DEPTOR in compartment_, pDEPTOR in compartment_;\n",
      "\n",
      "  // Reactions:\n",
      "  v1: IR => pIR; compartment_*Henri_Michaelis_Menten__irreversible(IR, Km1, V1);\n",
      "  v2: pIR => IR; compartment_*Henri_Michaelis_Menten__irreversible(pIR, Km2, V2);\n",
      "  v3: IRS => pIRS; compartment_*HMM_Mod(k3c, IRS, pIR, Km3);\n",
      "  v4: pIRS => IRS; compartment_*Henri_Michaelis_Menten__irreversible(pIRS, Km4, V4);\n",
      "  v5: Akt => pAkt; compartment_*Function_for_v5(k5ca, pIRS, Akt, Km5a, k5cb, pmTORC2, Km5b);\n",
      "  v6: pAkt => Akt; compartment_*Henri_Michaelis_Menten__irreversible(pAkt, Km6, V6);\n",
      "  v7: mTORC1 => pmTORC1; compartment_*HMM_Mod(k7c, mTORC1, pAkt, Km7);\n",
      "  v8: pmTORC1 => mTORC1; compartment_*Henri_Michaelis_Menten__irreversible(pmTORC1, Km8, V8);\n",
      "  v9: mTORC2 => pmTORC2; compartment_*HMM_Mod(k9c, mTORC2, pIR, Km9);\n",
      "  v10: pmTORC2 => mTORC2; compartment_*Henri_Michaelis_Menten__irreversible(pmTORC2, Km10, V10);\n",
      "  v11: DEPTOR => pDEPTOR; compartment_*Function_for_v11(k11ca, pmTORC1, DEPTOR, Km11a, pDEPTOR, k11cb, pmTORC2, Km11b);\n",
      "  v12: pDEPTOR => DEPTOR; compartment_*Henri_Michaelis_Menten__irreversible(pDEPTOR, Km12, V12);\n",
      "  v13: mTORC1 + DEPTOR -> mTORC1_DEPTOR; compartment_*(k13f*mTORC1*DEPTOR - k13r*mTORC1_DEPTOR);\n",
      "  v14: mTORC2 + DEPTOR -> mTORC2_DEPTOR; compartment_*(k14f*mTORC2*DEPTOR - k14r*mTORC2_DEPTOR);\n",
      "  v15: IRS => iIRS; compartment_*HMM_Mod(k15c, IRS, pmTORC1, Km15);\n",
      "  v16: iIRS => IRS; compartment_*Henri_Michaelis_Menten__irreversible(iIRS, Km16, V16);\n",
      "  v17:  => DEPTOR; compartment_*Constant_flux__irreversible(ks17);\n",
      "  v18: pDEPTOR => ; compartment_*kd18*pDEPTOR;\n",
      "\n",
      "  // Species initializations:\n",
      "  IR = 50;\n",
      "  pIR = 0;\n",
      "  IRS = 100;\n",
      "  pIRS = 0;\n",
      "  iIRS = 0;\n",
      "  Akt = 100;\n",
      "  pAkt = 0;\n",
      "  mTORC1 = 250;\n",
      "  pmTORC1 = 0;\n",
      "  mTORC2 = 200;\n",
      "  pmTORC2 = 0;\n",
      "  imTORC2 = 0;\n",
      "  mTORC1_DEPTOR = 0;\n",
      "  mTORC2_DEPTOR = 0;\n",
      "  DEPTOR = 350;\n",
      "  pDEPTOR = 0;\n",
      "\n",
      "  // Compartment initializations:\n",
      "  compartment_ = 1;\n",
      "\n",
      "  // Variable initializations:\n",
      "  V1 = 1;\n",
      "  Km1 = 95;\n",
      "  V2 = 1;\n",
      "  Km2 = 35;\n",
      "  k3c = 0.1;\n",
      "  Km3 = 50;\n",
      "  V4 = 1;\n",
      "  Km4 = 50;\n",
      "  k5ca = 0.05;\n",
      "  Km5a = 7;\n",
      "  k5cb = 1.5;\n",
      "  Km5b = 4;\n",
      "  V6 = 2;\n",
      "  Km6 = 34;\n",
      "  k7c = 0.1;\n",
      "  Km7 = 2;\n",
      "  V8 = 6;\n",
      "  Km8 = 1;\n",
      "  k9c = 0.3;\n",
      "  Km9 = 160;\n",
      "  V10 = 3;\n",
      "  Km10 = 7;\n",
      "  k11ca = 0.1;\n",
      "  Km11a = 120;\n",
      "  k11cb = 0.13;\n",
      "  Km11b = 11;\n",
      "  V12 = 4;\n",
      "  Km12 = 7;\n",
      "  k13f = 0.001;\n",
      "  k13r = 0.006;\n",
      "  k14f = 0.007;\n",
      "  k14r = 0.006;\n",
      "  k15c = 0.1;\n",
      "  Km15 = 50;\n",
      "  V16 = 1;\n",
      "  Km16 = 50;\n",
      "  ks17 = 0;\n",
      "  kd18 = 0;\n",
      "\n",
      "  // Other declarations:\n",
      "  const compartment_, V1, Km1, V2, Km2, k3c, Km3, V4, Km4, k5ca, Km5a, k5cb;\n",
      "  const Km5b, V6, Km6, k7c, Km7, V8, Km8, k9c, Km9, V10, Km10, k11ca, Km11a;\n",
      "  const k11cb, Km11b, V12, Km12, k13f, k13r, k14f, k14r, k15c, Km15, V16;\n",
      "  const Km16, ks17, kd18;\n",
      "\n",
      "  // Unit definitions:\n",
      "  unit volume = 1e-3 litre;\n",
      "  unit substance = 1e-3 mole;\n",
      "\n",
      "  // Display Names:\n",
      "  compartment_ is \"compartment\";\n",
      "\n",
      "  // CV terms:\n",
      "  compartment_ hypernym \"http://identifiers.org/ncit/C48694\"\n",
      "  IR identity \"http://identifiers.org/pr/PR:000009064\"\n",
      "  pIR hypernym \"http://identifiers.org/pr/PR:000009064\"\n",
      "  IRS identity \"http://identifiers.org/ncit/C28474\"\n",
      "  pIRS hypernym \"http://identifiers.org/ncit/C28474\"\n",
      "  iIRS hypernym \"http://identifiers.org/ncit/C28474\"\n",
      "  Akt identity \"http://identifiers.org/pr/PR:000029189\"\n",
      "  pAkt hypernym \"http://identifiers.org/pr/PR:000029189\"\n",
      "  mTORC1 hypernym \"http://identifiers.org/ncit/C96314\"\n",
      "  pmTORC1 hypernym \"http://identifiers.org/ncit/C96314\"\n",
      "  mTORC2 identity \"http://identifiers.org/ncit/C96315\"\n",
      "  pmTORC2 hypernym \"http://identifiers.org/ncit/C96315\"\n",
      "  imTORC2 hypernym \"http://identifiers.org/ncit/C96315\"\n",
      "  mTORC1_DEPTOR part \"http://identifiers.org/ncit/C96314\"\n",
      "  mTORC1_DEPTOR part \"http://identifiers.org/ncit/C101595\"\n",
      "  mTORC2_DEPTOR part \"http://identifiers.org/ncit/C101595\"\n",
      "  mTORC2_DEPTOR part \"http://identifiers.org/ncit/mTORC2\"\n",
      "  DEPTOR identity \"http://identifiers.org/ncit/C101595\"\n",
      "  pDEPTOR hypernym \"http://identifiers.org/ncit/C101595\"\n",
      "  v1 hypernym \"http://identifiers.org/go/GO:0016310\"\n",
      "  v2 hypernym \"http://identifiers.org/go/GO:0016311\"\n",
      "  v3 hypernym \"http://identifiers.org/go/GO:0016310\"\n",
      "  v4 hypernym \"http://identifiers.org/go/GO:0016311\"\n",
      "  v5 hypernym \"http://identifiers.org/go/GO:0016310\"\n",
      "  v6 hypernym \"http://identifiers.org/go/GO:0016311\"\n",
      "  v7 hypernym \"http://identifiers.org/go/GO:0016310\"\n",
      "  v8 hypernym \"http://identifiers.org/go/GO:0016311\"\n",
      "  v9 hypernym \"http://identifiers.org/go/GO:0016310\"\n",
      "  v10 hypernym \"http://identifiers.org/go/GO:0016311\"\n",
      "  v11 hypernym \"http://identifiers.org/go/GO:0016310\"\n",
      "  v12 hypernym \"http://identifiers.org/go/GO:0016311\"\n",
      "  v13 hypernym \"http://identifiers.org/ncit/C18469\"\n",
      "  v14 hypernym \"http://identifiers.org/ncit/C18469\"\n",
      "  v15 hypernym \"http://identifiers.org/ncit/C16983\"\n",
      "  v15 hypernym \"http://identifiers.org/sbo/SBO:0000169\"\n",
      "  v16 hypernym \"http://identifiers.org/ncit/C21018\"\n",
      "  v17 hypernym \"http://identifiers.org/ncit/C80450\"\n",
      "  v18 hypernym \"http://identifiers.org/ncit/C61559\"\n",
      "end\n",
      "\n",
      "Varusai2018___Dynamic_modelling_of_the_mTOR_signalling_network_reveals_complex_emergent_behaviours_conferred_by_DEPTOR is \"Varusai2018 - Dynamic modelling of the mTOR signalling network reveals complex emergent behaviours conferred by DEPTOR\"\n",
      "\n",
      "Varusai2018___Dynamic_modelling_of_the_mTOR_signalling_network_reveals_complex_emergent_behaviours_conferred_by_DEPTOR description \"http://identifiers.org/pubmed/29330362\"\n",
      "Varusai2018___Dynamic_modelling_of_the_mTOR_signalling_network_reveals_complex_emergent_behaviours_conferred_by_DEPTOR model_entity_is \"http://identifiers.org/biomodels.db/MODEL1909250003\",\n",
      "                                                                                                                                       \"http://identifiers.org/biomodels.db/BIOMD0000000823\"\n",
      "Varusai2018___Dynamic_modelling_of_the_mTOR_signalling_network_reveals_complex_emergent_behaviours_conferred_by_DEPTOR property \"http://identifiers.org/mamo/MAMO_0000046\"\n",
      "Varusai2018___Dynamic_modelling_of_the_mTOR_signalling_network_reveals_complex_emergent_behaviours_conferred_by_DEPTOR property \"http://identifiers.org/pw/PW:0000180\"\n",
      "Varusai2018___Dynamic_modelling_of_the_mTOR_signalling_network_reveals_complex_emergent_behaviours_conferred_by_DEPTOR property \"http://identifiers.org/ncit/C101595\"\n",
      "Varusai2018___Dynamic_modelling_of_the_mTOR_signalling_network_reveals_complex_emergent_behaviours_conferred_by_DEPTOR taxon \"http://identifiers.org/taxonomy/9606\"\n",
      "\n"
     ]
    }
   ],
   "source": [
    "MTOR_URL = \"https://www.ebi.ac.uk/biomodels/model/download/BIOMD0000000823.2?filename=Varusai2018.xml\"\n",
    "rr = te.loadSBMLModel(MTOR_URL)\n",
    "MTOR_MODEL = rr.getAntimony()\n",
    "MTOR_CTLSB = ctl.ControlSBML(MTOR_MODEL, input_names=[\"pIR\"], output_names=[\"mTORC1_DEPTOR\"])\n",
    "print(MTOR_MODEL)"
   ]
  },
  {
   "cell_type": "markdown",
   "id": "1304ea47-3cff-460e-b418-303237b2aa97",
   "metadata": {},
   "source": [
    "# Helpers"
   ]
  },
  {
   "cell_type": "code",
   "execution_count": 7,
   "id": "ad3da50c-679b-48c6-bf09-d707ca6310dc",
   "metadata": {},
   "outputs": [],
   "source": [
    "def plotTimeResponse(time_response, output_names,\n",
    "                     is_legend=True, stmts=None):\n",
    "    # Plots the results of running a simulation\n",
    "    outputs = time_response.outputs\n",
    "    times = time_response.time\n",
    "    colors = [\"orange\", \"green\"]\n",
    "    for idx in range(len(output_names)):\n",
    "        if np.ndim(outputs) > 1:\n",
    "            plt.plot(times, outputs[idx,:], c=colors[idx])\n",
    "        else:\n",
    "            plt.plot(times, outputs, c=colors[idx])\n",
    "    if is_legend:\n",
    "        _ = plt.legend(output_names)\n",
    "    if stmts is None:\n",
    "        stmts = []\n",
    "    for stmt in stmts:\n",
    "        exec(stmt)\n",
    "    plt.xlabel(\"time\")\n",
    "    plt.ylabel(\"concentration\")"
   ]
  },
  {
   "cell_type": "markdown",
   "id": "46f54be2-6a13-4636-aa6f-965b55d2f1db",
   "metadata": {},
   "source": [
    "# Linear model transfer function"
   ]
  },
  {
   "cell_type": "markdown",
   "id": "087b9c78-3476-4b88-9aa4-209e2ee32323",
   "metadata": {},
   "source": [
    "In this section, we use LINEAR_MODEL to illustrate system identification.\n",
    "The work can be simplied by making use of the ``SISOTransferFunctionBuilder``\n",
    "object in ``ControlSBML``."
   ]
  },
  {
   "cell_type": "markdown",
   "id": "0cbdfe67-c9dd-4ba3-8269-59cecba8f37a",
   "metadata": {},
   "source": [
    "## Step 1. Construct the ``SISOTransferFunctionBuilder``"
   ]
  },
  {
   "cell_type": "code",
   "execution_count": 8,
   "id": "3916643c-c6e9-480c-bf73-ad1eb6768c9e",
   "metadata": {},
   "outputs": [
    {
     "data": {
      "text/plain": [
       "('S1', 'S3')"
      ]
     },
     "execution_count": 8,
     "metadata": {},
     "output_type": "execute_result"
    }
   ],
   "source": [
    "linear_builder = LINEAR_CTLSB.makeSISOTransferFunctionBuilder()\n",
    "linear_builder.input_name, linear_builder.output_name"
   ]
  },
  {
   "cell_type": "markdown",
   "id": "68563aa9-b01f-4adc-b6a2-a4fca9088abd",
   "metadata": {},
   "source": [
    "## Step 2. Determine the operating region"
   ]
  },
  {
   "cell_type": "markdown",
   "id": "2b033474-1db1-4fa1-8b76-cdbca96aa945",
   "metadata": {},
   "source": [
    "The operating region of the range of input values that are being considered.\n",
    "We assess the operating region by using a *staircase input*.\n",
    "This is a sequence of steps of the same height that have a duration that is sufficiently\n",
    "long so that the system stabilizes."
   ]
  },
  {
   "cell_type": "code",
   "execution_count": 9,
   "id": "c0a71476-6dab-4cd4-acc8-d9588056e72d",
   "metadata": {},
   "outputs": [
    {
     "data": {
      "image/png": "[encoded data removed]",
      "text/plain": [
       "<Figure size 300x300 with 2 Axes>"
      ]
     },
     "metadata": {},
     "output_type": "display_data"
    },
    {
     "data": {
      "text/plain": []
     },
     "execution_count": 9,
     "metadata": {},
     "output_type": "execute_result"
    }
   ],
   "source": [
    "linear_builder.plotStaircaseResponse(initial_value=2, final_value=10, figsize=(3,3),\n",
    "                                    legend_crd=(0.5, 1), end_time=100)"
   ]
  },
  {
   "cell_type": "markdown",
   "id": "8f6dac7a-e90c-472b-88af-fd51700f512e",
   "metadata": {},
   "source": [
    "## Step 3. Find the transfer function"
   ]
  },
  {
   "cell_type": "markdown",
   "id": "440fd08c-19bb-41c3-ad97-4166f091b2f1",
   "metadata": {},
   "source": [
    "To fit a transfer function, we must specify the number of terms in the\n",
    "numerator and denominator polynomials."
   ]
  },
  {
   "cell_type": "code",
   "execution_count": 10,
   "id": "22108159-4f84-4da1-bd9f-fffd55994983",
   "metadata": {},
   "outputs": [
    {
     "data": {
      "image/png": "[encoded data removed]",
      "text/plain": [
       "<Figure size 300x300 with 1 Axes>"
      ]
     },
     "metadata": {},
     "output_type": "display_data"
    },
    {
     "data": {
      "text/plain": []
     },
     "execution_count": 10,
     "metadata": {},
     "output_type": "execute_result"
    }
   ],
   "source": [
    "fitter_result = linear_builder.fitTransferFunction(1, 2, final_value=10,\n",
    "                                                   initial_value=2, end_time=100)\n",
    "ctl.plotOneTS(fitter_result.time_series, figsize=(3,3), legend_crd=(2,1))"
   ]
  },
  {
   "cell_type": "markdown",
   "id": "2eab538e-540c-4c84-91f5-27673339b1de",
   "metadata": {},
   "source": [
    "This plot displays values of ``S3`` in response to values of ``S1``.\n",
    "We see that the output closely follows the input, and that there is a response over\n",
    "the entire range of input."
   ]
  },
  {
   "cell_type": "markdown",
   "id": "4ac4056c-d439-4be4-9597-78e3db8745a5",
   "metadata": {},
   "source": [
    "## Step 4. Analyze the fit result"
   ]
  },
  {
   "cell_type": "markdown",
   "id": "a68f897f-8dbd-4f2c-896c-83fd15550b2a",
   "metadata": {},
   "source": [
    "``fitter_result`` has many useful properties.\n",
    "* ``minimizer_result`` contains detailed information about the results of the optimization\n",
    "* ``nfev`` is the number of different transfer functions that were evaluated to find the fit\n",
    "* ``parameters`` contains the parameter values\n",
    "* ``redchi`` is the reduced ChiSq for the fit\n",
    "* ``stderr`` contains the standard deviations of the parameter values\n",
    "* ``time_series`` is a ``Timeseries`` object with the input, nonlinear simulated output, and predicted value of the output\n",
    "* ``transfer_function`` is the fitted transfer function"
   ]
  },
  {
   "cell_type": "code",
   "execution_count": 11,
   "id": "d239dabe-67f4-49cc-b361-e4f7a370f12d",
   "metadata": {},
   "outputs": [
    {
     "data": {
      "text/latex": [
       "$$\\frac{5.367}{10 s + 5.424}$$"
      ],
      "text/plain": [
       "TransferFunction(array([5.36739708]), array([9.99961137, 5.42402246]))"
      ]
     },
     "execution_count": 11,
     "metadata": {},
     "output_type": "execute_result"
    }
   ],
   "source": [
    "fitter_result.transfer_function"
   ]
  },
  {
   "cell_type": "code",
   "execution_count": 12,
   "id": "81ad8a0b-bd82-4c98-badc-365bfc2e06f4",
   "metadata": {},
   "outputs": [
    {
     "data": {
      "text/plain": [
       "1546"
      ]
     },
     "execution_count": 12,
     "metadata": {},
     "output_type": "execute_result"
    }
   ],
   "source": [
    "fitter_result.nfev"
   ]
  },
  {
   "cell_type": "code",
   "execution_count": 13,
   "id": "3480ab53-e9e6-4b32-a173-47f8597ac043",
   "metadata": {},
   "outputs": [
    {
     "name": "stdout",
     "output_type": "stream",
     "text": [
      "\n",
      "   5.367\n",
      "------------\n",
      "10 s + 5.424\n",
      "\n"
     ]
    },
    {
     "data": {
      "image/png": "[encoded data removed]",
      "text/plain": [
       "<Figure size 300x300 with 1 Axes>"
      ]
     },
     "metadata": {},
     "output_type": "display_data"
    },
    {
     "data": {
      "text/plain": []
     },
     "execution_count": 13,
     "metadata": {},
     "output_type": "execute_result"
    }
   ],
   "source": [
    "print(fitter_result.transfer_function)\n",
    "ctl.plotOneTS(fitter_result.time_series, figsize=(3,3), legend_crd=(2, 1))"
   ]
  },
  {
   "cell_type": "markdown",
   "id": "d1f6399f-39c7-4e08-91ab-912fd25ed175",
   "metadata": {},
   "source": [
    "#  Wolf Transfer Function"
   ]
  },
  {
   "cell_type": "code",
   "execution_count": 14,
   "id": "a0e1a4c4-1118-479f-80d4-9594e80976fe",
   "metadata": {},
   "outputs": [
    {
     "data": {
      "text/plain": [
       "('at_', 's5')"
      ]
     },
     "execution_count": 14,
     "metadata": {},
     "output_type": "execute_result"
    }
   ],
   "source": [
    "wolf_builder = WOLF_CTLSB.makeSISOTransferFunctionBuilder()\n",
    "wolf_builder.input_name, wolf_builder.output_name"
   ]
  },
  {
   "cell_type": "code",
   "execution_count": 15,
   "id": "c7988b3f-6519-4b3d-a9f9-1f254586dda8",
   "metadata": {},
   "outputs": [
    {
     "data": {
      "image/png": "[encoded data removed]",
      "text/plain": [
       "<Figure size 300x300 with 2 Axes>"
      ]
     },
     "metadata": {},
     "output_type": "display_data"
    },
    {
     "data": {
      "text/plain": []
     },
     "execution_count": 15,
     "metadata": {},
     "output_type": "execute_result"
    }
   ],
   "source": [
    "wolf_builder.plotStaircaseResponse(initial_value=2, final_value=10, figsize=(3,3),\n",
    "                                    legend_crd=(0.5, 1), end_time=100)"
   ]
  },
  {
   "cell_type": "code",
   "execution_count": 16,
   "id": "65923de7-9f4a-4f49-98c5-4cf9f336e43a",
   "metadata": {},
   "outputs": [
    {
     "name": "stdout",
     "output_type": "stream",
     "text": [
      "\n",
      "0.8968 s^2 + 0.3873 s + 0.002045\n",
      "---------------------------------\n",
      "0.6539 s^2 + 0.05399 s + 0.005528\n",
      "\n"
     ]
    },
    {
     "data": {
      "image/png": "[encoded data removed]",
      "text/plain": [
       "<Figure size 300x300 with 1 Axes>"
      ]
     },
     "metadata": {},
     "output_type": "display_data"
    },
    {
     "data": {
      "text/plain": []
     },
     "execution_count": 16,
     "metadata": {},
     "output_type": "execute_result"
    }
   ],
   "source": [
    "fitter_result = wolf_builder.fitTransferFunction(3, 3, final_value=10,\n",
    "                                                   initial_value=2, end_time=100)\n",
    "print(fitter_result.transfer_function)\n",
    "ctl.plotOneTS(fitter_result.time_series, figsize=(3,3), legend_crd=(2, 1))"
   ]
  },
  {
   "cell_type": "code",
   "execution_count": 17,
   "id": "623e16b1-7e89-4c3e-af4a-5fff4e2ecff3",
   "metadata": {},
   "outputs": [
    {
     "data": {
      "text/plain": [
       "0.3698617082514617"
      ]
     },
     "execution_count": 17,
     "metadata": {},
     "output_type": "execute_result"
    }
   ],
   "source": [
    "fitter_result.transfer_function.dcgain()"
   ]
  },
  {
   "cell_type": "markdown",
   "id": "dcedc584-1011-45a2-8413-11f6af65cbc6",
   "metadata": {},
   "source": [
    "Is this model sufficiently accurate to do control design?\n",
    "\n",
    "The key consideration here is accuracy of DC Gain. How do the step increases in input relate to the magnitude of the increase in output?"
   ]
  },
  {
   "cell_type": "markdown",
   "id": "cdfb5bd1-64b4-4074-8934-48ea2cc07e1a",
   "metadata": {},
   "source": [
    "# Wolf MIMO Transfer Function"
   ]
  },
  {
   "cell_type": "code",
   "execution_count": 18,
   "id": "2679d374-cb09-48de-a480-d861b934610e",
   "metadata": {},
   "outputs": [
    {
     "data": {
      "text/plain": [
       "['s1', 'at_', 's2', 's3', 'na', 's4', 's5', 's6', 's6o']"
      ]
     },
     "execution_count": 18,
     "metadata": {},
     "output_type": "execute_result"
    }
   ],
   "source": [
    "WOLF_CTLSB.state_names"
   ]
  },
  {
   "cell_type": "code",
   "execution_count": 21,
   "id": "13b7bfbf-4892-4385-b253-982d1be570f8",
   "metadata": {},
   "outputs": [],
   "source": [
    "input_names=[\"s1\", \"at\"]\n",
    "output_names=[\"na\", \"s6\"]"
   ]
  },
  {
   "cell_type": "code",
   "execution_count": 23,
   "id": "436a5363-b67f-4007-946f-3b60d9dd775b",
   "metadata": {},
   "outputs": [],
   "source": [
    "ctlsb = ctl.ControlSBML(WOLF_URL, input_names=input_names, output_names=input_names)\n",
    "wolf_sys = ctl.NonlinearIOSystem(\"wolf\", ctlsb, input_names=input_names, output_names=input_names)"
   ]
  },
  {
   "cell_type": "code",
   "execution_count": 24,
   "id": "5276d595-8afb-45b2-aafb-4c0380e6e839",
   "metadata": {},
   "outputs": [
    {
     "name": "stdout",
     "output_type": "stream",
     "text": [
      "> \u001b[0;32m/Users/jlheller/home/Technical/repos/controlSBML/src/controlSBML/mimo_transfer_function_builder.py\u001b[0m(64)\u001b[0;36mfitTransferFunction\u001b[0;34m()\u001b[0m\n",
      "\u001b[0;32m     62 \u001b[0;31m        \u001b[0;31m# Construct the output\u001b[0m\u001b[0;34m\u001b[0m\u001b[0;34m\u001b[0m\u001b[0;34m\u001b[0m\u001b[0m\n",
      "\u001b[0m\u001b[0;32m     63 \u001b[0;31m        \u001b[0;32mimport\u001b[0m \u001b[0mpdb\u001b[0m\u001b[0;34m;\u001b[0m \u001b[0mpdb\u001b[0m\u001b[0;34m.\u001b[0m\u001b[0mset_trace\u001b[0m\u001b[0;34m(\u001b[0m\u001b[0;34m)\u001b[0m\u001b[0;34m\u001b[0m\u001b[0;34m\u001b[0m\u001b[0m\n",
      "\u001b[0m\u001b[0;32m---> 64 \u001b[0;31m        \u001b[0mdf\u001b[0m \u001b[0;34m=\u001b[0m \u001b[0mpd\u001b[0m\u001b[0;34m.\u001b[0m\u001b[0mDataFrame\u001b[0m\u001b[0;34m(\u001b[0m\u001b[0mresult_dct\u001b[0m\u001b[0;34m)\u001b[0m\u001b[0;34m\u001b[0m\u001b[0;34m\u001b[0m\u001b[0m\n",
      "\u001b[0m\u001b[0;32m     65 \u001b[0;31m        \u001b[0mdf\u001b[0m\u001b[0;34m.\u001b[0m\u001b[0mcolumns\u001b[0m\u001b[0;34m.\u001b[0m\u001b[0mname\u001b[0m \u001b[0;34m=\u001b[0m \u001b[0;34m\"Outputs\"\u001b[0m\u001b[0;34m\u001b[0m\u001b[0;34m\u001b[0m\u001b[0m\n",
      "\u001b[0m\u001b[0;32m     66 \u001b[0;31m        \u001b[0mdf\u001b[0m\u001b[0;34m.\u001b[0m\u001b[0mindex\u001b[0m \u001b[0;34m=\u001b[0m \u001b[0mlist\u001b[0m\u001b[0;34m(\u001b[0m\u001b[0mself\u001b[0m\u001b[0;34m.\u001b[0m\u001b[0msys\u001b[0m\u001b[0;34m.\u001b[0m\u001b[0minput_names\u001b[0m\u001b[0;34m)\u001b[0m\u001b[0;34m\u001b[0m\u001b[0;34m\u001b[0m\u001b[0m\n",
      "\u001b[0m\n"
     ]
    },
    {
     "name": "stdin",
     "output_type": "stream",
     "text": [
      "ipdb>  c\n"
     ]
    }
   ],
   "source": [
    "builder = MIMOTransferFunctionBuilder(wolf_sys)\n",
    "fitter_results_df = builder.fitTransferFunction(1, 2, final_value=10,\n",
    "              end_time=100)"
   ]
  },
  {
   "cell_type": "code",
   "execution_count": 27,
   "id": "a6685f0f-fdd4-4a4a-b1b7-cd4d61d59e94",
   "metadata": {},
   "outputs": [
    {
     "name": "stdout",
     "output_type": "stream",
     "text": [
      "--  -------------------  -------------------\n",
      "s1  2.329                3.237\n",
      "    -------------------  -------------------\n",
      "    9.496e-05 s + 9.961  3.211e-05 s + 9.949\n",
      "at  2.329                3.237\n",
      "    -------------------  -------------------\n",
      "    9.496e-05 s + 9.961  3.211e-05 s + 9.949\n",
      "--  -------------------  -------------------\n"
     ]
    }
   ],
   "source": [
    "import tabulate\n",
    "print(tabulate.tabulate(fitter_results_df))"
   ]
  },
  {
   "cell_type": "markdown",
   "id": "3a53660c-ed76-4cad-9a13-bb31d34b696b",
   "metadata": {},
   "source": [
    "# mTOR transfer function"
   ]
  },
  {
   "cell_type": "code",
   "execution_count": null,
   "id": "9a6d9e13-da00-4b56-95ff-8088ca1c671b",
   "metadata": {},
   "outputs": [],
   "source": [
    "mtor_builder = MTOR_CTLSB.makeSISOTransferFunctionBuilder()\n",
    "mtor_builder.plotStaircaseResponse(initial_value=2, final_value=10, figsize=(3,3),\n",
    "                                    legend_crd=(2, 1), end_time=2000)"
   ]
  },
  {
   "cell_type": "markdown",
   "id": "3cdbc7f0-6af2-40ec-a5d2-5620058e8b84",
   "metadata": {},
   "source": [
    "There does not seem to be a relationship between the step input and the output."
   ]
  }
 ],
 "metadata": {
  "kernelspec": {
   "display_name": "Python 3 (ipykernel)",
   "language": "python",
   "name": "python3"
  },
  "language_info": {
   "codemirror_mode": {
    "name": "ipython",
    "version": 3
   },
   "file_extension": ".py",
   "mimetype": "text/x-python",
   "name": "python",
   "nbconvert_exporter": "python",
   "pygments_lexer": "ipython3",
   "version": "3.9.6"
  },
  "toc-autonumbering": false
 },
 "nbformat": 4,
 "nbformat_minor": 5
}
