{
 "cells": [
  {
   "cell_type": "markdown",
   "id": "3b5aea9f-f79d-4b3f-81c4-435cf79b31aa",
   "metadata": {},
   "source": [
    "# NOTATIONS AND DEFINITIONS"
   ]
  },
  {
   "cell_type": "markdown",
   "id": "a1af7b62-bccd-4e6f-a281-b7efbdaf5e4f",
   "metadata": {},
   "source": [
    "# Notation"
   ]
  },
  {
   "cell_type": "markdown",
   "id": "0eb58ea2-ec1f-4763-ba74-a97d7b493762",
   "metadata": {},
   "source": [
    "* Scalars are unbolded letters, such as $n, N$.\n",
    "* Vectors are lower case bolded letters, such as ${\\bf x}$, ${\\bf y}$.\n",
    "* Matrices are upper case bolded letters, such as ${\\bf A}$, ${\\bf B}$.\n",
    "* Matrix multiplication is indicated by juxtapositions, such as ${\\bf A} {\\bf B}$."
   ]
  },
  {
   "cell_type": "markdown",
   "id": "ed52950e-8cd3-470a-8c34-027fe47dad29",
   "metadata": {},
   "source": [
    "Define $dim({\\bf X}) = (n, m)$ if for an $n \\times m$ marix.\n",
    "For the column vector ${\\bf x}$ with $n$ values, $dim({\\bf x}) = n \\times 1$."
   ]
  },
  {
   "cell_type": "markdown",
   "id": "dc6f259e-f7ca-4f85-9a2b-06fd06fa9adb",
   "metadata": {},
   "source": [
    "# System"
   ]
  },
  {
   "cell_type": "markdown",
   "id": "076a47ef-fb51-4361-a8e3-19d0550b7e5c",
   "metadata": {},
   "source": [
    "$\\dot{\\bf x}(t) = {\\bf A} {\\bf x}(t) + {\\bf B} {\\bf u} (t)$\n",
    "$ {\\bf y} (t) = {\\bf C} {\\bf x} (t)$\n",
    "\n",
    "where:\n",
    "* $dim ({\\bf A}) = n \\times n$\n",
    "* $dim({\\bf B}) = n \\times p$, where $p \\leq n$\n",
    "* $dim({\\bf C}) = q \\times n$, where $q \\leq n$"
   ]
  },
  {
   "cell_type": "markdown",
   "id": "848e5bce-e69c-4518-b39d-8044d658bcf7",
   "metadata": {},
   "source": [
    "${\\bf x} (t) = e ^{{\\bf A} t} {\\bf x} (0) + \\int_0^t e^{ {\\bf A} (t - \\tau)} {\\bf B} {\\bf u}(\\tau) d \\tau$."
   ]
  },
  {
   "cell_type": "markdown",
   "id": "8ced959b-bb5f-4a17-ba81-33e67a9fe57f",
   "metadata": {},
   "source": [
    "Let ${\\bf X}$ be an $n \\times m$ matrix and ${\\bf Y}$ be an $m \\times q$ matrix.\n",
    "$dim( {\\bf X} {\\bf Y} ) = n \\times q$.\n"
   ]
  }
 ],
 "metadata": {
  "kernelspec": {
   "display_name": "Python 3",
   "language": "python",
   "name": "python3"
  },
  "language_info": {
   "codemirror_mode": {
    "name": "ipython",
    "version": 3
   },
   "file_extension": ".py",
   "mimetype": "text/x-python",
   "name": "python",
   "nbconvert_exporter": "python",
   "pygments_lexer": "ipython3",
   "version": "3.6.9"
  }
 },
 "nbformat": 4,
 "nbformat_minor": 5
}
