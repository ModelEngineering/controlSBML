{
 "cells": [
  {
   "cell_type": "code",
   "execution_count": 1,
   "id": "4dfea3ef-46bd-48e6-a60c-4f97a96d6007",
   "metadata": {},
   "outputs": [],
   "source": [
    "import numpy as np\n",
    "import tellurium as te\n",
    "import controlSBML as ctl\n",
    "import pandas as pd\n",
    "\n",
    "import controlSBML as ctl"
   ]
  },
  {
   "cell_type": "code",
   "execution_count": 2,
   "id": "384d1cc7-f933-4ba6-9f17-de9f8c61658f",
   "metadata": {},
   "outputs": [],
   "source": [
    "MDL = '''\n",
    "J0: S0 -> S1; S0\n",
    "J1: S1 -> S2; S1\n",
    "J2: S2 -> S3; S2\n",
    "J3: S2 -> S3; S3\n",
    "J0a: S0a -> S1a; S0a\n",
    "J1a: S1a -> S2a; S1a\n",
    "J2a: S2a -> S3a; S2a\n",
    "J3a: S2a -> S3a; S3a\n",
    "S0a = 10\n",
    "S1a = 0\n",
    "S2a = 0\n",
    "S3a = 0\n",
    "S0 = 10\n",
    "S1 = 0\n",
    "S2 = 0\n",
    "S3 = 0\n",
    "'''\n",
    "RR = te.loada(MDL)\n",
    "data = RR.simulate(0, 1)"
   ]
  },
  {
   "cell_type": "code",
   "execution_count": 3,
   "id": "eed8367c-c816-4d24-8e19-116abdc7c7f5",
   "metadata": {},
   "outputs": [],
   "source": [
    "ctlsb = ctl.ControlSBML(MDL)"
   ]
  },
  {
   "cell_type": "code",
   "execution_count": 4,
   "id": "c59d2c30-b7cf-46ff-b7cb-def04b1576dc",
   "metadata": {},
   "outputs": [
    {
     "data": {
      "text/html": [
       "<div>\n",
       "<style scoped>\n",
       "    .dataframe tbody tr th:only-of-type {\n",
       "        vertical-align: middle;\n",
       "    }\n",
       "\n",
       "    .dataframe tbody tr th {\n",
       "        vertical-align: top;\n",
       "    }\n",
       "\n",
       "    .dataframe thead th {\n",
       "        text-align: right;\n",
       "    }\n",
       "</style>\n",
       "<table border=\"1\" class=\"dataframe\">\n",
       "  <thead>\n",
       "    <tr style=\"text-align: right;\">\n",
       "      <th></th>\n",
       "      <th>S1</th>\n",
       "      <th>S2</th>\n",
       "      <th>S3</th>\n",
       "      <th>S1a</th>\n",
       "      <th>S2a</th>\n",
       "      <th>S3a</th>\n",
       "    </tr>\n",
       "  </thead>\n",
       "  <tbody>\n",
       "    <tr>\n",
       "      <th>S1</th>\n",
       "      <td>-1.0</td>\n",
       "      <td>0.0</td>\n",
       "      <td>0.0</td>\n",
       "      <td>1.0</td>\n",
       "      <td>-1.0</td>\n",
       "      <td>0.0</td>\n",
       "    </tr>\n",
       "    <tr>\n",
       "      <th>S2</th>\n",
       "      <td>0.0</td>\n",
       "      <td>-1.0</td>\n",
       "      <td>1.0</td>\n",
       "      <td>0.0</td>\n",
       "      <td>0.0</td>\n",
       "      <td>-1.0</td>\n",
       "    </tr>\n",
       "    <tr>\n",
       "      <th>S3</th>\n",
       "      <td>0.0</td>\n",
       "      <td>-1.0</td>\n",
       "      <td>-2.0</td>\n",
       "      <td>0.0</td>\n",
       "      <td>0.0</td>\n",
       "      <td>-1.0</td>\n",
       "    </tr>\n",
       "    <tr>\n",
       "      <th>S1a</th>\n",
       "      <td>-1.0</td>\n",
       "      <td>0.0</td>\n",
       "      <td>0.0</td>\n",
       "      <td>-2.0</td>\n",
       "      <td>-1.0</td>\n",
       "      <td>0.0</td>\n",
       "    </tr>\n",
       "    <tr>\n",
       "      <th>S2a</th>\n",
       "      <td>1.0</td>\n",
       "      <td>0.0</td>\n",
       "      <td>0.0</td>\n",
       "      <td>0.0</td>\n",
       "      <td>1.0</td>\n",
       "      <td>0.0</td>\n",
       "    </tr>\n",
       "    <tr>\n",
       "      <th>S3a</th>\n",
       "      <td>0.0</td>\n",
       "      <td>1.0</td>\n",
       "      <td>0.0</td>\n",
       "      <td>0.0</td>\n",
       "      <td>0.0</td>\n",
       "      <td>1.0</td>\n",
       "    </tr>\n",
       "  </tbody>\n",
       "</table>\n",
       "</div>"
      ],
      "text/plain": [
       "      S1   S2   S3  S1a  S2a  S3a\n",
       "S1  -1.0  0.0  0.0  1.0 -1.0  0.0\n",
       "S2   0.0 -1.0  1.0  0.0  0.0 -1.0\n",
       "S3   0.0 -1.0 -2.0  0.0  0.0 -1.0\n",
       "S1a -1.0  0.0  0.0 -2.0 -1.0  0.0\n",
       "S2a  1.0  0.0  0.0  0.0  1.0  0.0\n",
       "S3a  0.0  1.0  0.0  0.0  0.0  1.0"
      ]
     },
     "execution_count": 4,
     "metadata": {},
     "output_type": "execute_result"
    }
   ],
   "source": [
    "state_space = ctlsb.makeStateSpace()\n",
    "ctl.mat2DF(state_space.A, column_names=ctlsb.state_names, row_names=ctlsb.state_names)"
   ]
  },
  {
   "cell_type": "code",
   "execution_count": 5,
   "id": "a3241de0-8bee-4754-af8b-cf83b11887c0",
   "metadata": {},
   "outputs": [
    {
     "data": {
      "text/plain": [
       "S0     10.0\n",
       "S1      0.0\n",
       "S2      0.0\n",
       "S3      0.0\n",
       "S0a    10.0\n",
       "S1a     0.0\n",
       "S2a     0.0\n",
       "S3a     0.0\n",
       "dtype: float64"
      ]
     },
     "execution_count": 5,
     "metadata": {},
     "output_type": "execute_result"
    }
   ],
   "source": [
    "ctlsb.output_ser"
   ]
  },
  {
   "cell_type": "code",
   "execution_count": 6,
   "id": "ca77e198-c6f0-48f8-b51a-c4e8a4d11fbd",
   "metadata": {},
   "outputs": [
    {
     "name": "stdout",
     "output_type": "stream",
     "text": [
      "      S2  S2a           S1a            S1   S3  S3a   S0  S0a\n",
      "S2  -1.0  0.0  0.000000e+00  1.000000e+00 -1.0  0.0  0.0  0.0\n",
      "S2a  0.0 -1.0  1.000000e+00  0.000000e+00  0.0 -1.0  0.0  0.0\n",
      "S1a  0.0  0.0 -1.000000e+00  0.000000e+00  0.0  0.0  0.0  1.0\n",
      "S1   0.0  0.0  0.000000e+00 -1.000000e+00  0.0  0.0  1.0  0.0\n",
      "S3   1.0  0.0  0.000000e+00  0.000000e+00  1.0  0.0  0.0  0.0\n",
      "S3a  0.0  1.0  0.000000e+00  0.000000e+00  0.0  1.0  0.0  0.0\n",
      "S0   0.0  0.0  0.000000e+00 -3.219093e-15  0.0  0.0 -1.0  0.0\n",
      "S0a  0.0  0.0 -3.219093e-15  0.000000e+00  0.0  0.0  0.0 -1.0\n",
      "\n",
      "\n",
      "      S2  S2a  S1a   S1   S3  S3a\n",
      "S2  -1.0  0.0  0.0  1.0 -1.0  0.0\n",
      "S2a  0.0 -1.0  1.0  0.0  0.0 -1.0\n",
      "S1a  0.0 -1.0 -2.0  0.0  0.0 -1.0\n",
      "S1  -1.0  0.0  0.0 -2.0 -1.0  0.0\n",
      "S3   1.0  0.0  0.0  0.0  1.0  0.0\n",
      "S3a  0.0  1.0  0.0  0.0  0.0  1.0\n"
     ]
    }
   ],
   "source": [
    "RR.conservedMoietyAnalysis = True\n",
    "ctl.ppMat (RR.getFullJacobian())\n",
    "print(\"\\n\")\n",
    "ctl.ppMat (RR.getReducedJacobian())"
   ]
  },
  {
   "cell_type": "code",
   "execution_count": 7,
   "id": "4c8418ab-c526-4c7e-a48b-50b8622283c3",
   "metadata": {},
   "outputs": [
    {
     "name": "stdout",
     "output_type": "stream",
     "text": [
      "       S2, S2a, S1a, S1, S3, S3a\n",
      "S0  [[ -1,   0,   0, -1, -1,   0],\n",
      "S0a  [  0,  -1,  -1,  0,  0,  -1]]\n",
      "\n"
     ]
    }
   ],
   "source": [
    "L0 = RR.getL0Matrix()\n",
    "print(L0)"
   ]
  },
  {
   "cell_type": "code",
   "execution_count": 8,
   "id": "e37f774d-16e4-417b-9429-d8a842d3b34f",
   "metadata": {},
   "outputs": [
    {
     "data": {
      "text/plain": [
       "array([10., 10.])"
      ]
     },
     "execution_count": 8,
     "metadata": {},
     "output_type": "execute_result"
    }
   ],
   "source": [
    "RR.getConservedMoietyValues()"
   ]
  },
  {
   "cell_type": "code",
   "execution_count": 9,
   "id": "e8e0cf07-6cea-4121-860b-e2f23eeef538",
   "metadata": {},
   "outputs": [
    {
     "data": {
      "text/plain": [
       "('_CSUM0', '_CSUM1')"
      ]
     },
     "execution_count": 9,
     "metadata": {},
     "output_type": "execute_result"
    }
   ],
   "source": [
    "RR.getConservedMoietyIds()"
   ]
  },
  {
   "cell_type": "code",
   "execution_count": 10,
   "id": "5e2705bd-47fd-4f91-ba62-c9d9a920fa21",
   "metadata": {},
   "outputs": [
    {
     "data": {
      "text/plain": [
       "[-6.32120543 -6.32120543]"
      ]
     },
     "execution_count": 10,
     "metadata": {},
     "output_type": "execute_result"
    }
   ],
   "source": [
    "values = [RR.getValue(s) for s in RR.getIndependentFloatingSpeciesIds()]\n",
    "arr = np.array(values)\n",
    "dependent_arr = np.matmul(L0, arr)\n",
    "dependent_arr"
   ]
  },
  {
   "cell_type": "code",
   "execution_count": 11,
   "id": "a1046a8c-46e4-4e74-afd3-60e536fe0b88",
   "metadata": {},
   "outputs": [
    {
     "ename": "NameError",
     "evalue": "name 'S_I' is not defined",
     "output_type": "error",
     "traceback": [
      "\u001b[0;31m---------------------------------------------------------------------------\u001b[0m",
      "\u001b[0;31mNameError\u001b[0m                                 Traceback (most recent call last)",
      "\u001b[0;32m<ipython-input-11-63480d19b528>\u001b[0m in \u001b[0;36m<module>\u001b[0;34m\u001b[0m\n\u001b[0;32m----> 1\u001b[0;31m \u001b[0mnp\u001b[0m\u001b[0;34m.\u001b[0m\u001b[0mmatmul\u001b[0m \u001b[0;34m(\u001b[0m\u001b[0mL0\u001b[0m\u001b[0;34m,\u001b[0m \u001b[0mS_I\u001b[0m\u001b[0;34m)\u001b[0m \u001b[0;34m+\u001b[0m \u001b[0mRR\u001b[0m\u001b[0;34m.\u001b[0m\u001b[0mgetConservedMoietyValues\u001b[0m\u001b[0;34m(\u001b[0m\u001b[0;34m)\u001b[0m\u001b[0;34m\u001b[0m\u001b[0;34m\u001b[0m\u001b[0m\n\u001b[0m",
      "\u001b[0;31mNameError\u001b[0m: name 'S_I' is not defined"
     ]
    }
   ],
   "source": [
    "np.matmul (L0, S_I) + RR.getConservedMoietyValues()"
   ]
  },
  {
   "cell_type": "code",
   "execution_count": null,
   "id": "ab443fc4-f2ea-4eff-aad0-87b1d143bc44",
   "metadata": {},
   "outputs": [],
   "source": [
    "# Construct C matrix\n",
    "jacobian_mat = RR.getReducedJacobian()\n",
    "names = jacobian_mat.rownames\n",
    "jacobian_df = pd.DataFrame(jacobian_mat, columns=names, index=names)\n",
    "C_df = pd.DataFrame(np.eye(len(names)), columns=names, index=names)\n",
    "L0 = RR.getL0Matrix()\n",
    "L0_df = pd.DataFrame(L0, columns=L0.colnames, index=L0.rownames)\n",
    "C_df = pd.concat([C_df, L0_df], axis=0)\n",
    "C_df"
   ]
  }
 ],
 "metadata": {
  "kernelspec": {
   "display_name": "Python 3",
   "language": "python",
   "name": "python3"
  },
  "language_info": {
   "codemirror_mode": {
    "name": "ipython",
    "version": 3
   },
   "file_extension": ".py",
   "mimetype": "text/x-python",
   "name": "python",
   "nbconvert_exporter": "python",
   "pygments_lexer": "ipython3",
   "version": "3.6.9"
  }
 },
 "nbformat": 4,
 "nbformat_minor": 5
}
